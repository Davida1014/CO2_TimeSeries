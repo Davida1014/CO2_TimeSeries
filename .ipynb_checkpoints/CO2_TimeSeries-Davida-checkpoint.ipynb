{
 "cells": [
  {
   "cell_type": "markdown",
   "metadata": {},
   "source": [
    "# Data Cleaning"
   ]
  },
  {
   "cell_type": "code",
   "execution_count": 1,
   "metadata": {},
   "outputs": [],
   "source": [
    "# Import necessary libraries and packages\n",
    "import pandas as pd\n",
    "import numpy as np\n",
    "from matplotlib import pyplot\n",
    "import warnings\n",
    "import matplotlib.pyplot as plt\n",
    "from statsmodels.tsa.stattools import adfuller\n",
    "from math import exp\n",
    "from numpy import log\n",
    "from statsmodels.graphics.tsaplots import plot_acf\n",
    "from statsmodels.graphics.tsaplots import plot_pacf\n",
    "from statsmodels.tsa.arima_model import ARIMA\n",
    "from statsmodels.tsa.arima_model import ARMA\n",
    "import statsmodels.api as sm\n",
    "\n",
    "\n",
    "# Preferred settings\n",
    "warnings.filterwarnings('ignore')\n",
    "pd.set_option('display.max_columns', 100)"
   ]
  },
  {
   "cell_type": "code",
   "execution_count": 2,
   "metadata": {
    "ExecuteTime": {
     "end_time": "2021-01-28T16:57:18.942360Z",
     "start_time": "2021-01-28T16:57:18.394025Z"
    },
    "scrolled": false
   },
   "outputs": [
    {
     "name": "stdout",
     "output_type": "stream",
     "text": [
      "(24016, 38)\n"
     ]
    },
    {
     "data": {
      "text/html": [
       "<div>\n",
       "<style scoped>\n",
       "    .dataframe tbody tr th:only-of-type {\n",
       "        vertical-align: middle;\n",
       "    }\n",
       "\n",
       "    .dataframe tbody tr th {\n",
       "        vertical-align: top;\n",
       "    }\n",
       "\n",
       "    .dataframe thead th {\n",
       "        text-align: right;\n",
       "    }\n",
       "</style>\n",
       "<table border=\"1\" class=\"dataframe\">\n",
       "  <thead>\n",
       "    <tr style=\"text-align: right;\">\n",
       "      <th></th>\n",
       "      <th>iso_code</th>\n",
       "      <th>country</th>\n",
       "      <th>year</th>\n",
       "      <th>co2</th>\n",
       "      <th>co2_growth_prct</th>\n",
       "      <th>co2_growth_abs</th>\n",
       "      <th>consumption_co2</th>\n",
       "      <th>trade_co2</th>\n",
       "      <th>trade_co2_share</th>\n",
       "      <th>co2_per_capita</th>\n",
       "      <th>consumption_co2_per_capita</th>\n",
       "      <th>share_global_co2</th>\n",
       "      <th>cumulative_co2</th>\n",
       "      <th>share_global_cumulative_co2</th>\n",
       "      <th>co2_per_gdp</th>\n",
       "      <th>consumption_co2_per_gdp</th>\n",
       "      <th>co2_per_unit_energy</th>\n",
       "      <th>cement_co2</th>\n",
       "      <th>coal_co2</th>\n",
       "      <th>flaring_co2</th>\n",
       "      <th>gas_co2</th>\n",
       "      <th>oil_co2</th>\n",
       "      <th>cement_co2_per_capita</th>\n",
       "      <th>coal_co2_per_capita</th>\n",
       "      <th>flaring_co2_per_capita</th>\n",
       "      <th>gas_co2_per_capita</th>\n",
       "      <th>oil_co2_per_capita</th>\n",
       "      <th>total_ghg</th>\n",
       "      <th>ghg_per_capita</th>\n",
       "      <th>methane</th>\n",
       "      <th>methane_per_capita</th>\n",
       "      <th>nitrous_oxide</th>\n",
       "      <th>nitrous_oxide_per_capita</th>\n",
       "      <th>primary_energy_consumption</th>\n",
       "      <th>energy_per_capita</th>\n",
       "      <th>energy_per_gdp</th>\n",
       "      <th>population</th>\n",
       "      <th>gdp</th>\n",
       "    </tr>\n",
       "  </thead>\n",
       "  <tbody>\n",
       "    <tr>\n",
       "      <th>0</th>\n",
       "      <td>AFG</td>\n",
       "      <td>Afghanistan</td>\n",
       "      <td>1949</td>\n",
       "      <td>0.015</td>\n",
       "      <td>NaN</td>\n",
       "      <td>NaN</td>\n",
       "      <td>NaN</td>\n",
       "      <td>NaN</td>\n",
       "      <td>NaN</td>\n",
       "      <td>0.002</td>\n",
       "      <td>NaN</td>\n",
       "      <td>0.000</td>\n",
       "      <td>0.015</td>\n",
       "      <td>0.000</td>\n",
       "      <td>NaN</td>\n",
       "      <td>NaN</td>\n",
       "      <td>NaN</td>\n",
       "      <td>0.0</td>\n",
       "      <td>0.015</td>\n",
       "      <td>0.0</td>\n",
       "      <td>0.0</td>\n",
       "      <td>0.000</td>\n",
       "      <td>0.0</td>\n",
       "      <td>0.002</td>\n",
       "      <td>0.0</td>\n",
       "      <td>0.0</td>\n",
       "      <td>0.000</td>\n",
       "      <td>NaN</td>\n",
       "      <td>NaN</td>\n",
       "      <td>NaN</td>\n",
       "      <td>NaN</td>\n",
       "      <td>NaN</td>\n",
       "      <td>NaN</td>\n",
       "      <td>NaN</td>\n",
       "      <td>NaN</td>\n",
       "      <td>NaN</td>\n",
       "      <td>7663783.0</td>\n",
       "      <td>NaN</td>\n",
       "    </tr>\n",
       "    <tr>\n",
       "      <th>1</th>\n",
       "      <td>AFG</td>\n",
       "      <td>Afghanistan</td>\n",
       "      <td>1950</td>\n",
       "      <td>0.084</td>\n",
       "      <td>475.000</td>\n",
       "      <td>0.070</td>\n",
       "      <td>NaN</td>\n",
       "      <td>NaN</td>\n",
       "      <td>NaN</td>\n",
       "      <td>0.011</td>\n",
       "      <td>NaN</td>\n",
       "      <td>0.001</td>\n",
       "      <td>0.099</td>\n",
       "      <td>0.001</td>\n",
       "      <td>0.004</td>\n",
       "      <td>NaN</td>\n",
       "      <td>NaN</td>\n",
       "      <td>0.0</td>\n",
       "      <td>0.022</td>\n",
       "      <td>0.0</td>\n",
       "      <td>0.0</td>\n",
       "      <td>0.066</td>\n",
       "      <td>0.0</td>\n",
       "      <td>0.003</td>\n",
       "      <td>0.0</td>\n",
       "      <td>0.0</td>\n",
       "      <td>0.009</td>\n",
       "      <td>NaN</td>\n",
       "      <td>NaN</td>\n",
       "      <td>NaN</td>\n",
       "      <td>NaN</td>\n",
       "      <td>NaN</td>\n",
       "      <td>NaN</td>\n",
       "      <td>NaN</td>\n",
       "      <td>NaN</td>\n",
       "      <td>NaN</td>\n",
       "      <td>7752000.0</td>\n",
       "      <td>1.949480e+10</td>\n",
       "    </tr>\n",
       "    <tr>\n",
       "      <th>2</th>\n",
       "      <td>AFG</td>\n",
       "      <td>Afghanistan</td>\n",
       "      <td>1951</td>\n",
       "      <td>0.092</td>\n",
       "      <td>8.696</td>\n",
       "      <td>0.007</td>\n",
       "      <td>NaN</td>\n",
       "      <td>NaN</td>\n",
       "      <td>NaN</td>\n",
       "      <td>0.012</td>\n",
       "      <td>NaN</td>\n",
       "      <td>0.001</td>\n",
       "      <td>0.191</td>\n",
       "      <td>0.001</td>\n",
       "      <td>0.005</td>\n",
       "      <td>NaN</td>\n",
       "      <td>NaN</td>\n",
       "      <td>0.0</td>\n",
       "      <td>0.026</td>\n",
       "      <td>0.0</td>\n",
       "      <td>0.0</td>\n",
       "      <td>0.066</td>\n",
       "      <td>0.0</td>\n",
       "      <td>0.003</td>\n",
       "      <td>0.0</td>\n",
       "      <td>0.0</td>\n",
       "      <td>0.008</td>\n",
       "      <td>NaN</td>\n",
       "      <td>NaN</td>\n",
       "      <td>NaN</td>\n",
       "      <td>NaN</td>\n",
       "      <td>NaN</td>\n",
       "      <td>NaN</td>\n",
       "      <td>NaN</td>\n",
       "      <td>NaN</td>\n",
       "      <td>NaN</td>\n",
       "      <td>7840000.0</td>\n",
       "      <td>2.006385e+10</td>\n",
       "    </tr>\n",
       "    <tr>\n",
       "      <th>3</th>\n",
       "      <td>AFG</td>\n",
       "      <td>Afghanistan</td>\n",
       "      <td>1952</td>\n",
       "      <td>0.092</td>\n",
       "      <td>0.000</td>\n",
       "      <td>0.000</td>\n",
       "      <td>NaN</td>\n",
       "      <td>NaN</td>\n",
       "      <td>NaN</td>\n",
       "      <td>0.012</td>\n",
       "      <td>NaN</td>\n",
       "      <td>0.001</td>\n",
       "      <td>0.282</td>\n",
       "      <td>0.001</td>\n",
       "      <td>0.004</td>\n",
       "      <td>NaN</td>\n",
       "      <td>NaN</td>\n",
       "      <td>0.0</td>\n",
       "      <td>0.033</td>\n",
       "      <td>0.0</td>\n",
       "      <td>0.0</td>\n",
       "      <td>0.062</td>\n",
       "      <td>0.0</td>\n",
       "      <td>0.004</td>\n",
       "      <td>0.0</td>\n",
       "      <td>0.0</td>\n",
       "      <td>0.008</td>\n",
       "      <td>NaN</td>\n",
       "      <td>NaN</td>\n",
       "      <td>NaN</td>\n",
       "      <td>NaN</td>\n",
       "      <td>NaN</td>\n",
       "      <td>NaN</td>\n",
       "      <td>NaN</td>\n",
       "      <td>NaN</td>\n",
       "      <td>NaN</td>\n",
       "      <td>7936000.0</td>\n",
       "      <td>2.074235e+10</td>\n",
       "    </tr>\n",
       "    <tr>\n",
       "      <th>4</th>\n",
       "      <td>AFG</td>\n",
       "      <td>Afghanistan</td>\n",
       "      <td>1953</td>\n",
       "      <td>0.106</td>\n",
       "      <td>16.000</td>\n",
       "      <td>0.015</td>\n",
       "      <td>NaN</td>\n",
       "      <td>NaN</td>\n",
       "      <td>NaN</td>\n",
       "      <td>0.013</td>\n",
       "      <td>NaN</td>\n",
       "      <td>0.002</td>\n",
       "      <td>0.388</td>\n",
       "      <td>0.001</td>\n",
       "      <td>0.005</td>\n",
       "      <td>NaN</td>\n",
       "      <td>NaN</td>\n",
       "      <td>0.0</td>\n",
       "      <td>0.037</td>\n",
       "      <td>0.0</td>\n",
       "      <td>0.0</td>\n",
       "      <td>0.066</td>\n",
       "      <td>0.0</td>\n",
       "      <td>0.005</td>\n",
       "      <td>0.0</td>\n",
       "      <td>0.0</td>\n",
       "      <td>0.008</td>\n",
       "      <td>NaN</td>\n",
       "      <td>NaN</td>\n",
       "      <td>NaN</td>\n",
       "      <td>NaN</td>\n",
       "      <td>NaN</td>\n",
       "      <td>NaN</td>\n",
       "      <td>NaN</td>\n",
       "      <td>NaN</td>\n",
       "      <td>NaN</td>\n",
       "      <td>8040000.0</td>\n",
       "      <td>2.201546e+10</td>\n",
       "    </tr>\n",
       "  </tbody>\n",
       "</table>\n",
       "</div>"
      ],
      "text/plain": [
       "  iso_code      country  year    co2  co2_growth_prct  co2_growth_abs  \\\n",
       "0      AFG  Afghanistan  1949  0.015              NaN             NaN   \n",
       "1      AFG  Afghanistan  1950  0.084          475.000           0.070   \n",
       "2      AFG  Afghanistan  1951  0.092            8.696           0.007   \n",
       "3      AFG  Afghanistan  1952  0.092            0.000           0.000   \n",
       "4      AFG  Afghanistan  1953  0.106           16.000           0.015   \n",
       "\n",
       "   consumption_co2  trade_co2  trade_co2_share  co2_per_capita  \\\n",
       "0              NaN        NaN              NaN           0.002   \n",
       "1              NaN        NaN              NaN           0.011   \n",
       "2              NaN        NaN              NaN           0.012   \n",
       "3              NaN        NaN              NaN           0.012   \n",
       "4              NaN        NaN              NaN           0.013   \n",
       "\n",
       "   consumption_co2_per_capita  share_global_co2  cumulative_co2  \\\n",
       "0                         NaN             0.000           0.015   \n",
       "1                         NaN             0.001           0.099   \n",
       "2                         NaN             0.001           0.191   \n",
       "3                         NaN             0.001           0.282   \n",
       "4                         NaN             0.002           0.388   \n",
       "\n",
       "   share_global_cumulative_co2  co2_per_gdp  consumption_co2_per_gdp  \\\n",
       "0                        0.000          NaN                      NaN   \n",
       "1                        0.001        0.004                      NaN   \n",
       "2                        0.001        0.005                      NaN   \n",
       "3                        0.001        0.004                      NaN   \n",
       "4                        0.001        0.005                      NaN   \n",
       "\n",
       "   co2_per_unit_energy  cement_co2  coal_co2  flaring_co2  gas_co2  oil_co2  \\\n",
       "0                  NaN         0.0     0.015          0.0      0.0    0.000   \n",
       "1                  NaN         0.0     0.022          0.0      0.0    0.066   \n",
       "2                  NaN         0.0     0.026          0.0      0.0    0.066   \n",
       "3                  NaN         0.0     0.033          0.0      0.0    0.062   \n",
       "4                  NaN         0.0     0.037          0.0      0.0    0.066   \n",
       "\n",
       "   cement_co2_per_capita  coal_co2_per_capita  flaring_co2_per_capita  \\\n",
       "0                    0.0                0.002                     0.0   \n",
       "1                    0.0                0.003                     0.0   \n",
       "2                    0.0                0.003                     0.0   \n",
       "3                    0.0                0.004                     0.0   \n",
       "4                    0.0                0.005                     0.0   \n",
       "\n",
       "   gas_co2_per_capita  oil_co2_per_capita  total_ghg  ghg_per_capita  methane  \\\n",
       "0                 0.0               0.000        NaN             NaN      NaN   \n",
       "1                 0.0               0.009        NaN             NaN      NaN   \n",
       "2                 0.0               0.008        NaN             NaN      NaN   \n",
       "3                 0.0               0.008        NaN             NaN      NaN   \n",
       "4                 0.0               0.008        NaN             NaN      NaN   \n",
       "\n",
       "   methane_per_capita  nitrous_oxide  nitrous_oxide_per_capita  \\\n",
       "0                 NaN            NaN                       NaN   \n",
       "1                 NaN            NaN                       NaN   \n",
       "2                 NaN            NaN                       NaN   \n",
       "3                 NaN            NaN                       NaN   \n",
       "4                 NaN            NaN                       NaN   \n",
       "\n",
       "   primary_energy_consumption  energy_per_capita  energy_per_gdp  population  \\\n",
       "0                         NaN                NaN             NaN   7663783.0   \n",
       "1                         NaN                NaN             NaN   7752000.0   \n",
       "2                         NaN                NaN             NaN   7840000.0   \n",
       "3                         NaN                NaN             NaN   7936000.0   \n",
       "4                         NaN                NaN             NaN   8040000.0   \n",
       "\n",
       "            gdp  \n",
       "0           NaN  \n",
       "1  1.949480e+10  \n",
       "2  2.006385e+10  \n",
       "3  2.074235e+10  \n",
       "4  2.201546e+10  "
      ]
     },
     "execution_count": 2,
     "metadata": {},
     "output_type": "execute_result"
    }
   ],
   "source": [
    "# Import data \n",
    "data = pd.read_csv('data/owid-co2-data.csv')\n",
    "df = data\n",
    "\n",
    "# Observe data shape and head\n",
    "print(df.shape)\n",
    "df.head()"
   ]
  },
  {
   "cell_type": "code",
   "execution_count": 3,
   "metadata": {
    "ExecuteTime": {
     "end_time": "2021-01-28T16:57:18.973020Z",
     "start_time": "2021-01-28T16:57:18.955141Z"
    }
   },
   "outputs": [
    {
     "data": {
      "text/plain": [
       "(16008, 38)"
      ]
     },
     "execution_count": 3,
     "metadata": {},
     "output_type": "execute_result"
    }
   ],
   "source": [
    "# Only include data from 1950 and later\n",
    "df = df[df['year']>=1950]\n",
    "\n",
    "# Observe new df shape\n",
    "df.shape"
   ]
  },
  {
   "cell_type": "code",
   "execution_count": 4,
   "metadata": {
    "ExecuteTime": {
     "end_time": "2021-01-28T16:57:19.005838Z",
     "start_time": "2021-01-28T16:57:18.977378Z"
    }
   },
   "outputs": [
    {
     "data": {
      "text/plain": [
       "(14404, 19)"
      ]
     },
     "execution_count": 4,
     "metadata": {},
     "output_type": "execute_result"
    }
   ],
   "source": [
    "# Drop columns with >8K null values (50% of data)\n",
    "df.dropna(axis=1,thresh=8000, inplace=True)\n",
    "\n",
    "#Drop continents, identified by lacking an ISO code\n",
    "df.dropna(axis=0,subset=['iso_code'],inplace=True)\n",
    "\n",
    "#Drop \"World\" entries\n",
    "df = df[df.country != 'World']\n",
    "\n",
    "#Observe new df shape\n",
    "df.shape"
   ]
  },
  {
   "cell_type": "markdown",
   "metadata": {},
   "source": [
    "# Exploratory Data Analysis (EDA)"
   ]
  },
  {
   "cell_type": "markdown",
   "metadata": {},
   "source": [
    "## Top 50 CO2 Emitters"
   ]
  },
  {
   "cell_type": "markdown",
   "metadata": {},
   "source": [
    "**Add dotted line after Indonesia**"
   ]
  },
  {
   "cell_type": "code",
   "execution_count": 5,
   "metadata": {
    "ExecuteTime": {
     "end_time": "2021-01-28T16:57:20.835957Z",
     "start_time": "2021-01-28T16:57:19.209768Z"
    },
    "scrolled": false
   },
   "outputs": [
    {
     "data": {
      "image/png": "[encoded data removed]",
      "text/plain": [
       "<Figure size 1080x720 with 1 Axes>"
      ]
     },
     "metadata": {
      "needs_background": "light"
     },
     "output_type": "display_data"
    }
   ],
   "source": [
    "# Visualize top 50 total CO2 emissions by country\n",
    "fig, ax = plt.subplots(figsize=(15,10))\n",
    "plt.bar(x = df.groupby(['country'])['co2'].mean().sort_values(ascending=False).index[:50],\n",
    "        height = df.groupby(['country'])['co2'].mean().sort_values(ascending=False)[:50],\n",
    "       color = 'green')\n",
    "plt.xlabel('Country')\n",
    "plt.ylabel('Mean Total CO2 Emission Per Year (Tonnes)')\n",
    "for tick in ax.xaxis.get_major_ticks():\n",
    "    tick.label.set_fontsize(14)\n",
    "    tick.label.set_rotation('vertical')"
   ]
  },
  {
   "cell_type": "code",
   "execution_count": 6,
   "metadata": {
    "ExecuteTime": {
     "end_time": "2021-01-28T16:57:20.879694Z",
     "start_time": "2021-01-28T16:57:20.841596Z"
    }
   },
   "outputs": [
    {
     "data": {
      "text/plain": [
       "country\n",
       "United States           4572.443145\n",
       "China                   3020.410884\n",
       "Russia                  1678.672633\n",
       "Germany                  907.555435\n",
       "Japan                    862.353855\n",
       "India                    711.136391\n",
       "United Kingdom           562.317333\n",
       "Ukraine                  431.599350\n",
       "Canada                   408.196348\n",
       "France                   380.734435\n",
       "Italy                    323.503725\n",
       "Poland                   315.624159\n",
       "South Africa             273.030304\n",
       "Mexico                   263.238609\n",
       "Australia                239.099464\n",
       "South Korea              239.019536\n",
       "Iran                     238.637420\n",
       "Brazil                   208.254638\n",
       "Saudi Arabia             207.846739\n",
       "Spain                    191.898884\n",
       "Kazakhstan               190.311700\n",
       "Indonesia                178.857464\n",
       "Turkey                   143.218507\n",
       "Czechia                  140.431083\n",
       "Netherlands              139.889377\n",
       "Taiwan                   117.495261\n",
       "Belgium                  111.949609\n",
       "Romania                  111.899522\n",
       "Argentina                110.503072\n",
       "Venezuela                107.285000\n",
       "Thailand                  99.347348\n",
       "Uzbekistan                97.512167\n",
       "Egypt                     84.286812\n",
       "Malaysia                  78.441812\n",
       "Belarus                   76.350683\n",
       "United Arab Emirates      73.971900\n",
       "North Korea               70.308319\n",
       "Pakistan                  68.855464\n",
       "Algeria                   61.598406\n",
       "Hungary                   60.365913\n",
       "Iraq                      58.821565\n",
       "Sweden                    57.879913\n",
       "Greece                    56.508391\n",
       "Austria                   54.045710\n",
       "Nigeria                   52.778942\n",
       "Bulgaria                  52.674464\n",
       "Denmark                   48.579304\n",
       "Vietnam                   46.944522\n",
       "Colombia                  46.071275\n",
       "Slovakia                  46.017150\n",
       "Name: co2, dtype: float64"
      ]
     },
     "execution_count": 6,
     "metadata": {},
     "output_type": "execute_result"
    }
   ],
   "source": [
    "# Look at top 50 total CO2 emission values by country\n",
    "df.groupby(['country'])['co2'].mean().sort_values(ascending=False)[:50]"
   ]
  },
  {
   "cell_type": "markdown",
   "metadata": {},
   "source": [
    "## Top 10 CO2 Emitters Per Capita"
   ]
  },
  {
   "cell_type": "code",
   "execution_count": 7,
   "metadata": {
    "ExecuteTime": {
     "end_time": "2021-01-28T16:57:21.147086Z",
     "start_time": "2021-01-28T16:57:20.890065Z"
    }
   },
   "outputs": [
    {
     "data": {
      "text/plain": [
       "Text(0, 0.5, 'Mean CO2 Emission Per Year Per Capita (Tonnes)')"
      ]
     },
     "execution_count": 7,
     "metadata": {},
     "output_type": "execute_result"
    },
    {
     "data": {
      "image/png": "[encoded data removed]",
      "text/plain": [
       "<Figure size 1080x432 with 1 Axes>"
      ]
     },
     "metadata": {
      "needs_background": "light"
     },
     "output_type": "display_data"
    }
   ],
   "source": [
    "# Choose top 10 CO2 emitters per capita,\n",
    "# of countries that emit more than an average of 150 tonnes per year\n",
    "\n",
    "# Create list of top 10 emitters\n",
    "top22_co2 = list(df.groupby(['country'])['co2'].mean().sort_values(ascending=False)[:22].index)\n",
    "df_top22_co2 = df.loc[df['country'].isin(top22_co2)]\n",
    "top10_percapita = list(df_top22_co2.groupby(['country'])['co2_per_capita'].mean().sort_values(ascending=False)[:10].index)\n",
    "\n",
    "# Plot data\n",
    "df_top10 = df.loc[df['country'].isin(top10_percapita)]\n",
    "fig, ax = plt.subplots(figsize=(15,6))\n",
    "plt.bar(x = df_top10.groupby(['country'])['co2_per_capita'].mean().sort_values(ascending=False).index,\n",
    "        height = df_top10.groupby(['country'])['co2_per_capita'].mean().sort_values(ascending=False),\n",
    "       color = 'green')\n",
    "plt.xlabel('Country')\n",
    "plt.ylabel('Mean CO2 Emission Per Year Per Capita (Tonnes)')"
   ]
  },
  {
   "cell_type": "markdown",
   "metadata": {},
   "source": [
    "# Time Series Model for USA"
   ]
  },
  {
   "cell_type": "markdown",
   "metadata": {},
   "source": [
    "## Data Cleaning for USA"
   ]
  },
  {
   "cell_type": "markdown",
   "metadata": {},
   "source": [
    "We focused on post-1950 data for our global EDA above since some countries are missing significant data before that time. For our modeling process, however, which focuses on the United States, we included all data for that country, which begins in 1800. We will be predicting the United States's CO2 emissions per capita."
   ]
  },
  {
   "cell_type": "code",
   "execution_count": 8,
   "metadata": {
    "ExecuteTime": {
     "end_time": "2021-01-28T16:57:22.106727Z",
     "start_time": "2021-01-28T16:57:22.051622Z"
    }
   },
   "outputs": [
    {
     "name": "stdout",
     "output_type": "stream",
     "text": [
      "(219, 2)\n"
     ]
    }
   ],
   "source": [
    "# Reload original df to get pre-1950 USA data\n",
    "df_USA = data\n",
    "\n",
    "# Only include USA co2_per_capita data post-1800\n",
    "df_USA = df_USA[df_USA['year'] >= 1800]\n",
    "df_USA = df_USA[df_USA['country'] == 'United States']\n",
    "df_USA = df_USA[['year','co2_per_capita']]\n",
    "\n",
    "# Observe shape of reformatted df\n",
    "print(df_USA.shape)"
   ]
  },
  {
   "cell_type": "code",
   "execution_count": 9,
   "metadata": {
    "ExecuteTime": {
     "end_time": "2021-01-28T16:57:22.185481Z",
     "start_time": "2021-01-28T16:57:22.121552Z"
    }
   },
   "outputs": [
    {
     "data": {
      "text/html": [
       "<div>\n",
       "<style scoped>\n",
       "    .dataframe tbody tr th:only-of-type {\n",
       "        vertical-align: middle;\n",
       "    }\n",
       "\n",
       "    .dataframe tbody tr th {\n",
       "        vertical-align: top;\n",
       "    }\n",
       "\n",
       "    .dataframe thead th {\n",
       "        text-align: right;\n",
       "    }\n",
       "</style>\n",
       "<table border=\"1\" class=\"dataframe\">\n",
       "  <thead>\n",
       "    <tr style=\"text-align: right;\">\n",
       "      <th></th>\n",
       "      <th>co2_per_capita</th>\n",
       "    </tr>\n",
       "    <tr>\n",
       "      <th>year</th>\n",
       "      <th></th>\n",
       "    </tr>\n",
       "  </thead>\n",
       "  <tbody>\n",
       "    <tr>\n",
       "      <th>1800-01-01</th>\n",
       "      <td>0.037</td>\n",
       "    </tr>\n",
       "    <tr>\n",
       "      <th>1801-01-01</th>\n",
       "      <td>0.039</td>\n",
       "    </tr>\n",
       "    <tr>\n",
       "      <th>1802-01-01</th>\n",
       "      <td>0.041</td>\n",
       "    </tr>\n",
       "    <tr>\n",
       "      <th>1803-01-01</th>\n",
       "      <td>0.041</td>\n",
       "    </tr>\n",
       "    <tr>\n",
       "      <th>1804-01-01</th>\n",
       "      <td>0.045</td>\n",
       "    </tr>\n",
       "  </tbody>\n",
       "</table>\n",
       "</div>"
      ],
      "text/plain": [
       "            co2_per_capita\n",
       "year                      \n",
       "1800-01-01           0.037\n",
       "1801-01-01           0.039\n",
       "1802-01-01           0.041\n",
       "1803-01-01           0.041\n",
       "1804-01-01           0.045"
      ]
     },
     "execution_count": 9,
     "metadata": {},
     "output_type": "execute_result"
    }
   ],
   "source": [
    "# Convert year to DateTime object\n",
    "df_USA['year'] = pd.to_datetime(df_USA['year'],format='%Y')\n",
    "\n",
    "# Convert year to index\n",
    "df_USA.set_index('year', inplace=True)\n",
    "\n",
    "# Observe updated df\n",
    "df_USA.head()"
   ]
  },
  {
   "cell_type": "markdown",
   "metadata": {},
   "source": [
    "## EDA for USA"
   ]
  },
  {
   "cell_type": "code",
   "execution_count": 10,
   "metadata": {
    "ExecuteTime": {
     "end_time": "2021-01-28T16:57:22.896083Z",
     "start_time": "2021-01-28T16:57:22.199980Z"
    },
    "scrolled": true
   },
   "outputs": [
    {
     "data": {
      "image/png": "[encoded data removed]",
      "text/plain": [
       "<Figure size 432x288 with 1 Axes>"
      ]
     },
     "metadata": {
      "needs_background": "light"
     },
     "output_type": "display_data"
    }
   ],
   "source": [
    "# Visualize USA's CO2 emissions per capita since 1800,\n",
    "# including 5-year rolling mean and rolling standard deviation\n",
    "\n",
    "roll_mean = df_USA.rolling(window=5, center=False).mean()\n",
    "roll_std = df_USA.rolling(window=5, center=False).std()\n",
    "\n",
    "plt.plot(df_USA,color='blue', label='Original')\n",
    "plt.plot(roll_mean, color='red', label='Rolling Mean')\n",
    "plt.plot(roll_std, color='black', label = 'Rolling Std')\n",
    "plt.legend(loc='best')\n",
    "plt.title('Rolling Mean & Standard Deviation')\n",
    "plt.xlabel('Year')\n",
    "plt.ylabel('CO2 Per Capita (Tonnes)')\n",
    "plt.show(block=False)"
   ]
  },
  {
   "cell_type": "markdown",
   "metadata": {},
   "source": [
    "The above data does not look stationary, but we will perform a Dickey-Fuller test to confirm."
   ]
  },
  {
   "cell_type": "code",
   "execution_count": 11,
   "metadata": {},
   "outputs": [
    {
     "data": {
      "text/plain": [
       "Test Statistic                  -1.057110\n",
       "p-value                          0.731869\n",
       "#Lags Used                      12.000000\n",
       "Number of Observations Used    204.000000\n",
       "dtype: float64"
      ]
     },
     "execution_count": 11,
     "metadata": {},
     "output_type": "execute_result"
    }
   ],
   "source": [
    "# Dickey-Fuller test\n",
    "test = adfuller(df_USA['co2_per_capita'][1:-1])\n",
    "dfoutput = pd.Series(test[0:4], index=['Test Statistic','p-value','#Lags Used','Number of Observations Used'])\n",
    "dfoutput\n"
   ]
  },
  {
   "cell_type": "markdown",
   "metadata": {},
   "source": [
    "As expected, with a p value of 0.73, we cannot reject the null hypothesis that this data is un-stationary. We will remedy this below before fitting our model."
   ]
  },
  {
   "cell_type": "markdown",
   "metadata": {},
   "source": [
    "## Addressing Trends and Stationarity"
   ]
  },
  {
   "cell_type": "markdown",
   "metadata": {},
   "source": [
    "### Log Transformation"
   ]
  },
  {
   "cell_type": "code",
   "execution_count": 12,
   "metadata": {
    "ExecuteTime": {
     "end_time": "2021-01-28T16:57:23.473315Z",
     "start_time": "2021-01-28T16:57:22.902388Z"
    }
   },
   "outputs": [
    {
     "data": {
      "image/png": "[encoded data removed]",
      "text/plain": [
       "<Figure size 432x288 with 1 Axes>"
      ]
     },
     "metadata": {
      "needs_background": "light"
     },
     "output_type": "display_data"
    }
   ],
   "source": [
    "# Log transformation to address lack of variance and covariance\n",
    "# Create new df that contains the logged values of the original one\n",
    "log_USA = log(df_USA)\n",
    "\n",
    "# Visualize logged data, including 5-year rolling mean and standard deviation\n",
    "roll_mean_log = log_USA.rolling(window=5, center=False).mean()\n",
    "roll_std_log = log_USA.rolling(window=5, center=False).std()\n",
    "\n",
    "plt.plot(log_USA,color='blue', label='Original')\n",
    "plt.plot(roll_mean_log, color='red', label='Rolling Mean')\n",
    "plt.plot(roll_std_log, color='black', label = 'Rolling Std')\n",
    "plt.legend(loc='best')\n",
    "plt.title('Rolling Mean & Standard Deviation, Logged Data')\n",
    "plt.xlabel('Year')\n",
    "plt.ylabel('Logged CO2 Per Capita (Tonnes)')\n",
    "plt.show(block=False)"
   ]
  },
  {
   "cell_type": "code",
   "execution_count": 37,
   "metadata": {},
   "outputs": [
    {
     "data": {
      "text/plain": [
       "[<matplotlib.lines.Line2D at 0x7fb53b349dc0>]"
      ]
     },
     "execution_count": 37,
     "metadata": {},
     "output_type": "execute_result"
    },
    {
     "data": {
      "image/png": "[encoded data removed]",
      "text/plain": [
       "<Figure size 432x288 with 1 Axes>"
      ]
     },
     "metadata": {
      "needs_background": "light"
     },
     "output_type": "display_data"
    }
   ],
   "source": [
    "log_improved = log_USA - roll_mean_log\n",
    "plt.plot(log_improved)"
   ]
  },
  {
   "cell_type": "markdown",
   "metadata": {},
   "source": [
    "**Dickey-Fuller Test on Logged Data**"
   ]
  },
  {
   "cell_type": "markdown",
   "metadata": {},
   "source": [
    "This data looks more stationary, but we will perform a Dickey-Fuller test to confirm."
   ]
  },
  {
   "cell_type": "code",
   "execution_count": 13,
   "metadata": {
    "ExecuteTime": {
     "end_time": "2021-01-28T16:57:24.860248Z",
     "start_time": "2021-01-28T16:57:23.479956Z"
    }
   },
   "outputs": [
    {
     "data": {
      "text/plain": [
       "Test Statistic                  -3.807340\n",
       "p-value                          0.002833\n",
       "#Lags Used                       3.000000\n",
       "Number of Observations Used    213.000000\n",
       "dtype: float64"
      ]
     },
     "execution_count": 13,
     "metadata": {},
     "output_type": "execute_result"
    }
   ],
   "source": [
    "# Dicky-Fuller test on logged data\n",
    "test = adfuller(log_USA['co2_per_capita'][1:-1])\n",
    "dfoutput = pd.Series(test[0:4], index=['Test Statistic','p-value','#Lags Used','Number of Observations Used'])\n",
    "dfoutput"
   ]
  },
  {
   "cell_type": "markdown",
   "metadata": {},
   "source": [
    "Our p-value of 0.003 confirms our suspicion that the logged data is stationary."
   ]
  },
  {
   "cell_type": "markdown",
   "metadata": {},
   "source": [
    "### Differencing"
   ]
  },
  {
   "cell_type": "markdown",
   "metadata": {},
   "source": [
    "We will now difference our original data until we achieve stationarity."
   ]
  },
  {
   "cell_type": "code",
   "execution_count": 14,
   "metadata": {
    "ExecuteTime": {
     "end_time": "2021-01-28T19:29:34.069237Z",
     "start_time": "2021-01-28T19:29:33.765084Z"
    }
   },
   "outputs": [
    {
     "data": {
      "image/png": "[encoded data removed]",
      "text/plain": [
       "<Figure size 432x288 with 1 Axes>"
      ]
     },
     "metadata": {
      "needs_background": "light"
     },
     "output_type": "display_data"
    }
   ],
   "source": [
    "# Difference original df\n",
    "diff = df_USA.diff().rename(index=str, columns={\"co2_per_capita\": \"Differenced Observations\"})\n",
    "\n",
    "# Visualize differenced data, including 5-year rolling mean and standard deviation\n",
    "roll_mean_diff = diff.rolling(window=5, center=False).mean()\n",
    "roll_std_diff = diff.rolling(window=5, center=False).std()\n",
    "\n",
    "plt.plot(diff,color='blue', label='Original')\n",
    "plt.plot(roll_mean_diff, color='red', label='Rolling Mean')\n",
    "plt.plot(roll_std_diff, color='black', label = 'Rolling Std')\n",
    "plt.legend(loc='best')\n",
    "plt.title('Rolling Mean & Standard Deviation, Differenced Data')\n",
    "plt.xlabel('Differenced Year')\n",
    "plt.ylabel('Differenced CO2 Per Capita (Tonnes)')\n",
    "plt.show(block=False)\n",
    "\n"
   ]
  },
  {
   "cell_type": "markdown",
   "metadata": {},
   "source": [
    "It is difficult to tell whether the differenced data is stationary based on the above data. We will check with a Dickey-Fuller test."
   ]
  },
  {
   "cell_type": "code",
   "execution_count": 15,
   "metadata": {},
   "outputs": [
    {
     "data": {
      "text/plain": [
       "Test Statistic                  -4.055314\n",
       "p-value                          0.001147\n",
       "#Lags Used                      11.000000\n",
       "Number of Observations Used    205.000000\n",
       "dtype: float64"
      ]
     },
     "execution_count": 15,
     "metadata": {},
     "output_type": "execute_result"
    }
   ],
   "source": [
    "# Dickey-Fuller test on differenced data\n",
    "test = adfuller(diff['Differenced Observations'][1:-1])\n",
    "dfoutput = pd.Series(test[0:4], index=['Test Statistic','p-value','#Lags Used','Number of Observations Used'])\n",
    "dfoutput"
   ]
  },
  {
   "cell_type": "markdown",
   "metadata": {},
   "source": [
    "Based on the above p-value of 0.001, we see that we have achieved stationarity by differencing once. We will keep this in mind as we test d values in our ARIMA model below."
   ]
  },
  {
   "cell_type": "markdown",
   "metadata": {},
   "source": [
    "## Modeling"
   ]
  },
  {
   "cell_type": "markdown",
   "metadata": {},
   "source": [
    "We will create time series models on both our logged data and original data to see which yields better results."
   ]
  },
  {
   "cell_type": "markdown",
   "metadata": {},
   "source": [
    "We decided to test our baseline models before splitting our data into train and test sets. The advantage of this decision was that we have more data to assess the overall model. A disadvantage is that our final model will be assessed specifically on how well it predicts our test data. To overcome this disadvantage, we will later tune our best model on the train-test-split data to produce a final model.\n",
    "\n"
   ]
  },
  {
   "cell_type": "markdown",
   "metadata": {},
   "source": [
    "### Logged Data"
   ]
  },
  {
   "cell_type": "markdown",
   "metadata": {},
   "source": [
    "**ACF and PACF for Logged Data**"
   ]
  },
  {
   "cell_type": "code",
   "execution_count": 16,
   "metadata": {
    "ExecuteTime": {
     "end_time": "2021-01-28T16:57:25.766343Z",
     "start_time": "2021-01-28T16:57:25.005611Z"
    },
    "scrolled": false
   },
   "outputs": [
    {
     "data": {
      "image/png": "[encoded data removed]",
      "text/plain": [
       "<Figure size 432x288 with 1 Axes>"
      ]
     },
     "metadata": {
      "needs_background": "light"
     },
     "output_type": "display_data"
    }
   ],
   "source": [
    "# ACF for logged data\n",
    "plot_acf(log_USA[:-1], alpha=.05);\n"
   ]
  },
  {
   "cell_type": "code",
   "execution_count": 17,
   "metadata": {
    "ExecuteTime": {
     "end_time": "2021-01-28T16:57:26.320627Z",
     "start_time": "2021-01-28T16:57:25.776939Z"
    }
   },
   "outputs": [
    {
     "data": {
      "image/png": "[encoded data removed]",
      "text/plain": [
       "<Figure size 432x288 with 1 Axes>"
      ]
     },
     "metadata": {
      "needs_background": "light"
     },
     "output_type": "display_data"
    }
   ],
   "source": [
    "# PACF for logged data\n",
    "plot_pacf(log_USA[:-1], alpha=.05, lags=20);"
   ]
  },
  {
   "cell_type": "markdown",
   "metadata": {},
   "source": [
    "We can make the following observations about the ACF and PACF for our logged data:\n",
    "\n",
    "1. This data displays an AR signature since the ACF diminishes gradually and the PACF cuts off sharply.\n",
    "2. When instantiating an ARIMA model, we would expect a relatively large number of MA terms due to the large number of significant ACF points and a relatively small number of AR terms due to the small number of significant PACF points."
   ]
  },
  {
   "cell_type": "markdown",
   "metadata": {},
   "source": [
    "**ARIMA Model for Logged Data**"
   ]
  },
  {
   "cell_type": "markdown",
   "metadata": {},
   "source": [
    "We tried many different p, d, and q parameters for an ARIMA model on our logged data. The below paramters of p=2, d=0, q=0 yielded the best results."
   ]
  },
  {
   "cell_type": "code",
   "execution_count": 35,
   "metadata": {
    "ExecuteTime": {
     "end_time": "2021-01-28T16:57:26.752545Z",
     "start_time": "2021-01-28T16:57:26.325497Z"
    }
   },
   "outputs": [
    {
     "name": "stdout",
     "output_type": "stream",
     "text": [
      "                              ARMA Model Results                              \n",
      "==============================================================================\n",
      "Dep. Variable:         co2_per_capita   No. Observations:                  218\n",
      "Model:                     ARMA(2, 0)   Log Likelihood                 240.613\n",
      "Method:                       css-mle   S.D. of innovations              0.079\n",
      "Date:                Fri, 29 Jan 2021   AIC                           -473.226\n",
      "Time:                        13:39:16   BIC                           -459.688\n",
      "Sample:                    01-01-1800   HQIC                          -467.758\n",
      "                         - 01-01-2017                                         \n",
      "========================================================================================\n",
      "                           coef    std err          z      P>|z|      [0.025      0.975]\n",
      "----------------------------------------------------------------------------------------\n",
      "const                   -0.1865      2.927     -0.064      0.949      -5.924       5.551\n",
      "ar.L1.co2_per_capita     1.1387      0.022     51.069      0.000       1.095       1.182\n",
      "ar.L2.co2_per_capita    -0.1391      0.022     -6.235      0.000      -0.183      -0.095\n",
      "                                    Roots                                    \n",
      "=============================================================================\n",
      "                  Real          Imaginary           Modulus         Frequency\n",
      "-----------------------------------------------------------------------------\n",
      "AR.1            1.0005           +0.0000j            1.0005            0.0000\n",
      "AR.2            7.1871           +0.0000j            7.1871            0.0000\n",
      "-----------------------------------------------------------------------------\n"
     ]
    }
   ],
   "source": [
    "# Instantiate ARIMA model for logged data\n",
    "# Tried many parameters and the below were by far the best\n",
    "\n",
    "\n",
    "#fit model\n",
    "mod_log = ARIMA(log_USA[:-1], order=(2,0,0)) # p,d,q\n",
    "mod_log_fit = mod_log.fit()\n",
    "print(mod_log_fit.summary())\n",
    "##NOTE: Check out coef and p-value - \n"
   ]
  },
  {
   "cell_type": "markdown",
   "metadata": {},
   "source": [
    "**AR Model for Logged Data**"
   ]
  },
  {
   "cell_type": "markdown",
   "metadata": {},
   "source": [
    "Since our best ARIMA model ends up with d and q values of 0, we decided to try an AR model as well."
   ]
  },
  {
   "cell_type": "code",
   "execution_count": 19,
   "metadata": {},
   "outputs": [
    {
     "name": "stdout",
     "output_type": "stream",
     "text": [
      "                              ARMA Model Results                              \n",
      "==============================================================================\n",
      "Dep. Variable:         co2_per_capita   No. Observations:                  219\n",
      "Model:                     ARMA(2, 0)   Log Likelihood                 242.188\n",
      "Method:                       css-mle   S.D. of innovations              0.079\n",
      "Date:                Fri, 29 Jan 2021   AIC                           -476.375\n",
      "Time:                        13:38:44   BIC                           -462.819\n",
      "Sample:                    01-01-1800   HQIC                          -470.900\n",
      "                         - 01-01-2018                                         \n",
      "========================================================================================\n",
      "                           coef    std err          z      P>|z|      [0.025      0.975]\n",
      "----------------------------------------------------------------------------------------\n",
      "const                   -0.1740      2.940     -0.059      0.953      -5.936       5.588\n",
      "ar.L1.co2_per_capita     1.1384      0.022     52.226      0.000       1.096       1.181\n",
      "ar.L2.co2_per_capita    -0.1388      0.022     -6.366      0.000      -0.182      -0.096\n",
      "                                    Roots                                    \n",
      "=============================================================================\n",
      "                  Real          Imaginary           Modulus         Frequency\n",
      "-----------------------------------------------------------------------------\n",
      "AR.1            1.0005           +0.0000j            1.0005            0.0000\n",
      "AR.2            7.2001           +0.0000j            7.2001            0.0000\n",
      "-----------------------------------------------------------------------------\n"
     ]
    }
   ],
   "source": [
    "# Instantiate an AR model to the simulated data\n",
    "mod_logAR = ARMA(log_USA, order=(2,0))\n",
    "logAR_fit = mod_logAR.fit()\n",
    "print(logAR_fit.summary())"
   ]
  },
  {
   "cell_type": "markdown",
   "metadata": {},
   "source": [
    "The above AR model has equal p-values but better AIC and BIC scores than our ARIMA model on the logged data. We will compare these further later to determine which is best suited for our train-test-split data."
   ]
  },
  {
   "cell_type": "markdown",
   "metadata": {},
   "source": [
    "### Original Data"
   ]
  },
  {
   "cell_type": "markdown",
   "metadata": {},
   "source": [
    "NOTE: differenced data incorporated through the 'd' parameter in the ARIMA model"
   ]
  },
  {
   "cell_type": "code",
   "execution_count": 20,
   "metadata": {
    "ExecuteTime": {
     "end_time": "2021-01-28T16:57:27.346172Z",
     "start_time": "2021-01-28T16:57:26.770545Z"
    }
   },
   "outputs": [
    {
     "data": {
      "image/png": "[encoded data removed]",
      "text/plain": [
       "<Figure size 432x288 with 1 Axes>"
      ]
     },
     "metadata": {
      "needs_background": "light"
     },
     "output_type": "display_data"
    }
   ],
   "source": [
    "#ACF for original data\n",
    "plot_acf(df_USA[:-1], alpha=.05);\n",
    "\n",
    "##NOTE: data is geometric! (indicates AR)\n"
   ]
  },
  {
   "cell_type": "code",
   "execution_count": 21,
   "metadata": {
    "ExecuteTime": {
     "end_time": "2021-01-28T16:57:27.910968Z",
     "start_time": "2021-01-28T16:57:27.357243Z"
    }
   },
   "outputs": [
    {
     "data": {
      "image/png": "[encoded data removed]",
      "text/plain": [
       "<Figure size 432x288 with 1 Axes>"
      ]
     },
     "metadata": {
      "needs_background": "light"
     },
     "output_type": "display_data"
    }
   ],
   "source": [
    "#PACF for original data\n",
    "plot_pacf(df_USA[:-1], alpha=.05, lags=20);\n",
    "\n",
    "##NOTE: lag of 1 is significant"
   ]
  },
  {
   "cell_type": "markdown",
   "metadata": {},
   "source": [
    "Exploring different parameters to find best p-value"
   ]
  },
  {
   "cell_type": "code",
   "execution_count": 22,
   "metadata": {
    "ExecuteTime": {
     "end_time": "2021-01-28T16:57:28.936138Z",
     "start_time": "2021-01-28T16:57:27.920086Z"
    }
   },
   "outputs": [
    {
     "name": "stdout",
     "output_type": "stream",
     "text": [
      "                             ARIMA Model Results                              \n",
      "==============================================================================\n",
      "Dep. Variable:      D2.co2_per_capita   No. Observations:                  216\n",
      "Model:                 ARIMA(1, 2, 3)   Log Likelihood                -249.331\n",
      "Method:                       css-mle   S.D. of innovations              0.761\n",
      "Date:                Fri, 29 Jan 2021   AIC                            510.663\n",
      "Time:                        13:38:44   BIC                            530.915\n",
      "Sample:                    01-01-1802   HQIC                           518.845\n",
      "                         - 01-01-2017                                         \n",
      "===========================================================================================\n",
      "                              coef    std err          z      P>|z|      [0.025      0.975]\n",
      "-------------------------------------------------------------------------------------------\n",
      "const                      -0.0006      0.001     -0.425      0.671      -0.003       0.002\n",
      "ar.L1.D2.co2_per_capita    -0.7431      0.113     -6.549      0.000      -0.965      -0.521\n",
      "ma.L1.D2.co2_per_capita    -0.3532      0.116     -3.048      0.002      -0.580      -0.126\n",
      "ma.L2.D2.co2_per_capita    -0.8420      0.093     -9.050      0.000      -1.024      -0.660\n",
      "ma.L3.D2.co2_per_capita     0.2319      0.063      3.653      0.000       0.108       0.356\n",
      "                                    Roots                                    \n",
      "=============================================================================\n",
      "                  Real          Imaginary           Modulus         Frequency\n",
      "-----------------------------------------------------------------------------\n",
      "AR.1           -1.3458           +0.0000j            1.3458            0.5000\n",
      "MA.1           -1.1256           +0.0000j            1.1256            0.5000\n",
      "MA.2            1.0273           +0.0000j            1.0273            0.0000\n",
      "MA.3            3.7288           +0.0000j            3.7288            0.0000\n",
      "-----------------------------------------------------------------------------\n"
     ]
    }
   ],
   "source": [
    "from statsmodels.tsa.arima_model import ARIMA\n",
    "\n",
    "#fit model\n",
    "mod123 = ARIMA(df_USA[:-1], order=(1,2,3)) # p,d,q\n",
    "mod123_fit = mod123.fit()\n",
    "print(mod123_fit.summary())\n",
    "##NOTE: Check out coef and p-value - "
   ]
  },
  {
   "cell_type": "code",
   "execution_count": 23,
   "metadata": {
    "ExecuteTime": {
     "end_time": "2021-01-28T16:57:29.501919Z",
     "start_time": "2021-01-28T16:57:28.940693Z"
    }
   },
   "outputs": [
    {
     "name": "stdout",
     "output_type": "stream",
     "text": [
      "                             ARIMA Model Results                              \n",
      "==============================================================================\n",
      "Dep. Variable:      D2.co2_per_capita   No. Observations:                  216\n",
      "Model:                 ARIMA(4, 2, 0)   Log Likelihood                -264.456\n",
      "Method:                       css-mle   S.D. of innovations              0.821\n",
      "Date:                Fri, 29 Jan 2021   AIC                            540.912\n",
      "Time:                        13:38:45   BIC                            561.164\n",
      "Sample:                    01-01-1802   HQIC                           549.094\n",
      "                         - 01-01-2017                                         \n",
      "===========================================================================================\n",
      "                              coef    std err          z      P>|z|      [0.025      0.975]\n",
      "-------------------------------------------------------------------------------------------\n",
      "const                      -0.0015      0.017     -0.088      0.930      -0.036       0.033\n",
      "ar.L1.D2.co2_per_capita    -0.9221      0.067    -13.798      0.000      -1.053      -0.791\n",
      "ar.L2.D2.co2_per_capita    -0.8051      0.089     -9.060      0.000      -0.979      -0.631\n",
      "ar.L3.D2.co2_per_capita    -0.3238      0.089     -3.648      0.000      -0.498      -0.150\n",
      "ar.L4.D2.co2_per_capita    -0.1814      0.066     -2.732      0.006      -0.312      -0.051\n",
      "                                    Roots                                    \n",
      "=============================================================================\n",
      "                  Real          Imaginary           Modulus         Frequency\n",
      "-----------------------------------------------------------------------------\n",
      "AR.1           -0.9754           -1.0177j            1.4097           -0.3716\n",
      "AR.2           -0.9754           +1.0177j            1.4097            0.3716\n",
      "AR.3            0.0827           -1.6636j            1.6657           -0.2421\n",
      "AR.4            0.0827           +1.6636j            1.6657            0.2421\n",
      "-----------------------------------------------------------------------------\n"
     ]
    }
   ],
   "source": [
    "#fit model\n",
    "mod420 = ARIMA(df_USA[:-1], order=(4,2,0)) # p,d,q\n",
    "mod420_fit = mod420.fit(disp=0)\n",
    "print(mod420_fit.summary())\n",
    "##NOTE: Check out coef and p-value - "
   ]
  },
  {
   "cell_type": "code",
   "execution_count": 24,
   "metadata": {
    "ExecuteTime": {
     "end_time": "2021-01-28T16:57:30.271596Z",
     "start_time": "2021-01-28T16:57:29.515855Z"
    }
   },
   "outputs": [
    {
     "name": "stdout",
     "output_type": "stream",
     "text": [
      "                             ARIMA Model Results                              \n",
      "==============================================================================\n",
      "Dep. Variable:      D2.co2_per_capita   No. Observations:                  216\n",
      "Model:                 ARIMA(5, 2, 0)   Log Likelihood                -260.117\n",
      "Method:                       css-mle   S.D. of innovations              0.804\n",
      "Date:                Fri, 29 Jan 2021   AIC                            534.233\n",
      "Time:                        13:38:45   BIC                            557.860\n",
      "Sample:                    01-01-1802   HQIC                           543.778\n",
      "                         - 01-01-2017                                         \n",
      "===========================================================================================\n",
      "                              coef    std err          z      P>|z|      [0.025      0.975]\n",
      "-------------------------------------------------------------------------------------------\n",
      "const                      -0.0014      0.014     -0.102      0.919      -0.029       0.026\n",
      "ar.L1.D2.co2_per_capita    -0.9588      0.067    -14.395      0.000      -1.089      -0.828\n",
      "ar.L2.D2.co2_per_capita    -0.8700      0.090     -9.689      0.000      -1.046      -0.694\n",
      "ar.L3.D2.co2_per_capita    -0.4844      0.102     -4.733      0.000      -0.685      -0.284\n",
      "ar.L4.D2.co2_per_capita    -0.3643      0.089     -4.075      0.000      -0.540      -0.189\n",
      "ar.L5.D2.co2_per_capita    -0.1968      0.066     -2.979      0.003      -0.326      -0.067\n",
      "                                    Roots                                    \n",
      "=============================================================================\n",
      "                  Real          Imaginary           Modulus         Frequency\n",
      "-----------------------------------------------------------------------------\n",
      "AR.1            0.5576           -1.3200j            1.4330           -0.1864\n",
      "AR.2            0.5576           +1.3200j            1.4330            0.1864\n",
      "AR.3           -0.6765           -1.0373j            1.2384           -0.3420\n",
      "AR.4           -0.6765           +1.0373j            1.2384            0.3420\n",
      "AR.5           -1.6136           -0.0000j            1.6136           -0.5000\n",
      "-----------------------------------------------------------------------------\n"
     ]
    }
   ],
   "source": [
    "#fit model\n",
    "mod520 = ARIMA(df_USA[:-1], order=(5,2,0)) # p,d,q\n",
    "mod520_fit = mod520.fit(disp=0)\n",
    "print(mod520_fit.summary())\n",
    "##NOTE: Check out coef and p-value - "
   ]
  },
  {
   "cell_type": "code",
   "execution_count": null,
   "metadata": {},
   "outputs": [],
   "source": []
  },
  {
   "cell_type": "code",
   "execution_count": null,
   "metadata": {},
   "outputs": [],
   "source": []
  },
  {
   "cell_type": "code",
   "execution_count": null,
   "metadata": {},
   "outputs": [],
   "source": []
  },
  {
   "cell_type": "code",
   "execution_count": null,
   "metadata": {},
   "outputs": [],
   "source": []
  },
  {
   "cell_type": "code",
   "execution_count": null,
   "metadata": {},
   "outputs": [],
   "source": []
  },
  {
   "cell_type": "markdown",
   "metadata": {},
   "source": [
    "# Determine Best Model"
   ]
  },
  {
   "cell_type": "markdown",
   "metadata": {},
   "source": [
    "### RMSE "
   ]
  },
  {
   "cell_type": "markdown",
   "metadata": {},
   "source": [
    "#### Logged Data"
   ]
  },
  {
   "cell_type": "code",
   "execution_count": 25,
   "metadata": {
    "ExecuteTime": {
     "end_time": "2021-01-28T16:57:30.303227Z",
     "start_time": "2021-01-28T16:57:30.280013Z"
    }
   },
   "outputs": [],
   "source": [
    "#train test split (90%)\n",
    "\n",
    "X = log_USA.index\n",
    "y = log_USA['co2_per_capita']\n",
    "\n",
    "train = log_USA.loc[:'1997-01-01']\n",
    "test = log_USA.loc['1997-01-01':]\n",
    "\n",
    "X_train, X_test = train.index , test.index\n",
    "y_train, y_test = train['co2_per_capita'] , test['co2_per_capita']\n"
   ]
  },
  {
   "cell_type": "code",
   "execution_count": 26,
   "metadata": {
    "ExecuteTime": {
     "end_time": "2021-01-28T16:57:31.044850Z",
     "start_time": "2021-01-28T16:57:30.312932Z"
    },
    "scrolled": true
   },
   "outputs": [],
   "source": [
    "# Instantiate and fit model to train data\n",
    "mod_log = ARIMA(train[2:], order=(2,0,0)) # p,d,q\n",
    "mod_log_fit = mod_log.fit()\n",
    "\n",
    "# Prediction\n",
    "pred_log = mod_log_fit.predict(start='1997-01-01', end='2018-01-01', dynamic=False)\n"
   ]
  },
  {
   "cell_type": "code",
   "execution_count": 27,
   "metadata": {},
   "outputs": [],
   "source": [
    "# Instantiate and fit model to train data\n",
    "mod_logAR = ARMA(log_USA, order=(2,0))\n",
    "logAR_fit = mod_logAR.fit()\n",
    "\n",
    "# Prediction\n",
    "pred_logAR = logAR_fit.predict(start='1997-01-01', end='2018-01-01', dynamic=False)\n"
   ]
  },
  {
   "cell_type": "markdown",
   "metadata": {},
   "source": [
    "#### Original Data"
   ]
  },
  {
   "cell_type": "code",
   "execution_count": 28,
   "metadata": {
    "ExecuteTime": {
     "end_time": "2021-01-28T22:12:59.461293Z",
     "start_time": "2021-01-28T22:12:59.424002Z"
    }
   },
   "outputs": [],
   "source": [
    "#Train test split (90%)\n",
    "# diff = df_USA.diff().rename(index=str, columns={\"co2_per_capita\": \"Differenced Observations\"})\n",
    "# diff2 = diff.diff().rename(index=str, columns={\"co2_per_capita\": \"Differenced Observations\"})\n",
    "\n",
    "X = df_USA.index\n",
    "y = df_USA['co2_per_capita']\n",
    "\n",
    "train = df_USA.loc[:'1997-01-01']\n",
    "test = df_USA.loc['1997-01-01':]\n",
    "\n",
    "X_train, X_test = train.index , test.index\n",
    "y_train, y_test = train['co2_per_capita'] , test['co2_per_capita']\n"
   ]
  },
  {
   "cell_type": "code",
   "execution_count": 29,
   "metadata": {
    "ExecuteTime": {
     "end_time": "2021-01-28T22:13:08.091018Z",
     "start_time": "2021-01-28T22:13:07.495479Z"
    }
   },
   "outputs": [],
   "source": [
    "# 420 data\n",
    "# Instantiate and fit model to train data\n",
    "mod420 = ARIMA(y_train[2:], order=(4,2,0)) # p,d,q\n",
    "mod420_fit = mod420.fit()\n",
    "\n",
    "#Prediction\n",
    "pred420 = mod420_fit.predict(start='1997-01-01', end='2018-01-01', dynamic=False)"
   ]
  },
  {
   "cell_type": "code",
   "execution_count": 30,
   "metadata": {
    "ExecuteTime": {
     "end_time": "2021-01-28T22:13:09.442537Z",
     "start_time": "2021-01-28T22:13:08.780893Z"
    },
    "scrolled": false
   },
   "outputs": [],
   "source": [
    "# 520 data\n",
    "# Instantiate and fit model to train data\n",
    "mod520 = ARIMA(y_train[2:], order=(5,2,0)) # p,d,q\n",
    "mod520_fit = mod520.fit()\n",
    "\n",
    "#Prediction\n",
    "pred520 = mod520_fit.predict(start='1997-01-01', end='2018-01-01', dynamic=False)"
   ]
  },
  {
   "cell_type": "code",
   "execution_count": 31,
   "metadata": {
    "ExecuteTime": {
     "end_time": "2021-01-28T16:57:31.329910Z",
     "start_time": "2021-01-28T16:57:31.319433Z"
    }
   },
   "outputs": [],
   "source": [
    "#Below model cannot run due to coefficients not being invertible\n",
    "\n",
    "# # 123 data\n",
    "# # Instantiate and fit model to train data\n",
    "# mod123 = ARIMA(y_train[2:], order=(1,2,3)) # p,d,q\n",
    "# mod123_fit = mod123.fit()\n",
    "\n",
    "# #Prediction\n",
    "# pred123 = mod123_fit.predict(start='1997-01-01', end='2018-01-01', dynamic=False)"
   ]
  },
  {
   "cell_type": "code",
   "execution_count": null,
   "metadata": {},
   "outputs": [],
   "source": []
  },
  {
   "cell_type": "code",
   "execution_count": null,
   "metadata": {},
   "outputs": [],
   "source": []
  },
  {
   "cell_type": "code",
   "execution_count": null,
   "metadata": {},
   "outputs": [],
   "source": []
  },
  {
   "cell_type": "code",
   "execution_count": null,
   "metadata": {},
   "outputs": [],
   "source": []
  },
  {
   "cell_type": "markdown",
   "metadata": {},
   "source": [
    "#### testing metrics"
   ]
  },
  {
   "cell_type": "code",
   "execution_count": 32,
   "metadata": {
    "ExecuteTime": {
     "end_time": "2021-01-28T22:13:14.649200Z",
     "start_time": "2021-01-28T22:13:14.621230Z"
    }
   },
   "outputs": [
    {
     "name": "stdout",
     "output_type": "stream",
     "text": [
      "RMSE score for 4,2,0:  19.2044066099487\n",
      "RMSE score for 5,2,0:  19.210051698430025\n",
      "RMSE score for log:  2.2408462252368526\n",
      "RMSE score for logAR:  0.5155279264711897\n"
     ]
    }
   ],
   "source": [
    "def RMSE_reg(pred):\n",
    "    return np.sqrt(((pred-y_test)**2).mean())\n",
    "\n",
    "def RMSE_log(pred):\n",
    "    return np.sqrt(((np.e**pred-y_test)**2).mean())\n",
    "\n",
    "print('RMSE score for 4,2,0: ', RMSE_reg(pred420))\n",
    "print('RMSE score for 5,2,0: ', RMSE_reg(pred520))\n",
    "print('RMSE score for log: ', RMSE_log(pred_log))\n",
    "print('RMSE score for logAR: ', RMSE_log(pred_logAR))\n"
   ]
  },
  {
   "cell_type": "code",
   "execution_count": 33,
   "metadata": {
    "ExecuteTime": {
     "end_time": "2021-01-28T22:13:22.144874Z",
     "start_time": "2021-01-28T22:13:22.128446Z"
    }
   },
   "outputs": [
    {
     "name": "stdout",
     "output_type": "stream",
     "text": [
      "501.3540340850692\n",
      "495.07590996051266\n",
      "-406.16819307435446\n",
      "-476.3752088922788\n"
     ]
    }
   ],
   "source": [
    "AIC_420 = mod420_fit.aic\n",
    "AIC_520 = mod520_fit.aic\n",
    "AIC_log = mod_log_fit.aic\n",
    "AIC_logAR = logAR_fit.aic\n",
    "\n",
    "print(AIC_420)\n",
    "print(AIC_520)\n",
    "print(AIC_log)\n",
    "print(AIC_logAR)\n",
    "\n"
   ]
  },
  {
   "cell_type": "code",
   "execution_count": 34,
   "metadata": {},
   "outputs": [
    {
     "ename": "NameError",
     "evalue": "name 'rcParams' is not defined",
     "output_type": "error",
     "traceback": [
      "\u001b[0;31m---------------------------------------------------------------------------\u001b[0m",
      "\u001b[0;31mNameError\u001b[0m                                 Traceback (most recent call last)",
      "\u001b[0;32m<ipython-input-34-d1e05d10a8af>\u001b[0m in \u001b[0;36m<module>\u001b[0;34m\u001b[0m\n\u001b[1;32m      2\u001b[0m \u001b[0;34m\u001b[0m\u001b[0m\n\u001b[1;32m      3\u001b[0m \u001b[0;31m# plot real vs predicted values along with confidence interval\u001b[0m\u001b[0;34m\u001b[0m\u001b[0;34m\u001b[0m\u001b[0;34m\u001b[0m\u001b[0m\n\u001b[0;32m----> 4\u001b[0;31m \u001b[0mrcParams\u001b[0m\u001b[0;34m[\u001b[0m\u001b[0;34m'figure.figsize'\u001b[0m\u001b[0;34m]\u001b[0m \u001b[0;34m=\u001b[0m \u001b[0;36m15\u001b[0m\u001b[0;34m,\u001b[0m \u001b[0;36m6\u001b[0m\u001b[0;34m\u001b[0m\u001b[0;34m\u001b[0m\u001b[0m\n\u001b[0m\u001b[1;32m      5\u001b[0m \u001b[0;34m\u001b[0m\u001b[0m\n\u001b[1;32m      6\u001b[0m \u001b[0;31m# plot observed values\u001b[0m\u001b[0;34m\u001b[0m\u001b[0;34m\u001b[0m\u001b[0;34m\u001b[0m\u001b[0m\n",
      "\u001b[0;31mNameError\u001b[0m: name 'rcParams' is not defined"
     ]
    }
   ],
   "source": [
    "# Visualize predicted values for test set\n",
    "\n",
    "# plot real vs predicted values along with confidence interval\n",
    "rcParams['figure.figsize'] = 15, 6\n",
    "\n",
    "# plot observed values\n",
    "ax = log_USA['1800-01-01':].plot(label='observed')\n",
    "\n",
    "# plot predicted values\n",
    "pred_log.plot(ax=ax, label='Forecast', alpha=0.9)\n",
    "\n",
    "# # plot the range for confidence intervals\n",
    "# ax.fill_between(pred_conf.index,\n",
    "#                 pred_conf.iloc[:, 0],\n",
    "#                 pred_conf.iloc[:, 1], color='g', alpha=0.5)\n",
    "\n",
    "# set axes labels and title\n",
    "ax.set_xlabel('Year', size=12)\n",
    "ax.set_ylabel('Logged Tonnes',size=12)\n",
    "ax.set_title('Real vs Predicted for ARIMA with Logged Data', size=15)\n",
    "\n",
    "plt.legend()\n",
    "plt.show()"
   ]
  },
  {
   "cell_type": "code",
   "execution_count": null,
   "metadata": {},
   "outputs": [],
   "source": [
    "#Uncomment code below to see zoomed-in window of data only from 1950 onward\n",
    "\n",
    "# # plot real vs predicted values along with confidence interval\n",
    "# rcParams['figure.figsize'] = 15, 6\n",
    "\n",
    "# # plot observed values\n",
    "# ax = log_USA['1950-01-01':].plot(label='observed')\n",
    "\n",
    "# # plot predicted values\n",
    "# pred_log.plot(ax=ax, label='Forecast', alpha=0.9)\n",
    "\n",
    "# # # plot the range for confidence intervals\n",
    "# # ax.fill_between(pred_conf.index,\n",
    "# #                 pred_conf.iloc[:, 0],\n",
    "# #                 pred_conf.iloc[:, 1], color='g', alpha=0.5)\n",
    "\n",
    "# # set axes labels and title\n",
    "# ax.set_xlabel('Year', size=12)\n",
    "# ax.set_ylabel('Logged Tonnes',size=12)\n",
    "# ax.set_title('Real vs Predicted for ARIMA with Logged Data', size=15)\n",
    "\n",
    "# plt.legend()\n",
    "# plt.show()"
   ]
  },
  {
   "cell_type": "markdown",
   "metadata": {},
   "source": [
    "### Try to Further Improve Logged Model"
   ]
  },
  {
   "cell_type": "code",
   "execution_count": null,
   "metadata": {},
   "outputs": [],
   "source": [
    "# Train-Test split (90%)\n",
    "\n",
    "X = log_USA.index\n",
    "y = log_USA['co2_per_capita']\n",
    "\n",
    "train2 = log_USA.loc[:'1997-01-01']\n",
    "test2 = log_USA.loc['1997-01-01':]\n",
    "\n",
    "X_train2, X_test2 = train2.index , test2.index\n",
    "y_train2, y_test2 = train2['co2_per_capita'] , test2['co2_per_capita']\n"
   ]
  },
  {
   "cell_type": "markdown",
   "metadata": {},
   "source": [
    "We tried new ARIMA parameters on the logged data given that the last paramters were determined without the train-test split. Below are the best parameters we encountered, which improved our data."
   ]
  },
  {
   "cell_type": "code",
   "execution_count": null,
   "metadata": {},
   "outputs": [],
   "source": [
    "# Instantiate and fit model to train data\n",
    "mod_log2 = ARIMA(train2[2:], order=(2,0,2)) # p,d,q\n",
    "mod_log2_fit = mod_log2.fit()\n",
    "\n",
    "# Prediction\n",
    "pred_log2 = mod_log2_fit.predict(start='1997-01-01', end='2018-01-01', dynamic=False)\n",
    "\n",
    "print('RMSE score for original log model: ', RMSE(pred_log))\n",
    "print('AIC for original log model:', mod_log_fit.aic)\n",
    "\n",
    "print('RMSE score for new log model: ', RMSE(pred_log2))\n",
    "print('AIC for new log model:', mod_log2_fit.aic)"
   ]
  },
  {
   "cell_type": "code",
   "execution_count": null,
   "metadata": {},
   "outputs": [],
   "source": [
    "# plot real vs predicted values along with confidence interval\n",
    "rcParams['figure.figsize'] = 15, 6\n",
    "\n",
    "# plot observed values\n",
    "ax = log_USA['1800-01-01':].plot(label='observed')\n",
    "\n",
    "# plot predicted values\n",
    "pred_log2.plot(ax=ax, label='Forecast', alpha=0.9)\n",
    "\n",
    "# # plot the range for confidence intervals\n",
    "# ax.fill_between(pred_conf.index,\n",
    "#                 pred_conf.iloc[:, 0],\n",
    "#                 pred_conf.iloc[:, 1], color='g', alpha=0.5)\n",
    "\n",
    "# set axes labels and title\n",
    "ax.set_xlabel('Year', size=12)\n",
    "ax.set_ylabel('Logged Tonnes',size=12)\n",
    "ax.set_title('Real vs Predicted for ARIMA with Logged Data', size=15)\n",
    "\n",
    "plt.legend()\n",
    "plt.show()"
   ]
  },
  {
   "cell_type": "code",
   "execution_count": null,
   "metadata": {},
   "outputs": [],
   "source": [
    "#Uncomment code below to see zoomed-in window of data only from 1950 onward\n",
    "\n",
    "# # plot real vs predicted values along with confidence interval\n",
    "# rcParams['figure.figsize'] = 15, 6\n",
    "\n",
    "# # plot observed values\n",
    "# ax = log_USA['1950-01-01':].plot(label='observed')\n",
    "\n",
    "# # plot predicted values\n",
    "# pred_log2.plot(ax=ax, label='Forecast', alpha=0.9)\n",
    "\n",
    "# # # plot the range for confidence intervals\n",
    "# # ax.fill_between(pred_conf.index,\n",
    "# #                 pred_conf.iloc[:, 0],\n",
    "# #                 pred_conf.iloc[:, 1], color='g', alpha=0.5)\n",
    "\n",
    "# # set axes labels and title\n",
    "# ax.set_xlabel('Year', size=12)\n",
    "# ax.set_ylabel('Logged Tonnes',size=12)\n",
    "# ax.set_title('Real vs Predicted for ARIMA with Logged Data', size=15)\n",
    "\n",
    "# plt.legend()\n",
    "# plt.show()"
   ]
  },
  {
   "cell_type": "markdown",
   "metadata": {},
   "source": [
    "### Exploring best model"
   ]
  },
  {
   "cell_type": "code",
   "execution_count": null,
   "metadata": {
    "ExecuteTime": {
     "end_time": "2021-01-28T22:15:51.238949Z",
     "start_time": "2021-01-28T22:15:50.386616Z"
    },
    "scrolled": false
   },
   "outputs": [],
   "source": [
    "# Visualize residuals/error\n",
    "residuals = pd.DataFrame(mod_log2_fit.resid)\n",
    "residuals.plot()\n",
    "pyplot.show();\n"
   ]
  },
  {
   "cell_type": "code",
   "execution_count": null,
   "metadata": {
    "ExecuteTime": {
     "end_time": "2021-01-28T16:57:33.857208Z",
     "start_time": "2021-01-28T16:57:33.276316Z"
    },
    "scrolled": true
   },
   "outputs": [],
   "source": [
    "# Check for linearity\n",
    "residuals = pd.DataFrame(mod_log2_fit.resid)\n",
    "residuals.plot(kind='kde')\n",
    "pyplot.show()\n"
   ]
  },
  {
   "cell_type": "code",
   "execution_count": null,
   "metadata": {
    "ExecuteTime": {
     "end_time": "2021-01-28T22:16:40.707221Z",
     "start_time": "2021-01-28T22:16:39.955778Z"
    }
   },
   "outputs": [],
   "source": [
    "# Visualize prediction\n",
    "mod_log2_fit.plot_predict();"
   ]
  },
  {
   "cell_type": "code",
   "execution_count": null,
   "metadata": {
    "ExecuteTime": {
     "end_time": "2021-01-28T22:20:31.058804Z",
     "start_time": "2021-01-28T22:20:31.000225Z"
    }
   },
   "outputs": [],
   "source": [
    "mod_log2_fit.forecast()[0] # 0 indicates the very next value the model predicts??\n"
   ]
  },
  {
   "cell_type": "code",
   "execution_count": null,
   "metadata": {},
   "outputs": [],
   "source": [
    "# Convert logged prediction back to original units to compare directly to original data\n",
    "\n",
    "e = 2.71828\n",
    "pred_correctunits = e**(pred_log2)\n",
    "\n",
    "# plot real vs predicted values along with confidence interval\n",
    "rcParams['figure.figsize'] = 15, 6\n",
    "\n",
    "# plot observed values\n",
    "ax = df_USA['1800-01-01':].plot(label='observed')\n",
    "\n",
    "# plot predicted values\n",
    "pred_correctunits.plot(ax=ax, label='Forecast', alpha=0.9)\n",
    "\n",
    "# # plot the range for confidence intervals\n",
    "# ax.fill_between(pred_conf.index,\n",
    "#                 pred_conf.iloc[:, 0],\n",
    "#                 pred_conf.iloc[:, 1], color='g', alpha=0.5)\n",
    "\n",
    "# set axes labels and title\n",
    "ax.set_xlabel('Year', size=12)\n",
    "ax.set_ylabel('Tonnes',size=12)\n",
    "ax.set_title('Real vs Predicted for ARIMA in Tonnes', size=15)\n",
    "\n",
    "plt.legend()\n",
    "plt.show()"
   ]
  },
  {
   "cell_type": "code",
   "execution_count": null,
   "metadata": {},
   "outputs": [],
   "source": [
    "# Look at RMSE and AIC in new units\n",
    "print('RMSE score for original log model: ', RMSE(pred_correctunits))\n",
    "print('AIC for original log model:', mod_log2_fit.aic)"
   ]
  },
  {
   "cell_type": "code",
   "execution_count": null,
   "metadata": {},
   "outputs": [],
   "source": []
  },
  {
   "cell_type": "markdown",
   "metadata": {},
   "source": [
    "### Prediction"
   ]
  },
  {
   "cell_type": "code",
   "execution_count": null,
   "metadata": {
    "ExecuteTime": {
     "end_time": "2021-01-28T22:22:29.627705Z",
     "start_time": "2021-01-28T22:22:29.611484Z"
    }
   },
   "outputs": [],
   "source": [
    "from matplotlib.pylab import rcParams"
   ]
  },
  {
   "cell_type": "code",
   "execution_count": null,
   "metadata": {},
   "outputs": [],
   "source": []
  },
  {
   "cell_type": "code",
   "execution_count": null,
   "metadata": {},
   "outputs": [],
   "source": []
  },
  {
   "cell_type": "code",
   "execution_count": null,
   "metadata": {
    "ExecuteTime": {
     "end_time": "2021-01-28T22:59:04.217849Z",
     "start_time": "2021-01-28T22:59:04.208719Z"
    }
   },
   "outputs": [],
   "source": [
    "#from statsmodels.tsa.arima_model import ARMA"
   ]
  },
  {
   "cell_type": "code",
   "execution_count": null,
   "metadata": {
    "ExecuteTime": {
     "end_time": "2021-01-28T23:40:08.174700Z",
     "start_time": "2021-01-28T23:40:08.135997Z"
    }
   },
   "outputs": [],
   "source": [
    "# pred = log_mod_fit.get_prediction(start='1998-01-01', dynamic=False)\n"
   ]
  },
  {
   "cell_type": "code",
   "execution_count": null,
   "metadata": {
    "ExecuteTime": {
     "end_time": "2021-01-28T23:43:51.831667Z",
     "start_time": "2021-01-28T23:43:51.815722Z"
    }
   },
   "outputs": [],
   "source": [
    "# pred_conf = pred_log.conf_int()"
   ]
  },
  {
   "cell_type": "code",
   "execution_count": null,
   "metadata": {
    "ExecuteTime": {
     "end_time": "2021-01-28T23:43:57.064779Z",
     "start_time": "2021-01-28T23:43:57.056396Z"
    }
   },
   "outputs": [],
   "source": [
    "# pred_log.predicted_mean"
   ]
  },
  {
   "cell_type": "code",
   "execution_count": null,
   "metadata": {},
   "outputs": [],
   "source": [
    "# Get the real and predicted values\n",
    "CO2_forecasted = pred_log.predicted_mean\n",
    "CO2_truth = CO2['1998-01-01':]\n",
    "\n",
    "# Compute the mean square error\n",
    "mse = ((CO2_forecasted - CO2_truth) ** 2).mean()\n",
    "print('The Mean Squared Error of our forecasts is {}'.format(round(mse, 2)))"
   ]
  },
  {
   "cell_type": "code",
   "execution_count": null,
   "metadata": {},
   "outputs": [],
   "source": [
    "## DYNAMIC FORECASTING\n",
    "# Get dynamic predictions with confidence intervals as above \n",
    "pred_dynamic = output.get_prediction(start=pd.to_datetime('1998-01-01'), dynamic=True, full_results=True)\n",
    "pred_dynamic_conf = pred_dynamic.conf_int()"
   ]
  },
  {
   "cell_type": "code",
   "execution_count": null,
   "metadata": {},
   "outputs": [],
   "source": []
  },
  {
   "cell_type": "code",
   "execution_count": null,
   "metadata": {},
   "outputs": [],
   "source": []
  },
  {
   "cell_type": "markdown",
   "metadata": {},
   "source": [
    "### Trying to improve the log model"
   ]
  },
  {
   "cell_type": "code",
   "execution_count": null,
   "metadata": {},
   "outputs": [],
   "source": []
  },
  {
   "cell_type": "code",
   "execution_count": null,
   "metadata": {},
   "outputs": [],
   "source": [
    "e = 2.71828\n",
    "pred_correctunits = e**(pred_log2)\n",
    "\n",
    "# plot real vs predicted values along with confidence interval\n",
    "rcParams['figure.figsize'] = 15, 6\n",
    "\n",
    "# plot observed values\n",
    "ax = df_USA['1800-01-01':].plot(label='observed')\n",
    "\n",
    "# plot predicted values\n",
    "pred_correctunits.plot(ax=ax, label='One-step ahead Forecast', alpha=0.9)\n",
    "\n",
    "# # plot the range for confidence intervals\n",
    "# ax.fill_between(pred_conf.index,\n",
    "#                 pred_conf.iloc[:, 0],\n",
    "#                 pred_conf.iloc[:, 1], color='g', alpha=0.5)\n",
    "\n",
    "# set axes labels and title\n",
    "ax.set_xlabel('Date', size=12)\n",
    "ax.set_ylabel('Crime Levels',size=12)\n",
    "ax.set_title('Real vs Predicted for ARIMA in Tonnes', size=15)\n",
    "\n",
    "plt.legend()\n",
    "plt.show()"
   ]
  },
  {
   "cell_type": "code",
   "execution_count": null,
   "metadata": {},
   "outputs": [],
   "source": []
  },
  {
   "cell_type": "code",
   "execution_count": null,
   "metadata": {},
   "outputs": [],
   "source": []
  },
  {
   "cell_type": "code",
   "execution_count": null,
   "metadata": {},
   "outputs": [],
   "source": []
  },
  {
   "cell_type": "code",
   "execution_count": null,
   "metadata": {},
   "outputs": [],
   "source": []
  },
  {
   "cell_type": "markdown",
   "metadata": {},
   "source": [
    "# Additional Notes"
   ]
  },
  {
   "cell_type": "code",
   "execution_count": null,
   "metadata": {
    "ExecuteTime": {
     "end_time": "2021-01-28T16:57:34.663805Z",
     "start_time": "2021-01-28T16:57:34.644823Z"
    },
    "scrolled": false
   },
   "outputs": [],
   "source": [
    "y_test.diff(1)"
   ]
  },
  {
   "cell_type": "markdown",
   "metadata": {},
   "source": [
    "#### Testing out Auto ARIMA and gridsearch"
   ]
  },
  {
   "cell_type": "code",
   "execution_count": null,
   "metadata": {
    "ExecuteTime": {
     "end_time": "2021-01-28T19:49:25.170547Z",
     "start_time": "2021-01-28T19:49:25.131926Z"
    }
   },
   "outputs": [],
   "source": [
    "# diff.dropna(inplace=True)\n",
    "# diff"
   ]
  },
  {
   "cell_type": "code",
   "execution_count": null,
   "metadata": {
    "ExecuteTime": {
     "end_time": "2021-01-28T19:49:25.939150Z",
     "start_time": "2021-01-28T19:49:25.931033Z"
    },
    "scrolled": true
   },
   "outputs": [],
   "source": [
    "# train = diff.loc[:'1997-01-01'] #data before 1997\n",
    "# valid = diff.loc['1997-01-01':] #data after 1997\n",
    "\n",
    "# #plotting the data\n",
    "# train.plot()\n",
    "# valid.plot()"
   ]
  },
  {
   "cell_type": "code",
   "execution_count": null,
   "metadata": {
    "ExecuteTime": {
     "end_time": "2021-01-28T19:49:28.513567Z",
     "start_time": "2021-01-28T19:49:28.498598Z"
    }
   },
   "outputs": [],
   "source": [
    "#! pip install pyramid-arima"
   ]
  },
  {
   "cell_type": "code",
   "execution_count": null,
   "metadata": {
    "ExecuteTime": {
     "end_time": "2021-01-28T19:49:29.060582Z",
     "start_time": "2021-01-28T19:49:29.056678Z"
    }
   },
   "outputs": [],
   "source": [
    "#from pyramid.arima import auto_arima"
   ]
  },
  {
   "cell_type": "code",
   "execution_count": null,
   "metadata": {
    "ExecuteTime": {
     "end_time": "2021-01-28T19:49:29.592596Z",
     "start_time": "2021-01-28T19:49:29.581545Z"
    }
   },
   "outputs": [],
   "source": [
    "# #building the model\n",
    "# from pyramid.arima import auto_arima\n",
    "# model = auto_arima(train, \n",
    "#                    trace=True, \n",
    "#                    error_action='ignore', \n",
    "#                    suppress_warnings=True)\n",
    "# model.fit(train)\n",
    "\n",
    "# forecast = model.predict(n_periods=len(valid))\n",
    "# forecast = pd.DataFrame(forecast,index = valid.index,columns=['Prediction'])\n",
    "\n",
    "# #plot the predictions for validation set\n",
    "# plt.plot(train, label='Train')\n",
    "# plt.plot(valid, label='Valid')\n",
    "# plt.plot(forecast, label='Prediction')\n",
    "# plt.show()"
   ]
  },
  {
   "cell_type": "code",
   "execution_count": null,
   "metadata": {},
   "outputs": [],
   "source": []
  },
  {
   "cell_type": "code",
   "execution_count": null,
   "metadata": {
    "ExecuteTime": {
     "end_time": "2021-01-28T19:53:40.397923Z",
     "start_time": "2021-01-28T19:53:40.387277Z"
    }
   },
   "outputs": [],
   "source": [
    "# Source link: https://github.com/learn-co-curriculum/dsc-sarima-models-lab/tree/solution\n"
   ]
  },
  {
   "cell_type": "code",
   "execution_count": null,
   "metadata": {
    "ExecuteTime": {
     "end_time": "2021-01-28T20:31:25.531577Z",
     "start_time": "2021-01-28T20:31:25.522428Z"
    }
   },
   "outputs": [],
   "source": [
    "# import itertools\n",
    "\n",
    "# # Define the p, d and q parameters to take any value between 0 and 2\n",
    "# p = d = q = range(0, 5)\n",
    "\n",
    "# # Generate all different combinations of p, q and q triplets\n",
    "# pdq = list(itertools.product(p, d, q))"
   ]
  },
  {
   "cell_type": "code",
   "execution_count": null,
   "metadata": {},
   "outputs": [],
   "source": []
  },
  {
   "cell_type": "code",
   "execution_count": null,
   "metadata": {
    "ExecuteTime": {
     "end_time": "2021-01-28T20:34:41.763655Z",
     "start_time": "2021-01-28T20:34:41.733994Z"
    }
   },
   "outputs": [],
   "source": [
    "# import statsmodels.api as sm\n",
    "\n",
    "# # Run a grid with pdq and seasonal pdq parameters calculated above and get the best AIC value\n",
    "# ans = []\n",
    "# for comb in pdq:\n",
    "#     try:\n",
    "#         mod = sm.tsa.statespace.ARIMA(df_USA,\n",
    "#                                         order=comb,\n",
    "#                                         seasonal_order=combs,\n",
    "#                                         enforce_stationarity=False,\n",
    "#                                         enforce_invertibility=False)\n",
    "\n",
    "#         output = mod.fit()\n",
    "#         ans.append([comb, combs, output.aic])\n",
    "#         print('ARIMA {} x {}12 : AIC Calculated ={}'.format(comb, combs, output.aic))\n",
    "#     except:\n",
    "#         continue"
   ]
  },
  {
   "cell_type": "code",
   "execution_count": null,
   "metadata": {
    "ExecuteTime": {
     "end_time": "2021-01-28T20:35:42.300110Z",
     "start_time": "2021-01-28T20:35:42.284606Z"
    }
   },
   "outputs": [],
   "source": [
    "# import statsmodels.api as sm\n",
    "\n",
    "# # Run a grid with pdq and seasonal pdq parameters calculated above and get the best AIC value\n",
    "# ans = []\n",
    "# for comb in pdq:\n",
    "#     try:\n",
    "#         mod = sm.tsa.arima.model.ARIMA(df_USA,\n",
    "#                                         order=comb,\n",
    "#                                         enforce_stationarity=False,\n",
    "#                                         enforce_invertibility=False)\n",
    "\n",
    "#         output = mod.fit()\n",
    "#         ans.append([comb, combs, output.aic])\n",
    "#         print('ARIMA {} x {}12 : AIC Calculated ={}'.format(comb, combs, output.aic))\n",
    "#     except:\n",
    "#         continue"
   ]
  },
  {
   "cell_type": "code",
   "execution_count": null,
   "metadata": {
    "ExecuteTime": {
     "end_time": "2021-01-28T22:09:08.461536Z",
     "start_time": "2021-01-28T22:09:08.454967Z"
    }
   },
   "outputs": [],
   "source": [
    "# # Find the parameters with minimal AIC value\n",
    "# ans_df = pd.DataFrame(ans, columns=['pdq', 'aic'])\n",
    "# ans_df.loc[ans_df['aic'].idxmin()]"
   ]
  },
  {
   "cell_type": "code",
   "execution_count": null,
   "metadata": {
    "ExecuteTime": {
     "end_time": "2021-01-28T20:03:04.968714Z",
     "start_time": "2021-01-28T20:03:04.934443Z"
    }
   },
   "outputs": [],
   "source": [
    "# # define the p, d and q parameters to take any value between 0 and 2\n",
    "# p = q = d range(1, 6)\n",
    "\n",
    "# # generate all different combinations of p, q and q triplets\n",
    "# pqd = list(itertools.product(p, d, q))"
   ]
  },
  {
   "cell_type": "code",
   "execution_count": null,
   "metadata": {
    "ExecuteTime": {
     "end_time": "2021-01-28T20:05:26.380262Z",
     "start_time": "2021-01-28T20:05:26.355982Z"
    }
   },
   "outputs": [],
   "source": [
    "# # run a grid with pdq and seasonal pdq parameters calculated above and get the best AIC value\n",
    "# ans = []\n",
    "# for comb in pqd:\n",
    "#     try:\n",
    "#         mod = ARMA(y_train, order=comb)\n",
    "#         output = mod.fit()\n",
    "#         ans.append([comb, output.aic])\n",
    "#         print('ARMA {} : AIC Calculated ={}'.format(comb,output.aic))\n",
    "#     except:\n",
    "#         continue"
   ]
  },
  {
   "cell_type": "markdown",
   "metadata": {},
   "source": [
    "**Tuesday**\n",
    "\n",
    "-Initial time series model (check for stationarity/trends, fix if not)--top 10 countries (not per capita)\n",
    "\n",
    "-Vizualizations for top 10 countries per capita\n",
    "\n",
    "**Wednesday**\n",
    "\n",
    "-Fix whatever needs fixing\n",
    "\n",
    "-Other EDA/visualizations\n",
    "\n",
    "-Tune final model\n",
    "\n",
    "**Thursday**\n",
    "\n",
    "-Tune final model (if not done by Wed)\n",
    "\n",
    "-Create Read Me, PPT presentation\n",
    "\n",
    "-Clean up code\n",
    "\n",
    "-Practice presentation\n",
    "\n",
    "**Stretch Goals**\n",
    "\n",
    "-Research peaks and valleys historically\n",
    "\n",
    "-Compare to world emissions\n"
   ]
  }
 ],
 "metadata": {
  "kernelspec": {
   "display_name": "learn-env",
   "language": "python",
   "name": "learn-env"
  },
  "language_info": {
   "codemirror_mode": {
    "name": "ipython",
    "version": 3
   },
   "file_extension": ".py",
   "mimetype": "text/x-python",
   "name": "python",
   "nbconvert_exporter": "python",
   "pygments_lexer": "ipython3",
   "version": "3.8.3"
  },
  "toc": {
   "base_numbering": 1,
   "nav_menu": {},
   "number_sections": true,
   "sideBar": true,
   "skip_h1_title": false,
   "title_cell": "Table of Contents",
   "title_sidebar": "Contents",
   "toc_cell": false,
   "toc_position": {},
   "toc_section_display": true,
   "toc_window_display": false
  }
 },
 "nbformat": 4,
 "nbformat_minor": 4
}
