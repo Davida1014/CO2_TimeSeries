{
 "cells": [
  {
   "cell_type": "markdown",
   "metadata": {},
   "source": [
    "# Data Cleaning"
   ]
  },
  {
   "cell_type": "code",
   "execution_count": 1,
   "metadata": {
    "ExecuteTime": {
     "end_time": "2021-01-31T03:26:19.941695Z",
     "start_time": "2021-01-31T03:26:14.453841Z"
    }
   },
   "outputs": [],
   "source": [
    "# Import necessary libraries and packages\n",
    "import pandas as pd\n",
    "import numpy as np\n",
    "from matplotlib import pyplot\n",
    "import warnings\n",
    "import matplotlib.pyplot as plt\n",
    "from statsmodels.tsa.stattools import adfuller\n",
    "from math import exp\n",
    "from numpy import log\n",
    "from statsmodels.graphics.tsaplots import plot_acf\n",
    "from statsmodels.graphics.tsaplots import plot_pacf\n",
    "from statsmodels.tsa.arima_model import ARIMA\n",
    "from statsmodels.tsa.arima_model import ARMA\n",
    "import statsmodels.api as sm\n",
    "from matplotlib.pylab import rcParams\n",
    "\n",
    "import plotly.express as px\n",
    "import plotly.io as pio\n",
    "\n",
    "# Preferred settings\n",
    "warnings.filterwarnings('ignore')\n",
    "pd.set_option('display.max_columns', 100)"
   ]
  },
  {
   "cell_type": "code",
   "execution_count": 2,
   "metadata": {
    "ExecuteTime": {
     "end_time": "2021-01-31T04:14:01.700779Z",
     "start_time": "2021-01-31T04:14:01.446438Z"
    },
    "scrolled": false
   },
   "outputs": [
    {
     "name": "stdout",
     "output_type": "stream",
     "text": [
      "(24016, 38)\n"
     ]
    },
    {
     "data": {
      "text/html": [
       "<div>\n",
       "<style scoped>\n",
       "    .dataframe tbody tr th:only-of-type {\n",
       "        vertical-align: middle;\n",
       "    }\n",
       "\n",
       "    .dataframe tbody tr th {\n",
       "        vertical-align: top;\n",
       "    }\n",
       "\n",
       "    .dataframe thead th {\n",
       "        text-align: right;\n",
       "    }\n",
       "</style>\n",
       "<table border=\"1\" class=\"dataframe\">\n",
       "  <thead>\n",
       "    <tr style=\"text-align: right;\">\n",
       "      <th></th>\n",
       "      <th>iso_code</th>\n",
       "      <th>country</th>\n",
       "      <th>year</th>\n",
       "      <th>co2</th>\n",
       "      <th>co2_growth_prct</th>\n",
       "      <th>co2_growth_abs</th>\n",
       "      <th>consumption_co2</th>\n",
       "      <th>trade_co2</th>\n",
       "      <th>trade_co2_share</th>\n",
       "      <th>co2_per_capita</th>\n",
       "      <th>consumption_co2_per_capita</th>\n",
       "      <th>share_global_co2</th>\n",
       "      <th>cumulative_co2</th>\n",
       "      <th>share_global_cumulative_co2</th>\n",
       "      <th>co2_per_gdp</th>\n",
       "      <th>consumption_co2_per_gdp</th>\n",
       "      <th>co2_per_unit_energy</th>\n",
       "      <th>cement_co2</th>\n",
       "      <th>coal_co2</th>\n",
       "      <th>flaring_co2</th>\n",
       "      <th>gas_co2</th>\n",
       "      <th>oil_co2</th>\n",
       "      <th>cement_co2_per_capita</th>\n",
       "      <th>coal_co2_per_capita</th>\n",
       "      <th>flaring_co2_per_capita</th>\n",
       "      <th>gas_co2_per_capita</th>\n",
       "      <th>oil_co2_per_capita</th>\n",
       "      <th>total_ghg</th>\n",
       "      <th>ghg_per_capita</th>\n",
       "      <th>methane</th>\n",
       "      <th>methane_per_capita</th>\n",
       "      <th>nitrous_oxide</th>\n",
       "      <th>nitrous_oxide_per_capita</th>\n",
       "      <th>primary_energy_consumption</th>\n",
       "      <th>energy_per_capita</th>\n",
       "      <th>energy_per_gdp</th>\n",
       "      <th>population</th>\n",
       "      <th>gdp</th>\n",
       "    </tr>\n",
       "  </thead>\n",
       "  <tbody>\n",
       "    <tr>\n",
       "      <th>0</th>\n",
       "      <td>AFG</td>\n",
       "      <td>Afghanistan</td>\n",
       "      <td>1949</td>\n",
       "      <td>0.015</td>\n",
       "      <td>NaN</td>\n",
       "      <td>NaN</td>\n",
       "      <td>NaN</td>\n",
       "      <td>NaN</td>\n",
       "      <td>NaN</td>\n",
       "      <td>0.002</td>\n",
       "      <td>NaN</td>\n",
       "      <td>0.000</td>\n",
       "      <td>0.015</td>\n",
       "      <td>0.000</td>\n",
       "      <td>NaN</td>\n",
       "      <td>NaN</td>\n",
       "      <td>NaN</td>\n",
       "      <td>0.0</td>\n",
       "      <td>0.015</td>\n",
       "      <td>0.0</td>\n",
       "      <td>0.0</td>\n",
       "      <td>0.000</td>\n",
       "      <td>0.0</td>\n",
       "      <td>0.002</td>\n",
       "      <td>0.0</td>\n",
       "      <td>0.0</td>\n",
       "      <td>0.000</td>\n",
       "      <td>NaN</td>\n",
       "      <td>NaN</td>\n",
       "      <td>NaN</td>\n",
       "      <td>NaN</td>\n",
       "      <td>NaN</td>\n",
       "      <td>NaN</td>\n",
       "      <td>NaN</td>\n",
       "      <td>NaN</td>\n",
       "      <td>NaN</td>\n",
       "      <td>7663783.0</td>\n",
       "      <td>NaN</td>\n",
       "    </tr>\n",
       "    <tr>\n",
       "      <th>1</th>\n",
       "      <td>AFG</td>\n",
       "      <td>Afghanistan</td>\n",
       "      <td>1950</td>\n",
       "      <td>0.084</td>\n",
       "      <td>475.000</td>\n",
       "      <td>0.070</td>\n",
       "      <td>NaN</td>\n",
       "      <td>NaN</td>\n",
       "      <td>NaN</td>\n",
       "      <td>0.011</td>\n",
       "      <td>NaN</td>\n",
       "      <td>0.001</td>\n",
       "      <td>0.099</td>\n",
       "      <td>0.001</td>\n",
       "      <td>0.004</td>\n",
       "      <td>NaN</td>\n",
       "      <td>NaN</td>\n",
       "      <td>0.0</td>\n",
       "      <td>0.022</td>\n",
       "      <td>0.0</td>\n",
       "      <td>0.0</td>\n",
       "      <td>0.066</td>\n",
       "      <td>0.0</td>\n",
       "      <td>0.003</td>\n",
       "      <td>0.0</td>\n",
       "      <td>0.0</td>\n",
       "      <td>0.009</td>\n",
       "      <td>NaN</td>\n",
       "      <td>NaN</td>\n",
       "      <td>NaN</td>\n",
       "      <td>NaN</td>\n",
       "      <td>NaN</td>\n",
       "      <td>NaN</td>\n",
       "      <td>NaN</td>\n",
       "      <td>NaN</td>\n",
       "      <td>NaN</td>\n",
       "      <td>7752000.0</td>\n",
       "      <td>1.949480e+10</td>\n",
       "    </tr>\n",
       "    <tr>\n",
       "      <th>2</th>\n",
       "      <td>AFG</td>\n",
       "      <td>Afghanistan</td>\n",
       "      <td>1951</td>\n",
       "      <td>0.092</td>\n",
       "      <td>8.696</td>\n",
       "      <td>0.007</td>\n",
       "      <td>NaN</td>\n",
       "      <td>NaN</td>\n",
       "      <td>NaN</td>\n",
       "      <td>0.012</td>\n",
       "      <td>NaN</td>\n",
       "      <td>0.001</td>\n",
       "      <td>0.191</td>\n",
       "      <td>0.001</td>\n",
       "      <td>0.005</td>\n",
       "      <td>NaN</td>\n",
       "      <td>NaN</td>\n",
       "      <td>0.0</td>\n",
       "      <td>0.026</td>\n",
       "      <td>0.0</td>\n",
       "      <td>0.0</td>\n",
       "      <td>0.066</td>\n",
       "      <td>0.0</td>\n",
       "      <td>0.003</td>\n",
       "      <td>0.0</td>\n",
       "      <td>0.0</td>\n",
       "      <td>0.008</td>\n",
       "      <td>NaN</td>\n",
       "      <td>NaN</td>\n",
       "      <td>NaN</td>\n",
       "      <td>NaN</td>\n",
       "      <td>NaN</td>\n",
       "      <td>NaN</td>\n",
       "      <td>NaN</td>\n",
       "      <td>NaN</td>\n",
       "      <td>NaN</td>\n",
       "      <td>7840000.0</td>\n",
       "      <td>2.006385e+10</td>\n",
       "    </tr>\n",
       "    <tr>\n",
       "      <th>3</th>\n",
       "      <td>AFG</td>\n",
       "      <td>Afghanistan</td>\n",
       "      <td>1952</td>\n",
       "      <td>0.092</td>\n",
       "      <td>0.000</td>\n",
       "      <td>0.000</td>\n",
       "      <td>NaN</td>\n",
       "      <td>NaN</td>\n",
       "      <td>NaN</td>\n",
       "      <td>0.012</td>\n",
       "      <td>NaN</td>\n",
       "      <td>0.001</td>\n",
       "      <td>0.282</td>\n",
       "      <td>0.001</td>\n",
       "      <td>0.004</td>\n",
       "      <td>NaN</td>\n",
       "      <td>NaN</td>\n",
       "      <td>0.0</td>\n",
       "      <td>0.033</td>\n",
       "      <td>0.0</td>\n",
       "      <td>0.0</td>\n",
       "      <td>0.062</td>\n",
       "      <td>0.0</td>\n",
       "      <td>0.004</td>\n",
       "      <td>0.0</td>\n",
       "      <td>0.0</td>\n",
       "      <td>0.008</td>\n",
       "      <td>NaN</td>\n",
       "      <td>NaN</td>\n",
       "      <td>NaN</td>\n",
       "      <td>NaN</td>\n",
       "      <td>NaN</td>\n",
       "      <td>NaN</td>\n",
       "      <td>NaN</td>\n",
       "      <td>NaN</td>\n",
       "      <td>NaN</td>\n",
       "      <td>7936000.0</td>\n",
       "      <td>2.074235e+10</td>\n",
       "    </tr>\n",
       "    <tr>\n",
       "      <th>4</th>\n",
       "      <td>AFG</td>\n",
       "      <td>Afghanistan</td>\n",
       "      <td>1953</td>\n",
       "      <td>0.106</td>\n",
       "      <td>16.000</td>\n",
       "      <td>0.015</td>\n",
       "      <td>NaN</td>\n",
       "      <td>NaN</td>\n",
       "      <td>NaN</td>\n",
       "      <td>0.013</td>\n",
       "      <td>NaN</td>\n",
       "      <td>0.002</td>\n",
       "      <td>0.388</td>\n",
       "      <td>0.001</td>\n",
       "      <td>0.005</td>\n",
       "      <td>NaN</td>\n",
       "      <td>NaN</td>\n",
       "      <td>0.0</td>\n",
       "      <td>0.037</td>\n",
       "      <td>0.0</td>\n",
       "      <td>0.0</td>\n",
       "      <td>0.066</td>\n",
       "      <td>0.0</td>\n",
       "      <td>0.005</td>\n",
       "      <td>0.0</td>\n",
       "      <td>0.0</td>\n",
       "      <td>0.008</td>\n",
       "      <td>NaN</td>\n",
       "      <td>NaN</td>\n",
       "      <td>NaN</td>\n",
       "      <td>NaN</td>\n",
       "      <td>NaN</td>\n",
       "      <td>NaN</td>\n",
       "      <td>NaN</td>\n",
       "      <td>NaN</td>\n",
       "      <td>NaN</td>\n",
       "      <td>8040000.0</td>\n",
       "      <td>2.201546e+10</td>\n",
       "    </tr>\n",
       "  </tbody>\n",
       "</table>\n",
       "</div>"
      ],
      "text/plain": [
       "  iso_code      country  year    co2  co2_growth_prct  co2_growth_abs  \\\n",
       "0      AFG  Afghanistan  1949  0.015              NaN             NaN   \n",
       "1      AFG  Afghanistan  1950  0.084          475.000           0.070   \n",
       "2      AFG  Afghanistan  1951  0.092            8.696           0.007   \n",
       "3      AFG  Afghanistan  1952  0.092            0.000           0.000   \n",
       "4      AFG  Afghanistan  1953  0.106           16.000           0.015   \n",
       "\n",
       "   consumption_co2  trade_co2  trade_co2_share  co2_per_capita  \\\n",
       "0              NaN        NaN              NaN           0.002   \n",
       "1              NaN        NaN              NaN           0.011   \n",
       "2              NaN        NaN              NaN           0.012   \n",
       "3              NaN        NaN              NaN           0.012   \n",
       "4              NaN        NaN              NaN           0.013   \n",
       "\n",
       "   consumption_co2_per_capita  share_global_co2  cumulative_co2  \\\n",
       "0                         NaN             0.000           0.015   \n",
       "1                         NaN             0.001           0.099   \n",
       "2                         NaN             0.001           0.191   \n",
       "3                         NaN             0.001           0.282   \n",
       "4                         NaN             0.002           0.388   \n",
       "\n",
       "   share_global_cumulative_co2  co2_per_gdp  consumption_co2_per_gdp  \\\n",
       "0                        0.000          NaN                      NaN   \n",
       "1                        0.001        0.004                      NaN   \n",
       "2                        0.001        0.005                      NaN   \n",
       "3                        0.001        0.004                      NaN   \n",
       "4                        0.001        0.005                      NaN   \n",
       "\n",
       "   co2_per_unit_energy  cement_co2  coal_co2  flaring_co2  gas_co2  oil_co2  \\\n",
       "0                  NaN         0.0     0.015          0.0      0.0    0.000   \n",
       "1                  NaN         0.0     0.022          0.0      0.0    0.066   \n",
       "2                  NaN         0.0     0.026          0.0      0.0    0.066   \n",
       "3                  NaN         0.0     0.033          0.0      0.0    0.062   \n",
       "4                  NaN         0.0     0.037          0.0      0.0    0.066   \n",
       "\n",
       "   cement_co2_per_capita  coal_co2_per_capita  flaring_co2_per_capita  \\\n",
       "0                    0.0                0.002                     0.0   \n",
       "1                    0.0                0.003                     0.0   \n",
       "2                    0.0                0.003                     0.0   \n",
       "3                    0.0                0.004                     0.0   \n",
       "4                    0.0                0.005                     0.0   \n",
       "\n",
       "   gas_co2_per_capita  oil_co2_per_capita  total_ghg  ghg_per_capita  methane  \\\n",
       "0                 0.0               0.000        NaN             NaN      NaN   \n",
       "1                 0.0               0.009        NaN             NaN      NaN   \n",
       "2                 0.0               0.008        NaN             NaN      NaN   \n",
       "3                 0.0               0.008        NaN             NaN      NaN   \n",
       "4                 0.0               0.008        NaN             NaN      NaN   \n",
       "\n",
       "   methane_per_capita  nitrous_oxide  nitrous_oxide_per_capita  \\\n",
       "0                 NaN            NaN                       NaN   \n",
       "1                 NaN            NaN                       NaN   \n",
       "2                 NaN            NaN                       NaN   \n",
       "3                 NaN            NaN                       NaN   \n",
       "4                 NaN            NaN                       NaN   \n",
       "\n",
       "   primary_energy_consumption  energy_per_capita  energy_per_gdp  population  \\\n",
       "0                         NaN                NaN             NaN   7663783.0   \n",
       "1                         NaN                NaN             NaN   7752000.0   \n",
       "2                         NaN                NaN             NaN   7840000.0   \n",
       "3                         NaN                NaN             NaN   7936000.0   \n",
       "4                         NaN                NaN             NaN   8040000.0   \n",
       "\n",
       "            gdp  \n",
       "0           NaN  \n",
       "1  1.949480e+10  \n",
       "2  2.006385e+10  \n",
       "3  2.074235e+10  \n",
       "4  2.201546e+10  "
      ]
     },
     "execution_count": 2,
     "metadata": {},
     "output_type": "execute_result"
    }
   ],
   "source": [
    "# Import data \n",
    "data = pd.read_csv('data/owid-co2-data.csv')\n",
    "df = data\n",
    "\n",
    "# Observe data shape and head\n",
    "print(df.shape)\n",
    "df.head()"
   ]
  },
  {
   "cell_type": "code",
   "execution_count": 3,
   "metadata": {
    "ExecuteTime": {
     "end_time": "2021-01-31T04:14:02.645540Z",
     "start_time": "2021-01-31T04:14:02.621154Z"
    }
   },
   "outputs": [
    {
     "data": {
      "text/plain": [
       "(16008, 38)"
      ]
     },
     "execution_count": 3,
     "metadata": {},
     "output_type": "execute_result"
    }
   ],
   "source": [
    "# Only include data from 1950 and later\n",
    "df = df[df['year']>=1950]\n",
    "\n",
    "# Observe new df shape\n",
    "df.shape"
   ]
  },
  {
   "cell_type": "code",
   "execution_count": 4,
   "metadata": {
    "ExecuteTime": {
     "end_time": "2021-01-31T04:14:03.316711Z",
     "start_time": "2021-01-31T04:14:03.274792Z"
    }
   },
   "outputs": [
    {
     "data": {
      "text/plain": [
       "(14404, 19)"
      ]
     },
     "execution_count": 4,
     "metadata": {},
     "output_type": "execute_result"
    }
   ],
   "source": [
    "# Drop columns with >8K null values (50% of data)\n",
    "df.dropna(axis=1,thresh=8000, inplace=True)\n",
    "\n",
    "#Drop continents, identified by lacking an ISO code\n",
    "df.dropna(axis=0,subset=['iso_code'],inplace=True)\n",
    "\n",
    "#Drop \"World\" entries\n",
    "df = df[df.country != 'World']\n",
    "\n",
    "#Observe new df shape\n",
    "df.shape"
   ]
  },
  {
   "cell_type": "markdown",
   "metadata": {},
   "source": [
    "# Exploratory Data Analysis (EDA)"
   ]
  },
  {
   "cell_type": "code",
   "execution_count": 5,
   "metadata": {
    "ExecuteTime": {
     "end_time": "2021-01-31T04:14:07.021828Z",
     "start_time": "2021-01-31T04:14:06.975670Z"
    }
   },
   "outputs": [
    {
     "data": {
      "text/html": [
       "<div>\n",
       "<style scoped>\n",
       "    .dataframe tbody tr th:only-of-type {\n",
       "        vertical-align: middle;\n",
       "    }\n",
       "\n",
       "    .dataframe tbody tr th {\n",
       "        vertical-align: top;\n",
       "    }\n",
       "\n",
       "    .dataframe thead th {\n",
       "        text-align: right;\n",
       "    }\n",
       "</style>\n",
       "<table border=\"1\" class=\"dataframe\">\n",
       "  <thead>\n",
       "    <tr style=\"text-align: right;\">\n",
       "      <th></th>\n",
       "      <th>co2</th>\n",
       "    </tr>\n",
       "    <tr>\n",
       "      <th>year</th>\n",
       "      <th></th>\n",
       "    </tr>\n",
       "  </thead>\n",
       "  <tbody>\n",
       "    <tr>\n",
       "      <th>1800-01-01</th>\n",
       "      <td>0.253</td>\n",
       "    </tr>\n",
       "    <tr>\n",
       "      <th>1801-01-01</th>\n",
       "      <td>0.267</td>\n",
       "    </tr>\n",
       "    <tr>\n",
       "      <th>1802-01-01</th>\n",
       "      <td>0.289</td>\n",
       "    </tr>\n",
       "    <tr>\n",
       "      <th>1803-01-01</th>\n",
       "      <td>0.297</td>\n",
       "    </tr>\n",
       "    <tr>\n",
       "      <th>1804-01-01</th>\n",
       "      <td>0.333</td>\n",
       "    </tr>\n",
       "  </tbody>\n",
       "</table>\n",
       "</div>"
      ],
      "text/plain": [
       "              co2\n",
       "year             \n",
       "1800-01-01  0.253\n",
       "1801-01-01  0.267\n",
       "1802-01-01  0.289\n",
       "1803-01-01  0.297\n",
       "1804-01-01  0.333"
      ]
     },
     "execution_count": 5,
     "metadata": {},
     "output_type": "execute_result"
    }
   ],
   "source": [
    "df_usa = data[data['country'] == 'United States']\n",
    "df_usa = df_usa[df_usa['year'] >= 1800]\n",
    "df_usa = df_usa[['year','co2']]\n",
    "df_usa.set_index('year', inplace=True)\n",
    "\n",
    "# Convert year to DateTime object\n",
    "df_usa.index = pd.to_datetime(df_usa.index,format='%Y')\n",
    "\n",
    "df_usa.head()"
   ]
  },
  {
   "cell_type": "code",
   "execution_count": 6,
   "metadata": {
    "ExecuteTime": {
     "end_time": "2021-01-31T03:26:31.857159Z",
     "start_time": "2021-01-31T03:26:31.801763Z"
    }
   },
   "outputs": [
    {
     "data": {
      "text/html": [
       "<div>\n",
       "<style scoped>\n",
       "    .dataframe tbody tr th:only-of-type {\n",
       "        vertical-align: middle;\n",
       "    }\n",
       "\n",
       "    .dataframe tbody tr th {\n",
       "        vertical-align: top;\n",
       "    }\n",
       "\n",
       "    .dataframe thead th {\n",
       "        text-align: right;\n",
       "    }\n",
       "</style>\n",
       "<table border=\"1\" class=\"dataframe\">\n",
       "  <thead>\n",
       "    <tr style=\"text-align: right;\">\n",
       "      <th></th>\n",
       "      <th>co2</th>\n",
       "    </tr>\n",
       "    <tr>\n",
       "      <th>year</th>\n",
       "      <th></th>\n",
       "    </tr>\n",
       "  </thead>\n",
       "  <tbody>\n",
       "    <tr>\n",
       "      <th>1800-01-01</th>\n",
       "      <td>28.092</td>\n",
       "    </tr>\n",
       "    <tr>\n",
       "      <th>1801-01-01</th>\n",
       "      <td>27.960</td>\n",
       "    </tr>\n",
       "    <tr>\n",
       "      <th>1802-01-01</th>\n",
       "      <td>36.783</td>\n",
       "    </tr>\n",
       "    <tr>\n",
       "      <th>1803-01-01</th>\n",
       "      <td>31.488</td>\n",
       "    </tr>\n",
       "    <tr>\n",
       "      <th>1804-01-01</th>\n",
       "      <td>34.310</td>\n",
       "    </tr>\n",
       "  </tbody>\n",
       "</table>\n",
       "</div>"
      ],
      "text/plain": [
       "               co2\n",
       "year              \n",
       "1800-01-01  28.092\n",
       "1801-01-01  27.960\n",
       "1802-01-01  36.783\n",
       "1803-01-01  31.488\n",
       "1804-01-01  34.310"
      ]
     },
     "execution_count": 6,
     "metadata": {},
     "output_type": "execute_result"
    }
   ],
   "source": [
    "## EDIT\n",
    "df_world = data[data['country'] == 'World']\n",
    "df_world = df_world[df_world['year'] >= 1800]\n",
    "df_world = df_world[['year','co2']]\n",
    "df_world.set_index('year', inplace=True)\n",
    "\n",
    "# Convert year to DateTime object\n",
    "df_world.index = pd.to_datetime(df_world.index,format='%Y')\n",
    "\n",
    "df_world.head()"
   ]
  },
  {
   "cell_type": "code",
   "execution_count": 7,
   "metadata": {
    "ExecuteTime": {
     "end_time": "2021-01-31T05:06:41.497306Z",
     "start_time": "2021-01-31T05:06:41.435905Z"
    }
   },
   "outputs": [],
   "source": [
    "## EDIT\n",
    "df_china = data[data['country'] == 'China']\n",
    "df_china = df_china[df_china['year'] >= 1800]\n",
    "df_china = df_china[['year','co2']]\n",
    "df_china.set_index('year', inplace=True)\n",
    "\n",
    "# Convert year to DateTime object\n",
    "df_china.index = pd.to_datetime(df_china.index,format='%Y')"
   ]
  },
  {
   "cell_type": "code",
   "execution_count": 8,
   "metadata": {
    "ExecuteTime": {
     "end_time": "2021-01-31T05:19:51.559607Z",
     "start_time": "2021-01-31T05:19:51.469752Z"
    }
   },
   "outputs": [],
   "source": [
    "## EDIT\n",
    "df_russia = data[data['country'] == 'Russia']\n",
    "df_russia = df_russia[df_russia['year'] >= 1800]\n",
    "df_russia = df_russia[['year','co2']]\n",
    "df_russia.set_index('year', inplace=True)\n",
    "\n",
    "# Convert year to DateTime object\n",
    "df_russia.index = pd.to_datetime(df_russia.index,format='%Y')\n"
   ]
  },
  {
   "cell_type": "code",
   "execution_count": 9,
   "metadata": {},
   "outputs": [
    {
     "ename": "NameError",
     "evalue": "name 'lst_top5' is not defined",
     "output_type": "error",
     "traceback": [
      "\u001b[0;31m---------------------------------------------------------------------------\u001b[0m",
      "\u001b[0;31mNameError\u001b[0m                                 Traceback (most recent call last)",
      "\u001b[0;32m<ipython-input-9-34230ece3006>\u001b[0m in \u001b[0;36m<module>\u001b[0;34m\u001b[0m\n\u001b[1;32m      1\u001b[0m \u001b[0mlst_top5\u001b[0m\u001b[0;34m:\u001b[0m \u001b[0;34m[\u001b[0m\u001b[0;34m'United States'\u001b[0m\u001b[0;34m,\u001b[0m \u001b[0;34m'China'\u001b[0m\u001b[0;34m,\u001b[0m \u001b[0;34m'Russia'\u001b[0m\u001b[0;34m]\u001b[0m\u001b[0;34m\u001b[0m\u001b[0;34m\u001b[0m\u001b[0m\n\u001b[0;32m----> 2\u001b[0;31m \u001b[0;32mfor\u001b[0m \u001b[0mcountry\u001b[0m \u001b[0;32min\u001b[0m \u001b[0mrange\u001b[0m\u001b[0;34m(\u001b[0m\u001b[0mlst_top5\u001b[0m\u001b[0;34m)\u001b[0m \u001b[0;34m(\u001b[0m\u001b[0mcountry\u001b[0m\u001b[0;34m,\u001b[0m \u001b[0;34m)\u001b[0m\u001b[0;34m:\u001b[0m\u001b[0;34m\u001b[0m\u001b[0;34m\u001b[0m\u001b[0m\n\u001b[0m\u001b[1;32m      3\u001b[0m     \u001b[0mdf_china\u001b[0m \u001b[0;34m=\u001b[0m \u001b[0mdata\u001b[0m\u001b[0;34m[\u001b[0m\u001b[0mdata\u001b[0m\u001b[0;34m[\u001b[0m\u001b[0;34m'country'\u001b[0m\u001b[0;34m]\u001b[0m \u001b[0;34m==\u001b[0m \u001b[0;34m'China'\u001b[0m\u001b[0;34m]\u001b[0m\u001b[0;34m\u001b[0m\u001b[0;34m\u001b[0m\u001b[0m\n\u001b[1;32m      4\u001b[0m     \u001b[0mdf_china\u001b[0m \u001b[0;34m=\u001b[0m \u001b[0mdf_china\u001b[0m\u001b[0;34m[\u001b[0m\u001b[0mdf_china\u001b[0m\u001b[0;34m[\u001b[0m\u001b[0;34m'year'\u001b[0m\u001b[0;34m]\u001b[0m \u001b[0;34m>=\u001b[0m \u001b[0;36m1800\u001b[0m\u001b[0;34m]\u001b[0m\u001b[0;34m\u001b[0m\u001b[0;34m\u001b[0m\u001b[0m\n\u001b[1;32m      5\u001b[0m     \u001b[0mdf_china\u001b[0m \u001b[0;34m=\u001b[0m \u001b[0mdf_china\u001b[0m\u001b[0;34m[\u001b[0m\u001b[0;34m[\u001b[0m\u001b[0;34m'year'\u001b[0m\u001b[0;34m,\u001b[0m\u001b[0;34m'co2'\u001b[0m\u001b[0;34m]\u001b[0m\u001b[0;34m]\u001b[0m\u001b[0;34m\u001b[0m\u001b[0;34m\u001b[0m\u001b[0m\n",
      "\u001b[0;31mNameError\u001b[0m: name 'lst_top5' is not defined"
     ]
    }
   ],
   "source": [
    "lst_top5: ['United States', 'China', 'Russia']\n",
    "for country in range(lst_top5) (country, ):\n",
    "    df_china = data[data['country'] == 'China']\n",
    "    df_china = df_china[df_china['year'] >= 1800]\n",
    "    df_china = df_china[['year','co2']]\n",
    "    df_china.set_index('year', inplace=True)\n",
    "\n",
    "# Convert year to DateTime object\n",
    "df_china.index = pd.to_datetime(df_china.index,format='%Y')"
   ]
  },
  {
   "cell_type": "code",
   "execution_count": null,
   "metadata": {
    "ExecuteTime": {
     "end_time": "2021-01-31T03:57:44.656395Z",
     "start_time": "2021-01-31T03:57:43.938433Z"
    }
   },
   "outputs": [],
   "source": [
    "import plotly.graph_objects as go\n",
    "\n",
    "fig = go.Figure()\n",
    "\n",
    "# Create scatter trace of text labels\n",
    "fig.add_trace(go.Scatter(\n",
    "    x=[2, 3.5, 6],\n",
    "    y=[1, 1.5, 1],\n",
    "    text=[\"Vertical Line\",\n",
    "          \"Horizontal Dashed Line\",\n",
    "          \"Diagonal dotted Line\"],\n",
    "    mode=\"text\",\n",
    "))\n",
    "\n",
    "# Set axes ranges\n",
    "fig.update_xaxes(range=[0, 7])\n",
    "fig.update_yaxes(range=[0, 2.5])"
   ]
  },
  {
   "cell_type": "code",
   "execution_count": null,
   "metadata": {},
   "outputs": [],
   "source": [
    "# Add lines\n",
    "# vertical solid\n",
    "fig.add_shape(type=\"line\",\n",
    "    x0=1, y0=0, x1=1, y1=2,\n",
    "    line=dict(color=\"RoyalBlue\",width=3)\n",
    ")\n",
    "\n",
    "# horizontal dashed line\n",
    "fig.add_shape(type=\"line\",\n",
    "    x0=2, y0=2, x1=5, y1=2,\n",
    "    line=dict(\n",
    "        color=\"LightSeaGreen\",\n",
    "        width=4,\n",
    "        dash=\"dashdot\",\n",
    "    )\n",
    ")\n",
    "\n",
    "#diagonal dotted\n",
    "fig.add_shape(type=\"line\",\n",
    "    x0=4, y0=0, x1=6, y1=2,\n",
    "    line=dict(\n",
    "        color=\"MediumPurple\",\n",
    "        width=4,\n",
    "        dash=\"dot\",\n",
    "    )\n",
    ")\n",
    "fig.update_shapes(dict(xref='x', yref='y'))\n",
    "fig.show()"
   ]
  },
  {
   "cell_type": "code",
   "execution_count": null,
   "metadata": {},
   "outputs": [],
   "source": []
  },
  {
   "cell_type": "code",
   "execution_count": null,
   "metadata": {},
   "outputs": [],
   "source": [
    "lst_top10"
   ]
  },
  {
   "cell_type": "code",
   "execution_count": null,
   "metadata": {
    "ExecuteTime": {
     "end_time": "2021-01-31T05:20:32.992976Z",
     "start_time": "2021-01-31T05:20:32.626183Z"
    },
    "scrolled": true
   },
   "outputs": [],
   "source": [
    "## EDIT: comparing world with US - CHANGE TO PLOTLY\n",
    "plt.plot(df_world, color='red', label='World')\n",
    "plt.plot(df_usa,color='blue', label='USA')\n",
    "# plt.plot(df_china,color='green', label='China')\n",
    "# plt.plot(df_russia,color='pink', label='Russia')\n",
    "\n",
    "plt.legend(loc='best')\n",
    "\n",
    "plt.title('Rolling Mean & Standard Deviation')\n",
    "plt.xlabel('Year')\n",
    "plt.ylabel('CO2 Per Capita (Tonnes)')\n",
    "plt.show(block=False)"
   ]
  },
  {
   "cell_type": "code",
   "execution_count": null,
   "metadata": {
    "ExecuteTime": {
     "end_time": "2021-01-31T04:14:19.090642Z",
     "start_time": "2021-01-31T04:14:19.046665Z"
    }
   },
   "outputs": [],
   "source": [
    "df.head()"
   ]
  },
  {
   "cell_type": "code",
   "execution_count": null,
   "metadata": {
    "ExecuteTime": {
     "end_time": "2021-01-31T04:17:26.476082Z",
     "start_time": "2021-01-31T04:17:26.463031Z"
    }
   },
   "outputs": [],
   "source": [
    "df_top10.country.value_counts()"
   ]
  },
  {
   "cell_type": "code",
   "execution_count": null,
   "metadata": {
    "ExecuteTime": {
     "end_time": "2021-01-31T04:24:23.400727Z",
     "start_time": "2021-01-31T04:24:23.358038Z"
    }
   },
   "outputs": [],
   "source": [
    "df_top_co2"
   ]
  },
  {
   "cell_type": "code",
   "execution_count": null,
   "metadata": {
    "ExecuteTime": {
     "end_time": "2021-01-31T04:25:42.087773Z",
     "start_time": "2021-01-31T04:25:41.841220Z"
    },
    "scrolled": true
   },
   "outputs": [],
   "source": [
    "import plotly.express as px\n",
    "#df = px.data.gapminder().query(\"country == 'United States'\")\n",
    "# x=df_top_co2.groupby(['country'])['co2_per_capita'].mean().sort_values(ascending=False) \n",
    "\n",
    "fig = px.line(df_top_co2, x='year', y='co2_per_capita', color='country')\n",
    "fig.show()"
   ]
  },
  {
   "cell_type": "code",
   "execution_count": null,
   "metadata": {},
   "outputs": [],
   "source": [
    "top10lst = "
   ]
  },
  {
   "cell_type": "code",
   "execution_count": null,
   "metadata": {},
   "outputs": [],
   "source": [
    "fig = px.histogram(df, x=\"total_bill\", y=\"tip\", color=\"sex\", marginal=\"rug\",\n",
    "                   hover_data=df.columns)\n",
    "fig.show()"
   ]
  },
  {
   "cell_type": "code",
   "execution_count": null,
   "metadata": {
    "ExecuteTime": {
     "end_time": "2021-01-31T04:09:14.453079Z",
     "start_time": "2021-01-31T04:09:14.424883Z"
    }
   },
   "outputs": [],
   "source": [
    "import plotly.graph_objects as go\n",
    "\n",
    "# Create random data\n",
    "\n",
    "fig = go.Figure()\n",
    "\n",
    "# Add traces\n",
    "fig.add_trace(go.Scatter(x=random_x, y=random_y1,\n",
    "                    mode='lines+markers',\n",
    "                    name='lines+markers'))\n",
    "\n",
    "fig.show()"
   ]
  },
  {
   "cell_type": "code",
   "execution_count": null,
   "metadata": {},
   "outputs": [],
   "source": [
    "import plotly.graph_objects as go\n",
    "\n",
    "\n",
    "\n",
    "fig = go.Figure()\n",
    "\n",
    "# Add scatter trace for line\n",
    "fig.add_trace(go.Scatter(\n",
    "    x=x,\n",
    "    y=y,\n",
    "    mode=\"lines\",\n",
    "    name=\"temperature\"\n",
    "))\n",
    "\n",
    "# Add shape regions\n",
    "fig.add_vrect(\n",
    "    x0=\"2015-01-01\", x1=\"2015-01-01\",\n",
    "    fillcolor=\"LightSalmon\", opacity=0.5,\n",
    "    layer=\"below\", line_width=0,\n",
    "),\n",
    "\n",
    "fig.add_vrect(\n",
    "    x0=\"2015-02-20\", x1=\"2015-02-22\",\n",
    "    fillcolor=\"LightSalmon\", opacity=0.5,\n",
    "    layer=\"below\", line_width=0,\n",
    ")\n",
    "\n",
    "fig.show()"
   ]
  },
  {
   "cell_type": "code",
   "execution_count": null,
   "metadata": {},
   "outputs": [],
   "source": []
  },
  {
   "cell_type": "markdown",
   "metadata": {},
   "source": [
    "## Top 50 CO2 Emitters"
   ]
  },
  {
   "cell_type": "markdown",
   "metadata": {},
   "source": [
    "**Add dotted line after Indonesia**"
   ]
  },
  {
   "cell_type": "code",
   "execution_count": null,
   "metadata": {
    "ExecuteTime": {
     "end_time": "2021-01-31T03:26:38.131071Z",
     "start_time": "2021-01-31T03:26:37.394634Z"
    },
    "scrolled": false
   },
   "outputs": [],
   "source": [
    "# Visualize top 50 total CO2 emissions by country\n",
    "top50 = df.groupby(['country'])['co2'].mean().sort_values(ascending=False).index[:50]\n",
    "height = df.groupby(['country'])['co2'].mean().sort_values(ascending=False)[:50]\n",
    "\n",
    "fig, ax = plt.subplots(figsize=(15,10))\n",
    "plt.bar(x=top50 , height=height, color = 'mediumseagreen')\n",
    "\n",
    "# plt.xlabel('Country')\n",
    "plt.title(\"Mean CO2 Emissions Per Year \\n (1950-2018)\", fontsize=20)\n",
    "plt.ylabel('Mean Total CO2 Emission Per Year (Tonnes)', fontsize=15)\n",
    "for tick in ax.xaxis.get_major_ticks():\n",
    "    tick.label.set_fontsize(14)\n",
    "    tick.label.set_rotation('vertical')\n",
    "\n",
    "# Threshold to indicate countries above 150 mean tonnes\n",
    "threshold = 150\n",
    "plt.axhline(y=threshold,linewidth=2, linestyle='dashed', color='mediumblue')\n",
    "\n",
    "plt.show()\n",
    "\n",
    "plt.savefig(\"images/mean_emissions_per_year_top50\")"
   ]
  },
  {
   "cell_type": "code",
   "execution_count": null,
   "metadata": {
    "ExecuteTime": {
     "end_time": "2021-01-31T03:19:39.770110Z",
     "start_time": "2021-01-31T03:19:36.805264Z"
    },
    "scrolled": true
   },
   "outputs": [],
   "source": [
    "# How does each country contribute to total CO2 emissions?\n",
    "\n",
    "names = df.country.unique()\n",
    "values = df.groupby(['country'])['share_global_co2'].mean()\n",
    "\n",
    "#Visualize top CO2 contributers \n",
    "fig = px.pie(df, values=values, names=names,\n",
    "      title = 'CO2 Emissions by Country')\n",
    "fig.update_traces(textposition='inside', textinfo='percent+label')\n",
    "fig.update_layout(showlegend=False)\n",
    "fig.show()\n",
    "\n",
    "fig.write_html(\"images/CO2_percentage.html\")"
   ]
  },
  {
   "cell_type": "markdown",
   "metadata": {},
   "source": [
    "# EXTRA EDIT: ADD MAP HERE (stretch)"
   ]
  },
  {
   "cell_type": "markdown",
   "metadata": {},
   "source": [
    "## Top 10 CO2 Emitters Per Capita"
   ]
  },
  {
   "cell_type": "code",
   "execution_count": null,
   "metadata": {
    "ExecuteTime": {
     "end_time": "2021-01-31T02:43:38.433465Z",
     "start_time": "2021-01-31T02:43:38.334804Z"
    }
   },
   "outputs": [],
   "source": [
    "# df.groupby(['country'])['co2'].mean()"
   ]
  },
  {
   "cell_type": "code",
   "execution_count": null,
   "metadata": {
    "ExecuteTime": {
     "end_time": "2021-01-31T03:27:02.425440Z",
     "start_time": "2021-01-31T03:27:02.412372Z"
    }
   },
   "outputs": [],
   "source": [
    "top50"
   ]
  },
  {
   "cell_type": "code",
   "execution_count": null,
   "metadata": {
    "ExecuteTime": {
     "end_time": "2021-01-31T03:27:48.002918Z",
     "start_time": "2021-01-31T03:27:47.965471Z"
    }
   },
   "outputs": [],
   "source": [
    "df_top_co2 = df.loc[df['country'].isin(top50)]\n",
    "df_top_co2.head()"
   ]
  },
  {
   "cell_type": "code",
   "execution_count": null,
   "metadata": {
    "ExecuteTime": {
     "end_time": "2021-01-31T04:21:07.665974Z",
     "start_time": "2021-01-31T04:21:07.649129Z"
    },
    "scrolled": true
   },
   "outputs": [],
   "source": [
    "df_top_co2.country.value_counts()"
   ]
  },
  {
   "cell_type": "code",
   "execution_count": null,
   "metadata": {
    "ExecuteTime": {
     "end_time": "2021-01-31T03:25:48.420337Z",
     "start_time": "2021-01-31T03:25:48.407733Z"
    }
   },
   "outputs": [],
   "source": [
    "df.groupby(['country'])['co2'].mean()\n",
    "#df_top_co2 = df.loc[df['country'].isin(top_co2)]"
   ]
  },
  {
   "cell_type": "code",
   "execution_count": null,
   "metadata": {},
   "outputs": [],
   "source": [
    "## threshold of 150 HERE!"
   ]
  },
  {
   "cell_type": "code",
   "execution_count": null,
   "metadata": {
    "ExecuteTime": {
     "end_time": "2021-01-31T04:51:16.685487Z",
     "start_time": "2021-01-31T04:51:16.675899Z"
    }
   },
   "outputs": [],
   "source": [
    "lst_top10 = df_top10.country.value_counts().index\n",
    "lst_top10"
   ]
  },
  {
   "cell_type": "code",
   "execution_count": null,
   "metadata": {
    "ExecuteTime": {
     "end_time": "2021-01-31T04:16:09.241254Z",
     "start_time": "2021-01-31T04:16:08.677057Z"
    }
   },
   "outputs": [],
   "source": [
    "# Find top 10 CO2 emitters per capita,\n",
    "# countries that emit more than an average of 150 tonnes per year per capita\n",
    "\n",
    "# Create list of top 10 emitters\n",
    "top_co2 = list(df.groupby(['country'])['co2'].mean().sort_values(ascending=False)[:22].index)\n",
    "df_top_co2 = df.loc[df['country'].isin(top_co2)]\n",
    "top10_percapita = list(df_top_co2.groupby(['country'])['co2_per_capita'].mean().sort_values(ascending=False)[:10].index)\n",
    "\n",
    "# Plot data\n",
    "df_top10 = df.loc[df['country'].isin(top10_percapita)]\n",
    "fig, ax = plt.subplots(figsize=(15,6))\n",
    "plt.bar(x = top10_percapita,\n",
    "        height = df_top10.groupby(['country'])['co2_per_capita'].mean().sort_values(ascending=False),\n",
    "       color = 'royalblue')\n",
    "\n",
    "plt.title('Top 10 CO2 Emitters Per Capita \\n 1950-2018', fontsize=20)\n",
    "plt.ylabel('Mean CO2 Emission Per Year Per Capita (Tonnes)')\n",
    "\n",
    "plt.savefig(\"images/top10_per_capita.png\")"
   ]
  },
  {
   "cell_type": "markdown",
   "metadata": {},
   "source": [
    "# STOPPED HERE"
   ]
  },
  {
   "cell_type": "markdown",
   "metadata": {},
   "source": [
    "# Time Series Model for USA"
   ]
  },
  {
   "cell_type": "markdown",
   "metadata": {},
   "source": [
    "## Data Cleaning for USA"
   ]
  },
  {
   "cell_type": "markdown",
   "metadata": {},
   "source": [
    "We focused on post-1950 data for our global EDA above since some countries are missing significant data before that time. For our modeling process, however, which focuses on the United States, we included all data for that country, which begins in 1800. We will be predicting the United States's CO2 emissions per capita."
   ]
  },
  {
   "cell_type": "code",
   "execution_count": 10,
   "metadata": {
    "ExecuteTime": {
     "end_time": "2021-01-28T16:57:22.106727Z",
     "start_time": "2021-01-28T16:57:22.051622Z"
    }
   },
   "outputs": [
    {
     "name": "stdout",
     "output_type": "stream",
     "text": [
      "(219, 2)\n"
     ]
    }
   ],
   "source": [
    "# Reload original df to get pre-1950 USA data\n",
    "df_USA = data\n",
    "\n",
    "# Only include USA co2_per_capita data post-1800\n",
    "df_USA = df_USA[df_USA['year'] >= 1800]\n",
    "df_USA = df_USA[df_USA['country'] == 'United States']\n",
    "df_USA = df_USA[['year','co2_per_capita']]\n",
    "\n",
    "# Observe shape of reformatted df\n",
    "print(df_USA.shape)"
   ]
  },
  {
   "cell_type": "code",
   "execution_count": 11,
   "metadata": {
    "ExecuteTime": {
     "end_time": "2021-01-28T16:57:22.185481Z",
     "start_time": "2021-01-28T16:57:22.121552Z"
    }
   },
   "outputs": [
    {
     "data": {
      "text/html": [
       "<div>\n",
       "<style scoped>\n",
       "    .dataframe tbody tr th:only-of-type {\n",
       "        vertical-align: middle;\n",
       "    }\n",
       "\n",
       "    .dataframe tbody tr th {\n",
       "        vertical-align: top;\n",
       "    }\n",
       "\n",
       "    .dataframe thead th {\n",
       "        text-align: right;\n",
       "    }\n",
       "</style>\n",
       "<table border=\"1\" class=\"dataframe\">\n",
       "  <thead>\n",
       "    <tr style=\"text-align: right;\">\n",
       "      <th></th>\n",
       "      <th>co2_per_capita</th>\n",
       "    </tr>\n",
       "    <tr>\n",
       "      <th>year</th>\n",
       "      <th></th>\n",
       "    </tr>\n",
       "  </thead>\n",
       "  <tbody>\n",
       "    <tr>\n",
       "      <th>1800-01-01</th>\n",
       "      <td>0.037</td>\n",
       "    </tr>\n",
       "    <tr>\n",
       "      <th>1801-01-01</th>\n",
       "      <td>0.039</td>\n",
       "    </tr>\n",
       "    <tr>\n",
       "      <th>1802-01-01</th>\n",
       "      <td>0.041</td>\n",
       "    </tr>\n",
       "    <tr>\n",
       "      <th>1803-01-01</th>\n",
       "      <td>0.041</td>\n",
       "    </tr>\n",
       "    <tr>\n",
       "      <th>1804-01-01</th>\n",
       "      <td>0.045</td>\n",
       "    </tr>\n",
       "  </tbody>\n",
       "</table>\n",
       "</div>"
      ],
      "text/plain": [
       "            co2_per_capita\n",
       "year                      \n",
       "1800-01-01           0.037\n",
       "1801-01-01           0.039\n",
       "1802-01-01           0.041\n",
       "1803-01-01           0.041\n",
       "1804-01-01           0.045"
      ]
     },
     "execution_count": 11,
     "metadata": {},
     "output_type": "execute_result"
    }
   ],
   "source": [
    "# Convert year to DateTime object\n",
    "df_USA['year'] = pd.to_datetime(df_USA['year'],format='%Y')\n",
    "\n",
    "# Convert year to index\n",
    "df_USA.set_index('year', inplace=True)\n",
    "\n",
    "# Observe updated df\n",
    "df_USA.head()"
   ]
  },
  {
   "cell_type": "code",
   "execution_count": 12,
   "metadata": {},
   "outputs": [],
   "source": [
    "fig =px.scatter(x=range(10), y=range(10))\n"
   ]
  },
  {
   "cell_type": "markdown",
   "metadata": {},
   "source": [
    "## EDA for USA"
   ]
  },
  {
   "cell_type": "code",
   "execution_count": 13,
   "metadata": {
    "ExecuteTime": {
     "end_time": "2021-01-28T16:57:22.896083Z",
     "start_time": "2021-01-28T16:57:22.199980Z"
    },
    "scrolled": true
   },
   "outputs": [
    {
     "data": {
      "image/png": "[encoded data removed]",
      "text/plain": [
       "<Figure size 432x288 with 1 Axes>"
      ]
     },
     "metadata": {
      "needs_background": "light"
     },
     "output_type": "display_data"
    }
   ],
   "source": [
    "# Visualize USA's CO2 emissions per capita since 1800,\n",
    "# including 5-year rolling mean and rolling standard deviation\n",
    "\n",
    "roll_mean = df_USA.rolling(window=5, center=False).mean()\n",
    "roll_std = df_USA.rolling(window=5, center=False).std()\n",
    "\n",
    "plt.plot(df_USA,color='blue', label='Original')\n",
    "plt.plot(roll_mean, color='red', label='Rolling Mean')\n",
    "plt.plot(roll_std, color='black', label = 'Rolling Std')\n",
    "plt.legend(loc='best')\n",
    "plt.title('Rolling Mean & Standard Deviation')\n",
    "plt.xlabel('Year')\n",
    "plt.ylabel('CO2 Per Capita (Tonnes)')\n",
    "plt.show(block=False)"
   ]
  },
  {
   "cell_type": "markdown",
   "metadata": {},
   "source": [
    "The above data does not look stationary, but we will perform a Dickey-Fuller test to confirm."
   ]
  },
  {
   "cell_type": "code",
   "execution_count": 14,
   "metadata": {},
   "outputs": [
    {
     "data": {
      "text/plain": [
       "Test Statistic                  -1.057110\n",
       "p-value                          0.731869\n",
       "#Lags Used                      12.000000\n",
       "Number of Observations Used    204.000000\n",
       "dtype: float64"
      ]
     },
     "execution_count": 14,
     "metadata": {},
     "output_type": "execute_result"
    }
   ],
   "source": [
    "# Dickey-Fuller test\n",
    "test = adfuller(df_USA['co2_per_capita'][1:-1])\n",
    "dfoutput = pd.Series(test[0:4], index=['Test Statistic','p-value','#Lags Used','Number of Observations Used'])\n",
    "dfoutput\n"
   ]
  },
  {
   "cell_type": "markdown",
   "metadata": {},
   "source": [
    "As expected, with a p value of 0.73, we cannot reject the null hypothesis that this data is un-stationary. We will remedy this below before fitting our model."
   ]
  },
  {
   "cell_type": "markdown",
   "metadata": {},
   "source": [
    "## Addressing Trends and Stationarity"
   ]
  },
  {
   "cell_type": "code",
   "execution_count": 15,
   "metadata": {
    "ExecuteTime": {
     "end_time": "2021-01-31T03:21:33.941316Z",
     "start_time": "2021-01-31T03:21:32.211505Z"
    }
   },
   "outputs": [
    {
     "ename": "NameError",
     "evalue": "name 'df_top50' is not defined",
     "output_type": "error",
     "traceback": [
      "\u001b[0;31m---------------------------------------------------------------------------\u001b[0m",
      "\u001b[0;31mNameError\u001b[0m                                 Traceback (most recent call last)",
      "\u001b[0;32m<ipython-input-15-de563bcef4a2>\u001b[0m in \u001b[0;36m<module>\u001b[0;34m\u001b[0m\n\u001b[0;32m----> 1\u001b[0;31m \u001b[0mdf_top50\u001b[0m \u001b[0;34m=\u001b[0m \u001b[0mdf_top50\u001b[0m\u001b[0;34m[\u001b[0m\u001b[0;34m(\u001b[0m\u001b[0mdf_top50\u001b[0m\u001b[0;34m[\u001b[0m\u001b[0;34m'co2'\u001b[0m\u001b[0;34m]\u001b[0m\u001b[0;34m>=\u001b[0m\u001b[0;36m150\u001b[0m\u001b[0;34m)\u001b[0m\u001b[0;34m]\u001b[0m\u001b[0;34m\u001b[0m\u001b[0;34m\u001b[0m\u001b[0m\n\u001b[0m",
      "\u001b[0;31mNameError\u001b[0m: name 'df_top50' is not defined"
     ]
    }
   ],
   "source": [
    "df_top50 = df_top50[(df_top50['co2']>=150)]\n"
   ]
  },
  {
   "cell_type": "code",
   "execution_count": 16,
   "metadata": {
    "ExecuteTime": {
     "end_time": "2021-01-31T03:24:14.695003Z",
     "start_time": "2021-01-31T03:24:14.683294Z"
    },
    "scrolled": true
   },
   "outputs": [
    {
     "ename": "NameError",
     "evalue": "name 'df_top_co2' is not defined",
     "output_type": "error",
     "traceback": [
      "\u001b[0;31m---------------------------------------------------------------------------\u001b[0m",
      "\u001b[0;31mNameError\u001b[0m                                 Traceback (most recent call last)",
      "\u001b[0;32m<ipython-input-16-d7bf82ae0488>\u001b[0m in \u001b[0;36m<module>\u001b[0;34m\u001b[0m\n\u001b[0;32m----> 1\u001b[0;31m \u001b[0mdf_top_co2\u001b[0m\u001b[0;34m.\u001b[0m\u001b[0mcountry\u001b[0m\u001b[0;34m.\u001b[0m\u001b[0mvalue_counts\u001b[0m\u001b[0;34m(\u001b[0m\u001b[0;34m)\u001b[0m\u001b[0;34m\u001b[0m\u001b[0;34m\u001b[0m\u001b[0m\n\u001b[0m",
      "\u001b[0;31mNameError\u001b[0m: name 'df_top_co2' is not defined"
     ]
    }
   ],
   "source": [
    "df_top_co2.country.value_counts()"
   ]
  },
  {
   "cell_type": "markdown",
   "metadata": {},
   "source": [
    "### Log Transformation"
   ]
  },
  {
   "cell_type": "code",
   "execution_count": 21,
   "metadata": {
    "ExecuteTime": {
     "end_time": "2021-01-28T16:57:23.473315Z",
     "start_time": "2021-01-28T16:57:22.902388Z"
    }
   },
   "outputs": [
    {
     "data": {
      "image/png": "[encoded data removed]",
      "text/plain": [
       "<Figure size 432x288 with 1 Axes>"
      ]
     },
     "metadata": {
      "needs_background": "light"
     },
     "output_type": "display_data"
    },
    {
     "data": {
      "text/plain": [
       "Test Statistic                  -3.807340\n",
       "p-value                          0.002833\n",
       "#Lags Used                       3.000000\n",
       "Number of Observations Used    213.000000\n",
       "dtype: float64"
      ]
     },
     "execution_count": 21,
     "metadata": {},
     "output_type": "execute_result"
    }
   ],
   "source": [
    "# Log transformation to address lack of variance and covariance\n",
    "# Create new df that contains the logged values of the original one\n",
    "log_USA = log(df_USA)\n",
    "\n",
    "# Visualize logged data, including 5-year rolling mean and standard deviation\n",
    "roll_mean_log = log_USA.rolling(window=5, center=False).mean()\n",
    "roll_std_log = log_USA.rolling(window=5, center=False).std()\n",
    "\n",
    "plt.plot(log_USA,color='blue', label='Original')\n",
    "plt.plot(roll_mean_log, color='red', label='Rolling Mean')\n",
    "plt.plot(roll_std_log, color='black', label = 'Rolling Std')\n",
    "plt.legend(loc='best')\n",
    "plt.title('Rolling Mean & Standard Deviation, Logged Data')\n",
    "plt.xlabel('Year')\n",
    "plt.ylabel('Logged CO2 Per Capita (Tonnes)')\n",
    "plt.show(block=False)\n",
    "\n",
    "# Dickey-Fuller test on logged data\n",
    "test = adfuller(log_USA['co2_per_capita'][1:-1])\n",
    "dfoutput = pd.Series(test[0:4], index=['Test Statistic','p-value','#Lags Used','Number of Observations Used'])\n",
    "dfoutput"
   ]
  },
  {
   "cell_type": "markdown",
   "metadata": {},
   "source": [
    "Though our p-value of 0.003 allows us to reject the null hypothesis that this data is unstationary, since there is very clearly an non-constant mean, we will try another way to achieve true stationarity.\n"
   ]
  },
  {
   "cell_type": "markdown",
   "metadata": {},
   "source": [
    "**Subtracting the Rolling Mean of the Log Transformation**"
   ]
  },
  {
   "cell_type": "code",
   "execution_count": 22,
   "metadata": {
    "scrolled": true
   },
   "outputs": [
    {
     "data": {
      "text/plain": [
       "Test Statistic                  -5.439516\n",
       "p-value                          0.000003\n",
       "#Lags Used                       0.000000\n",
       "Number of Observations Used    212.000000\n",
       "dtype: float64"
      ]
     },
     "execution_count": 22,
     "metadata": {},
     "output_type": "execute_result"
    },
    {
     "data": {
      "image/png": "[encoded data removed]",
      "text/plain": [
       "<Figure size 432x288 with 1 Axes>"
      ]
     },
     "metadata": {
      "needs_background": "light"
     },
     "output_type": "display_data"
    }
   ],
   "source": [
    "# Subtract rolling mean from log-transformed data\n",
    "log_minus_rollmean = log_USA - roll_mean_log\n",
    "\n",
    "# Drop null values\n",
    "log_minus_rollmean.dropna(axis=0,inplace=True)\n",
    "\n",
    "# Plot data\n",
    "plt.plot(log_minus_rollmean)\n",
    "plt.title('Logged Data Minus Rolling Mean')\n",
    "plt.xlabel('Year')\n",
    "plt.ylabel('Logged CO2 Per Capita Minus Rolling Mean')\n",
    "\n",
    "# Dickey-Fuller test on logged data minus rolling mean\n",
    "test = adfuller(log_minus_rollmean['co2_per_capita'][1:-1])\n",
    "dfoutput = pd.Series(test[0:4], index=['Test Statistic','p-value','#Lags Used','Number of Observations Used'])\n",
    "dfoutput"
   ]
  },
  {
   "cell_type": "markdown",
   "metadata": {},
   "source": [
    "As expected, this Dickey-Fuller test yielded a very low p-value, indicating that we can confidently reject the null hypothesis that the data is non-stationary.\n",
    "\n",
    "Even though this data is stationary and would likely work well in a time series model, the results of this model would not be interpretable in the context of our business problem. For our predictions to be useful, we need them to be in terms of CO2 emissions per capita in tonnes. Altering our data to this degree would make them uninterpretable for this purpose, and so we will not pursue a model on this data."
   ]
  },
  {
   "cell_type": "markdown",
   "metadata": {},
   "source": [
    "### Differencing"
   ]
  },
  {
   "cell_type": "markdown",
   "metadata": {},
   "source": [
    "Now that we have produced a logged will now difference our original data until we achieve stationarity so we can model on both datasets.\n"
   ]
  },
  {
   "cell_type": "code",
   "execution_count": 23,
   "metadata": {
    "ExecuteTime": {
     "end_time": "2021-01-28T19:29:34.069237Z",
     "start_time": "2021-01-28T19:29:33.765084Z"
    }
   },
   "outputs": [
    {
     "data": {
      "image/png": "[encoded data removed]",
      "text/plain": [
       "<Figure size 432x288 with 1 Axes>"
      ]
     },
     "metadata": {
      "needs_background": "light"
     },
     "output_type": "display_data"
    },
    {
     "data": {
      "text/plain": [
       "Test Statistic                  -4.055314\n",
       "p-value                          0.001147\n",
       "#Lags Used                      11.000000\n",
       "Number of Observations Used    205.000000\n",
       "dtype: float64"
      ]
     },
     "execution_count": 23,
     "metadata": {},
     "output_type": "execute_result"
    }
   ],
   "source": [
    "# Difference original df\n",
    "diff = df_USA.diff().rename(index=str, columns={\"co2_per_capita\": \"Differenced Observations\"})\n",
    "\n",
    "# Visualize differenced data, including 5-year rolling mean and standard deviation\n",
    "roll_mean_diff = diff.rolling(window=5, center=False).mean()\n",
    "roll_std_diff = diff.rolling(window=5, center=False).std()\n",
    "\n",
    "plt.plot(diff,color='blue', label='Original')\n",
    "plt.plot(roll_mean_diff, color='red', label='Rolling Mean')\n",
    "plt.plot(roll_std_diff, color='black', label = 'Rolling Std')\n",
    "plt.legend(loc='best')\n",
    "plt.title('Rolling Mean & Standard Deviation, Differenced Data')\n",
    "plt.xlabel('Differenced Year')\n",
    "plt.ylabel('Differenced CO2 Per Capita (Tonnes)')\n",
    "plt.show(block=False)\n",
    "\n",
    "# Dickey-Fuller test on differenced data\n",
    "test = adfuller(diff['Differenced Observations'][1:-1])\n",
    "dfoutput = pd.Series(test[0:4], index=['Test Statistic','p-value','#Lags Used','Number of Observations Used'])\n",
    "dfoutput"
   ]
  },
  {
   "cell_type": "markdown",
   "metadata": {},
   "source": [
    "Based on the above p-value of 0.001, we see that we have achieved stationarity by differencing once. We will keep this in mind as we test d values in our ARIMA model below."
   ]
  },
  {
   "cell_type": "markdown",
   "metadata": {},
   "source": [
    "## Modeling"
   ]
  },
  {
   "cell_type": "markdown",
   "metadata": {},
   "source": [
    "We will create time series models on both our logged data and original data to see which yields better results."
   ]
  },
  {
   "cell_type": "markdown",
   "metadata": {},
   "source": [
    "We decided to test our baseline models before splitting our data into train and test sets. The advantage of this decision was that we have more data to assess the overall model. A disadvantage is that our final model will be assessed specifically on how well it predicts our test data. To address this disadvantage, we will later tune our best model on the train-test-split data to produce a final model.\n",
    "\n"
   ]
  },
  {
   "cell_type": "markdown",
   "metadata": {},
   "source": [
    "### Logged Data"
   ]
  },
  {
   "cell_type": "markdown",
   "metadata": {},
   "source": [
    "**ACF and PACF for Logged Data**"
   ]
  },
  {
   "cell_type": "code",
   "execution_count": 24,
   "metadata": {
    "ExecuteTime": {
     "end_time": "2021-01-28T16:57:25.766343Z",
     "start_time": "2021-01-28T16:57:25.005611Z"
    },
    "scrolled": false
   },
   "outputs": [
    {
     "data": {
      "image/png": "[encoded data removed]",
      "text/plain": [
       "<Figure size 432x288 with 1 Axes>"
      ]
     },
     "metadata": {
      "needs_background": "light"
     },
     "output_type": "display_data"
    },
    {
     "data": {
      "image/png": "[encoded data removed]",
      "text/plain": [
       "<Figure size 432x288 with 1 Axes>"
      ]
     },
     "metadata": {
      "needs_background": "light"
     },
     "output_type": "display_data"
    }
   ],
   "source": [
    "# ACF for logged data\n",
    "plot_acf(log_USA[:-1], alpha=.05);\n",
    "\n",
    "# PACF for logged data\n",
    "plot_pacf(log_USA[:-1], alpha=.05, lags=20);"
   ]
  },
  {
   "cell_type": "markdown",
   "metadata": {},
   "source": [
    "We can make the following observations about the ACF and PACF for our logged data:\n",
    "\n",
    "1. This data displays an AR signature since the ACF diminishes gradually and the PACF cuts off sharply. This tells us we would expect to have at least one AR parameter.\n",
    "2. When instantiating an ARIMA model, we would expect a relatively large number of MA terms due to the large number of significant ACF points and a relatively small number of AR terms due to the small number of significant PACF points."
   ]
  },
  {
   "cell_type": "markdown",
   "metadata": {},
   "source": [
    "**ARIMA Model for Logged Data**"
   ]
  },
  {
   "cell_type": "markdown",
   "metadata": {},
   "source": [
    "We tried many different p, d, and q parameters for an ARIMA model on our logged data. The below paramters of p=2, d=0, q=0 yielded the best results."
   ]
  },
  {
   "cell_type": "code",
   "execution_count": 25,
   "metadata": {
    "ExecuteTime": {
     "end_time": "2021-01-28T16:57:26.752545Z",
     "start_time": "2021-01-28T16:57:26.325497Z"
    }
   },
   "outputs": [
    {
     "name": "stdout",
     "output_type": "stream",
     "text": [
      "                              ARMA Model Results                              \n",
      "==============================================================================\n",
      "Dep. Variable:         co2_per_capita   No. Observations:                  218\n",
      "Model:                     ARMA(2, 0)   Log Likelihood                 240.613\n",
      "Method:                       css-mle   S.D. of innovations              0.079\n",
      "Date:                Sun, 31 Jan 2021   AIC                           -473.226\n",
      "Time:                        15:57:44   BIC                           -459.688\n",
      "Sample:                    01-01-1800   HQIC                          -467.758\n",
      "                         - 01-01-2017                                         \n",
      "========================================================================================\n",
      "                           coef    std err          z      P>|z|      [0.025      0.975]\n",
      "----------------------------------------------------------------------------------------\n",
      "const                   -0.1865      2.927     -0.064      0.949      -5.924       5.551\n",
      "ar.L1.co2_per_capita     1.1387      0.022     51.069      0.000       1.095       1.182\n",
      "ar.L2.co2_per_capita    -0.1391      0.022     -6.235      0.000      -0.183      -0.095\n",
      "                                    Roots                                    \n",
      "=============================================================================\n",
      "                  Real          Imaginary           Modulus         Frequency\n",
      "-----------------------------------------------------------------------------\n",
      "AR.1            1.0005           +0.0000j            1.0005            0.0000\n",
      "AR.2            7.1871           +0.0000j            7.1871            0.0000\n",
      "-----------------------------------------------------------------------------\n"
     ]
    }
   ],
   "source": [
    "# Instantiate ARIMA model for logged data\n",
    "\n",
    "# Instantiate model\n",
    "mod_log = ARIMA(log_USA[:-1], order=(2,0,0))\n",
    "\n",
    "# Fit Model\n",
    "mod_log_fit = mod_log.fit()\n",
    "\n",
    "# Obeserve summary statistics\n",
    "print(mod_log_fit.summary())\n"
   ]
  },
  {
   "cell_type": "markdown",
   "metadata": {},
   "source": [
    "**AR Model for Logged Data**"
   ]
  },
  {
   "cell_type": "markdown",
   "metadata": {},
   "source": [
    "Since our best ARIMA model ends up with d and q values of 0, we decided to try an AR model as well. We would expect this to have identical results to our ARIMA model with parameters (2,0,0)."
   ]
  },
  {
   "cell_type": "code",
   "execution_count": 26,
   "metadata": {},
   "outputs": [
    {
     "name": "stdout",
     "output_type": "stream",
     "text": [
      "                              ARMA Model Results                              \n",
      "==============================================================================\n",
      "Dep. Variable:         co2_per_capita   No. Observations:                  219\n",
      "Model:                     ARMA(2, 0)   Log Likelihood                 242.188\n",
      "Method:                       css-mle   S.D. of innovations              0.079\n",
      "Date:                Sun, 31 Jan 2021   AIC                           -476.375\n",
      "Time:                        15:57:45   BIC                           -462.819\n",
      "Sample:                    01-01-1800   HQIC                          -470.900\n",
      "                         - 01-01-2018                                         \n",
      "========================================================================================\n",
      "                           coef    std err          z      P>|z|      [0.025      0.975]\n",
      "----------------------------------------------------------------------------------------\n",
      "const                   -0.1740      2.940     -0.059      0.953      -5.936       5.588\n",
      "ar.L1.co2_per_capita     1.1384      0.022     52.226      0.000       1.096       1.181\n",
      "ar.L2.co2_per_capita    -0.1388      0.022     -6.366      0.000      -0.182      -0.096\n",
      "                                    Roots                                    \n",
      "=============================================================================\n",
      "                  Real          Imaginary           Modulus         Frequency\n",
      "-----------------------------------------------------------------------------\n",
      "AR.1            1.0005           +0.0000j            1.0005            0.0000\n",
      "AR.2            7.2001           +0.0000j            7.2001            0.0000\n",
      "-----------------------------------------------------------------------------\n"
     ]
    }
   ],
   "source": [
    "# Instantiate an AR model\n",
    "mod_logAR = ARMA(log_USA, order=(2,0))\n",
    "\n",
    "# Fit model\n",
    "logAR_fit = mod_logAR.fit()\n",
    "\n",
    "# Observe summary statistics\n",
    "print(logAR_fit.summary())"
   ]
  },
  {
   "cell_type": "markdown",
   "metadata": {},
   "source": [
    "The above AR model has equal p-values but better AIC and BIC scores than our ARIMA model on the logged data. This is likely because of the way AIC and BIC are calculated, and we will further compare these two models later to determine which is best suited for our train-test-split data. Note that we tried several parameter combinations on the ARMA model and, as expected, parameters (2,0) yielded the best results just as parameters (2,0,0) yielded the best results from the ARIMA model."
   ]
  },
  {
   "cell_type": "markdown",
   "metadata": {},
   "source": [
    "### Original Data"
   ]
  },
  {
   "cell_type": "markdown",
   "metadata": {},
   "source": [
    "We will now perform an ARIMA model on our original, non-logged data. We saw that this data needs to be differenced in order to achieve stationarity, so we expect to have a d value of at least 1 for our best model."
   ]
  },
  {
   "cell_type": "markdown",
   "metadata": {},
   "source": [
    "**ACF and PACF for Original Data**"
   ]
  },
  {
   "cell_type": "code",
   "execution_count": 27,
   "metadata": {
    "ExecuteTime": {
     "end_time": "2021-01-28T16:57:27.346172Z",
     "start_time": "2021-01-28T16:57:26.770545Z"
    }
   },
   "outputs": [
    {
     "data": {
      "image/png": "[encoded data removed]",
      "text/plain": [
       "<Figure size 432x288 with 1 Axes>"
      ]
     },
     "metadata": {
      "needs_background": "light"
     },
     "output_type": "display_data"
    },
    {
     "data": {
      "image/png": "[encoded data removed]",
      "text/plain": [
       "<Figure size 432x288 with 1 Axes>"
      ]
     },
     "metadata": {
      "needs_background": "light"
     },
     "output_type": "display_data"
    }
   ],
   "source": [
    "#ACF for original data\n",
    "plot_acf(df_USA[:-1], alpha=.05);\n",
    "\n",
    "#PACF for original data\n",
    "plot_pacf(df_USA[:-1], alpha=.05, lags=20);"
   ]
  },
  {
   "cell_type": "markdown",
   "metadata": {},
   "source": [
    "We can make the same two observations about the ACF and PACF for our original data as we did for our logged data:\n",
    "\n",
    "1. This data displays an AR signature since the ACF diminishes gradually and the PACF cuts off sharply. This tells us we would expect to have at least one AR parameter.\n",
    "\n",
    "2. When instantiating an ARIMA model, we would expect a relatively large number of MA terms due to the large number of significant ACF points and a relatively small number of AR terms due to the small number of significant PACF points."
   ]
  },
  {
   "cell_type": "markdown",
   "metadata": {},
   "source": [
    "**ARIMA Model for Original Data**"
   ]
  },
  {
   "cell_type": "markdown",
   "metadata": {},
   "source": [
    "We tried many different p, d, and q parameters for an ARIMA model on our original data. The below three sets of paramters yielded the best results, which we will compare in more detail later."
   ]
  },
  {
   "cell_type": "code",
   "execution_count": 28,
   "metadata": {
    "ExecuteTime": {
     "end_time": "2021-01-28T16:57:28.936138Z",
     "start_time": "2021-01-28T16:57:27.920086Z"
    }
   },
   "outputs": [
    {
     "name": "stdout",
     "output_type": "stream",
     "text": [
      "                             ARIMA Model Results                              \n",
      "==============================================================================\n",
      "Dep. Variable:      D2.co2_per_capita   No. Observations:                  216\n",
      "Model:                 ARIMA(1, 2, 3)   Log Likelihood                -249.331\n",
      "Method:                       css-mle   S.D. of innovations              0.761\n",
      "Date:                Sun, 31 Jan 2021   AIC                            510.663\n",
      "Time:                        15:57:46   BIC                            530.915\n",
      "Sample:                    01-01-1802   HQIC                           518.845\n",
      "                         - 01-01-2017                                         \n",
      "===========================================================================================\n",
      "                              coef    std err          z      P>|z|      [0.025      0.975]\n",
      "-------------------------------------------------------------------------------------------\n",
      "const                      -0.0006      0.001     -0.425      0.671      -0.003       0.002\n",
      "ar.L1.D2.co2_per_capita    -0.7431      0.113     -6.549      0.000      -0.965      -0.521\n",
      "ma.L1.D2.co2_per_capita    -0.3532      0.116     -3.048      0.002      -0.580      -0.126\n",
      "ma.L2.D2.co2_per_capita    -0.8420      0.093     -9.050      0.000      -1.024      -0.660\n",
      "ma.L3.D2.co2_per_capita     0.2319      0.063      3.653      0.000       0.108       0.356\n",
      "                                    Roots                                    \n",
      "=============================================================================\n",
      "                  Real          Imaginary           Modulus         Frequency\n",
      "-----------------------------------------------------------------------------\n",
      "AR.1           -1.3458           +0.0000j            1.3458            0.5000\n",
      "MA.1           -1.1256           +0.0000j            1.1256            0.5000\n",
      "MA.2            1.0273           +0.0000j            1.0273            0.0000\n",
      "MA.3            3.7288           +0.0000j            3.7288            0.0000\n",
      "-----------------------------------------------------------------------------\n"
     ]
    }
   ],
   "source": [
    "# Instantiate model\n",
    "mod123 = ARIMA(df_USA[:-1], order=(1,2,3))\n",
    "\n",
    "# Fit model\n",
    "mod123_fit = mod123.fit()\n",
    "\n",
    "# Observe summary statistics\n",
    "print(mod123_fit.summary())\n"
   ]
  },
  {
   "cell_type": "code",
   "execution_count": 29,
   "metadata": {
    "ExecuteTime": {
     "end_time": "2021-01-28T16:57:29.501919Z",
     "start_time": "2021-01-28T16:57:28.940693Z"
    }
   },
   "outputs": [
    {
     "name": "stdout",
     "output_type": "stream",
     "text": [
      "                             ARIMA Model Results                              \n",
      "==============================================================================\n",
      "Dep. Variable:      D2.co2_per_capita   No. Observations:                  216\n",
      "Model:                 ARIMA(4, 2, 0)   Log Likelihood                -264.456\n",
      "Method:                       css-mle   S.D. of innovations              0.821\n",
      "Date:                Sun, 31 Jan 2021   AIC                            540.912\n",
      "Time:                        15:57:46   BIC                            561.164\n",
      "Sample:                    01-01-1802   HQIC                           549.094\n",
      "                         - 01-01-2017                                         \n",
      "===========================================================================================\n",
      "                              coef    std err          z      P>|z|      [0.025      0.975]\n",
      "-------------------------------------------------------------------------------------------\n",
      "const                      -0.0015      0.017     -0.088      0.930      -0.036       0.033\n",
      "ar.L1.D2.co2_per_capita    -0.9221      0.067    -13.798      0.000      -1.053      -0.791\n",
      "ar.L2.D2.co2_per_capita    -0.8051      0.089     -9.060      0.000      -0.979      -0.631\n",
      "ar.L3.D2.co2_per_capita    -0.3238      0.089     -3.648      0.000      -0.498      -0.150\n",
      "ar.L4.D2.co2_per_capita    -0.1814      0.066     -2.732      0.006      -0.312      -0.051\n",
      "                                    Roots                                    \n",
      "=============================================================================\n",
      "                  Real          Imaginary           Modulus         Frequency\n",
      "-----------------------------------------------------------------------------\n",
      "AR.1           -0.9754           -1.0177j            1.4097           -0.3716\n",
      "AR.2           -0.9754           +1.0177j            1.4097            0.3716\n",
      "AR.3            0.0827           -1.6636j            1.6657           -0.2421\n",
      "AR.4            0.0827           +1.6636j            1.6657            0.2421\n",
      "-----------------------------------------------------------------------------\n"
     ]
    }
   ],
   "source": [
    "# Instantiate model\n",
    "mod420 = ARIMA(df_USA[:-1], order=(4,2,0))\n",
    "\n",
    "# Fit model\n",
    "mod420_fit = mod420.fit(disp=0)\n",
    "\n",
    "# Observe summary statistics\n",
    "print(mod420_fit.summary())\n"
   ]
  },
  {
   "cell_type": "code",
   "execution_count": 30,
   "metadata": {
    "ExecuteTime": {
     "end_time": "2021-01-28T16:57:30.271596Z",
     "start_time": "2021-01-28T16:57:29.515855Z"
    }
   },
   "outputs": [
    {
     "name": "stdout",
     "output_type": "stream",
     "text": [
      "                             ARIMA Model Results                              \n",
      "==============================================================================\n",
      "Dep. Variable:      D2.co2_per_capita   No. Observations:                  216\n",
      "Model:                 ARIMA(5, 2, 0)   Log Likelihood                -260.117\n",
      "Method:                       css-mle   S.D. of innovations              0.804\n",
      "Date:                Sun, 31 Jan 2021   AIC                            534.233\n",
      "Time:                        15:57:47   BIC                            557.860\n",
      "Sample:                    01-01-1802   HQIC                           543.778\n",
      "                         - 01-01-2017                                         \n",
      "===========================================================================================\n",
      "                              coef    std err          z      P>|z|      [0.025      0.975]\n",
      "-------------------------------------------------------------------------------------------\n",
      "const                      -0.0014      0.014     -0.102      0.919      -0.029       0.026\n",
      "ar.L1.D2.co2_per_capita    -0.9588      0.067    -14.395      0.000      -1.089      -0.828\n",
      "ar.L2.D2.co2_per_capita    -0.8700      0.090     -9.689      0.000      -1.046      -0.694\n",
      "ar.L3.D2.co2_per_capita    -0.4844      0.102     -4.733      0.000      -0.685      -0.284\n",
      "ar.L4.D2.co2_per_capita    -0.3643      0.089     -4.075      0.000      -0.540      -0.189\n",
      "ar.L5.D2.co2_per_capita    -0.1968      0.066     -2.979      0.003      -0.326      -0.067\n",
      "                                    Roots                                    \n",
      "=============================================================================\n",
      "                  Real          Imaginary           Modulus         Frequency\n",
      "-----------------------------------------------------------------------------\n",
      "AR.1            0.5576           -1.3200j            1.4330           -0.1864\n",
      "AR.2            0.5576           +1.3200j            1.4330            0.1864\n",
      "AR.3           -0.6765           -1.0373j            1.2384           -0.3420\n",
      "AR.4           -0.6765           +1.0373j            1.2384            0.3420\n",
      "AR.5           -1.6136           -0.0000j            1.6136           -0.5000\n",
      "-----------------------------------------------------------------------------\n"
     ]
    }
   ],
   "source": [
    "# Instantiate model\n",
    "mod520 = ARIMA(df_USA[:-1], order=(5,2,0))\n",
    "\n",
    "# Fit model\n",
    "mod520_fit = mod520.fit(disp=0)\n",
    "\n",
    "#Observe summary statistics\n",
    "print(mod520_fit.summary())\n"
   ]
  },
  {
   "cell_type": "markdown",
   "metadata": {},
   "source": [
    "## Determining the Best Model"
   ]
  },
  {
   "cell_type": "markdown",
   "metadata": {},
   "source": [
    "To determine the best model of the 5 above, we will fit them each to our train-test-split data and evaluate RMSE and AIC scores.\n",
    "\n",
    "We chose to split our train and test sets in 2009, which is a 96%/4% split. We made this choice because of the significant drop in CO2 emissions that began in 2008, likely related to the financial crisis at that time. Since a split before that date would have yielded a model that could not have predicted a drop at that time, we chose to split after the drop to produce more accurate predictions."
   ]
  },
  {
   "cell_type": "markdown",
   "metadata": {},
   "source": [
    "### Re-Fit Models to Train-Test Split Data"
   ]
  },
  {
   "cell_type": "markdown",
   "metadata": {},
   "source": [
    "**Logged Data**"
   ]
  },
  {
   "cell_type": "code",
   "execution_count": 31,
   "metadata": {
    "ExecuteTime": {
     "end_time": "2021-01-28T16:57:30.303227Z",
     "start_time": "2021-01-28T16:57:30.280013Z"
    }
   },
   "outputs": [],
   "source": [
    "# Train-test split\n",
    "\n",
    "X = log_USA.index\n",
    "y = log_USA['co2_per_capita']\n",
    "\n",
    "train = log_USA.loc[:'2009-01-01']\n",
    "test = log_USA.loc['2009-01-01':]\n",
    "\n",
    "X_train, X_test = train.index , test.index\n",
    "y_train, y_test = train['co2_per_capita'] , test['co2_per_capita']\n"
   ]
  },
  {
   "cell_type": "code",
   "execution_count": 32,
   "metadata": {
    "ExecuteTime": {
     "end_time": "2021-01-28T16:57:31.044850Z",
     "start_time": "2021-01-28T16:57:30.312932Z"
    },
    "scrolled": true
   },
   "outputs": [],
   "source": [
    "# ARIMA model\n",
    "# Instantiate and fit model to train data\n",
    "mod_log = ARIMA(train[2:], order=(2,0,0))\n",
    "mod_log_fit = mod_log.fit()\n",
    "\n",
    "# Prediction\n",
    "pred_log = mod_log_fit.predict(start='2009-01-01', end='2018-01-01', dynamic=False)\n"
   ]
  },
  {
   "cell_type": "code",
   "execution_count": 33,
   "metadata": {},
   "outputs": [],
   "source": [
    "#AR model\n",
    "# Instantiate and fit model to train data\n",
    "mod_logAR = ARMA(train[2:], order=(2,0))\n",
    "mod_logAR_fit = mod_logAR.fit()\n",
    "\n",
    "# Prediction\n",
    "pred_logAR = logAR_fit.predict(start='2009-01-01', end='2018-01-01', dynamic=False)\n"
   ]
  },
  {
   "cell_type": "markdown",
   "metadata": {},
   "source": [
    "**Original Data**"
   ]
  },
  {
   "cell_type": "code",
   "execution_count": 34,
   "metadata": {
    "ExecuteTime": {
     "end_time": "2021-01-28T22:12:59.461293Z",
     "start_time": "2021-01-28T22:12:59.424002Z"
    }
   },
   "outputs": [],
   "source": [
    "# Train-test split\n",
    "\n",
    "X = df_USA.index\n",
    "y = df_USA['co2_per_capita']\n",
    "\n",
    "train = df_USA.loc[:'2009-01-01']\n",
    "test = df_USA.loc['2009-01-01':]\n",
    "\n",
    "X_train, X_test = train.index , test.index\n",
    "y_train, y_test = train['co2_per_capita'] , test['co2_per_capita']\n"
   ]
  },
  {
   "cell_type": "code",
   "execution_count": 35,
   "metadata": {
    "ExecuteTime": {
     "end_time": "2021-01-28T22:13:08.091018Z",
     "start_time": "2021-01-28T22:13:07.495479Z"
    }
   },
   "outputs": [],
   "source": [
    "# 420 data\n",
    "# Instantiate and fit model to train data\n",
    "mod420 = ARIMA(y_train[2:], order=(4,2,0)) # p,d,q\n",
    "mod420_fit = mod420.fit()\n",
    "\n",
    "#Prediction\n",
    "pred420 = mod420_fit.predict(start='1997-01-01', end='2018-01-01', dynamic=False)"
   ]
  },
  {
   "cell_type": "code",
   "execution_count": 36,
   "metadata": {
    "ExecuteTime": {
     "end_time": "2021-01-28T22:13:09.442537Z",
     "start_time": "2021-01-28T22:13:08.780893Z"
    },
    "scrolled": false
   },
   "outputs": [],
   "source": [
    "# 520 data\n",
    "# Instantiate and fit model to train data\n",
    "mod520 = ARIMA(y_train[2:], order=(5,2,0)) # p,d,q\n",
    "mod520_fit = mod520.fit()\n",
    "\n",
    "#Prediction\n",
    "pred520 = mod520_fit.predict(start='1997-01-01', end='2018-01-01', dynamic=False)"
   ]
  },
  {
   "cell_type": "code",
   "execution_count": 37,
   "metadata": {
    "ExecuteTime": {
     "end_time": "2021-01-28T16:57:31.329910Z",
     "start_time": "2021-01-28T16:57:31.319433Z"
    }
   },
   "outputs": [],
   "source": [
    "#Below model cannot run due to coefficients not being invertible\n",
    "\n",
    "# # 123 data\n",
    "# # Instantiate and fit model to train data\n",
    "# mod123 = ARIMA(y_train[2:], order=(1,2,3)) # p,d,q\n",
    "# mod123_fit = mod123.fit()\n",
    "\n",
    "# #Prediction\n",
    "# pred123 = mod123_fit.predict(start='1997-01-01', end='2018-01-01', dynamic=False)"
   ]
  },
  {
   "cell_type": "markdown",
   "metadata": {},
   "source": [
    "### Determine Best Model via RMSE and AIC Scores"
   ]
  },
  {
   "cell_type": "markdown",
   "metadata": {},
   "source": [
    "**RMSE**"
   ]
  },
  {
   "cell_type": "code",
   "execution_count": 38,
   "metadata": {
    "ExecuteTime": {
     "end_time": "2021-01-28T22:13:14.649200Z",
     "start_time": "2021-01-28T22:13:14.621230Z"
    }
   },
   "outputs": [
    {
     "name": "stdout",
     "output_type": "stream",
     "text": [
      "RMSE score for 4,2,0 model on original data:  17.112444289128902\n",
      "RMSE score for 5,2,0 model on original data:  17.1016168205195\n",
      "RMSE score for ARIMA model on logged data:  0.8390840255981546\n",
      "RMSE score for AR model on logged data:  0.6619442468875625\n"
     ]
    }
   ],
   "source": [
    "# Create a function to calculate RMSE for non-logged data\n",
    "def RMSE_reg(pred):\n",
    "    return np.sqrt(((pred-y_test)**2).mean())\n",
    "\n",
    "# Create a funcion to calculate RMSE for logged data\n",
    "# Uses inverse log function on our logged predictions (e^pred),\n",
    "# so we can compare directly to the actual values\n",
    "def RMSE_log(pred):\n",
    "    return np.sqrt((((np.e**pred)-y_test)**2).mean())\n",
    "\n",
    "print('RMSE score for 4,2,0 model on original data: ', RMSE_reg(pred420))\n",
    "print('RMSE score for 5,2,0 model on original data: ', RMSE_reg(pred520))\n",
    "print('RMSE score for ARIMA model on logged data: ', RMSE_log(pred_log))\n",
    "print('RMSE score for AR model on logged data: ', RMSE_log(pred_logAR))\n"
   ]
  },
  {
   "cell_type": "markdown",
   "metadata": {},
   "source": [
    "**AIC**"
   ]
  },
  {
   "cell_type": "code",
   "execution_count": 39,
   "metadata": {
    "ExecuteTime": {
     "end_time": "2021-01-28T22:13:22.144874Z",
     "start_time": "2021-01-28T22:13:22.128446Z"
    }
   },
   "outputs": [
    {
     "name": "stdout",
     "output_type": "stream",
     "text": [
      "AIC score for 4,2,0 model on original data:  523.9656408589926\n",
      "AIC score for 5,2,0 model on original data:  517.778203881069\n",
      "AIC score for ARIMA model on logged data:  -442.8365100191842\n",
      "AIC score for AR model on logged data:  -442.8365100191842\n"
     ]
    }
   ],
   "source": [
    "# Create a function to calculate AIC for our models\n",
    "def AIC(fit_model):\n",
    "    return fit_model.aic\n",
    "\n",
    "print('AIC score for 4,2,0 model on original data: ', AIC(mod420_fit))\n",
    "print('AIC score for 5,2,0 model on original data: ', AIC(mod520_fit))\n",
    "print('AIC score for ARIMA model on logged data: ', AIC(mod_log_fit))\n",
    "print('AIC score for AR model on logged data: ', AIC(mod_logAR_fit))\n"
   ]
  },
  {
   "cell_type": "markdown",
   "metadata": {},
   "source": [
    "Based on the above, we see that our model on our logged data is much more predictive than our models on on our original data. We also confirm that our ARIMA model with parameters (2,0,0) and AR model with 2 AR terms yield identical results. We will move forward with our model analysis using the ARIMA version of this model."
   ]
  },
  {
   "cell_type": "markdown",
   "metadata": {},
   "source": [
    "We tried new ARIMA parameters on the logged data given that the last parameters were determined without the train-test split. We were unable to further improve our model and our current one remains our most successful."
   ]
  },
  {
   "cell_type": "markdown",
   "metadata": {},
   "source": [
    "### Analyze Final Model"
   ]
  },
  {
   "cell_type": "code",
   "execution_count": 40,
   "metadata": {},
   "outputs": [
    {
     "data": {
      "image/png": "[encoded data removed]",
      "text/plain": [
       "<Figure size 432x288 with 1 Axes>"
      ]
     },
     "metadata": {
      "needs_background": "light"
     },
     "output_type": "display_data"
    }
   ],
   "source": [
    "# Visualize prediction\n",
    "# This shows our model's predicted values vs actual values for the train data\n",
    "mod_log_fit.plot_predict();"
   ]
  },
  {
   "cell_type": "code",
   "execution_count": 41,
   "metadata": {
    "ExecuteTime": {
     "end_time": "2021-01-28T22:15:51.238949Z",
     "start_time": "2021-01-28T22:15:50.386616Z"
    },
    "scrolled": false
   },
   "outputs": [
    {
     "data": {
      "image/png": "[encoded data removed]",
      "text/plain": [
       "<Figure size 432x288 with 1 Axes>"
      ]
     },
     "metadata": {
      "needs_background": "light"
     },
     "output_type": "display_data"
    }
   ],
   "source": [
    "# Visualize residuals/error\n",
    "residuals = pd.DataFrame(mod_log_fit.resid)\n",
    "residuals.plot()\n",
    "pyplot.show();\n"
   ]
  },
  {
   "cell_type": "markdown",
   "metadata": {},
   "source": [
    "Based on the above, we see that this model has minimal error, with a mean of approximately 0."
   ]
  },
  {
   "cell_type": "code",
   "execution_count": 42,
   "metadata": {
    "ExecuteTime": {
     "end_time": "2021-01-28T16:57:33.857208Z",
     "start_time": "2021-01-28T16:57:33.276316Z"
    },
    "scrolled": true
   },
   "outputs": [
    {
     "data": {
      "image/png": "[encoded data removed]",
      "text/plain": [
       "<Figure size 432x288 with 1 Axes>"
      ]
     },
     "metadata": {
      "needs_background": "light"
     },
     "output_type": "display_data"
    }
   ],
   "source": [
    "# Check for linearity\n",
    "residuals = pd.DataFrame(mod_log_fit.resid)\n",
    "residuals.plot(kind='kde')\n",
    "pyplot.show()\n"
   ]
  },
  {
   "cell_type": "markdown",
   "metadata": {},
   "source": [
    "Based on the above, we see that this model is linear, with a mean of approxmiately 0."
   ]
  },
  {
   "cell_type": "markdown",
   "metadata": {
    "ExecuteTime": {
     "end_time": "2021-01-28T22:20:31.058804Z",
     "start_time": "2021-01-28T22:20:31.000225Z"
    }
   },
   "source": [
    "**Test Predictions**"
   ]
  },
  {
   "cell_type": "markdown",
   "metadata": {},
   "source": [
    "Finally, we will plot our real vs predicted values to visualize our difference, keeping in mind our known RMSE of 0.84."
   ]
  },
  {
   "cell_type": "code",
   "execution_count": 43,
   "metadata": {},
   "outputs": [
    {
     "data": {
      "image/png": "[encoded data removed]",
      "text/plain": [
       "<Figure size 1080x432 with 1 Axes>"
      ]
     },
     "metadata": {
      "needs_background": "light"
     },
     "output_type": "display_data"
    }
   ],
   "source": [
    "# Convert logged prediction back to original units to compare directly to original data\n",
    "pred_correctunits = np.e**(pred_log)\n",
    "\n",
    "# Plot real vs predicted values\n",
    "rcParams['figure.figsize'] = 15, 6\n",
    "\n",
    "# Plot observed values\n",
    "ax = df_USA['1800-01-01':].plot(label='observed')\n",
    "\n",
    "# Plot predicted values\n",
    "pred_correctunits.plot(ax=ax, label='Forecast', alpha=0.9)\n",
    "\n",
    "# Set axes labels and title\n",
    "ax.set_xlabel('Year', size=12)\n",
    "ax.set_ylabel('Tonnes',size=12)\n",
    "ax.set_title('Real vs Predicted CO2 Emissions Per Capita', size=15)\n",
    "\n",
    "plt.legend()\n",
    "plt.show()"
   ]
  },
  {
   "cell_type": "code",
   "execution_count": 44,
   "metadata": {},
   "outputs": [],
   "source": [
    "# Uncomment code below to see the above graph zoomed in, starting in 1950 \n",
    "\n",
    "# # Convert logged prediction back to original units to compare directly to original data\n",
    "# pred_correctunits = np.e**(pred_log)\n",
    "\n",
    "# # Plot real vs predicted values\n",
    "# rcParams['figure.figsize'] = 15, 6\n",
    "\n",
    "# # Plot observed values\n",
    "# ax = df_USA['1950-01-01':].plot(label='observed')\n",
    "\n",
    "# # Plot predicted values\n",
    "# pred_correctunits.plot(ax=ax, label='Forecast', alpha=0.9)\n",
    "\n",
    "# # Set axes labels and title\n",
    "# ax.set_xlabel('Year', size=12)\n",
    "# ax.set_ylabel('Tonnes',size=12)\n",
    "# ax.set_title('Real vs Predicted CO2 Emissions Per Capita', size=15)\n",
    "\n",
    "# plt.legend()\n",
    "# plt.show()"
   ]
  }
 ],
 "metadata": {
  "kernelspec": {
   "display_name": "learn-env",
   "language": "python",
   "name": "learn-env"
  },
  "language_info": {
   "codemirror_mode": {
    "name": "ipython",
    "version": 3
   },
   "file_extension": ".py",
   "mimetype": "text/x-python",
   "name": "python",
   "nbconvert_exporter": "python",
   "pygments_lexer": "ipython3",
   "version": "3.8.3"
  },
  "toc": {
   "base_numbering": 1,
   "nav_menu": {},
   "number_sections": true,
   "sideBar": true,
   "skip_h1_title": false,
   "title_cell": "Table of Contents",
   "title_sidebar": "Contents",
   "toc_cell": false,
   "toc_position": {},
   "toc_section_display": true,
   "toc_window_display": false
  }
 },
 "nbformat": 4,
 "nbformat_minor": 4
}
