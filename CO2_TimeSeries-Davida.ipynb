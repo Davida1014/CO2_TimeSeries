{
 "cells": [
  {
   "cell_type": "markdown",
   "metadata": {},
   "source": [
    "# Data Cleaning"
   ]
  },
  {
   "cell_type": "code",
   "execution_count": 1,
   "metadata": {
    "ExecuteTime": {
     "end_time": "2021-01-31T02:16:43.495613Z",
     "start_time": "2021-01-31T02:16:38.361409Z"
    }
   },
   "outputs": [],
   "source": [
    "# Import necessary libraries and packages\n",
    "import pandas as pd\n",
    "import numpy as np\n",
    "from matplotlib import pyplot\n",
    "import warnings\n",
    "import matplotlib.pyplot as plt\n",
    "from statsmodels.tsa.stattools import adfuller\n",
    "from math import exp\n",
    "from numpy import log\n",
    "from statsmodels.graphics.tsaplots import plot_acf\n",
    "from statsmodels.graphics.tsaplots import plot_pacf\n",
    "from statsmodels.tsa.arima_model import ARIMA\n",
    "from statsmodels.tsa.arima_model import ARMA\n",
    "import statsmodels.api as sm\n",
    "\n",
    "import plotly.express as px\n",
    "import plotly.io as pio\n",
    "\n",
    "# Preferred settings\n",
    "warnings.filterwarnings('ignore')\n",
    "pd.set_option('display.max_columns', 100)"
   ]
  },
  {
   "cell_type": "code",
   "execution_count": 2,
   "metadata": {
    "ExecuteTime": {
     "end_time": "2021-01-31T02:16:44.007023Z",
     "start_time": "2021-01-31T02:16:43.498125Z"
    },
    "scrolled": false
   },
   "outputs": [
    {
     "name": "stdout",
     "output_type": "stream",
     "text": [
      "(24016, 38)\n"
     ]
    },
    {
     "data": {
      "text/html": [
       "<div>\n",
       "<style scoped>\n",
       "    .dataframe tbody tr th:only-of-type {\n",
       "        vertical-align: middle;\n",
       "    }\n",
       "\n",
       "    .dataframe tbody tr th {\n",
       "        vertical-align: top;\n",
       "    }\n",
       "\n",
       "    .dataframe thead th {\n",
       "        text-align: right;\n",
       "    }\n",
       "</style>\n",
       "<table border=\"1\" class=\"dataframe\">\n",
       "  <thead>\n",
       "    <tr style=\"text-align: right;\">\n",
       "      <th></th>\n",
       "      <th>iso_code</th>\n",
       "      <th>country</th>\n",
       "      <th>year</th>\n",
       "      <th>co2</th>\n",
       "      <th>co2_growth_prct</th>\n",
       "      <th>co2_growth_abs</th>\n",
       "      <th>consumption_co2</th>\n",
       "      <th>trade_co2</th>\n",
       "      <th>trade_co2_share</th>\n",
       "      <th>co2_per_capita</th>\n",
       "      <th>consumption_co2_per_capita</th>\n",
       "      <th>share_global_co2</th>\n",
       "      <th>cumulative_co2</th>\n",
       "      <th>share_global_cumulative_co2</th>\n",
       "      <th>co2_per_gdp</th>\n",
       "      <th>consumption_co2_per_gdp</th>\n",
       "      <th>co2_per_unit_energy</th>\n",
       "      <th>cement_co2</th>\n",
       "      <th>coal_co2</th>\n",
       "      <th>flaring_co2</th>\n",
       "      <th>gas_co2</th>\n",
       "      <th>oil_co2</th>\n",
       "      <th>cement_co2_per_capita</th>\n",
       "      <th>coal_co2_per_capita</th>\n",
       "      <th>flaring_co2_per_capita</th>\n",
       "      <th>gas_co2_per_capita</th>\n",
       "      <th>oil_co2_per_capita</th>\n",
       "      <th>total_ghg</th>\n",
       "      <th>ghg_per_capita</th>\n",
       "      <th>methane</th>\n",
       "      <th>methane_per_capita</th>\n",
       "      <th>nitrous_oxide</th>\n",
       "      <th>nitrous_oxide_per_capita</th>\n",
       "      <th>primary_energy_consumption</th>\n",
       "      <th>energy_per_capita</th>\n",
       "      <th>energy_per_gdp</th>\n",
       "      <th>population</th>\n",
       "      <th>gdp</th>\n",
       "    </tr>\n",
       "  </thead>\n",
       "  <tbody>\n",
       "    <tr>\n",
       "      <th>0</th>\n",
       "      <td>AFG</td>\n",
       "      <td>Afghanistan</td>\n",
       "      <td>1949</td>\n",
       "      <td>0.015</td>\n",
       "      <td>NaN</td>\n",
       "      <td>NaN</td>\n",
       "      <td>NaN</td>\n",
       "      <td>NaN</td>\n",
       "      <td>NaN</td>\n",
       "      <td>0.002</td>\n",
       "      <td>NaN</td>\n",
       "      <td>0.000</td>\n",
       "      <td>0.015</td>\n",
       "      <td>0.000</td>\n",
       "      <td>NaN</td>\n",
       "      <td>NaN</td>\n",
       "      <td>NaN</td>\n",
       "      <td>0.0</td>\n",
       "      <td>0.015</td>\n",
       "      <td>0.0</td>\n",
       "      <td>0.0</td>\n",
       "      <td>0.000</td>\n",
       "      <td>0.0</td>\n",
       "      <td>0.002</td>\n",
       "      <td>0.0</td>\n",
       "      <td>0.0</td>\n",
       "      <td>0.000</td>\n",
       "      <td>NaN</td>\n",
       "      <td>NaN</td>\n",
       "      <td>NaN</td>\n",
       "      <td>NaN</td>\n",
       "      <td>NaN</td>\n",
       "      <td>NaN</td>\n",
       "      <td>NaN</td>\n",
       "      <td>NaN</td>\n",
       "      <td>NaN</td>\n",
       "      <td>7663783.0</td>\n",
       "      <td>NaN</td>\n",
       "    </tr>\n",
       "    <tr>\n",
       "      <th>1</th>\n",
       "      <td>AFG</td>\n",
       "      <td>Afghanistan</td>\n",
       "      <td>1950</td>\n",
       "      <td>0.084</td>\n",
       "      <td>475.000</td>\n",
       "      <td>0.070</td>\n",
       "      <td>NaN</td>\n",
       "      <td>NaN</td>\n",
       "      <td>NaN</td>\n",
       "      <td>0.011</td>\n",
       "      <td>NaN</td>\n",
       "      <td>0.001</td>\n",
       "      <td>0.099</td>\n",
       "      <td>0.001</td>\n",
       "      <td>0.004</td>\n",
       "      <td>NaN</td>\n",
       "      <td>NaN</td>\n",
       "      <td>0.0</td>\n",
       "      <td>0.022</td>\n",
       "      <td>0.0</td>\n",
       "      <td>0.0</td>\n",
       "      <td>0.066</td>\n",
       "      <td>0.0</td>\n",
       "      <td>0.003</td>\n",
       "      <td>0.0</td>\n",
       "      <td>0.0</td>\n",
       "      <td>0.009</td>\n",
       "      <td>NaN</td>\n",
       "      <td>NaN</td>\n",
       "      <td>NaN</td>\n",
       "      <td>NaN</td>\n",
       "      <td>NaN</td>\n",
       "      <td>NaN</td>\n",
       "      <td>NaN</td>\n",
       "      <td>NaN</td>\n",
       "      <td>NaN</td>\n",
       "      <td>7752000.0</td>\n",
       "      <td>1.949480e+10</td>\n",
       "    </tr>\n",
       "    <tr>\n",
       "      <th>2</th>\n",
       "      <td>AFG</td>\n",
       "      <td>Afghanistan</td>\n",
       "      <td>1951</td>\n",
       "      <td>0.092</td>\n",
       "      <td>8.696</td>\n",
       "      <td>0.007</td>\n",
       "      <td>NaN</td>\n",
       "      <td>NaN</td>\n",
       "      <td>NaN</td>\n",
       "      <td>0.012</td>\n",
       "      <td>NaN</td>\n",
       "      <td>0.001</td>\n",
       "      <td>0.191</td>\n",
       "      <td>0.001</td>\n",
       "      <td>0.005</td>\n",
       "      <td>NaN</td>\n",
       "      <td>NaN</td>\n",
       "      <td>0.0</td>\n",
       "      <td>0.026</td>\n",
       "      <td>0.0</td>\n",
       "      <td>0.0</td>\n",
       "      <td>0.066</td>\n",
       "      <td>0.0</td>\n",
       "      <td>0.003</td>\n",
       "      <td>0.0</td>\n",
       "      <td>0.0</td>\n",
       "      <td>0.008</td>\n",
       "      <td>NaN</td>\n",
       "      <td>NaN</td>\n",
       "      <td>NaN</td>\n",
       "      <td>NaN</td>\n",
       "      <td>NaN</td>\n",
       "      <td>NaN</td>\n",
       "      <td>NaN</td>\n",
       "      <td>NaN</td>\n",
       "      <td>NaN</td>\n",
       "      <td>7840000.0</td>\n",
       "      <td>2.006385e+10</td>\n",
       "    </tr>\n",
       "    <tr>\n",
       "      <th>3</th>\n",
       "      <td>AFG</td>\n",
       "      <td>Afghanistan</td>\n",
       "      <td>1952</td>\n",
       "      <td>0.092</td>\n",
       "      <td>0.000</td>\n",
       "      <td>0.000</td>\n",
       "      <td>NaN</td>\n",
       "      <td>NaN</td>\n",
       "      <td>NaN</td>\n",
       "      <td>0.012</td>\n",
       "      <td>NaN</td>\n",
       "      <td>0.001</td>\n",
       "      <td>0.282</td>\n",
       "      <td>0.001</td>\n",
       "      <td>0.004</td>\n",
       "      <td>NaN</td>\n",
       "      <td>NaN</td>\n",
       "      <td>0.0</td>\n",
       "      <td>0.033</td>\n",
       "      <td>0.0</td>\n",
       "      <td>0.0</td>\n",
       "      <td>0.062</td>\n",
       "      <td>0.0</td>\n",
       "      <td>0.004</td>\n",
       "      <td>0.0</td>\n",
       "      <td>0.0</td>\n",
       "      <td>0.008</td>\n",
       "      <td>NaN</td>\n",
       "      <td>NaN</td>\n",
       "      <td>NaN</td>\n",
       "      <td>NaN</td>\n",
       "      <td>NaN</td>\n",
       "      <td>NaN</td>\n",
       "      <td>NaN</td>\n",
       "      <td>NaN</td>\n",
       "      <td>NaN</td>\n",
       "      <td>7936000.0</td>\n",
       "      <td>2.074235e+10</td>\n",
       "    </tr>\n",
       "    <tr>\n",
       "      <th>4</th>\n",
       "      <td>AFG</td>\n",
       "      <td>Afghanistan</td>\n",
       "      <td>1953</td>\n",
       "      <td>0.106</td>\n",
       "      <td>16.000</td>\n",
       "      <td>0.015</td>\n",
       "      <td>NaN</td>\n",
       "      <td>NaN</td>\n",
       "      <td>NaN</td>\n",
       "      <td>0.013</td>\n",
       "      <td>NaN</td>\n",
       "      <td>0.002</td>\n",
       "      <td>0.388</td>\n",
       "      <td>0.001</td>\n",
       "      <td>0.005</td>\n",
       "      <td>NaN</td>\n",
       "      <td>NaN</td>\n",
       "      <td>0.0</td>\n",
       "      <td>0.037</td>\n",
       "      <td>0.0</td>\n",
       "      <td>0.0</td>\n",
       "      <td>0.066</td>\n",
       "      <td>0.0</td>\n",
       "      <td>0.005</td>\n",
       "      <td>0.0</td>\n",
       "      <td>0.0</td>\n",
       "      <td>0.008</td>\n",
       "      <td>NaN</td>\n",
       "      <td>NaN</td>\n",
       "      <td>NaN</td>\n",
       "      <td>NaN</td>\n",
       "      <td>NaN</td>\n",
       "      <td>NaN</td>\n",
       "      <td>NaN</td>\n",
       "      <td>NaN</td>\n",
       "      <td>NaN</td>\n",
       "      <td>8040000.0</td>\n",
       "      <td>2.201546e+10</td>\n",
       "    </tr>\n",
       "  </tbody>\n",
       "</table>\n",
       "</div>"
      ],
      "text/plain": [
       "  iso_code      country  year    co2  co2_growth_prct  co2_growth_abs  \\\n",
       "0      AFG  Afghanistan  1949  0.015              NaN             NaN   \n",
       "1      AFG  Afghanistan  1950  0.084          475.000           0.070   \n",
       "2      AFG  Afghanistan  1951  0.092            8.696           0.007   \n",
       "3      AFG  Afghanistan  1952  0.092            0.000           0.000   \n",
       "4      AFG  Afghanistan  1953  0.106           16.000           0.015   \n",
       "\n",
       "   consumption_co2  trade_co2  trade_co2_share  co2_per_capita  \\\n",
       "0              NaN        NaN              NaN           0.002   \n",
       "1              NaN        NaN              NaN           0.011   \n",
       "2              NaN        NaN              NaN           0.012   \n",
       "3              NaN        NaN              NaN           0.012   \n",
       "4              NaN        NaN              NaN           0.013   \n",
       "\n",
       "   consumption_co2_per_capita  share_global_co2  cumulative_co2  \\\n",
       "0                         NaN             0.000           0.015   \n",
       "1                         NaN             0.001           0.099   \n",
       "2                         NaN             0.001           0.191   \n",
       "3                         NaN             0.001           0.282   \n",
       "4                         NaN             0.002           0.388   \n",
       "\n",
       "   share_global_cumulative_co2  co2_per_gdp  consumption_co2_per_gdp  \\\n",
       "0                        0.000          NaN                      NaN   \n",
       "1                        0.001        0.004                      NaN   \n",
       "2                        0.001        0.005                      NaN   \n",
       "3                        0.001        0.004                      NaN   \n",
       "4                        0.001        0.005                      NaN   \n",
       "\n",
       "   co2_per_unit_energy  cement_co2  coal_co2  flaring_co2  gas_co2  oil_co2  \\\n",
       "0                  NaN         0.0     0.015          0.0      0.0    0.000   \n",
       "1                  NaN         0.0     0.022          0.0      0.0    0.066   \n",
       "2                  NaN         0.0     0.026          0.0      0.0    0.066   \n",
       "3                  NaN         0.0     0.033          0.0      0.0    0.062   \n",
       "4                  NaN         0.0     0.037          0.0      0.0    0.066   \n",
       "\n",
       "   cement_co2_per_capita  coal_co2_per_capita  flaring_co2_per_capita  \\\n",
       "0                    0.0                0.002                     0.0   \n",
       "1                    0.0                0.003                     0.0   \n",
       "2                    0.0                0.003                     0.0   \n",
       "3                    0.0                0.004                     0.0   \n",
       "4                    0.0                0.005                     0.0   \n",
       "\n",
       "   gas_co2_per_capita  oil_co2_per_capita  total_ghg  ghg_per_capita  methane  \\\n",
       "0                 0.0               0.000        NaN             NaN      NaN   \n",
       "1                 0.0               0.009        NaN             NaN      NaN   \n",
       "2                 0.0               0.008        NaN             NaN      NaN   \n",
       "3                 0.0               0.008        NaN             NaN      NaN   \n",
       "4                 0.0               0.008        NaN             NaN      NaN   \n",
       "\n",
       "   methane_per_capita  nitrous_oxide  nitrous_oxide_per_capita  \\\n",
       "0                 NaN            NaN                       NaN   \n",
       "1                 NaN            NaN                       NaN   \n",
       "2                 NaN            NaN                       NaN   \n",
       "3                 NaN            NaN                       NaN   \n",
       "4                 NaN            NaN                       NaN   \n",
       "\n",
       "   primary_energy_consumption  energy_per_capita  energy_per_gdp  population  \\\n",
       "0                         NaN                NaN             NaN   7663783.0   \n",
       "1                         NaN                NaN             NaN   7752000.0   \n",
       "2                         NaN                NaN             NaN   7840000.0   \n",
       "3                         NaN                NaN             NaN   7936000.0   \n",
       "4                         NaN                NaN             NaN   8040000.0   \n",
       "\n",
       "            gdp  \n",
       "0           NaN  \n",
       "1  1.949480e+10  \n",
       "2  2.006385e+10  \n",
       "3  2.074235e+10  \n",
       "4  2.201546e+10  "
      ]
     },
     "execution_count": 2,
     "metadata": {},
     "output_type": "execute_result"
    }
   ],
   "source": [
    "# Import data \n",
    "data = pd.read_csv('data/owid-co2-data.csv')\n",
    "df = data\n",
    "\n",
    "# Observe data shape and head\n",
    "print(df.shape)\n",
    "df.head()"
   ]
  },
  {
   "cell_type": "code",
   "execution_count": 3,
   "metadata": {
    "ExecuteTime": {
     "end_time": "2021-01-31T02:16:45.501802Z",
     "start_time": "2021-01-31T02:16:45.484144Z"
    }
   },
   "outputs": [
    {
     "data": {
      "text/plain": [
       "(16008, 38)"
      ]
     },
     "execution_count": 3,
     "metadata": {},
     "output_type": "execute_result"
    }
   ],
   "source": [
    "# Only include data from 1950 and later\n",
    "df = df[df['year']>=1950]\n",
    "\n",
    "# Observe new df shape\n",
    "df.shape"
   ]
  },
  {
   "cell_type": "code",
   "execution_count": 4,
   "metadata": {
    "ExecuteTime": {
     "end_time": "2021-01-31T02:16:47.150674Z",
     "start_time": "2021-01-31T02:16:47.114593Z"
    }
   },
   "outputs": [
    {
     "data": {
      "text/plain": [
       "(14404, 19)"
      ]
     },
     "execution_count": 4,
     "metadata": {},
     "output_type": "execute_result"
    }
   ],
   "source": [
    "# Drop columns with >8K null values (50% of data)\n",
    "df.dropna(axis=1,thresh=8000, inplace=True)\n",
    "\n",
    "#Drop continents, identified by lacking an ISO code\n",
    "df.dropna(axis=0,subset=['iso_code'],inplace=True)\n",
    "\n",
    "#Drop \"World\" entries\n",
    "df = df[df.country != 'World']\n",
    "\n",
    "#Observe new df shape\n",
    "df.shape"
   ]
  },
  {
   "cell_type": "markdown",
   "metadata": {},
   "source": [
    "# Exploratory Data Analysis (EDA)"
   ]
  },
  {
   "cell_type": "code",
   "execution_count": 5,
   "metadata": {
    "ExecuteTime": {
     "end_time": "2021-01-30T18:04:26.912745Z",
     "start_time": "2021-01-30T18:04:26.907481Z"
    }
   },
   "outputs": [],
   "source": [
    "## EDIT: Annual C02 emissions worldwide (several cells)"
   ]
  },
  {
   "cell_type": "code",
   "execution_count": null,
   "metadata": {},
   "outputs": [],
   "source": [
    "## Plot several countries to compare (y= year, x=co2, groupby(compare_countries))"
   ]
  },
  {
   "cell_type": "code",
   "execution_count": 5,
   "metadata": {
    "ExecuteTime": {
     "end_time": "2021-01-31T02:17:07.394353Z",
     "start_time": "2021-01-31T02:17:07.359835Z"
    }
   },
   "outputs": [
    {
     "data": {
      "text/html": [
       "<div>\n",
       "<style scoped>\n",
       "    .dataframe tbody tr th:only-of-type {\n",
       "        vertical-align: middle;\n",
       "    }\n",
       "\n",
       "    .dataframe tbody tr th {\n",
       "        vertical-align: top;\n",
       "    }\n",
       "\n",
       "    .dataframe thead th {\n",
       "        text-align: right;\n",
       "    }\n",
       "</style>\n",
       "<table border=\"1\" class=\"dataframe\">\n",
       "  <thead>\n",
       "    <tr style=\"text-align: right;\">\n",
       "      <th></th>\n",
       "      <th>co2</th>\n",
       "    </tr>\n",
       "    <tr>\n",
       "      <th>year</th>\n",
       "      <th></th>\n",
       "    </tr>\n",
       "  </thead>\n",
       "  <tbody>\n",
       "    <tr>\n",
       "      <th>1800-01-01</th>\n",
       "      <td>0.253</td>\n",
       "    </tr>\n",
       "    <tr>\n",
       "      <th>1801-01-01</th>\n",
       "      <td>0.267</td>\n",
       "    </tr>\n",
       "    <tr>\n",
       "      <th>1802-01-01</th>\n",
       "      <td>0.289</td>\n",
       "    </tr>\n",
       "    <tr>\n",
       "      <th>1803-01-01</th>\n",
       "      <td>0.297</td>\n",
       "    </tr>\n",
       "    <tr>\n",
       "      <th>1804-01-01</th>\n",
       "      <td>0.333</td>\n",
       "    </tr>\n",
       "  </tbody>\n",
       "</table>\n",
       "</div>"
      ],
      "text/plain": [
       "              co2\n",
       "year             \n",
       "1800-01-01  0.253\n",
       "1801-01-01  0.267\n",
       "1802-01-01  0.289\n",
       "1803-01-01  0.297\n",
       "1804-01-01  0.333"
      ]
     },
     "execution_count": 5,
     "metadata": {},
     "output_type": "execute_result"
    }
   ],
   "source": [
    "df_usa = data[data['country'] == 'United States']\n",
    "df_usa = df_usa[df_usa['year'] >= 1800]\n",
    "df_usa = df_usa[['year','co2']]\n",
    "df_usa.set_index('year', inplace=True)\n",
    "\n",
    "# Convert year to DateTime object\n",
    "df_usa.index = pd.to_datetime(df_usa.index,format='%Y')\n",
    "\n",
    "df_usa.head()"
   ]
  },
  {
   "cell_type": "code",
   "execution_count": 6,
   "metadata": {
    "ExecuteTime": {
     "end_time": "2021-01-31T02:17:08.562536Z",
     "start_time": "2021-01-31T02:17:08.535160Z"
    }
   },
   "outputs": [
    {
     "data": {
      "text/html": [
       "<div>\n",
       "<style scoped>\n",
       "    .dataframe tbody tr th:only-of-type {\n",
       "        vertical-align: middle;\n",
       "    }\n",
       "\n",
       "    .dataframe tbody tr th {\n",
       "        vertical-align: top;\n",
       "    }\n",
       "\n",
       "    .dataframe thead th {\n",
       "        text-align: right;\n",
       "    }\n",
       "</style>\n",
       "<table border=\"1\" class=\"dataframe\">\n",
       "  <thead>\n",
       "    <tr style=\"text-align: right;\">\n",
       "      <th></th>\n",
       "      <th>co2</th>\n",
       "    </tr>\n",
       "    <tr>\n",
       "      <th>year</th>\n",
       "      <th></th>\n",
       "    </tr>\n",
       "  </thead>\n",
       "  <tbody>\n",
       "    <tr>\n",
       "      <th>1800-01-01</th>\n",
       "      <td>28.092</td>\n",
       "    </tr>\n",
       "    <tr>\n",
       "      <th>1801-01-01</th>\n",
       "      <td>27.960</td>\n",
       "    </tr>\n",
       "    <tr>\n",
       "      <th>1802-01-01</th>\n",
       "      <td>36.783</td>\n",
       "    </tr>\n",
       "    <tr>\n",
       "      <th>1803-01-01</th>\n",
       "      <td>31.488</td>\n",
       "    </tr>\n",
       "    <tr>\n",
       "      <th>1804-01-01</th>\n",
       "      <td>34.310</td>\n",
       "    </tr>\n",
       "  </tbody>\n",
       "</table>\n",
       "</div>"
      ],
      "text/plain": [
       "               co2\n",
       "year              \n",
       "1800-01-01  28.092\n",
       "1801-01-01  27.960\n",
       "1802-01-01  36.783\n",
       "1803-01-01  31.488\n",
       "1804-01-01  34.310"
      ]
     },
     "execution_count": 6,
     "metadata": {},
     "output_type": "execute_result"
    }
   ],
   "source": [
    "## EDIT\n",
    "df_world = data[data['country'] == 'World']\n",
    "df_world = df_world[df_world['year'] >= 1800]\n",
    "df_world = df_world[['year','co2']]\n",
    "df_world.set_index('year', inplace=True)\n",
    "\n",
    "# Convert year to DateTime object\n",
    "df_world.index = pd.to_datetime(df_world.index,format='%Y')\n",
    "\n",
    "df_world.head()"
   ]
  },
  {
   "cell_type": "code",
   "execution_count": 9,
   "metadata": {
    "ExecuteTime": {
     "end_time": "2021-01-31T02:17:41.394901Z",
     "start_time": "2021-01-31T02:17:41.046745Z"
    },
    "scrolled": false
   },
   "outputs": [
    {
     "data": {
      "image/png": "[encoded data removed]",
      "text/plain": [
       "<Figure size 432x288 with 1 Axes>"
      ]
     },
     "metadata": {
      "needs_background": "light"
     },
     "output_type": "display_data"
    }
   ],
   "source": [
    "## EDIT: comparing world with US - CHANGE TO PLOTLY\n",
    "plt.plot(df_world, color='red', label='World')\n",
    "plt.plot(df_usa,color='blue', label='USA')\n",
    "\n",
    "plt.legend(loc='best')\n",
    "\n",
    "plt.title('Rolling Mean & Standard Deviation')\n",
    "plt.xlabel('Year')\n",
    "plt.ylabel('CO2 Per Capita (Tonnes)')\n",
    "plt.show(block=False)"
   ]
  },
  {
   "cell_type": "code",
   "execution_count": null,
   "metadata": {},
   "outputs": [],
   "source": []
  },
  {
   "cell_type": "code",
   "execution_count": null,
   "metadata": {},
   "outputs": [],
   "source": []
  },
  {
   "cell_type": "markdown",
   "metadata": {},
   "source": [
    "## Top 50 CO2 Emitters"
   ]
  },
  {
   "cell_type": "markdown",
   "metadata": {},
   "source": [
    "**Add dotted line after Indonesia**"
   ]
  },
  {
   "cell_type": "code",
   "execution_count": 23,
   "metadata": {
    "ExecuteTime": {
     "end_time": "2021-01-31T02:46:35.512359Z",
     "start_time": "2021-01-31T02:46:34.297314Z"
    },
    "scrolled": false
   },
   "outputs": [
    {
     "data": {
      "image/png": "[encoded data removed]",
      "text/plain": [
       "<Figure size 1080x720 with 1 Axes>"
      ]
     },
     "metadata": {
      "needs_background": "light"
     },
     "output_type": "display_data"
    }
   ],
   "source": [
    "# Visualize top 50 total CO2 emissions by country\n",
    "top50 = df.groupby(['country'])['co2'].mean().sort_values(ascending=False).index[:50]\n",
    "height = df.groupby(['country'])['co2'].mean().sort_values(ascending=False)[:50]\n",
    "\n",
    "fig, ax = plt.subplots(figsize=(15,10))\n",
    "plt.bar(x=top50 , height=height, color = 'mediumseagreen')\n",
    "\n",
    "# plt.xlabel('Country')\n",
    "plt.title(\"Mean CO2 Emissions Per Year \\n (1950-2018)\", fontsize=20)\n",
    "plt.ylabel('Mean Total CO2 Emission Per Year (Tonnes)', fontsize=15)\n",
    "for tick in ax.xaxis.get_major_ticks():\n",
    "    tick.label.set_fontsize(14)\n",
    "    tick.label.set_rotation('vertical')\n",
    "\n",
    "# Threshold to indicate countries above 150 mean tonnes\n",
    "threshold = 150\n",
    "plt.axhline(y=threshold,linewidth=2, linestyle='dashed', color='mediumblue')\n",
    "\n",
    "plt.show()"
   ]
  },
  {
   "cell_type": "code",
   "execution_count": 117,
   "metadata": {
    "ExecuteTime": {
     "end_time": "2021-01-31T00:33:06.650161Z",
     "start_time": "2021-01-31T00:33:06.190963Z"
    }
   },
   "outputs": [
    {
     "data": {
      "application/vnd.plotly.v1+json": {
       "config": {
        "plotlyServerURL": "https://plot.ly"
       },
       "data": [
        {
         "alignmentgroup": "True",
         "bingroup": "x",
         "histfunc": "sum",
         "hovertemplate": "color=4572.443144927537<br>x=%{x}<br>sum of y=%{y}<extra></extra>",
         "legendgroup": "4572.443144927537",
         "marker": {
          "color": "#EF553B"
         },
         "name": "4572.443144927537",
         "offsetgroup": "4572.443144927537",
         "orientation": "v",
         "showlegend": true,
         "type": "histogram",
         "x": [
          "United States"
         ],
         "xaxis": "x",
         "y": [
          4572.443144927537
         ],
         "yaxis": "y"
        },
        {
         "alignmentgroup": "True",
         "bingroup": "x",
         "histfunc": "sum",
         "hovertemplate": "color=3020.4108840579715<br>x=%{x}<br>sum of y=%{y}<extra></extra>",
         "legendgroup": "3020.4108840579715",
         "marker": {
          "color": "#00cc96"
         },
         "name": "3020.4108840579715",
         "offsetgroup": "3020.4108840579715",
         "orientation": "v",
         "showlegend": true,
         "type": "histogram",
         "x": [
          "China"
         ],
         "xaxis": "x",
         "y": [
          3020.4108840579715
         ],
         "yaxis": "y"
        },
        {
         "alignmentgroup": "True",
         "bingroup": "x",
         "histfunc": "sum",
         "hovertemplate": "color=1678.6726333333338<br>x=%{x}<br>sum of y=%{y}<extra></extra>",
         "legendgroup": "1678.6726333333338",
         "marker": {
          "color": "#ab63fa"
         },
         "name": "1678.6726333333338",
         "offsetgroup": "1678.6726333333338",
         "orientation": "v",
         "showlegend": true,
         "type": "histogram",
         "x": [
          "Russia"
         ],
         "xaxis": "x",
         "y": [
          1678.6726333333338
         ],
         "yaxis": "y"
        },
        {
         "alignmentgroup": "True",
         "bingroup": "x",
         "histfunc": "sum",
         "hovertemplate": "color=907.5554347826088<br>x=%{x}<br>sum of y=%{y}<extra></extra>",
         "legendgroup": "907.5554347826088",
         "marker": {
          "color": "#FFA15A"
         },
         "name": "907.5554347826088",
         "offsetgroup": "907.5554347826088",
         "orientation": "v",
         "showlegend": true,
         "type": "histogram",
         "x": [
          "Germany"
         ],
         "xaxis": "x",
         "y": [
          907.5554347826088
         ],
         "yaxis": "y"
        },
        {
         "alignmentgroup": "True",
         "bingroup": "x",
         "histfunc": "sum",
         "hovertemplate": "color=862.3538550724638<br>x=%{x}<br>sum of y=%{y}<extra></extra>",
         "legendgroup": "862.3538550724638",
         "marker": {
          "color": "#19d3f3"
         },
         "name": "862.3538550724638",
         "offsetgroup": "862.3538550724638",
         "orientation": "v",
         "showlegend": true,
         "type": "histogram",
         "x": [
          "Japan"
         ],
         "xaxis": "x",
         "y": [
          862.3538550724638
         ],
         "yaxis": "y"
        },
        {
         "alignmentgroup": "True",
         "bingroup": "x",
         "histfunc": "sum",
         "hovertemplate": "color=711.136391304348<br>x=%{x}<br>sum of y=%{y}<extra></extra>",
         "legendgroup": "711.136391304348",
         "marker": {
          "color": "#FF6692"
         },
         "name": "711.136391304348",
         "offsetgroup": "711.136391304348",
         "orientation": "v",
         "showlegend": true,
         "type": "histogram",
         "x": [
          "India"
         ],
         "xaxis": "x",
         "y": [
          711.136391304348
         ],
         "yaxis": "y"
        },
        {
         "alignmentgroup": "True",
         "bingroup": "x",
         "histfunc": "sum",
         "hovertemplate": "color=562.3173333333334<br>x=%{x}<br>sum of y=%{y}<extra></extra>",
         "legendgroup": "562.3173333333334",
         "marker": {
          "color": "#B6E880"
         },
         "name": "562.3173333333334",
         "offsetgroup": "562.3173333333334",
         "orientation": "v",
         "showlegend": true,
         "type": "histogram",
         "x": [
          "United Kingdom"
         ],
         "xaxis": "x",
         "y": [
          562.3173333333334
         ],
         "yaxis": "y"
        },
        {
         "alignmentgroup": "True",
         "bingroup": "x",
         "histfunc": "sum",
         "hovertemplate": "color=431.59935000000013<br>x=%{x}<br>sum of y=%{y}<extra></extra>",
         "legendgroup": "431.59935000000013",
         "marker": {
          "color": "#FF97FF"
         },
         "name": "431.59935000000013",
         "offsetgroup": "431.59935000000013",
         "orientation": "v",
         "showlegend": true,
         "type": "histogram",
         "x": [
          "Ukraine"
         ],
         "xaxis": "x",
         "y": [
          431.59935000000013
         ],
         "yaxis": "y"
        },
        {
         "alignmentgroup": "True",
         "bingroup": "x",
         "histfunc": "sum",
         "hovertemplate": "color=408.19634782608694<br>x=%{x}<br>sum of y=%{y}<extra></extra>",
         "legendgroup": "408.19634782608694",
         "marker": {
          "color": "#FECB52"
         },
         "name": "408.19634782608694",
         "offsetgroup": "408.19634782608694",
         "orientation": "v",
         "showlegend": true,
         "type": "histogram",
         "x": [
          "Canada"
         ],
         "xaxis": "x",
         "y": [
          408.19634782608694
         ],
         "yaxis": "y"
        },
        {
         "alignmentgroup": "True",
         "bingroup": "x",
         "histfunc": "sum",
         "hovertemplate": "color=380.73443478260873<br>x=%{x}<br>sum of y=%{y}<extra></extra>",
         "legendgroup": "380.73443478260873",
         "marker": {
          "color": "#636efa"
         },
         "name": "380.73443478260873",
         "offsetgroup": "380.73443478260873",
         "orientation": "v",
         "showlegend": true,
         "type": "histogram",
         "x": [
          "France"
         ],
         "xaxis": "x",
         "y": [
          380.73443478260873
         ],
         "yaxis": "y"
        },
        {
         "alignmentgroup": "True",
         "bingroup": "x",
         "histfunc": "sum",
         "hovertemplate": "color=323.5037246376811<br>x=%{x}<br>sum of y=%{y}<extra></extra>",
         "legendgroup": "323.5037246376811",
         "marker": {
          "color": "#EF553B"
         },
         "name": "323.5037246376811",
         "offsetgroup": "323.5037246376811",
         "orientation": "v",
         "showlegend": true,
         "type": "histogram",
         "x": [
          "Italy"
         ],
         "xaxis": "x",
         "y": [
          323.5037246376811
         ],
         "yaxis": "y"
        },
        {
         "alignmentgroup": "True",
         "bingroup": "x",
         "histfunc": "sum",
         "hovertemplate": "color=315.62415942028974<br>x=%{x}<br>sum of y=%{y}<extra></extra>",
         "legendgroup": "315.62415942028974",
         "marker": {
          "color": "#00cc96"
         },
         "name": "315.62415942028974",
         "offsetgroup": "315.62415942028974",
         "orientation": "v",
         "showlegend": true,
         "type": "histogram",
         "x": [
          "Poland"
         ],
         "xaxis": "x",
         "y": [
          315.62415942028974
         ],
         "yaxis": "y"
        },
        {
         "alignmentgroup": "True",
         "bingroup": "x",
         "histfunc": "sum",
         "hovertemplate": "color=273.0303043478261<br>x=%{x}<br>sum of y=%{y}<extra></extra>",
         "legendgroup": "273.0303043478261",
         "marker": {
          "color": "#ab63fa"
         },
         "name": "273.0303043478261",
         "offsetgroup": "273.0303043478261",
         "orientation": "v",
         "showlegend": true,
         "type": "histogram",
         "x": [
          "South Africa"
         ],
         "xaxis": "x",
         "y": [
          273.0303043478261
         ],
         "yaxis": "y"
        },
        {
         "alignmentgroup": "True",
         "bingroup": "x",
         "histfunc": "sum",
         "hovertemplate": "color=263.23860869565215<br>x=%{x}<br>sum of y=%{y}<extra></extra>",
         "legendgroup": "263.23860869565215",
         "marker": {
          "color": "#FFA15A"
         },
         "name": "263.23860869565215",
         "offsetgroup": "263.23860869565215",
         "orientation": "v",
         "showlegend": true,
         "type": "histogram",
         "x": [
          "Mexico"
         ],
         "xaxis": "x",
         "y": [
          263.23860869565215
         ],
         "yaxis": "y"
        },
        {
         "alignmentgroup": "True",
         "bingroup": "x",
         "histfunc": "sum",
         "hovertemplate": "color=239.0994637681159<br>x=%{x}<br>sum of y=%{y}<extra></extra>",
         "legendgroup": "239.0994637681159",
         "marker": {
          "color": "#19d3f3"
         },
         "name": "239.0994637681159",
         "offsetgroup": "239.0994637681159",
         "orientation": "v",
         "showlegend": true,
         "type": "histogram",
         "x": [
          "Australia"
         ],
         "xaxis": "x",
         "y": [
          239.0994637681159
         ],
         "yaxis": "y"
        },
        {
         "alignmentgroup": "True",
         "bingroup": "x",
         "histfunc": "sum",
         "hovertemplate": "color=239.01953623188402<br>x=%{x}<br>sum of y=%{y}<extra></extra>",
         "legendgroup": "239.01953623188402",
         "marker": {
          "color": "#FF6692"
         },
         "name": "239.01953623188402",
         "offsetgroup": "239.01953623188402",
         "orientation": "v",
         "showlegend": true,
         "type": "histogram",
         "x": [
          "South Korea"
         ],
         "xaxis": "x",
         "y": [
          239.01953623188402
         ],
         "yaxis": "y"
        },
        {
         "alignmentgroup": "True",
         "bingroup": "x",
         "histfunc": "sum",
         "hovertemplate": "color=238.63742028985502<br>x=%{x}<br>sum of y=%{y}<extra></extra>",
         "legendgroup": "238.63742028985502",
         "marker": {
          "color": "#B6E880"
         },
         "name": "238.63742028985502",
         "offsetgroup": "238.63742028985502",
         "orientation": "v",
         "showlegend": true,
         "type": "histogram",
         "x": [
          "Iran"
         ],
         "xaxis": "x",
         "y": [
          238.63742028985502
         ],
         "yaxis": "y"
        },
        {
         "alignmentgroup": "True",
         "bingroup": "x",
         "histfunc": "sum",
         "hovertemplate": "color=208.2546376811594<br>x=%{x}<br>sum of y=%{y}<extra></extra>",
         "legendgroup": "208.2546376811594",
         "marker": {
          "color": "#FF97FF"
         },
         "name": "208.2546376811594",
         "offsetgroup": "208.2546376811594",
         "orientation": "v",
         "showlegend": true,
         "type": "histogram",
         "x": [
          "Brazil"
         ],
         "xaxis": "x",
         "y": [
          208.2546376811594
         ],
         "yaxis": "y"
        },
        {
         "alignmentgroup": "True",
         "bingroup": "x",
         "histfunc": "sum",
         "hovertemplate": "color=207.84673913043477<br>x=%{x}<br>sum of y=%{y}<extra></extra>",
         "legendgroup": "207.84673913043477",
         "marker": {
          "color": "#FECB52"
         },
         "name": "207.84673913043477",
         "offsetgroup": "207.84673913043477",
         "orientation": "v",
         "showlegend": true,
         "type": "histogram",
         "x": [
          "Saudi Arabia"
         ],
         "xaxis": "x",
         "y": [
          207.84673913043477
         ],
         "yaxis": "y"
        },
        {
         "alignmentgroup": "True",
         "bingroup": "x",
         "histfunc": "sum",
         "hovertemplate": "color=191.89888405797106<br>x=%{x}<br>sum of y=%{y}<extra></extra>",
         "legendgroup": "191.89888405797106",
         "marker": {
          "color": "#636efa"
         },
         "name": "191.89888405797106",
         "offsetgroup": "191.89888405797106",
         "orientation": "v",
         "showlegend": true,
         "type": "histogram",
         "x": [
          "Spain"
         ],
         "xaxis": "x",
         "y": [
          191.89888405797106
         ],
         "yaxis": "y"
        },
        {
         "alignmentgroup": "True",
         "bingroup": "x",
         "histfunc": "sum",
         "hovertemplate": "color=190.31169999999995<br>x=%{x}<br>sum of y=%{y}<extra></extra>",
         "legendgroup": "190.31169999999995",
         "marker": {
          "color": "#EF553B"
         },
         "name": "190.31169999999995",
         "offsetgroup": "190.31169999999995",
         "orientation": "v",
         "showlegend": true,
         "type": "histogram",
         "x": [
          "Kazakhstan"
         ],
         "xaxis": "x",
         "y": [
          190.31169999999995
         ],
         "yaxis": "y"
        },
        {
         "alignmentgroup": "True",
         "bingroup": "x",
         "histfunc": "sum",
         "hovertemplate": "color=178.857463768116<br>x=%{x}<br>sum of y=%{y}<extra></extra>",
         "legendgroup": "178.857463768116",
         "marker": {
          "color": "#00cc96"
         },
         "name": "178.857463768116",
         "offsetgroup": "178.857463768116",
         "orientation": "v",
         "showlegend": true,
         "type": "histogram",
         "x": [
          "Indonesia"
         ],
         "xaxis": "x",
         "y": [
          178.857463768116
         ],
         "yaxis": "y"
        },
        {
         "alignmentgroup": "True",
         "bingroup": "x",
         "histfunc": "sum",
         "hovertemplate": "color=143.2185072463768<br>x=%{x}<br>sum of y=%{y}<extra></extra>",
         "legendgroup": "143.2185072463768",
         "marker": {
          "color": "#ab63fa"
         },
         "name": "143.2185072463768",
         "offsetgroup": "143.2185072463768",
         "orientation": "v",
         "showlegend": true,
         "type": "histogram",
         "x": [
          "Turkey"
         ],
         "xaxis": "x",
         "y": [
          143.2185072463768
         ],
         "yaxis": "y"
        },
        {
         "alignmentgroup": "True",
         "bingroup": "x",
         "histfunc": "sum",
         "hovertemplate": "color=140.43108333333336<br>x=%{x}<br>sum of y=%{y}<extra></extra>",
         "legendgroup": "140.43108333333336",
         "marker": {
          "color": "#FFA15A"
         },
         "name": "140.43108333333336",
         "offsetgroup": "140.43108333333336",
         "orientation": "v",
         "showlegend": true,
         "type": "histogram",
         "x": [
          "Czechia"
         ],
         "xaxis": "x",
         "y": [
          140.43108333333336
         ],
         "yaxis": "y"
        },
        {
         "alignmentgroup": "True",
         "bingroup": "x",
         "histfunc": "sum",
         "hovertemplate": "color=139.8893768115942<br>x=%{x}<br>sum of y=%{y}<extra></extra>",
         "legendgroup": "139.8893768115942",
         "marker": {
          "color": "#19d3f3"
         },
         "name": "139.8893768115942",
         "offsetgroup": "139.8893768115942",
         "orientation": "v",
         "showlegend": true,
         "type": "histogram",
         "x": [
          "Netherlands"
         ],
         "xaxis": "x",
         "y": [
          139.8893768115942
         ],
         "yaxis": "y"
        },
        {
         "alignmentgroup": "True",
         "bingroup": "x",
         "histfunc": "sum",
         "hovertemplate": "color=117.49526086956523<br>x=%{x}<br>sum of y=%{y}<extra></extra>",
         "legendgroup": "117.49526086956523",
         "marker": {
          "color": "#FF6692"
         },
         "name": "117.49526086956523",
         "offsetgroup": "117.49526086956523",
         "orientation": "v",
         "showlegend": true,
         "type": "histogram",
         "x": [
          "Taiwan"
         ],
         "xaxis": "x",
         "y": [
          117.49526086956523
         ],
         "yaxis": "y"
        },
        {
         "alignmentgroup": "True",
         "bingroup": "x",
         "histfunc": "sum",
         "hovertemplate": "color=111.94960869565215<br>x=%{x}<br>sum of y=%{y}<extra></extra>",
         "legendgroup": "111.94960869565215",
         "marker": {
          "color": "#B6E880"
         },
         "name": "111.94960869565215",
         "offsetgroup": "111.94960869565215",
         "orientation": "v",
         "showlegend": true,
         "type": "histogram",
         "x": [
          "Belgium"
         ],
         "xaxis": "x",
         "y": [
          111.94960869565215
         ],
         "yaxis": "y"
        },
        {
         "alignmentgroup": "True",
         "bingroup": "x",
         "histfunc": "sum",
         "hovertemplate": "color=111.89952173913045<br>x=%{x}<br>sum of y=%{y}<extra></extra>",
         "legendgroup": "111.89952173913045",
         "marker": {
          "color": "#FF97FF"
         },
         "name": "111.89952173913045",
         "offsetgroup": "111.89952173913045",
         "orientation": "v",
         "showlegend": true,
         "type": "histogram",
         "x": [
          "Romania"
         ],
         "xaxis": "x",
         "y": [
          111.89952173913045
         ],
         "yaxis": "y"
        },
        {
         "alignmentgroup": "True",
         "bingroup": "x",
         "histfunc": "sum",
         "hovertemplate": "color=110.50307246376809<br>x=%{x}<br>sum of y=%{y}<extra></extra>",
         "legendgroup": "110.50307246376809",
         "marker": {
          "color": "#FECB52"
         },
         "name": "110.50307246376809",
         "offsetgroup": "110.50307246376809",
         "orientation": "v",
         "showlegend": true,
         "type": "histogram",
         "x": [
          "Argentina"
         ],
         "xaxis": "x",
         "y": [
          110.50307246376809
         ],
         "yaxis": "y"
        },
        {
         "alignmentgroup": "True",
         "bingroup": "x",
         "histfunc": "sum",
         "hovertemplate": "color=107.28500000000004<br>x=%{x}<br>sum of y=%{y}<extra></extra>",
         "legendgroup": "107.28500000000004",
         "marker": {
          "color": "#636efa"
         },
         "name": "107.28500000000004",
         "offsetgroup": "107.28500000000004",
         "orientation": "v",
         "showlegend": true,
         "type": "histogram",
         "x": [
          "Venezuela"
         ],
         "xaxis": "x",
         "y": [
          107.28500000000004
         ],
         "yaxis": "y"
        },
        {
         "alignmentgroup": "True",
         "bingroup": "x",
         "histfunc": "sum",
         "hovertemplate": "color=99.34734782608699<br>x=%{x}<br>sum of y=%{y}<extra></extra>",
         "legendgroup": "99.34734782608699",
         "marker": {
          "color": "#EF553B"
         },
         "name": "99.34734782608699",
         "offsetgroup": "99.34734782608699",
         "orientation": "v",
         "showlegend": true,
         "type": "histogram",
         "x": [
          "Thailand"
         ],
         "xaxis": "x",
         "y": [
          99.34734782608699
         ],
         "yaxis": "y"
        },
        {
         "alignmentgroup": "True",
         "bingroup": "x",
         "histfunc": "sum",
         "hovertemplate": "color=97.51216666666669<br>x=%{x}<br>sum of y=%{y}<extra></extra>",
         "legendgroup": "97.51216666666669",
         "marker": {
          "color": "#00cc96"
         },
         "name": "97.51216666666669",
         "offsetgroup": "97.51216666666669",
         "orientation": "v",
         "showlegend": true,
         "type": "histogram",
         "x": [
          "Uzbekistan"
         ],
         "xaxis": "x",
         "y": [
          97.51216666666669
         ],
         "yaxis": "y"
        },
        {
         "alignmentgroup": "True",
         "bingroup": "x",
         "histfunc": "sum",
         "hovertemplate": "color=84.2868115942029<br>x=%{x}<br>sum of y=%{y}<extra></extra>",
         "legendgroup": "84.2868115942029",
         "marker": {
          "color": "#ab63fa"
         },
         "name": "84.2868115942029",
         "offsetgroup": "84.2868115942029",
         "orientation": "v",
         "showlegend": true,
         "type": "histogram",
         "x": [
          "Egypt"
         ],
         "xaxis": "x",
         "y": [
          84.2868115942029
         ],
         "yaxis": "y"
        },
        {
         "alignmentgroup": "True",
         "bingroup": "x",
         "histfunc": "sum",
         "hovertemplate": "color=78.44181159420287<br>x=%{x}<br>sum of y=%{y}<extra></extra>",
         "legendgroup": "78.44181159420287",
         "marker": {
          "color": "#FFA15A"
         },
         "name": "78.44181159420287",
         "offsetgroup": "78.44181159420287",
         "orientation": "v",
         "showlegend": true,
         "type": "histogram",
         "x": [
          "Malaysia"
         ],
         "xaxis": "x",
         "y": [
          78.44181159420287
         ],
         "yaxis": "y"
        },
        {
         "alignmentgroup": "True",
         "bingroup": "x",
         "histfunc": "sum",
         "hovertemplate": "color=76.35068333333334<br>x=%{x}<br>sum of y=%{y}<extra></extra>",
         "legendgroup": "76.35068333333334",
         "marker": {
          "color": "#19d3f3"
         },
         "name": "76.35068333333334",
         "offsetgroup": "76.35068333333334",
         "orientation": "v",
         "showlegend": true,
         "type": "histogram",
         "x": [
          "Belarus"
         ],
         "xaxis": "x",
         "y": [
          76.35068333333334
         ],
         "yaxis": "y"
        },
        {
         "alignmentgroup": "True",
         "bingroup": "x",
         "histfunc": "sum",
         "hovertemplate": "color=73.9719<br>x=%{x}<br>sum of y=%{y}<extra></extra>",
         "legendgroup": "73.9719",
         "marker": {
          "color": "#FF6692"
         },
         "name": "73.9719",
         "offsetgroup": "73.9719",
         "orientation": "v",
         "showlegend": true,
         "type": "histogram",
         "x": [
          "United Arab Emirates"
         ],
         "xaxis": "x",
         "y": [
          73.9719
         ],
         "yaxis": "y"
        },
        {
         "alignmentgroup": "True",
         "bingroup": "x",
         "histfunc": "sum",
         "hovertemplate": "color=70.30831884057972<br>x=%{x}<br>sum of y=%{y}<extra></extra>",
         "legendgroup": "70.30831884057972",
         "marker": {
          "color": "#B6E880"
         },
         "name": "70.30831884057972",
         "offsetgroup": "70.30831884057972",
         "orientation": "v",
         "showlegend": true,
         "type": "histogram",
         "x": [
          "North Korea"
         ],
         "xaxis": "x",
         "y": [
          70.30831884057972
         ],
         "yaxis": "y"
        },
        {
         "alignmentgroup": "True",
         "bingroup": "x",
         "histfunc": "sum",
         "hovertemplate": "color=68.85546376811594<br>x=%{x}<br>sum of y=%{y}<extra></extra>",
         "legendgroup": "68.85546376811594",
         "marker": {
          "color": "#FF97FF"
         },
         "name": "68.85546376811594",
         "offsetgroup": "68.85546376811594",
         "orientation": "v",
         "showlegend": true,
         "type": "histogram",
         "x": [
          "Pakistan"
         ],
         "xaxis": "x",
         "y": [
          68.85546376811594
         ],
         "yaxis": "y"
        },
        {
         "alignmentgroup": "True",
         "bingroup": "x",
         "histfunc": "sum",
         "hovertemplate": "color=61.598405797101464<br>x=%{x}<br>sum of y=%{y}<extra></extra>",
         "legendgroup": "61.598405797101464",
         "marker": {
          "color": "#FECB52"
         },
         "name": "61.598405797101464",
         "offsetgroup": "61.598405797101464",
         "orientation": "v",
         "showlegend": true,
         "type": "histogram",
         "x": [
          "Algeria"
         ],
         "xaxis": "x",
         "y": [
          61.598405797101464
         ],
         "yaxis": "y"
        },
        {
         "alignmentgroup": "True",
         "bingroup": "x",
         "histfunc": "sum",
         "hovertemplate": "color=60.365913043478265<br>x=%{x}<br>sum of y=%{y}<extra></extra>",
         "legendgroup": "60.365913043478265",
         "marker": {
          "color": "#636efa"
         },
         "name": "60.365913043478265",
         "offsetgroup": "60.365913043478265",
         "orientation": "v",
         "showlegend": true,
         "type": "histogram",
         "x": [
          "Hungary"
         ],
         "xaxis": "x",
         "y": [
          60.365913043478265
         ],
         "yaxis": "y"
        },
        {
         "alignmentgroup": "True",
         "bingroup": "x",
         "histfunc": "sum",
         "hovertemplate": "color=58.82156521739131<br>x=%{x}<br>sum of y=%{y}<extra></extra>",
         "legendgroup": "58.82156521739131",
         "marker": {
          "color": "#EF553B"
         },
         "name": "58.82156521739131",
         "offsetgroup": "58.82156521739131",
         "orientation": "v",
         "showlegend": true,
         "type": "histogram",
         "x": [
          "Iraq"
         ],
         "xaxis": "x",
         "y": [
          58.82156521739131
         ],
         "yaxis": "y"
        },
        {
         "alignmentgroup": "True",
         "bingroup": "x",
         "histfunc": "sum",
         "hovertemplate": "color=57.879913043478226<br>x=%{x}<br>sum of y=%{y}<extra></extra>",
         "legendgroup": "57.879913043478226",
         "marker": {
          "color": "#00cc96"
         },
         "name": "57.879913043478226",
         "offsetgroup": "57.879913043478226",
         "orientation": "v",
         "showlegend": true,
         "type": "histogram",
         "x": [
          "Sweden"
         ],
         "xaxis": "x",
         "y": [
          57.879913043478226
         ],
         "yaxis": "y"
        },
        {
         "alignmentgroup": "True",
         "bingroup": "x",
         "histfunc": "sum",
         "hovertemplate": "color=56.50839130434783<br>x=%{x}<br>sum of y=%{y}<extra></extra>",
         "legendgroup": "56.50839130434783",
         "marker": {
          "color": "#ab63fa"
         },
         "name": "56.50839130434783",
         "offsetgroup": "56.50839130434783",
         "orientation": "v",
         "showlegend": true,
         "type": "histogram",
         "x": [
          "Greece"
         ],
         "xaxis": "x",
         "y": [
          56.50839130434783
         ],
         "yaxis": "y"
        },
        {
         "alignmentgroup": "True",
         "bingroup": "x",
         "histfunc": "sum",
         "hovertemplate": "color=54.04571014492755<br>x=%{x}<br>sum of y=%{y}<extra></extra>",
         "legendgroup": "54.04571014492755",
         "marker": {
          "color": "#FFA15A"
         },
         "name": "54.04571014492755",
         "offsetgroup": "54.04571014492755",
         "orientation": "v",
         "showlegend": true,
         "type": "histogram",
         "x": [
          "Austria"
         ],
         "xaxis": "x",
         "y": [
          54.04571014492755
         ],
         "yaxis": "y"
        },
        {
         "alignmentgroup": "True",
         "bingroup": "x",
         "histfunc": "sum",
         "hovertemplate": "color=52.778942028985504<br>x=%{x}<br>sum of y=%{y}<extra></extra>",
         "legendgroup": "52.778942028985504",
         "marker": {
          "color": "#19d3f3"
         },
         "name": "52.778942028985504",
         "offsetgroup": "52.778942028985504",
         "orientation": "v",
         "showlegend": true,
         "type": "histogram",
         "x": [
          "Nigeria"
         ],
         "xaxis": "x",
         "y": [
          52.778942028985504
         ],
         "yaxis": "y"
        },
        {
         "alignmentgroup": "True",
         "bingroup": "x",
         "histfunc": "sum",
         "hovertemplate": "color=52.674463768115935<br>x=%{x}<br>sum of y=%{y}<extra></extra>",
         "legendgroup": "52.674463768115935",
         "marker": {
          "color": "#FF6692"
         },
         "name": "52.674463768115935",
         "offsetgroup": "52.674463768115935",
         "orientation": "v",
         "showlegend": true,
         "type": "histogram",
         "x": [
          "Bulgaria"
         ],
         "xaxis": "x",
         "y": [
          52.674463768115935
         ],
         "yaxis": "y"
        },
        {
         "alignmentgroup": "True",
         "bingroup": "x",
         "histfunc": "sum",
         "hovertemplate": "color=48.57930434782607<br>x=%{x}<br>sum of y=%{y}<extra></extra>",
         "legendgroup": "48.57930434782607",
         "marker": {
          "color": "#B6E880"
         },
         "name": "48.57930434782607",
         "offsetgroup": "48.57930434782607",
         "orientation": "v",
         "showlegend": true,
         "type": "histogram",
         "x": [
          "Denmark"
         ],
         "xaxis": "x",
         "y": [
          48.57930434782607
         ],
         "yaxis": "y"
        },
        {
         "alignmentgroup": "True",
         "bingroup": "x",
         "histfunc": "sum",
         "hovertemplate": "color=46.94452173913043<br>x=%{x}<br>sum of y=%{y}<extra></extra>",
         "legendgroup": "46.94452173913043",
         "marker": {
          "color": "#FF97FF"
         },
         "name": "46.94452173913043",
         "offsetgroup": "46.94452173913043",
         "orientation": "v",
         "showlegend": true,
         "type": "histogram",
         "x": [
          "Vietnam"
         ],
         "xaxis": "x",
         "y": [
          46.94452173913043
         ],
         "yaxis": "y"
        },
        {
         "alignmentgroup": "True",
         "bingroup": "x",
         "histfunc": "sum",
         "hovertemplate": "color=46.07127536231882<br>x=%{x}<br>sum of y=%{y}<extra></extra>",
         "legendgroup": "46.07127536231882",
         "marker": {
          "color": "#FECB52"
         },
         "name": "46.07127536231882",
         "offsetgroup": "46.07127536231882",
         "orientation": "v",
         "showlegend": true,
         "type": "histogram",
         "x": [
          "Colombia"
         ],
         "xaxis": "x",
         "y": [
          46.07127536231882
         ],
         "yaxis": "y"
        },
        {
         "alignmentgroup": "True",
         "bingroup": "x",
         "histfunc": "sum",
         "hovertemplate": "color=46.01715<br>x=%{x}<br>sum of y=%{y}<extra></extra>",
         "legendgroup": "46.01715",
         "marker": {
          "color": "#636efa"
         },
         "name": "46.01715",
         "offsetgroup": "46.01715",
         "orientation": "v",
         "showlegend": true,
         "type": "histogram",
         "x": [
          "Slovakia"
         ],
         "xaxis": "x",
         "y": [
          46.01715
         ],
         "yaxis": "y"
        }
       ],
       "layout": {
        "barmode": "relative",
        "legend": {
         "title": {
          "text": "color"
         },
         "tracegroupgap": 0
        },
        "margin": {
         "t": 60
        },
        "paper_bgcolor": "rgba(0, 0, 0, 0)",
        "plot_bgcolor": "rgba(0, 0, 0, 0)",
        "shapes": [
         {
          "type": "line",
          "x0": 0,
          "x1": 0,
          "xref": "x",
          "y0": 150,
          "y1": 1,
          "yref": "paper"
         }
        ],
        "showlegend": false,
        "template": {
         "data": {
          "bar": [
           {
            "error_x": {
             "color": "#2a3f5f"
            },
            "error_y": {
             "color": "#2a3f5f"
            },
            "marker": {
             "line": {
              "color": "#E5ECF6",
              "width": 0.5
             }
            },
            "type": "bar"
           }
          ],
          "barpolar": [
           {
            "marker": {
             "line": {
              "color": "#E5ECF6",
              "width": 0.5
             }
            },
            "type": "barpolar"
           }
          ],
          "carpet": [
           {
            "aaxis": {
             "endlinecolor": "#2a3f5f",
             "gridcolor": "white",
             "linecolor": "white",
             "minorgridcolor": "white",
             "startlinecolor": "#2a3f5f"
            },
            "baxis": {
             "endlinecolor": "#2a3f5f",
             "gridcolor": "white",
             "linecolor": "white",
             "minorgridcolor": "white",
             "startlinecolor": "#2a3f5f"
            },
            "type": "carpet"
           }
          ],
          "choropleth": [
           {
            "colorbar": {
             "outlinewidth": 0,
             "ticks": ""
            },
            "type": "choropleth"
           }
          ],
          "contour": [
           {
            "colorbar": {
             "outlinewidth": 0,
             "ticks": ""
            },
            "colorscale": [
             [
              0,
              "#0d0887"
             ],
             [
              0.1111111111111111,
              "#46039f"
             ],
             [
              0.2222222222222222,
              "#7201a8"
             ],
             [
              0.3333333333333333,
              "#9c179e"
             ],
             [
              0.4444444444444444,
              "#bd3786"
             ],
             [
              0.5555555555555556,
              "#d8576b"
             ],
             [
              0.6666666666666666,
              "#ed7953"
             ],
             [
              0.7777777777777778,
              "#fb9f3a"
             ],
             [
              0.8888888888888888,
              "#fdca26"
             ],
             [
              1,
              "#f0f921"
             ]
            ],
            "type": "contour"
           }
          ],
          "contourcarpet": [
           {
            "colorbar": {
             "outlinewidth": 0,
             "ticks": ""
            },
            "type": "contourcarpet"
           }
          ],
          "heatmap": [
           {
            "colorbar": {
             "outlinewidth": 0,
             "ticks": ""
            },
            "colorscale": [
             [
              0,
              "#0d0887"
             ],
             [
              0.1111111111111111,
              "#46039f"
             ],
             [
              0.2222222222222222,
              "#7201a8"
             ],
             [
              0.3333333333333333,
              "#9c179e"
             ],
             [
              0.4444444444444444,
              "#bd3786"
             ],
             [
              0.5555555555555556,
              "#d8576b"
             ],
             [
              0.6666666666666666,
              "#ed7953"
             ],
             [
              0.7777777777777778,
              "#fb9f3a"
             ],
             [
              0.8888888888888888,
              "#fdca26"
             ],
             [
              1,
              "#f0f921"
             ]
            ],
            "type": "heatmap"
           }
          ],
          "heatmapgl": [
           {
            "colorbar": {
             "outlinewidth": 0,
             "ticks": ""
            },
            "colorscale": [
             [
              0,
              "#0d0887"
             ],
             [
              0.1111111111111111,
              "#46039f"
             ],
             [
              0.2222222222222222,
              "#7201a8"
             ],
             [
              0.3333333333333333,
              "#9c179e"
             ],
             [
              0.4444444444444444,
              "#bd3786"
             ],
             [
              0.5555555555555556,
              "#d8576b"
             ],
             [
              0.6666666666666666,
              "#ed7953"
             ],
             [
              0.7777777777777778,
              "#fb9f3a"
             ],
             [
              0.8888888888888888,
              "#fdca26"
             ],
             [
              1,
              "#f0f921"
             ]
            ],
            "type": "heatmapgl"
           }
          ],
          "histogram": [
           {
            "marker": {
             "colorbar": {
              "outlinewidth": 0,
              "ticks": ""
             }
            },
            "type": "histogram"
           }
          ],
          "histogram2d": [
           {
            "colorbar": {
             "outlinewidth": 0,
             "ticks": ""
            },
            "colorscale": [
             [
              0,
              "#0d0887"
             ],
             [
              0.1111111111111111,
              "#46039f"
             ],
             [
              0.2222222222222222,
              "#7201a8"
             ],
             [
              0.3333333333333333,
              "#9c179e"
             ],
             [
              0.4444444444444444,
              "#bd3786"
             ],
             [
              0.5555555555555556,
              "#d8576b"
             ],
             [
              0.6666666666666666,
              "#ed7953"
             ],
             [
              0.7777777777777778,
              "#fb9f3a"
             ],
             [
              0.8888888888888888,
              "#fdca26"
             ],
             [
              1,
              "#f0f921"
             ]
            ],
            "type": "histogram2d"
           }
          ],
          "histogram2dcontour": [
           {
            "colorbar": {
             "outlinewidth": 0,
             "ticks": ""
            },
            "colorscale": [
             [
              0,
              "#0d0887"
             ],
             [
              0.1111111111111111,
              "#46039f"
             ],
             [
              0.2222222222222222,
              "#7201a8"
             ],
             [
              0.3333333333333333,
              "#9c179e"
             ],
             [
              0.4444444444444444,
              "#bd3786"
             ],
             [
              0.5555555555555556,
              "#d8576b"
             ],
             [
              0.6666666666666666,
              "#ed7953"
             ],
             [
              0.7777777777777778,
              "#fb9f3a"
             ],
             [
              0.8888888888888888,
              "#fdca26"
             ],
             [
              1,
              "#f0f921"
             ]
            ],
            "type": "histogram2dcontour"
           }
          ],
          "mesh3d": [
           {
            "colorbar": {
             "outlinewidth": 0,
             "ticks": ""
            },
            "type": "mesh3d"
           }
          ],
          "parcoords": [
           {
            "line": {
             "colorbar": {
              "outlinewidth": 0,
              "ticks": ""
             }
            },
            "type": "parcoords"
           }
          ],
          "pie": [
           {
            "automargin": true,
            "type": "pie"
           }
          ],
          "scatter": [
           {
            "marker": {
             "colorbar": {
              "outlinewidth": 0,
              "ticks": ""
             }
            },
            "type": "scatter"
           }
          ],
          "scatter3d": [
           {
            "line": {
             "colorbar": {
              "outlinewidth": 0,
              "ticks": ""
             }
            },
            "marker": {
             "colorbar": {
              "outlinewidth": 0,
              "ticks": ""
             }
            },
            "type": "scatter3d"
           }
          ],
          "scattercarpet": [
           {
            "marker": {
             "colorbar": {
              "outlinewidth": 0,
              "ticks": ""
             }
            },
            "type": "scattercarpet"
           }
          ],
          "scattergeo": [
           {
            "marker": {
             "colorbar": {
              "outlinewidth": 0,
              "ticks": ""
             }
            },
            "type": "scattergeo"
           }
          ],
          "scattergl": [
           {
            "marker": {
             "colorbar": {
              "outlinewidth": 0,
              "ticks": ""
             }
            },
            "type": "scattergl"
           }
          ],
          "scattermapbox": [
           {
            "marker": {
             "colorbar": {
              "outlinewidth": 0,
              "ticks": ""
             }
            },
            "type": "scattermapbox"
           }
          ],
          "scatterpolar": [
           {
            "marker": {
             "colorbar": {
              "outlinewidth": 0,
              "ticks": ""
             }
            },
            "type": "scatterpolar"
           }
          ],
          "scatterpolargl": [
           {
            "marker": {
             "colorbar": {
              "outlinewidth": 0,
              "ticks": ""
             }
            },
            "type": "scatterpolargl"
           }
          ],
          "scatterternary": [
           {
            "marker": {
             "colorbar": {
              "outlinewidth": 0,
              "ticks": ""
             }
            },
            "type": "scatterternary"
           }
          ],
          "surface": [
           {
            "colorbar": {
             "outlinewidth": 0,
             "ticks": ""
            },
            "colorscale": [
             [
              0,
              "#0d0887"
             ],
             [
              0.1111111111111111,
              "#46039f"
             ],
             [
              0.2222222222222222,
              "#7201a8"
             ],
             [
              0.3333333333333333,
              "#9c179e"
             ],
             [
              0.4444444444444444,
              "#bd3786"
             ],
             [
              0.5555555555555556,
              "#d8576b"
             ],
             [
              0.6666666666666666,
              "#ed7953"
             ],
             [
              0.7777777777777778,
              "#fb9f3a"
             ],
             [
              0.8888888888888888,
              "#fdca26"
             ],
             [
              1,
              "#f0f921"
             ]
            ],
            "type": "surface"
           }
          ],
          "table": [
           {
            "cells": {
             "fill": {
              "color": "#EBF0F8"
             },
             "line": {
              "color": "white"
             }
            },
            "header": {
             "fill": {
              "color": "#C8D4E3"
             },
             "line": {
              "color": "white"
             }
            },
            "type": "table"
           }
          ]
         },
         "layout": {
          "annotationdefaults": {
           "arrowcolor": "#2a3f5f",
           "arrowhead": 0,
           "arrowwidth": 1
          },
          "autotypenumbers": "strict",
          "coloraxis": {
           "colorbar": {
            "outlinewidth": 0,
            "ticks": ""
           }
          },
          "colorscale": {
           "diverging": [
            [
             0,
             "#8e0152"
            ],
            [
             0.1,
             "#c51b7d"
            ],
            [
             0.2,
             "#de77ae"
            ],
            [
             0.3,
             "#f1b6da"
            ],
            [
             0.4,
             "#fde0ef"
            ],
            [
             0.5,
             "#f7f7f7"
            ],
            [
             0.6,
             "#e6f5d0"
            ],
            [
             0.7,
             "#b8e186"
            ],
            [
             0.8,
             "#7fbc41"
            ],
            [
             0.9,
             "#4d9221"
            ],
            [
             1,
             "#276419"
            ]
           ],
           "sequential": [
            [
             0,
             "#0d0887"
            ],
            [
             0.1111111111111111,
             "#46039f"
            ],
            [
             0.2222222222222222,
             "#7201a8"
            ],
            [
             0.3333333333333333,
             "#9c179e"
            ],
            [
             0.4444444444444444,
             "#bd3786"
            ],
            [
             0.5555555555555556,
             "#d8576b"
            ],
            [
             0.6666666666666666,
             "#ed7953"
            ],
            [
             0.7777777777777778,
             "#fb9f3a"
            ],
            [
             0.8888888888888888,
             "#fdca26"
            ],
            [
             1,
             "#f0f921"
            ]
           ],
           "sequentialminus": [
            [
             0,
             "#0d0887"
            ],
            [
             0.1111111111111111,
             "#46039f"
            ],
            [
             0.2222222222222222,
             "#7201a8"
            ],
            [
             0.3333333333333333,
             "#9c179e"
            ],
            [
             0.4444444444444444,
             "#bd3786"
            ],
            [
             0.5555555555555556,
             "#d8576b"
            ],
            [
             0.6666666666666666,
             "#ed7953"
            ],
            [
             0.7777777777777778,
             "#fb9f3a"
            ],
            [
             0.8888888888888888,
             "#fdca26"
            ],
            [
             1,
             "#f0f921"
            ]
           ]
          },
          "colorway": [
           "#636efa",
           "#EF553B",
           "#00cc96",
           "#ab63fa",
           "#FFA15A",
           "#19d3f3",
           "#FF6692",
           "#B6E880",
           "#FF97FF",
           "#FECB52"
          ],
          "font": {
           "color": "#2a3f5f"
          },
          "geo": {
           "bgcolor": "white",
           "lakecolor": "white",
           "landcolor": "#E5ECF6",
           "showlakes": true,
           "showland": true,
           "subunitcolor": "white"
          },
          "hoverlabel": {
           "align": "left"
          },
          "hovermode": "closest",
          "mapbox": {
           "style": "light"
          },
          "paper_bgcolor": "white",
          "plot_bgcolor": "#E5ECF6",
          "polar": {
           "angularaxis": {
            "gridcolor": "white",
            "linecolor": "white",
            "ticks": ""
           },
           "bgcolor": "#E5ECF6",
           "radialaxis": {
            "gridcolor": "white",
            "linecolor": "white",
            "ticks": ""
           }
          },
          "scene": {
           "xaxis": {
            "backgroundcolor": "#E5ECF6",
            "gridcolor": "white",
            "gridwidth": 2,
            "linecolor": "white",
            "showbackground": true,
            "ticks": "",
            "zerolinecolor": "white"
           },
           "yaxis": {
            "backgroundcolor": "#E5ECF6",
            "gridcolor": "white",
            "gridwidth": 2,
            "linecolor": "white",
            "showbackground": true,
            "ticks": "",
            "zerolinecolor": "white"
           },
           "zaxis": {
            "backgroundcolor": "#E5ECF6",
            "gridcolor": "white",
            "gridwidth": 2,
            "linecolor": "white",
            "showbackground": true,
            "ticks": "",
            "zerolinecolor": "white"
           }
          },
          "shapedefaults": {
           "line": {
            "color": "#2a3f5f"
           }
          },
          "ternary": {
           "aaxis": {
            "gridcolor": "white",
            "linecolor": "white",
            "ticks": ""
           },
           "baxis": {
            "gridcolor": "white",
            "linecolor": "white",
            "ticks": ""
           },
           "bgcolor": "#E5ECF6",
           "caxis": {
            "gridcolor": "white",
            "linecolor": "white",
            "ticks": ""
           }
          },
          "title": {
           "x": 0.05
          },
          "xaxis": {
           "automargin": true,
           "gridcolor": "white",
           "linecolor": "white",
           "ticks": "",
           "title": {
            "standoff": 15
           },
           "zerolinecolor": "white",
           "zerolinewidth": 2
          },
          "yaxis": {
           "automargin": true,
           "gridcolor": "white",
           "linecolor": "white",
           "ticks": "",
           "title": {
            "standoff": 15
           },
           "zerolinecolor": "white",
           "zerolinewidth": 2
          }
         }
        },
        "xaxis": {
         "anchor": "y",
         "domain": [
          0,
          1
         ],
         "linecolor": "black",
         "linewidth": 1,
         "title": {
          "text": "x"
         }
        },
        "yaxis": {
         "anchor": "x",
         "domain": [
          0,
          1
         ],
         "linecolor": "black",
         "linewidth": 1,
         "title": {
          "text": "sum of y"
         }
        }
       }
      },
      "text/html": [
       "<div>                            <div id=\"705ed0b2-fbca-418b-b64c-54a5389c934d\" class=\"plotly-graph-div\" style=\"height:525px; width:100%;\"></div>            <script type=\"text/javascript\">                require([\"plotly\"], function(Plotly) {                    window.PLOTLYENV=window.PLOTLYENV || {};                                    if (document.getElementById(\"705ed0b2-fbca-418b-b64c-54a5389c934d\")) {                    Plotly.newPlot(                        \"705ed0b2-fbca-418b-b64c-54a5389c934d\",                        [{\"alignmentgroup\": \"True\", \"bingroup\": \"x\", \"histfunc\": \"sum\", \"hovertemplate\": \"color=4572.443144927537<br>x=%{x}<br>sum of y=%{y}<extra></extra>\", \"legendgroup\": \"4572.443144927537\", \"marker\": {\"color\": \"#EF553B\"}, \"name\": \"4572.443144927537\", \"offsetgroup\": \"4572.443144927537\", \"orientation\": \"v\", \"showlegend\": true, \"type\": \"histogram\", \"x\": [\"United States\"], \"xaxis\": \"x\", \"y\": [4572.443144927537], \"yaxis\": \"y\"}, {\"alignmentgroup\": \"True\", \"bingroup\": \"x\", \"histfunc\": \"sum\", \"hovertemplate\": \"color=3020.4108840579715<br>x=%{x}<br>sum of y=%{y}<extra></extra>\", \"legendgroup\": \"3020.4108840579715\", \"marker\": {\"color\": \"#00cc96\"}, \"name\": \"3020.4108840579715\", \"offsetgroup\": \"3020.4108840579715\", \"orientation\": \"v\", \"showlegend\": true, \"type\": \"histogram\", \"x\": [\"China\"], \"xaxis\": \"x\", \"y\": [3020.4108840579715], \"yaxis\": \"y\"}, {\"alignmentgroup\": \"True\", \"bingroup\": \"x\", \"histfunc\": \"sum\", \"hovertemplate\": \"color=1678.6726333333338<br>x=%{x}<br>sum of y=%{y}<extra></extra>\", \"legendgroup\": \"1678.6726333333338\", \"marker\": {\"color\": \"#ab63fa\"}, \"name\": \"1678.6726333333338\", \"offsetgroup\": \"1678.6726333333338\", \"orientation\": \"v\", \"showlegend\": true, \"type\": \"histogram\", \"x\": [\"Russia\"], \"xaxis\": \"x\", \"y\": [1678.6726333333338], \"yaxis\": \"y\"}, {\"alignmentgroup\": \"True\", \"bingroup\": \"x\", \"histfunc\": \"sum\", \"hovertemplate\": \"color=907.5554347826088<br>x=%{x}<br>sum of y=%{y}<extra></extra>\", \"legendgroup\": \"907.5554347826088\", \"marker\": {\"color\": \"#FFA15A\"}, \"name\": \"907.5554347826088\", \"offsetgroup\": \"907.5554347826088\", \"orientation\": \"v\", \"showlegend\": true, \"type\": \"histogram\", \"x\": [\"Germany\"], \"xaxis\": \"x\", \"y\": [907.5554347826088], \"yaxis\": \"y\"}, {\"alignmentgroup\": \"True\", \"bingroup\": \"x\", \"histfunc\": \"sum\", \"hovertemplate\": \"color=862.3538550724638<br>x=%{x}<br>sum of y=%{y}<extra></extra>\", \"legendgroup\": \"862.3538550724638\", \"marker\": {\"color\": \"#19d3f3\"}, \"name\": \"862.3538550724638\", \"offsetgroup\": \"862.3538550724638\", \"orientation\": \"v\", \"showlegend\": true, \"type\": \"histogram\", \"x\": [\"Japan\"], \"xaxis\": \"x\", \"y\": [862.3538550724638], \"yaxis\": \"y\"}, {\"alignmentgroup\": \"True\", \"bingroup\": \"x\", \"histfunc\": \"sum\", \"hovertemplate\": \"color=711.136391304348<br>x=%{x}<br>sum of y=%{y}<extra></extra>\", \"legendgroup\": \"711.136391304348\", \"marker\": {\"color\": \"#FF6692\"}, \"name\": \"711.136391304348\", \"offsetgroup\": \"711.136391304348\", \"orientation\": \"v\", \"showlegend\": true, \"type\": \"histogram\", \"x\": [\"India\"], \"xaxis\": \"x\", \"y\": [711.136391304348], \"yaxis\": \"y\"}, {\"alignmentgroup\": \"True\", \"bingroup\": \"x\", \"histfunc\": \"sum\", \"hovertemplate\": \"color=562.3173333333334<br>x=%{x}<br>sum of y=%{y}<extra></extra>\", \"legendgroup\": \"562.3173333333334\", \"marker\": {\"color\": \"#B6E880\"}, \"name\": \"562.3173333333334\", \"offsetgroup\": \"562.3173333333334\", \"orientation\": \"v\", \"showlegend\": true, \"type\": \"histogram\", \"x\": [\"United Kingdom\"], \"xaxis\": \"x\", \"y\": [562.3173333333334], \"yaxis\": \"y\"}, {\"alignmentgroup\": \"True\", \"bingroup\": \"x\", \"histfunc\": \"sum\", \"hovertemplate\": \"color=431.59935000000013<br>x=%{x}<br>sum of y=%{y}<extra></extra>\", \"legendgroup\": \"431.59935000000013\", \"marker\": {\"color\": \"#FF97FF\"}, \"name\": \"431.59935000000013\", \"offsetgroup\": \"431.59935000000013\", \"orientation\": \"v\", \"showlegend\": true, \"type\": \"histogram\", \"x\": [\"Ukraine\"], \"xaxis\": \"x\", \"y\": [431.59935000000013], \"yaxis\": \"y\"}, {\"alignmentgroup\": \"True\", \"bingroup\": \"x\", \"histfunc\": \"sum\", \"hovertemplate\": \"color=408.19634782608694<br>x=%{x}<br>sum of y=%{y}<extra></extra>\", \"legendgroup\": \"408.19634782608694\", \"marker\": {\"color\": \"#FECB52\"}, \"name\": \"408.19634782608694\", \"offsetgroup\": \"408.19634782608694\", \"orientation\": \"v\", \"showlegend\": true, \"type\": \"histogram\", \"x\": [\"Canada\"], \"xaxis\": \"x\", \"y\": [408.19634782608694], \"yaxis\": \"y\"}, {\"alignmentgroup\": \"True\", \"bingroup\": \"x\", \"histfunc\": \"sum\", \"hovertemplate\": \"color=380.73443478260873<br>x=%{x}<br>sum of y=%{y}<extra></extra>\", \"legendgroup\": \"380.73443478260873\", \"marker\": {\"color\": \"#636efa\"}, \"name\": \"380.73443478260873\", \"offsetgroup\": \"380.73443478260873\", \"orientation\": \"v\", \"showlegend\": true, \"type\": \"histogram\", \"x\": [\"France\"], \"xaxis\": \"x\", \"y\": [380.73443478260873], \"yaxis\": \"y\"}, {\"alignmentgroup\": \"True\", \"bingroup\": \"x\", \"histfunc\": \"sum\", \"hovertemplate\": \"color=323.5037246376811<br>x=%{x}<br>sum of y=%{y}<extra></extra>\", \"legendgroup\": \"323.5037246376811\", \"marker\": {\"color\": \"#EF553B\"}, \"name\": \"323.5037246376811\", \"offsetgroup\": \"323.5037246376811\", \"orientation\": \"v\", \"showlegend\": true, \"type\": \"histogram\", \"x\": [\"Italy\"], \"xaxis\": \"x\", \"y\": [323.5037246376811], \"yaxis\": \"y\"}, {\"alignmentgroup\": \"True\", \"bingroup\": \"x\", \"histfunc\": \"sum\", \"hovertemplate\": \"color=315.62415942028974<br>x=%{x}<br>sum of y=%{y}<extra></extra>\", \"legendgroup\": \"315.62415942028974\", \"marker\": {\"color\": \"#00cc96\"}, \"name\": \"315.62415942028974\", \"offsetgroup\": \"315.62415942028974\", \"orientation\": \"v\", \"showlegend\": true, \"type\": \"histogram\", \"x\": [\"Poland\"], \"xaxis\": \"x\", \"y\": [315.62415942028974], \"yaxis\": \"y\"}, {\"alignmentgroup\": \"True\", \"bingroup\": \"x\", \"histfunc\": \"sum\", \"hovertemplate\": \"color=273.0303043478261<br>x=%{x}<br>sum of y=%{y}<extra></extra>\", \"legendgroup\": \"273.0303043478261\", \"marker\": {\"color\": \"#ab63fa\"}, \"name\": \"273.0303043478261\", \"offsetgroup\": \"273.0303043478261\", \"orientation\": \"v\", \"showlegend\": true, \"type\": \"histogram\", \"x\": [\"South Africa\"], \"xaxis\": \"x\", \"y\": [273.0303043478261], \"yaxis\": \"y\"}, {\"alignmentgroup\": \"True\", \"bingroup\": \"x\", \"histfunc\": \"sum\", \"hovertemplate\": \"color=263.23860869565215<br>x=%{x}<br>sum of y=%{y}<extra></extra>\", \"legendgroup\": \"263.23860869565215\", \"marker\": {\"color\": \"#FFA15A\"}, \"name\": \"263.23860869565215\", \"offsetgroup\": \"263.23860869565215\", \"orientation\": \"v\", \"showlegend\": true, \"type\": \"histogram\", \"x\": [\"Mexico\"], \"xaxis\": \"x\", \"y\": [263.23860869565215], \"yaxis\": \"y\"}, {\"alignmentgroup\": \"True\", \"bingroup\": \"x\", \"histfunc\": \"sum\", \"hovertemplate\": \"color=239.0994637681159<br>x=%{x}<br>sum of y=%{y}<extra></extra>\", \"legendgroup\": \"239.0994637681159\", \"marker\": {\"color\": \"#19d3f3\"}, \"name\": \"239.0994637681159\", \"offsetgroup\": \"239.0994637681159\", \"orientation\": \"v\", \"showlegend\": true, \"type\": \"histogram\", \"x\": [\"Australia\"], \"xaxis\": \"x\", \"y\": [239.0994637681159], \"yaxis\": \"y\"}, {\"alignmentgroup\": \"True\", \"bingroup\": \"x\", \"histfunc\": \"sum\", \"hovertemplate\": \"color=239.01953623188402<br>x=%{x}<br>sum of y=%{y}<extra></extra>\", \"legendgroup\": \"239.01953623188402\", \"marker\": {\"color\": \"#FF6692\"}, \"name\": \"239.01953623188402\", \"offsetgroup\": \"239.01953623188402\", \"orientation\": \"v\", \"showlegend\": true, \"type\": \"histogram\", \"x\": [\"South Korea\"], \"xaxis\": \"x\", \"y\": [239.01953623188402], \"yaxis\": \"y\"}, {\"alignmentgroup\": \"True\", \"bingroup\": \"x\", \"histfunc\": \"sum\", \"hovertemplate\": \"color=238.63742028985502<br>x=%{x}<br>sum of y=%{y}<extra></extra>\", \"legendgroup\": \"238.63742028985502\", \"marker\": {\"color\": \"#B6E880\"}, \"name\": \"238.63742028985502\", \"offsetgroup\": \"238.63742028985502\", \"orientation\": \"v\", \"showlegend\": true, \"type\": \"histogram\", \"x\": [\"Iran\"], \"xaxis\": \"x\", \"y\": [238.63742028985502], \"yaxis\": \"y\"}, {\"alignmentgroup\": \"True\", \"bingroup\": \"x\", \"histfunc\": \"sum\", \"hovertemplate\": \"color=208.2546376811594<br>x=%{x}<br>sum of y=%{y}<extra></extra>\", \"legendgroup\": \"208.2546376811594\", \"marker\": {\"color\": \"#FF97FF\"}, \"name\": \"208.2546376811594\", \"offsetgroup\": \"208.2546376811594\", \"orientation\": \"v\", \"showlegend\": true, \"type\": \"histogram\", \"x\": [\"Brazil\"], \"xaxis\": \"x\", \"y\": [208.2546376811594], \"yaxis\": \"y\"}, {\"alignmentgroup\": \"True\", \"bingroup\": \"x\", \"histfunc\": \"sum\", \"hovertemplate\": \"color=207.84673913043477<br>x=%{x}<br>sum of y=%{y}<extra></extra>\", \"legendgroup\": \"207.84673913043477\", \"marker\": {\"color\": \"#FECB52\"}, \"name\": \"207.84673913043477\", \"offsetgroup\": \"207.84673913043477\", \"orientation\": \"v\", \"showlegend\": true, \"type\": \"histogram\", \"x\": [\"Saudi Arabia\"], \"xaxis\": \"x\", \"y\": [207.84673913043477], \"yaxis\": \"y\"}, {\"alignmentgroup\": \"True\", \"bingroup\": \"x\", \"histfunc\": \"sum\", \"hovertemplate\": \"color=191.89888405797106<br>x=%{x}<br>sum of y=%{y}<extra></extra>\", \"legendgroup\": \"191.89888405797106\", \"marker\": {\"color\": \"#636efa\"}, \"name\": \"191.89888405797106\", \"offsetgroup\": \"191.89888405797106\", \"orientation\": \"v\", \"showlegend\": true, \"type\": \"histogram\", \"x\": [\"Spain\"], \"xaxis\": \"x\", \"y\": [191.89888405797106], \"yaxis\": \"y\"}, {\"alignmentgroup\": \"True\", \"bingroup\": \"x\", \"histfunc\": \"sum\", \"hovertemplate\": \"color=190.31169999999995<br>x=%{x}<br>sum of y=%{y}<extra></extra>\", \"legendgroup\": \"190.31169999999995\", \"marker\": {\"color\": \"#EF553B\"}, \"name\": \"190.31169999999995\", \"offsetgroup\": \"190.31169999999995\", \"orientation\": \"v\", \"showlegend\": true, \"type\": \"histogram\", \"x\": [\"Kazakhstan\"], \"xaxis\": \"x\", \"y\": [190.31169999999995], \"yaxis\": \"y\"}, {\"alignmentgroup\": \"True\", \"bingroup\": \"x\", \"histfunc\": \"sum\", \"hovertemplate\": \"color=178.857463768116<br>x=%{x}<br>sum of y=%{y}<extra></extra>\", \"legendgroup\": \"178.857463768116\", \"marker\": {\"color\": \"#00cc96\"}, \"name\": \"178.857463768116\", \"offsetgroup\": \"178.857463768116\", \"orientation\": \"v\", \"showlegend\": true, \"type\": \"histogram\", \"x\": [\"Indonesia\"], \"xaxis\": \"x\", \"y\": [178.857463768116], \"yaxis\": \"y\"}, {\"alignmentgroup\": \"True\", \"bingroup\": \"x\", \"histfunc\": \"sum\", \"hovertemplate\": \"color=143.2185072463768<br>x=%{x}<br>sum of y=%{y}<extra></extra>\", \"legendgroup\": \"143.2185072463768\", \"marker\": {\"color\": \"#ab63fa\"}, \"name\": \"143.2185072463768\", \"offsetgroup\": \"143.2185072463768\", \"orientation\": \"v\", \"showlegend\": true, \"type\": \"histogram\", \"x\": [\"Turkey\"], \"xaxis\": \"x\", \"y\": [143.2185072463768], \"yaxis\": \"y\"}, {\"alignmentgroup\": \"True\", \"bingroup\": \"x\", \"histfunc\": \"sum\", \"hovertemplate\": \"color=140.43108333333336<br>x=%{x}<br>sum of y=%{y}<extra></extra>\", \"legendgroup\": \"140.43108333333336\", \"marker\": {\"color\": \"#FFA15A\"}, \"name\": \"140.43108333333336\", \"offsetgroup\": \"140.43108333333336\", \"orientation\": \"v\", \"showlegend\": true, \"type\": \"histogram\", \"x\": [\"Czechia\"], \"xaxis\": \"x\", \"y\": [140.43108333333336], \"yaxis\": \"y\"}, {\"alignmentgroup\": \"True\", \"bingroup\": \"x\", \"histfunc\": \"sum\", \"hovertemplate\": \"color=139.8893768115942<br>x=%{x}<br>sum of y=%{y}<extra></extra>\", \"legendgroup\": \"139.8893768115942\", \"marker\": {\"color\": \"#19d3f3\"}, \"name\": \"139.8893768115942\", \"offsetgroup\": \"139.8893768115942\", \"orientation\": \"v\", \"showlegend\": true, \"type\": \"histogram\", \"x\": [\"Netherlands\"], \"xaxis\": \"x\", \"y\": [139.8893768115942], \"yaxis\": \"y\"}, {\"alignmentgroup\": \"True\", \"bingroup\": \"x\", \"histfunc\": \"sum\", \"hovertemplate\": \"color=117.49526086956523<br>x=%{x}<br>sum of y=%{y}<extra></extra>\", \"legendgroup\": \"117.49526086956523\", \"marker\": {\"color\": \"#FF6692\"}, \"name\": \"117.49526086956523\", \"offsetgroup\": \"117.49526086956523\", \"orientation\": \"v\", \"showlegend\": true, \"type\": \"histogram\", \"x\": [\"Taiwan\"], \"xaxis\": \"x\", \"y\": [117.49526086956523], \"yaxis\": \"y\"}, {\"alignmentgroup\": \"True\", \"bingroup\": \"x\", \"histfunc\": \"sum\", \"hovertemplate\": \"color=111.94960869565215<br>x=%{x}<br>sum of y=%{y}<extra></extra>\", \"legendgroup\": \"111.94960869565215\", \"marker\": {\"color\": \"#B6E880\"}, \"name\": \"111.94960869565215\", \"offsetgroup\": \"111.94960869565215\", \"orientation\": \"v\", \"showlegend\": true, \"type\": \"histogram\", \"x\": [\"Belgium\"], \"xaxis\": \"x\", \"y\": [111.94960869565215], \"yaxis\": \"y\"}, {\"alignmentgroup\": \"True\", \"bingroup\": \"x\", \"histfunc\": \"sum\", \"hovertemplate\": \"color=111.89952173913045<br>x=%{x}<br>sum of y=%{y}<extra></extra>\", \"legendgroup\": \"111.89952173913045\", \"marker\": {\"color\": \"#FF97FF\"}, \"name\": \"111.89952173913045\", \"offsetgroup\": \"111.89952173913045\", \"orientation\": \"v\", \"showlegend\": true, \"type\": \"histogram\", \"x\": [\"Romania\"], \"xaxis\": \"x\", \"y\": [111.89952173913045], \"yaxis\": \"y\"}, {\"alignmentgroup\": \"True\", \"bingroup\": \"x\", \"histfunc\": \"sum\", \"hovertemplate\": \"color=110.50307246376809<br>x=%{x}<br>sum of y=%{y}<extra></extra>\", \"legendgroup\": \"110.50307246376809\", \"marker\": {\"color\": \"#FECB52\"}, \"name\": \"110.50307246376809\", \"offsetgroup\": \"110.50307246376809\", \"orientation\": \"v\", \"showlegend\": true, \"type\": \"histogram\", \"x\": [\"Argentina\"], \"xaxis\": \"x\", \"y\": [110.50307246376809], \"yaxis\": \"y\"}, {\"alignmentgroup\": \"True\", \"bingroup\": \"x\", \"histfunc\": \"sum\", \"hovertemplate\": \"color=107.28500000000004<br>x=%{x}<br>sum of y=%{y}<extra></extra>\", \"legendgroup\": \"107.28500000000004\", \"marker\": {\"color\": \"#636efa\"}, \"name\": \"107.28500000000004\", \"offsetgroup\": \"107.28500000000004\", \"orientation\": \"v\", \"showlegend\": true, \"type\": \"histogram\", \"x\": [\"Venezuela\"], \"xaxis\": \"x\", \"y\": [107.28500000000004], \"yaxis\": \"y\"}, {\"alignmentgroup\": \"True\", \"bingroup\": \"x\", \"histfunc\": \"sum\", \"hovertemplate\": \"color=99.34734782608699<br>x=%{x}<br>sum of y=%{y}<extra></extra>\", \"legendgroup\": \"99.34734782608699\", \"marker\": {\"color\": \"#EF553B\"}, \"name\": \"99.34734782608699\", \"offsetgroup\": \"99.34734782608699\", \"orientation\": \"v\", \"showlegend\": true, \"type\": \"histogram\", \"x\": [\"Thailand\"], \"xaxis\": \"x\", \"y\": [99.34734782608699], \"yaxis\": \"y\"}, {\"alignmentgroup\": \"True\", \"bingroup\": \"x\", \"histfunc\": \"sum\", \"hovertemplate\": \"color=97.51216666666669<br>x=%{x}<br>sum of y=%{y}<extra></extra>\", \"legendgroup\": \"97.51216666666669\", \"marker\": {\"color\": \"#00cc96\"}, \"name\": \"97.51216666666669\", \"offsetgroup\": \"97.51216666666669\", \"orientation\": \"v\", \"showlegend\": true, \"type\": \"histogram\", \"x\": [\"Uzbekistan\"], \"xaxis\": \"x\", \"y\": [97.51216666666669], \"yaxis\": \"y\"}, {\"alignmentgroup\": \"True\", \"bingroup\": \"x\", \"histfunc\": \"sum\", \"hovertemplate\": \"color=84.2868115942029<br>x=%{x}<br>sum of y=%{y}<extra></extra>\", \"legendgroup\": \"84.2868115942029\", \"marker\": {\"color\": \"#ab63fa\"}, \"name\": \"84.2868115942029\", \"offsetgroup\": \"84.2868115942029\", \"orientation\": \"v\", \"showlegend\": true, \"type\": \"histogram\", \"x\": [\"Egypt\"], \"xaxis\": \"x\", \"y\": [84.2868115942029], \"yaxis\": \"y\"}, {\"alignmentgroup\": \"True\", \"bingroup\": \"x\", \"histfunc\": \"sum\", \"hovertemplate\": \"color=78.44181159420287<br>x=%{x}<br>sum of y=%{y}<extra></extra>\", \"legendgroup\": \"78.44181159420287\", \"marker\": {\"color\": \"#FFA15A\"}, \"name\": \"78.44181159420287\", \"offsetgroup\": \"78.44181159420287\", \"orientation\": \"v\", \"showlegend\": true, \"type\": \"histogram\", \"x\": [\"Malaysia\"], \"xaxis\": \"x\", \"y\": [78.44181159420287], \"yaxis\": \"y\"}, {\"alignmentgroup\": \"True\", \"bingroup\": \"x\", \"histfunc\": \"sum\", \"hovertemplate\": \"color=76.35068333333334<br>x=%{x}<br>sum of y=%{y}<extra></extra>\", \"legendgroup\": \"76.35068333333334\", \"marker\": {\"color\": \"#19d3f3\"}, \"name\": \"76.35068333333334\", \"offsetgroup\": \"76.35068333333334\", \"orientation\": \"v\", \"showlegend\": true, \"type\": \"histogram\", \"x\": [\"Belarus\"], \"xaxis\": \"x\", \"y\": [76.35068333333334], \"yaxis\": \"y\"}, {\"alignmentgroup\": \"True\", \"bingroup\": \"x\", \"histfunc\": \"sum\", \"hovertemplate\": \"color=73.9719<br>x=%{x}<br>sum of y=%{y}<extra></extra>\", \"legendgroup\": \"73.9719\", \"marker\": {\"color\": \"#FF6692\"}, \"name\": \"73.9719\", \"offsetgroup\": \"73.9719\", \"orientation\": \"v\", \"showlegend\": true, \"type\": \"histogram\", \"x\": [\"United Arab Emirates\"], \"xaxis\": \"x\", \"y\": [73.9719], \"yaxis\": \"y\"}, {\"alignmentgroup\": \"True\", \"bingroup\": \"x\", \"histfunc\": \"sum\", \"hovertemplate\": \"color=70.30831884057972<br>x=%{x}<br>sum of y=%{y}<extra></extra>\", \"legendgroup\": \"70.30831884057972\", \"marker\": {\"color\": \"#B6E880\"}, \"name\": \"70.30831884057972\", \"offsetgroup\": \"70.30831884057972\", \"orientation\": \"v\", \"showlegend\": true, \"type\": \"histogram\", \"x\": [\"North Korea\"], \"xaxis\": \"x\", \"y\": [70.30831884057972], \"yaxis\": \"y\"}, {\"alignmentgroup\": \"True\", \"bingroup\": \"x\", \"histfunc\": \"sum\", \"hovertemplate\": \"color=68.85546376811594<br>x=%{x}<br>sum of y=%{y}<extra></extra>\", \"legendgroup\": \"68.85546376811594\", \"marker\": {\"color\": \"#FF97FF\"}, \"name\": \"68.85546376811594\", \"offsetgroup\": \"68.85546376811594\", \"orientation\": \"v\", \"showlegend\": true, \"type\": \"histogram\", \"x\": [\"Pakistan\"], \"xaxis\": \"x\", \"y\": [68.85546376811594], \"yaxis\": \"y\"}, {\"alignmentgroup\": \"True\", \"bingroup\": \"x\", \"histfunc\": \"sum\", \"hovertemplate\": \"color=61.598405797101464<br>x=%{x}<br>sum of y=%{y}<extra></extra>\", \"legendgroup\": \"61.598405797101464\", \"marker\": {\"color\": \"#FECB52\"}, \"name\": \"61.598405797101464\", \"offsetgroup\": \"61.598405797101464\", \"orientation\": \"v\", \"showlegend\": true, \"type\": \"histogram\", \"x\": [\"Algeria\"], \"xaxis\": \"x\", \"y\": [61.598405797101464], \"yaxis\": \"y\"}, {\"alignmentgroup\": \"True\", \"bingroup\": \"x\", \"histfunc\": \"sum\", \"hovertemplate\": \"color=60.365913043478265<br>x=%{x}<br>sum of y=%{y}<extra></extra>\", \"legendgroup\": \"60.365913043478265\", \"marker\": {\"color\": \"#636efa\"}, \"name\": \"60.365913043478265\", \"offsetgroup\": \"60.365913043478265\", \"orientation\": \"v\", \"showlegend\": true, \"type\": \"histogram\", \"x\": [\"Hungary\"], \"xaxis\": \"x\", \"y\": [60.365913043478265], \"yaxis\": \"y\"}, {\"alignmentgroup\": \"True\", \"bingroup\": \"x\", \"histfunc\": \"sum\", \"hovertemplate\": \"color=58.82156521739131<br>x=%{x}<br>sum of y=%{y}<extra></extra>\", \"legendgroup\": \"58.82156521739131\", \"marker\": {\"color\": \"#EF553B\"}, \"name\": \"58.82156521739131\", \"offsetgroup\": \"58.82156521739131\", \"orientation\": \"v\", \"showlegend\": true, \"type\": \"histogram\", \"x\": [\"Iraq\"], \"xaxis\": \"x\", \"y\": [58.82156521739131], \"yaxis\": \"y\"}, {\"alignmentgroup\": \"True\", \"bingroup\": \"x\", \"histfunc\": \"sum\", \"hovertemplate\": \"color=57.879913043478226<br>x=%{x}<br>sum of y=%{y}<extra></extra>\", \"legendgroup\": \"57.879913043478226\", \"marker\": {\"color\": \"#00cc96\"}, \"name\": \"57.879913043478226\", \"offsetgroup\": \"57.879913043478226\", \"orientation\": \"v\", \"showlegend\": true, \"type\": \"histogram\", \"x\": [\"Sweden\"], \"xaxis\": \"x\", \"y\": [57.879913043478226], \"yaxis\": \"y\"}, {\"alignmentgroup\": \"True\", \"bingroup\": \"x\", \"histfunc\": \"sum\", \"hovertemplate\": \"color=56.50839130434783<br>x=%{x}<br>sum of y=%{y}<extra></extra>\", \"legendgroup\": \"56.50839130434783\", \"marker\": {\"color\": \"#ab63fa\"}, \"name\": \"56.50839130434783\", \"offsetgroup\": \"56.50839130434783\", \"orientation\": \"v\", \"showlegend\": true, \"type\": \"histogram\", \"x\": [\"Greece\"], \"xaxis\": \"x\", \"y\": [56.50839130434783], \"yaxis\": \"y\"}, {\"alignmentgroup\": \"True\", \"bingroup\": \"x\", \"histfunc\": \"sum\", \"hovertemplate\": \"color=54.04571014492755<br>x=%{x}<br>sum of y=%{y}<extra></extra>\", \"legendgroup\": \"54.04571014492755\", \"marker\": {\"color\": \"#FFA15A\"}, \"name\": \"54.04571014492755\", \"offsetgroup\": \"54.04571014492755\", \"orientation\": \"v\", \"showlegend\": true, \"type\": \"histogram\", \"x\": [\"Austria\"], \"xaxis\": \"x\", \"y\": [54.04571014492755], \"yaxis\": \"y\"}, {\"alignmentgroup\": \"True\", \"bingroup\": \"x\", \"histfunc\": \"sum\", \"hovertemplate\": \"color=52.778942028985504<br>x=%{x}<br>sum of y=%{y}<extra></extra>\", \"legendgroup\": \"52.778942028985504\", \"marker\": {\"color\": \"#19d3f3\"}, \"name\": \"52.778942028985504\", \"offsetgroup\": \"52.778942028985504\", \"orientation\": \"v\", \"showlegend\": true, \"type\": \"histogram\", \"x\": [\"Nigeria\"], \"xaxis\": \"x\", \"y\": [52.778942028985504], \"yaxis\": \"y\"}, {\"alignmentgroup\": \"True\", \"bingroup\": \"x\", \"histfunc\": \"sum\", \"hovertemplate\": \"color=52.674463768115935<br>x=%{x}<br>sum of y=%{y}<extra></extra>\", \"legendgroup\": \"52.674463768115935\", \"marker\": {\"color\": \"#FF6692\"}, \"name\": \"52.674463768115935\", \"offsetgroup\": \"52.674463768115935\", \"orientation\": \"v\", \"showlegend\": true, \"type\": \"histogram\", \"x\": [\"Bulgaria\"], \"xaxis\": \"x\", \"y\": [52.674463768115935], \"yaxis\": \"y\"}, {\"alignmentgroup\": \"True\", \"bingroup\": \"x\", \"histfunc\": \"sum\", \"hovertemplate\": \"color=48.57930434782607<br>x=%{x}<br>sum of y=%{y}<extra></extra>\", \"legendgroup\": \"48.57930434782607\", \"marker\": {\"color\": \"#B6E880\"}, \"name\": \"48.57930434782607\", \"offsetgroup\": \"48.57930434782607\", \"orientation\": \"v\", \"showlegend\": true, \"type\": \"histogram\", \"x\": [\"Denmark\"], \"xaxis\": \"x\", \"y\": [48.57930434782607], \"yaxis\": \"y\"}, {\"alignmentgroup\": \"True\", \"bingroup\": \"x\", \"histfunc\": \"sum\", \"hovertemplate\": \"color=46.94452173913043<br>x=%{x}<br>sum of y=%{y}<extra></extra>\", \"legendgroup\": \"46.94452173913043\", \"marker\": {\"color\": \"#FF97FF\"}, \"name\": \"46.94452173913043\", \"offsetgroup\": \"46.94452173913043\", \"orientation\": \"v\", \"showlegend\": true, \"type\": \"histogram\", \"x\": [\"Vietnam\"], \"xaxis\": \"x\", \"y\": [46.94452173913043], \"yaxis\": \"y\"}, {\"alignmentgroup\": \"True\", \"bingroup\": \"x\", \"histfunc\": \"sum\", \"hovertemplate\": \"color=46.07127536231882<br>x=%{x}<br>sum of y=%{y}<extra></extra>\", \"legendgroup\": \"46.07127536231882\", \"marker\": {\"color\": \"#FECB52\"}, \"name\": \"46.07127536231882\", \"offsetgroup\": \"46.07127536231882\", \"orientation\": \"v\", \"showlegend\": true, \"type\": \"histogram\", \"x\": [\"Colombia\"], \"xaxis\": \"x\", \"y\": [46.07127536231882], \"yaxis\": \"y\"}, {\"alignmentgroup\": \"True\", \"bingroup\": \"x\", \"histfunc\": \"sum\", \"hovertemplate\": \"color=46.01715<br>x=%{x}<br>sum of y=%{y}<extra></extra>\", \"legendgroup\": \"46.01715\", \"marker\": {\"color\": \"#636efa\"}, \"name\": \"46.01715\", \"offsetgroup\": \"46.01715\", \"orientation\": \"v\", \"showlegend\": true, \"type\": \"histogram\", \"x\": [\"Slovakia\"], \"xaxis\": \"x\", \"y\": [46.01715], \"yaxis\": \"y\"}],                        {\"barmode\": \"relative\", \"legend\": {\"title\": {\"text\": \"color\"}, \"tracegroupgap\": 0}, \"margin\": {\"t\": 60}, \"paper_bgcolor\": \"rgba(0, 0, 0, 0)\", \"plot_bgcolor\": \"rgba(0, 0, 0, 0)\", \"shapes\": [{\"type\": \"line\", \"x0\": 0, \"x1\": 0, \"xref\": \"x\", \"y0\": 150, \"y1\": 1, \"yref\": \"paper\"}], \"showlegend\": false, \"template\": {\"data\": {\"bar\": [{\"error_x\": {\"color\": \"#2a3f5f\"}, \"error_y\": {\"color\": \"#2a3f5f\"}, \"marker\": {\"line\": {\"color\": \"#E5ECF6\", \"width\": 0.5}}, \"type\": \"bar\"}], \"barpolar\": [{\"marker\": {\"line\": {\"color\": \"#E5ECF6\", \"width\": 0.5}}, \"type\": \"barpolar\"}], \"carpet\": [{\"aaxis\": {\"endlinecolor\": \"#2a3f5f\", \"gridcolor\": \"white\", \"linecolor\": \"white\", \"minorgridcolor\": \"white\", \"startlinecolor\": \"#2a3f5f\"}, \"baxis\": {\"endlinecolor\": \"#2a3f5f\", \"gridcolor\": \"white\", \"linecolor\": \"white\", \"minorgridcolor\": \"white\", \"startlinecolor\": \"#2a3f5f\"}, \"type\": \"carpet\"}], \"choropleth\": [{\"colorbar\": {\"outlinewidth\": 0, \"ticks\": \"\"}, \"type\": \"choropleth\"}], \"contour\": [{\"colorbar\": {\"outlinewidth\": 0, \"ticks\": \"\"}, \"colorscale\": [[0.0, \"#0d0887\"], [0.1111111111111111, \"#46039f\"], [0.2222222222222222, \"#7201a8\"], [0.3333333333333333, \"#9c179e\"], [0.4444444444444444, \"#bd3786\"], [0.5555555555555556, \"#d8576b\"], [0.6666666666666666, \"#ed7953\"], [0.7777777777777778, \"#fb9f3a\"], [0.8888888888888888, \"#fdca26\"], [1.0, \"#f0f921\"]], \"type\": \"contour\"}], \"contourcarpet\": [{\"colorbar\": {\"outlinewidth\": 0, \"ticks\": \"\"}, \"type\": \"contourcarpet\"}], \"heatmap\": [{\"colorbar\": {\"outlinewidth\": 0, \"ticks\": \"\"}, \"colorscale\": [[0.0, \"#0d0887\"], [0.1111111111111111, \"#46039f\"], [0.2222222222222222, \"#7201a8\"], [0.3333333333333333, \"#9c179e\"], [0.4444444444444444, \"#bd3786\"], [0.5555555555555556, \"#d8576b\"], [0.6666666666666666, \"#ed7953\"], [0.7777777777777778, \"#fb9f3a\"], [0.8888888888888888, \"#fdca26\"], [1.0, \"#f0f921\"]], \"type\": \"heatmap\"}], \"heatmapgl\": [{\"colorbar\": {\"outlinewidth\": 0, \"ticks\": \"\"}, \"colorscale\": [[0.0, \"#0d0887\"], [0.1111111111111111, \"#46039f\"], [0.2222222222222222, \"#7201a8\"], [0.3333333333333333, \"#9c179e\"], [0.4444444444444444, \"#bd3786\"], [0.5555555555555556, \"#d8576b\"], [0.6666666666666666, \"#ed7953\"], [0.7777777777777778, \"#fb9f3a\"], [0.8888888888888888, \"#fdca26\"], [1.0, \"#f0f921\"]], \"type\": \"heatmapgl\"}], \"histogram\": [{\"marker\": {\"colorbar\": {\"outlinewidth\": 0, \"ticks\": \"\"}}, \"type\": \"histogram\"}], \"histogram2d\": [{\"colorbar\": {\"outlinewidth\": 0, \"ticks\": \"\"}, \"colorscale\": [[0.0, \"#0d0887\"], [0.1111111111111111, \"#46039f\"], [0.2222222222222222, \"#7201a8\"], [0.3333333333333333, \"#9c179e\"], [0.4444444444444444, \"#bd3786\"], [0.5555555555555556, \"#d8576b\"], [0.6666666666666666, \"#ed7953\"], [0.7777777777777778, \"#fb9f3a\"], [0.8888888888888888, \"#fdca26\"], [1.0, \"#f0f921\"]], \"type\": \"histogram2d\"}], \"histogram2dcontour\": [{\"colorbar\": {\"outlinewidth\": 0, \"ticks\": \"\"}, \"colorscale\": [[0.0, \"#0d0887\"], [0.1111111111111111, \"#46039f\"], [0.2222222222222222, \"#7201a8\"], [0.3333333333333333, \"#9c179e\"], [0.4444444444444444, \"#bd3786\"], [0.5555555555555556, \"#d8576b\"], [0.6666666666666666, \"#ed7953\"], [0.7777777777777778, \"#fb9f3a\"], [0.8888888888888888, \"#fdca26\"], [1.0, \"#f0f921\"]], \"type\": \"histogram2dcontour\"}], \"mesh3d\": [{\"colorbar\": {\"outlinewidth\": 0, \"ticks\": \"\"}, \"type\": \"mesh3d\"}], \"parcoords\": [{\"line\": {\"colorbar\": {\"outlinewidth\": 0, \"ticks\": \"\"}}, \"type\": \"parcoords\"}], \"pie\": [{\"automargin\": true, \"type\": \"pie\"}], \"scatter\": [{\"marker\": {\"colorbar\": {\"outlinewidth\": 0, \"ticks\": \"\"}}, \"type\": \"scatter\"}], \"scatter3d\": [{\"line\": {\"colorbar\": {\"outlinewidth\": 0, \"ticks\": \"\"}}, \"marker\": {\"colorbar\": {\"outlinewidth\": 0, \"ticks\": \"\"}}, \"type\": \"scatter3d\"}], \"scattercarpet\": [{\"marker\": {\"colorbar\": {\"outlinewidth\": 0, \"ticks\": \"\"}}, \"type\": \"scattercarpet\"}], \"scattergeo\": [{\"marker\": {\"colorbar\": {\"outlinewidth\": 0, \"ticks\": \"\"}}, \"type\": \"scattergeo\"}], \"scattergl\": [{\"marker\": {\"colorbar\": {\"outlinewidth\": 0, \"ticks\": \"\"}}, \"type\": \"scattergl\"}], \"scattermapbox\": [{\"marker\": {\"colorbar\": {\"outlinewidth\": 0, \"ticks\": \"\"}}, \"type\": \"scattermapbox\"}], \"scatterpolar\": [{\"marker\": {\"colorbar\": {\"outlinewidth\": 0, \"ticks\": \"\"}}, \"type\": \"scatterpolar\"}], \"scatterpolargl\": [{\"marker\": {\"colorbar\": {\"outlinewidth\": 0, \"ticks\": \"\"}}, \"type\": \"scatterpolargl\"}], \"scatterternary\": [{\"marker\": {\"colorbar\": {\"outlinewidth\": 0, \"ticks\": \"\"}}, \"type\": \"scatterternary\"}], \"surface\": [{\"colorbar\": {\"outlinewidth\": 0, \"ticks\": \"\"}, \"colorscale\": [[0.0, \"#0d0887\"], [0.1111111111111111, \"#46039f\"], [0.2222222222222222, \"#7201a8\"], [0.3333333333333333, \"#9c179e\"], [0.4444444444444444, \"#bd3786\"], [0.5555555555555556, \"#d8576b\"], [0.6666666666666666, \"#ed7953\"], [0.7777777777777778, \"#fb9f3a\"], [0.8888888888888888, \"#fdca26\"], [1.0, \"#f0f921\"]], \"type\": \"surface\"}], \"table\": [{\"cells\": {\"fill\": {\"color\": \"#EBF0F8\"}, \"line\": {\"color\": \"white\"}}, \"header\": {\"fill\": {\"color\": \"#C8D4E3\"}, \"line\": {\"color\": \"white\"}}, \"type\": \"table\"}]}, \"layout\": {\"annotationdefaults\": {\"arrowcolor\": \"#2a3f5f\", \"arrowhead\": 0, \"arrowwidth\": 1}, \"autotypenumbers\": \"strict\", \"coloraxis\": {\"colorbar\": {\"outlinewidth\": 0, \"ticks\": \"\"}}, \"colorscale\": {\"diverging\": [[0, \"#8e0152\"], [0.1, \"#c51b7d\"], [0.2, \"#de77ae\"], [0.3, \"#f1b6da\"], [0.4, \"#fde0ef\"], [0.5, \"#f7f7f7\"], [0.6, \"#e6f5d0\"], [0.7, \"#b8e186\"], [0.8, \"#7fbc41\"], [0.9, \"#4d9221\"], [1, \"#276419\"]], \"sequential\": [[0.0, \"#0d0887\"], [0.1111111111111111, \"#46039f\"], [0.2222222222222222, \"#7201a8\"], [0.3333333333333333, \"#9c179e\"], [0.4444444444444444, \"#bd3786\"], [0.5555555555555556, \"#d8576b\"], [0.6666666666666666, \"#ed7953\"], [0.7777777777777778, \"#fb9f3a\"], [0.8888888888888888, \"#fdca26\"], [1.0, \"#f0f921\"]], \"sequentialminus\": [[0.0, \"#0d0887\"], [0.1111111111111111, \"#46039f\"], [0.2222222222222222, \"#7201a8\"], [0.3333333333333333, \"#9c179e\"], [0.4444444444444444, \"#bd3786\"], [0.5555555555555556, \"#d8576b\"], [0.6666666666666666, \"#ed7953\"], [0.7777777777777778, \"#fb9f3a\"], [0.8888888888888888, \"#fdca26\"], [1.0, \"#f0f921\"]]}, \"colorway\": [\"#636efa\", \"#EF553B\", \"#00cc96\", \"#ab63fa\", \"#FFA15A\", \"#19d3f3\", \"#FF6692\", \"#B6E880\", \"#FF97FF\", \"#FECB52\"], \"font\": {\"color\": \"#2a3f5f\"}, \"geo\": {\"bgcolor\": \"white\", \"lakecolor\": \"white\", \"landcolor\": \"#E5ECF6\", \"showlakes\": true, \"showland\": true, \"subunitcolor\": \"white\"}, \"hoverlabel\": {\"align\": \"left\"}, \"hovermode\": \"closest\", \"mapbox\": {\"style\": \"light\"}, \"paper_bgcolor\": \"white\", \"plot_bgcolor\": \"#E5ECF6\", \"polar\": {\"angularaxis\": {\"gridcolor\": \"white\", \"linecolor\": \"white\", \"ticks\": \"\"}, \"bgcolor\": \"#E5ECF6\", \"radialaxis\": {\"gridcolor\": \"white\", \"linecolor\": \"white\", \"ticks\": \"\"}}, \"scene\": {\"xaxis\": {\"backgroundcolor\": \"#E5ECF6\", \"gridcolor\": \"white\", \"gridwidth\": 2, \"linecolor\": \"white\", \"showbackground\": true, \"ticks\": \"\", \"zerolinecolor\": \"white\"}, \"yaxis\": {\"backgroundcolor\": \"#E5ECF6\", \"gridcolor\": \"white\", \"gridwidth\": 2, \"linecolor\": \"white\", \"showbackground\": true, \"ticks\": \"\", \"zerolinecolor\": \"white\"}, \"zaxis\": {\"backgroundcolor\": \"#E5ECF6\", \"gridcolor\": \"white\", \"gridwidth\": 2, \"linecolor\": \"white\", \"showbackground\": true, \"ticks\": \"\", \"zerolinecolor\": \"white\"}}, \"shapedefaults\": {\"line\": {\"color\": \"#2a3f5f\"}}, \"ternary\": {\"aaxis\": {\"gridcolor\": \"white\", \"linecolor\": \"white\", \"ticks\": \"\"}, \"baxis\": {\"gridcolor\": \"white\", \"linecolor\": \"white\", \"ticks\": \"\"}, \"bgcolor\": \"#E5ECF6\", \"caxis\": {\"gridcolor\": \"white\", \"linecolor\": \"white\", \"ticks\": \"\"}}, \"title\": {\"x\": 0.05}, \"xaxis\": {\"automargin\": true, \"gridcolor\": \"white\", \"linecolor\": \"white\", \"ticks\": \"\", \"title\": {\"standoff\": 15}, \"zerolinecolor\": \"white\", \"zerolinewidth\": 2}, \"yaxis\": {\"automargin\": true, \"gridcolor\": \"white\", \"linecolor\": \"white\", \"ticks\": \"\", \"title\": {\"standoff\": 15}, \"zerolinecolor\": \"white\", \"zerolinewidth\": 2}}}, \"xaxis\": {\"anchor\": \"y\", \"domain\": [0.0, 1.0], \"linecolor\": \"black\", \"linewidth\": 1, \"title\": {\"text\": \"x\"}}, \"yaxis\": {\"anchor\": \"x\", \"domain\": [0.0, 1.0], \"linecolor\": \"black\", \"linewidth\": 1, \"title\": {\"text\": \"sum of y\"}}},                        {\"responsive\": true}                    ).then(function(){\n",
       "                            \n",
       "var gd = document.getElementById('705ed0b2-fbca-418b-b64c-54a5389c934d');\n",
       "var x = new MutationObserver(function (mutations, observer) {{\n",
       "        var display = window.getComputedStyle(gd).display;\n",
       "        if (!display || display === 'none') {{\n",
       "            console.log([gd, 'removed!']);\n",
       "            Plotly.purge(gd);\n",
       "            observer.disconnect();\n",
       "        }}\n",
       "}});\n",
       "\n",
       "// Listen for the removal of the full notebook cells\n",
       "var notebookContainer = gd.closest('#notebook-container');\n",
       "if (notebookContainer) {{\n",
       "    x.observe(notebookContainer, {childList: true});\n",
       "}}\n",
       "\n",
       "// Listen for the clearing of the current output cell\n",
       "var outputEl = gd.closest('.output');\n",
       "if (outputEl) {{\n",
       "    x.observe(outputEl, {childList: true});\n",
       "}}\n",
       "\n",
       "                        })                };                });            </script>        </div>"
      ]
     },
     "metadata": {},
     "output_type": "display_data"
    }
   ],
   "source": [
    "# ## EDIT: \n",
    "\n",
    "# top_c02 = ['Australia', 'Canada', 'Germany', 'Kazakhstan', 'Poland', 'Russia',\n",
    "#        'Saudi Arabia', 'Ukraine', 'United Kingdom', 'United States']\n",
    "\n",
    "# color_map = {'United States': 'green'}\n",
    "# x = df.groupby(['country'])['co2'].mean().sort_values(ascending=False).index[:50]\n",
    "# y = df.groupby(['country'])['co2'].mean().sort_values(ascending=False)[:50]\n",
    "\n",
    "# fig = px.histogram(data_frame=df, x=x, y=y, color=y, color_discrete_map=color_map)\n",
    "\n",
    "        \n",
    "        \n",
    "# fig.update_layout(showlegend=False, \n",
    "#                   shapes=[\n",
    "#                       dict(\n",
    "#                           type= 'line', \n",
    "#                           yref= 'paper', y0= 0, y1= 1, \n",
    "#                           xref= 'x', x0= 0, x1= 0)], \n",
    "#                       paper_bgcolor = 'rgba(0, 0, 0, 0)', \n",
    "#                       plot_bgcolor = 'rgba(0, 0, 0, 0)'\n",
    "#                  )\n",
    "# fig.update_xaxes(linewidth = 1, linecolor ='black')\n",
    "# fig.update_yaxes(linewidth = 1, linecolor ='black')\n",
    "\n",
    "# # Adding threshold\n",
    "# threshold = 150\n",
    "\n",
    "# fig.show()"
   ]
  },
  {
   "cell_type": "code",
   "execution_count": 12,
   "metadata": {
    "ExecuteTime": {
     "end_time": "2021-01-31T02:18:42.556673Z",
     "start_time": "2021-01-31T02:18:42.429765Z"
    }
   },
   "outputs": [
    {
     "data": {
      "application/vnd.plotly.v1+json": {
       "config": {
        "plotlyServerURL": "https://plot.ly"
       },
       "data": [
        {
         "domain": {
          "x": [
           0,
           1
          ],
          "y": [
           0,
           1
          ]
         },
         "hovertemplate": "label=%{label}<br>value=%{value}<extra></extra>",
         "labels": [
          "Afghanistan",
          "Albania",
          "Algeria",
          "Andorra",
          "Angola",
          "Anguilla",
          "Antigua and Barbuda",
          "Argentina",
          "Armenia",
          "Aruba",
          "Australia",
          "Austria",
          "Azerbaijan",
          "Bahamas",
          "Bahrain",
          "Bangladesh",
          "Barbados",
          "Belarus",
          "Belgium",
          "Belize",
          "Benin",
          "Bermuda",
          "Bhutan",
          "Bolivia",
          "Bonaire Sint Eustatius and Saba",
          "Bosnia and Herzegovina",
          "Botswana",
          "Brazil",
          "British Virgin Islands",
          "Brunei",
          "Bulgaria",
          "Burkina Faso",
          "Burundi",
          "Cambodia",
          "Cameroon",
          "Canada",
          "Cape Verde",
          "Cayman Islands",
          "Central African Republic",
          "Chad",
          "Chile",
          "China",
          "Christmas Island",
          "Colombia",
          "Comoros",
          "Congo",
          "Cook Islands",
          "Costa Rica",
          "Cote d'Ivoire",
          "Croatia",
          "Cuba",
          "Curacao",
          "Cyprus",
          "Czechia",
          "Democratic Republic of Congo",
          "Denmark",
          "Djibouti",
          "Dominica",
          "Dominican Republic",
          "Ecuador",
          "Egypt",
          "El Salvador",
          "Equatorial Guinea",
          "Eritrea",
          "Estonia",
          "Eswatini",
          "Ethiopia",
          "Faeroe Islands",
          "Falkland Islands",
          "Fiji",
          "Finland",
          "France",
          "French Guiana",
          "French Polynesia",
          "Gabon",
          "Gambia",
          "Georgia",
          "Germany",
          "Ghana",
          "Gibraltar",
          "Greece",
          "Greenland",
          "Grenada",
          "Guadeloupe",
          "Guatemala",
          "Guinea",
          "Guinea-Bissau",
          "Guyana",
          "Haiti",
          "Honduras",
          "Hong Kong",
          "Hungary",
          "Iceland",
          "India",
          "Indonesia",
          "Iran",
          "Iraq",
          "Ireland",
          "Israel",
          "Italy",
          "Jamaica",
          "Japan",
          "Jordan",
          "Kazakhstan",
          "Kenya",
          "Kiribati",
          "Kosovo",
          "Kuwait",
          "Kyrgyzstan",
          "Laos",
          "Latvia",
          "Lebanon",
          "Lesotho",
          "Liberia",
          "Libya",
          "Liechtenstein",
          "Lithuania",
          "Luxembourg",
          "Macau",
          "Madagascar",
          "Malawi",
          "Malaysia",
          "Maldives",
          "Mali",
          "Malta",
          "Marshall Islands",
          "Martinique",
          "Mauritania",
          "Mauritius",
          "Mexico",
          "Moldova",
          "Mongolia",
          "Montenegro",
          "Montserrat",
          "Morocco",
          "Mozambique",
          "Myanmar",
          "Namibia",
          "Nauru",
          "Nepal",
          "Netherlands",
          "Netherlands Antilles",
          "New Caledonia",
          "New Zealand",
          "Nicaragua",
          "Niger",
          "Nigeria",
          "Niue",
          "North Korea",
          "North Macedonia",
          "Norway",
          "Oman",
          "Pakistan",
          "Palau",
          "Palestine",
          "Panama",
          "Papua New Guinea",
          "Paraguay",
          "Peru",
          "Philippines",
          "Poland",
          "Portugal",
          "Qatar",
          "Romania",
          "Russia",
          "Rwanda",
          "Saint Helena",
          "Saint Kitts and Nevis",
          "Saint Lucia",
          "Saint Pierre and Miquelon",
          "Saint Vincent and the Grenadines",
          "Samoa",
          "Sao Tome and Principe",
          "Saudi Arabia",
          "Senegal",
          "Serbia",
          "Seychelles",
          "Sierra Leone",
          "Singapore",
          "Sint Maarten (Dutch part)",
          "Slovakia",
          "Slovenia",
          "Solomon Islands",
          "Somalia",
          "South Africa",
          "South Korea",
          "South Sudan",
          "Spain",
          "Sri Lanka",
          "Sudan",
          "Suriname",
          "Sweden",
          "Switzerland",
          "Syria",
          "Taiwan",
          "Tajikistan",
          "Tanzania",
          "Thailand",
          "Timor",
          "Togo",
          "Tonga",
          "Trinidad and Tobago",
          "Tunisia",
          "Turkey",
          "Turkmenistan",
          "Turks and Caicos Islands",
          "Tuvalu",
          "Uganda",
          "Ukraine",
          "United Arab Emirates",
          "United Kingdom",
          "United States",
          "Uruguay",
          "Uzbekistan",
          "Vanuatu",
          "Venezuela",
          "Vietnam",
          "Wallis and Futuna Islands",
          "Yemen",
          "Zambia",
          "Zimbabwe"
         ],
         "legendgroup": "",
         "name": "",
         "showlegend": true,
         "textinfo": "percent+label",
         "textposition": "inside",
         "type": "pie",
         "values": [
          0.010420289855072472,
          0.020014492753623173,
          0.252840579710145,
          0.0017241379310344838,
          0.035579710144927536,
          0,
          0.0017096774193548399,
          0.5483333333333333,
          0.05368333333333332,
          0.004883333333333336,
          1.1436086956521743,
          0.2911304347826087,
          0.1903166666666666,
          0.012086956521739134,
          0.04694202898550726,
          0.08245000000000001,
          0.0034637681159420315,
          0.3930666666666666,
          0.6868115942028988,
          0.0011014492753623195,
          0.005803278688524594,
          0.0019710144927536245,
          0.0009795918367346945,
          0.02842028985507246,
          0.0022166666666666676,
          0.06463333333333335,
          0.010425531914893623,
          0.9015797101449274,
          0.0003684210526315792,
          0.0196231884057971,
          0.2814492753623188,
          0.003245901639344265,
          0.0007500000000000006,
          0.006765625000000004,
          0.011681159420289862,
          2.1230869565217385,
          0.0005942028985507251,
          0.000949152542372882,
          0.0010000000000000007,
          0.0017000000000000012,
          0.17195652173913042,
          11.605347826086959,
          0.0005714285714285715,
          0.21813043478260866,
          8.333333333333333e-05,
          0.00511666666666667,
          0,
          0.014289855072463779,
          0.021163934426229512,
          0.07679999999999998,
          0.12173913043478264,
          0.04094999999999996,
          0.01747826086956522,
          0.73545,
          0.01710144927536231,
          0.2788550724637682,
          0.0012028985507246386,
          0.00010294117647058824,
          0.04127536231884058,
          0.06531884057971016,
          0.34539130434782594,
          0.013768115942028996,
          0.005840579710144928,
          0.0023200000000000013,
          0.09835000000000002,
          0.002388059701492539,
          0.012608695652173922,
          0.0019420289855072478,
          0.0006666666666666669,
          0.0033768115942029013,
          0.21542028985507247,
          2.2498695652173906,
          0.001476923076923078,
          0.0017500000000000013,
          0.018533333333333332,
          0.0006666666666666672,
          0.08171666666666663,
          5.59157971014493,
          0.02120289855072464,
          0.0007076923076923083,
          0.24810144927536243,
          0.0022173913043478277,
          0.0003913043478260872,
          0.00427692307692308,
          0.02453623188405798,
          0.005639344262295085,
          0.0007101449275362324,
          0.0070000000000000045,
          0.004376811594202902,
          0.014086956521739141,
          0.09442028985507249,
          0.35339130434782606,
          0.010710144927536238,
          2.8206521739130426,
          0.6987826086956522,
          0.9479999999999998,
          0.23885507246376814,
          0.14001449275362313,
          0.14221739130434785,
          1.603217391304348,
          0.02997101449275363,
          4.10344927536232,
          0.03633333333333335,
          0.9157166666666666,
          0.02908695652173913,
          0,
          0.023818181818181815,
          0.16666666666666666,
          0.0664166666666667,
          0.005671875000000002,
          0.057483333333333324,
          0.04201449275362319,
          0.007137931034482763,
          0.003869565217391306,
          0.12242028985507244,
          0.0008275862068965522,
          0.10573333333333332,
          0.06827536231884054,
          0.003213114754098363,
          0.006057971014492758,
          0.0033333333333333357,
          0.2882608695652174,
          0.0014166666666666674,
          0.003116666666666669,
          0.006449275362318846,
          0,
          0.004769230769230773,
          0.004433333333333335,
          0.006217391304347831,
          1.1671014492753629,
          0.08318333333333333,
          0.03379710144927537,
          0.006916666666666671,
          0,
          0.09760869565217391,
          0.013188405797101458,
          0.0313768115942029,
          0.008214285714285719,
          0.000381818181818182,
          0.006420289855072469,
          0.7517971014492751,
          0.018807692307692313,
          0.009753623188405804,
          0.11514492753623186,
          0.010637681159420298,
          0.0028688524590163946,
          0.2198840579710145,
          0,
          0.36202898550724644,
          0.04638333333333333,
          0.15694202898550724,
          0.0719818181818182,
          0.27872463768115946,
          0.0008709677419354845,
          0.00620689655172414,
          0.01804347826086957,
          0.009173913043478267,
          0.009289855072463774,
          0.11262318840579712,
          0.19210144927536232,
          1.762130434782609,
          0.15244927536231886,
          0.10317391304347827,
          0.6103768115942029,
          8.357216666666666,
          0.0015652173913043486,
          0,
          0.0006842105263157899,
          0.0005942028985507251,
          5.797101449275363e-05,
          0.00036231884057971037,
          0.000521739130434783,
          0,
          0.7890289855072465,
          0.014754098360655749,
          0.19454999999999997,
          0.0009821428571428579,
          0.0028550724637681183,
          0.13356451612903228,
          0.004733333333333336,
          0.23954999999999999,
          0.059133333333333336,
          0.0005522388059701496,
          0.0021449275362318857,
          1.300956521739131,
          0.9212318840579711,
          0.002500000000000002,
          0.9019565217391304,
          0.029449275362318842,
          0.024521739130434782,
          0.00759420289855073,
          0.35433333333333333,
          0.1947101449275363,
          0.1088260869565218,
          0.46881159420289853,
          0.03146666666666665,
          0.014833333333333342,
          0.3696376811594203,
          0.0010000000000000005,
          0.003768115942028988,
          0,
          0.08043478260869565,
          0.05102898550724639,
          0.5752898550724638,
          0.18099999999999997,
          0.000413793103448276,
          0,
          0.006057971014492757,
          2.2722833333333337,
          0.2726833333333334,
          3.6794927536231885,
          25.5834347826087,
          0.03039130434782609,
          0.4661,
          7.017543859649122e-05,
          0.5531449275362318,
          0.18015942028985507,
          0,
          0.03852173913043479,
          0.01773333333333334,
          0.04999999999999998
         ]
        }
       ],
       "layout": {
        "legend": {
         "tracegroupgap": 0
        },
        "showlegend": false,
        "template": {
         "data": {
          "bar": [
           {
            "error_x": {
             "color": "#2a3f5f"
            },
            "error_y": {
             "color": "#2a3f5f"
            },
            "marker": {
             "line": {
              "color": "#E5ECF6",
              "width": 0.5
             }
            },
            "type": "bar"
           }
          ],
          "barpolar": [
           {
            "marker": {
             "line": {
              "color": "#E5ECF6",
              "width": 0.5
             }
            },
            "type": "barpolar"
           }
          ],
          "carpet": [
           {
            "aaxis": {
             "endlinecolor": "#2a3f5f",
             "gridcolor": "white",
             "linecolor": "white",
             "minorgridcolor": "white",
             "startlinecolor": "#2a3f5f"
            },
            "baxis": {
             "endlinecolor": "#2a3f5f",
             "gridcolor": "white",
             "linecolor": "white",
             "minorgridcolor": "white",
             "startlinecolor": "#2a3f5f"
            },
            "type": "carpet"
           }
          ],
          "choropleth": [
           {
            "colorbar": {
             "outlinewidth": 0,
             "ticks": ""
            },
            "type": "choropleth"
           }
          ],
          "contour": [
           {
            "colorbar": {
             "outlinewidth": 0,
             "ticks": ""
            },
            "colorscale": [
             [
              0,
              "#0d0887"
             ],
             [
              0.1111111111111111,
              "#46039f"
             ],
             [
              0.2222222222222222,
              "#7201a8"
             ],
             [
              0.3333333333333333,
              "#9c179e"
             ],
             [
              0.4444444444444444,
              "#bd3786"
             ],
             [
              0.5555555555555556,
              "#d8576b"
             ],
             [
              0.6666666666666666,
              "#ed7953"
             ],
             [
              0.7777777777777778,
              "#fb9f3a"
             ],
             [
              0.8888888888888888,
              "#fdca26"
             ],
             [
              1,
              "#f0f921"
             ]
            ],
            "type": "contour"
           }
          ],
          "contourcarpet": [
           {
            "colorbar": {
             "outlinewidth": 0,
             "ticks": ""
            },
            "type": "contourcarpet"
           }
          ],
          "heatmap": [
           {
            "colorbar": {
             "outlinewidth": 0,
             "ticks": ""
            },
            "colorscale": [
             [
              0,
              "#0d0887"
             ],
             [
              0.1111111111111111,
              "#46039f"
             ],
             [
              0.2222222222222222,
              "#7201a8"
             ],
             [
              0.3333333333333333,
              "#9c179e"
             ],
             [
              0.4444444444444444,
              "#bd3786"
             ],
             [
              0.5555555555555556,
              "#d8576b"
             ],
             [
              0.6666666666666666,
              "#ed7953"
             ],
             [
              0.7777777777777778,
              "#fb9f3a"
             ],
             [
              0.8888888888888888,
              "#fdca26"
             ],
             [
              1,
              "#f0f921"
             ]
            ],
            "type": "heatmap"
           }
          ],
          "heatmapgl": [
           {
            "colorbar": {
             "outlinewidth": 0,
             "ticks": ""
            },
            "colorscale": [
             [
              0,
              "#0d0887"
             ],
             [
              0.1111111111111111,
              "#46039f"
             ],
             [
              0.2222222222222222,
              "#7201a8"
             ],
             [
              0.3333333333333333,
              "#9c179e"
             ],
             [
              0.4444444444444444,
              "#bd3786"
             ],
             [
              0.5555555555555556,
              "#d8576b"
             ],
             [
              0.6666666666666666,
              "#ed7953"
             ],
             [
              0.7777777777777778,
              "#fb9f3a"
             ],
             [
              0.8888888888888888,
              "#fdca26"
             ],
             [
              1,
              "#f0f921"
             ]
            ],
            "type": "heatmapgl"
           }
          ],
          "histogram": [
           {
            "marker": {
             "colorbar": {
              "outlinewidth": 0,
              "ticks": ""
             }
            },
            "type": "histogram"
           }
          ],
          "histogram2d": [
           {
            "colorbar": {
             "outlinewidth": 0,
             "ticks": ""
            },
            "colorscale": [
             [
              0,
              "#0d0887"
             ],
             [
              0.1111111111111111,
              "#46039f"
             ],
             [
              0.2222222222222222,
              "#7201a8"
             ],
             [
              0.3333333333333333,
              "#9c179e"
             ],
             [
              0.4444444444444444,
              "#bd3786"
             ],
             [
              0.5555555555555556,
              "#d8576b"
             ],
             [
              0.6666666666666666,
              "#ed7953"
             ],
             [
              0.7777777777777778,
              "#fb9f3a"
             ],
             [
              0.8888888888888888,
              "#fdca26"
             ],
             [
              1,
              "#f0f921"
             ]
            ],
            "type": "histogram2d"
           }
          ],
          "histogram2dcontour": [
           {
            "colorbar": {
             "outlinewidth": 0,
             "ticks": ""
            },
            "colorscale": [
             [
              0,
              "#0d0887"
             ],
             [
              0.1111111111111111,
              "#46039f"
             ],
             [
              0.2222222222222222,
              "#7201a8"
             ],
             [
              0.3333333333333333,
              "#9c179e"
             ],
             [
              0.4444444444444444,
              "#bd3786"
             ],
             [
              0.5555555555555556,
              "#d8576b"
             ],
             [
              0.6666666666666666,
              "#ed7953"
             ],
             [
              0.7777777777777778,
              "#fb9f3a"
             ],
             [
              0.8888888888888888,
              "#fdca26"
             ],
             [
              1,
              "#f0f921"
             ]
            ],
            "type": "histogram2dcontour"
           }
          ],
          "mesh3d": [
           {
            "colorbar": {
             "outlinewidth": 0,
             "ticks": ""
            },
            "type": "mesh3d"
           }
          ],
          "parcoords": [
           {
            "line": {
             "colorbar": {
              "outlinewidth": 0,
              "ticks": ""
             }
            },
            "type": "parcoords"
           }
          ],
          "pie": [
           {
            "automargin": true,
            "type": "pie"
           }
          ],
          "scatter": [
           {
            "marker": {
             "colorbar": {
              "outlinewidth": 0,
              "ticks": ""
             }
            },
            "type": "scatter"
           }
          ],
          "scatter3d": [
           {
            "line": {
             "colorbar": {
              "outlinewidth": 0,
              "ticks": ""
             }
            },
            "marker": {
             "colorbar": {
              "outlinewidth": 0,
              "ticks": ""
             }
            },
            "type": "scatter3d"
           }
          ],
          "scattercarpet": [
           {
            "marker": {
             "colorbar": {
              "outlinewidth": 0,
              "ticks": ""
             }
            },
            "type": "scattercarpet"
           }
          ],
          "scattergeo": [
           {
            "marker": {
             "colorbar": {
              "outlinewidth": 0,
              "ticks": ""
             }
            },
            "type": "scattergeo"
           }
          ],
          "scattergl": [
           {
            "marker": {
             "colorbar": {
              "outlinewidth": 0,
              "ticks": ""
             }
            },
            "type": "scattergl"
           }
          ],
          "scattermapbox": [
           {
            "marker": {
             "colorbar": {
              "outlinewidth": 0,
              "ticks": ""
             }
            },
            "type": "scattermapbox"
           }
          ],
          "scatterpolar": [
           {
            "marker": {
             "colorbar": {
              "outlinewidth": 0,
              "ticks": ""
             }
            },
            "type": "scatterpolar"
           }
          ],
          "scatterpolargl": [
           {
            "marker": {
             "colorbar": {
              "outlinewidth": 0,
              "ticks": ""
             }
            },
            "type": "scatterpolargl"
           }
          ],
          "scatterternary": [
           {
            "marker": {
             "colorbar": {
              "outlinewidth": 0,
              "ticks": ""
             }
            },
            "type": "scatterternary"
           }
          ],
          "surface": [
           {
            "colorbar": {
             "outlinewidth": 0,
             "ticks": ""
            },
            "colorscale": [
             [
              0,
              "#0d0887"
             ],
             [
              0.1111111111111111,
              "#46039f"
             ],
             [
              0.2222222222222222,
              "#7201a8"
             ],
             [
              0.3333333333333333,
              "#9c179e"
             ],
             [
              0.4444444444444444,
              "#bd3786"
             ],
             [
              0.5555555555555556,
              "#d8576b"
             ],
             [
              0.6666666666666666,
              "#ed7953"
             ],
             [
              0.7777777777777778,
              "#fb9f3a"
             ],
             [
              0.8888888888888888,
              "#fdca26"
             ],
             [
              1,
              "#f0f921"
             ]
            ],
            "type": "surface"
           }
          ],
          "table": [
           {
            "cells": {
             "fill": {
              "color": "#EBF0F8"
             },
             "line": {
              "color": "white"
             }
            },
            "header": {
             "fill": {
              "color": "#C8D4E3"
             },
             "line": {
              "color": "white"
             }
            },
            "type": "table"
           }
          ]
         },
         "layout": {
          "annotationdefaults": {
           "arrowcolor": "#2a3f5f",
           "arrowhead": 0,
           "arrowwidth": 1
          },
          "autotypenumbers": "strict",
          "coloraxis": {
           "colorbar": {
            "outlinewidth": 0,
            "ticks": ""
           }
          },
          "colorscale": {
           "diverging": [
            [
             0,
             "#8e0152"
            ],
            [
             0.1,
             "#c51b7d"
            ],
            [
             0.2,
             "#de77ae"
            ],
            [
             0.3,
             "#f1b6da"
            ],
            [
             0.4,
             "#fde0ef"
            ],
            [
             0.5,
             "#f7f7f7"
            ],
            [
             0.6,
             "#e6f5d0"
            ],
            [
             0.7,
             "#b8e186"
            ],
            [
             0.8,
             "#7fbc41"
            ],
            [
             0.9,
             "#4d9221"
            ],
            [
             1,
             "#276419"
            ]
           ],
           "sequential": [
            [
             0,
             "#0d0887"
            ],
            [
             0.1111111111111111,
             "#46039f"
            ],
            [
             0.2222222222222222,
             "#7201a8"
            ],
            [
             0.3333333333333333,
             "#9c179e"
            ],
            [
             0.4444444444444444,
             "#bd3786"
            ],
            [
             0.5555555555555556,
             "#d8576b"
            ],
            [
             0.6666666666666666,
             "#ed7953"
            ],
            [
             0.7777777777777778,
             "#fb9f3a"
            ],
            [
             0.8888888888888888,
             "#fdca26"
            ],
            [
             1,
             "#f0f921"
            ]
           ],
           "sequentialminus": [
            [
             0,
             "#0d0887"
            ],
            [
             0.1111111111111111,
             "#46039f"
            ],
            [
             0.2222222222222222,
             "#7201a8"
            ],
            [
             0.3333333333333333,
             "#9c179e"
            ],
            [
             0.4444444444444444,
             "#bd3786"
            ],
            [
             0.5555555555555556,
             "#d8576b"
            ],
            [
             0.6666666666666666,
             "#ed7953"
            ],
            [
             0.7777777777777778,
             "#fb9f3a"
            ],
            [
             0.8888888888888888,
             "#fdca26"
            ],
            [
             1,
             "#f0f921"
            ]
           ]
          },
          "colorway": [
           "#636efa",
           "#EF553B",
           "#00cc96",
           "#ab63fa",
           "#FFA15A",
           "#19d3f3",
           "#FF6692",
           "#B6E880",
           "#FF97FF",
           "#FECB52"
          ],
          "font": {
           "color": "#2a3f5f"
          },
          "geo": {
           "bgcolor": "white",
           "lakecolor": "white",
           "landcolor": "#E5ECF6",
           "showlakes": true,
           "showland": true,
           "subunitcolor": "white"
          },
          "hoverlabel": {
           "align": "left"
          },
          "hovermode": "closest",
          "mapbox": {
           "style": "light"
          },
          "paper_bgcolor": "white",
          "plot_bgcolor": "#E5ECF6",
          "polar": {
           "angularaxis": {
            "gridcolor": "white",
            "linecolor": "white",
            "ticks": ""
           },
           "bgcolor": "#E5ECF6",
           "radialaxis": {
            "gridcolor": "white",
            "linecolor": "white",
            "ticks": ""
           }
          },
          "scene": {
           "xaxis": {
            "backgroundcolor": "#E5ECF6",
            "gridcolor": "white",
            "gridwidth": 2,
            "linecolor": "white",
            "showbackground": true,
            "ticks": "",
            "zerolinecolor": "white"
           },
           "yaxis": {
            "backgroundcolor": "#E5ECF6",
            "gridcolor": "white",
            "gridwidth": 2,
            "linecolor": "white",
            "showbackground": true,
            "ticks": "",
            "zerolinecolor": "white"
           },
           "zaxis": {
            "backgroundcolor": "#E5ECF6",
            "gridcolor": "white",
            "gridwidth": 2,
            "linecolor": "white",
            "showbackground": true,
            "ticks": "",
            "zerolinecolor": "white"
           }
          },
          "shapedefaults": {
           "line": {
            "color": "#2a3f5f"
           }
          },
          "ternary": {
           "aaxis": {
            "gridcolor": "white",
            "linecolor": "white",
            "ticks": ""
           },
           "baxis": {
            "gridcolor": "white",
            "linecolor": "white",
            "ticks": ""
           },
           "bgcolor": "#E5ECF6",
           "caxis": {
            "gridcolor": "white",
            "linecolor": "white",
            "ticks": ""
           }
          },
          "title": {
           "x": 0.05
          },
          "xaxis": {
           "automargin": true,
           "gridcolor": "white",
           "linecolor": "white",
           "ticks": "",
           "title": {
            "standoff": 15
           },
           "zerolinecolor": "white",
           "zerolinewidth": 2
          },
          "yaxis": {
           "automargin": true,
           "gridcolor": "white",
           "linecolor": "white",
           "ticks": "",
           "title": {
            "standoff": 15
           },
           "zerolinecolor": "white",
           "zerolinewidth": 2
          }
         }
        },
        "title": {
         "text": "CO2 Emissions by Country"
        }
       }
      },
      "text/html": [
       "<div>                            <div id=\"ca27e9e5-6ff6-4bdd-a68e-0415da296723\" class=\"plotly-graph-div\" style=\"height:525px; width:100%;\"></div>            <script type=\"text/javascript\">                require([\"plotly\"], function(Plotly) {                    window.PLOTLYENV=window.PLOTLYENV || {};                                    if (document.getElementById(\"ca27e9e5-6ff6-4bdd-a68e-0415da296723\")) {                    Plotly.newPlot(                        \"ca27e9e5-6ff6-4bdd-a68e-0415da296723\",                        [{\"domain\": {\"x\": [0.0, 1.0], \"y\": [0.0, 1.0]}, \"hovertemplate\": \"label=%{label}<br>value=%{value}<extra></extra>\", \"labels\": [\"Afghanistan\", \"Albania\", \"Algeria\", \"Andorra\", \"Angola\", \"Anguilla\", \"Antigua and Barbuda\", \"Argentina\", \"Armenia\", \"Aruba\", \"Australia\", \"Austria\", \"Azerbaijan\", \"Bahamas\", \"Bahrain\", \"Bangladesh\", \"Barbados\", \"Belarus\", \"Belgium\", \"Belize\", \"Benin\", \"Bermuda\", \"Bhutan\", \"Bolivia\", \"Bonaire Sint Eustatius and Saba\", \"Bosnia and Herzegovina\", \"Botswana\", \"Brazil\", \"British Virgin Islands\", \"Brunei\", \"Bulgaria\", \"Burkina Faso\", \"Burundi\", \"Cambodia\", \"Cameroon\", \"Canada\", \"Cape Verde\", \"Cayman Islands\", \"Central African Republic\", \"Chad\", \"Chile\", \"China\", \"Christmas Island\", \"Colombia\", \"Comoros\", \"Congo\", \"Cook Islands\", \"Costa Rica\", \"Cote d'Ivoire\", \"Croatia\", \"Cuba\", \"Curacao\", \"Cyprus\", \"Czechia\", \"Democratic Republic of Congo\", \"Denmark\", \"Djibouti\", \"Dominica\", \"Dominican Republic\", \"Ecuador\", \"Egypt\", \"El Salvador\", \"Equatorial Guinea\", \"Eritrea\", \"Estonia\", \"Eswatini\", \"Ethiopia\", \"Faeroe Islands\", \"Falkland Islands\", \"Fiji\", \"Finland\", \"France\", \"French Guiana\", \"French Polynesia\", \"Gabon\", \"Gambia\", \"Georgia\", \"Germany\", \"Ghana\", \"Gibraltar\", \"Greece\", \"Greenland\", \"Grenada\", \"Guadeloupe\", \"Guatemala\", \"Guinea\", \"Guinea-Bissau\", \"Guyana\", \"Haiti\", \"Honduras\", \"Hong Kong\", \"Hungary\", \"Iceland\", \"India\", \"Indonesia\", \"Iran\", \"Iraq\", \"Ireland\", \"Israel\", \"Italy\", \"Jamaica\", \"Japan\", \"Jordan\", \"Kazakhstan\", \"Kenya\", \"Kiribati\", \"Kosovo\", \"Kuwait\", \"Kyrgyzstan\", \"Laos\", \"Latvia\", \"Lebanon\", \"Lesotho\", \"Liberia\", \"Libya\", \"Liechtenstein\", \"Lithuania\", \"Luxembourg\", \"Macau\", \"Madagascar\", \"Malawi\", \"Malaysia\", \"Maldives\", \"Mali\", \"Malta\", \"Marshall Islands\", \"Martinique\", \"Mauritania\", \"Mauritius\", \"Mexico\", \"Moldova\", \"Mongolia\", \"Montenegro\", \"Montserrat\", \"Morocco\", \"Mozambique\", \"Myanmar\", \"Namibia\", \"Nauru\", \"Nepal\", \"Netherlands\", \"Netherlands Antilles\", \"New Caledonia\", \"New Zealand\", \"Nicaragua\", \"Niger\", \"Nigeria\", \"Niue\", \"North Korea\", \"North Macedonia\", \"Norway\", \"Oman\", \"Pakistan\", \"Palau\", \"Palestine\", \"Panama\", \"Papua New Guinea\", \"Paraguay\", \"Peru\", \"Philippines\", \"Poland\", \"Portugal\", \"Qatar\", \"Romania\", \"Russia\", \"Rwanda\", \"Saint Helena\", \"Saint Kitts and Nevis\", \"Saint Lucia\", \"Saint Pierre and Miquelon\", \"Saint Vincent and the Grenadines\", \"Samoa\", \"Sao Tome and Principe\", \"Saudi Arabia\", \"Senegal\", \"Serbia\", \"Seychelles\", \"Sierra Leone\", \"Singapore\", \"Sint Maarten (Dutch part)\", \"Slovakia\", \"Slovenia\", \"Solomon Islands\", \"Somalia\", \"South Africa\", \"South Korea\", \"South Sudan\", \"Spain\", \"Sri Lanka\", \"Sudan\", \"Suriname\", \"Sweden\", \"Switzerland\", \"Syria\", \"Taiwan\", \"Tajikistan\", \"Tanzania\", \"Thailand\", \"Timor\", \"Togo\", \"Tonga\", \"Trinidad and Tobago\", \"Tunisia\", \"Turkey\", \"Turkmenistan\", \"Turks and Caicos Islands\", \"Tuvalu\", \"Uganda\", \"Ukraine\", \"United Arab Emirates\", \"United Kingdom\", \"United States\", \"Uruguay\", \"Uzbekistan\", \"Vanuatu\", \"Venezuela\", \"Vietnam\", \"Wallis and Futuna Islands\", \"Yemen\", \"Zambia\", \"Zimbabwe\"], \"legendgroup\": \"\", \"name\": \"\", \"showlegend\": true, \"textinfo\": \"percent+label\", \"textposition\": \"inside\", \"type\": \"pie\", \"values\": [0.010420289855072472, 0.020014492753623173, 0.252840579710145, 0.0017241379310344838, 0.035579710144927536, 0.0, 0.0017096774193548399, 0.5483333333333333, 0.05368333333333332, 0.004883333333333336, 1.1436086956521743, 0.2911304347826087, 0.1903166666666666, 0.012086956521739134, 0.04694202898550726, 0.08245000000000001, 0.0034637681159420315, 0.3930666666666666, 0.6868115942028988, 0.0011014492753623195, 0.005803278688524594, 0.0019710144927536245, 0.0009795918367346945, 0.02842028985507246, 0.0022166666666666676, 0.06463333333333335, 0.010425531914893623, 0.9015797101449274, 0.0003684210526315792, 0.0196231884057971, 0.2814492753623188, 0.003245901639344265, 0.0007500000000000006, 0.006765625000000004, 0.011681159420289862, 2.1230869565217385, 0.0005942028985507251, 0.000949152542372882, 0.0010000000000000007, 0.0017000000000000012, 0.17195652173913042, 11.605347826086959, 0.0005714285714285715, 0.21813043478260866, 8.333333333333333e-05, 0.00511666666666667, 0.0, 0.014289855072463779, 0.021163934426229512, 0.07679999999999998, 0.12173913043478264, 0.04094999999999996, 0.01747826086956522, 0.73545, 0.01710144927536231, 0.2788550724637682, 0.0012028985507246386, 0.00010294117647058824, 0.04127536231884058, 0.06531884057971016, 0.34539130434782594, 0.013768115942028996, 0.005840579710144928, 0.0023200000000000013, 0.09835000000000002, 0.002388059701492539, 0.012608695652173922, 0.0019420289855072478, 0.0006666666666666669, 0.0033768115942029013, 0.21542028985507247, 2.2498695652173906, 0.001476923076923078, 0.0017500000000000013, 0.018533333333333332, 0.0006666666666666672, 0.08171666666666663, 5.59157971014493, 0.02120289855072464, 0.0007076923076923083, 0.24810144927536243, 0.0022173913043478277, 0.0003913043478260872, 0.00427692307692308, 0.02453623188405798, 0.005639344262295085, 0.0007101449275362324, 0.0070000000000000045, 0.004376811594202902, 0.014086956521739141, 0.09442028985507249, 0.35339130434782606, 0.010710144927536238, 2.8206521739130426, 0.6987826086956522, 0.9479999999999998, 0.23885507246376814, 0.14001449275362313, 0.14221739130434785, 1.603217391304348, 0.02997101449275363, 4.10344927536232, 0.03633333333333335, 0.9157166666666666, 0.02908695652173913, 0.0, 0.023818181818181815, 0.16666666666666666, 0.0664166666666667, 0.005671875000000002, 0.057483333333333324, 0.04201449275362319, 0.007137931034482763, 0.003869565217391306, 0.12242028985507244, 0.0008275862068965522, 0.10573333333333332, 0.06827536231884054, 0.003213114754098363, 0.006057971014492758, 0.0033333333333333357, 0.2882608695652174, 0.0014166666666666674, 0.003116666666666669, 0.006449275362318846, 0.0, 0.004769230769230773, 0.004433333333333335, 0.006217391304347831, 1.1671014492753629, 0.08318333333333333, 0.03379710144927537, 0.006916666666666671, 0.0, 0.09760869565217391, 0.013188405797101458, 0.0313768115942029, 0.008214285714285719, 0.000381818181818182, 0.006420289855072469, 0.7517971014492751, 0.018807692307692313, 0.009753623188405804, 0.11514492753623186, 0.010637681159420298, 0.0028688524590163946, 0.2198840579710145, 0.0, 0.36202898550724644, 0.04638333333333333, 0.15694202898550724, 0.0719818181818182, 0.27872463768115946, 0.0008709677419354845, 0.00620689655172414, 0.01804347826086957, 0.009173913043478267, 0.009289855072463774, 0.11262318840579712, 0.19210144927536232, 1.762130434782609, 0.15244927536231886, 0.10317391304347827, 0.6103768115942029, 8.357216666666666, 0.0015652173913043486, 0.0, 0.0006842105263157899, 0.0005942028985507251, 5.797101449275363e-05, 0.00036231884057971037, 0.000521739130434783, 0.0, 0.7890289855072465, 0.014754098360655749, 0.19454999999999997, 0.0009821428571428579, 0.0028550724637681183, 0.13356451612903228, 0.004733333333333336, 0.23954999999999999, 0.059133333333333336, 0.0005522388059701496, 0.0021449275362318857, 1.300956521739131, 0.9212318840579711, 0.002500000000000002, 0.9019565217391304, 0.029449275362318842, 0.024521739130434782, 0.00759420289855073, 0.35433333333333333, 0.1947101449275363, 0.1088260869565218, 0.46881159420289853, 0.03146666666666665, 0.014833333333333342, 0.3696376811594203, 0.0010000000000000005, 0.003768115942028988, 0.0, 0.08043478260869565, 0.05102898550724639, 0.5752898550724638, 0.18099999999999997, 0.000413793103448276, 0.0, 0.006057971014492757, 2.2722833333333337, 0.2726833333333334, 3.6794927536231885, 25.5834347826087, 0.03039130434782609, 0.4661, 7.017543859649122e-05, 0.5531449275362318, 0.18015942028985507, 0.0, 0.03852173913043479, 0.01773333333333334, 0.04999999999999998]}],                        {\"legend\": {\"tracegroupgap\": 0}, \"showlegend\": false, \"template\": {\"data\": {\"bar\": [{\"error_x\": {\"color\": \"#2a3f5f\"}, \"error_y\": {\"color\": \"#2a3f5f\"}, \"marker\": {\"line\": {\"color\": \"#E5ECF6\", \"width\": 0.5}}, \"type\": \"bar\"}], \"barpolar\": [{\"marker\": {\"line\": {\"color\": \"#E5ECF6\", \"width\": 0.5}}, \"type\": \"barpolar\"}], \"carpet\": [{\"aaxis\": {\"endlinecolor\": \"#2a3f5f\", \"gridcolor\": \"white\", \"linecolor\": \"white\", \"minorgridcolor\": \"white\", \"startlinecolor\": \"#2a3f5f\"}, \"baxis\": {\"endlinecolor\": \"#2a3f5f\", \"gridcolor\": \"white\", \"linecolor\": \"white\", \"minorgridcolor\": \"white\", \"startlinecolor\": \"#2a3f5f\"}, \"type\": \"carpet\"}], \"choropleth\": [{\"colorbar\": {\"outlinewidth\": 0, \"ticks\": \"\"}, \"type\": \"choropleth\"}], \"contour\": [{\"colorbar\": {\"outlinewidth\": 0, \"ticks\": \"\"}, \"colorscale\": [[0.0, \"#0d0887\"], [0.1111111111111111, \"#46039f\"], [0.2222222222222222, \"#7201a8\"], [0.3333333333333333, \"#9c179e\"], [0.4444444444444444, \"#bd3786\"], [0.5555555555555556, \"#d8576b\"], [0.6666666666666666, \"#ed7953\"], [0.7777777777777778, \"#fb9f3a\"], [0.8888888888888888, \"#fdca26\"], [1.0, \"#f0f921\"]], \"type\": \"contour\"}], \"contourcarpet\": [{\"colorbar\": {\"outlinewidth\": 0, \"ticks\": \"\"}, \"type\": \"contourcarpet\"}], \"heatmap\": [{\"colorbar\": {\"outlinewidth\": 0, \"ticks\": \"\"}, \"colorscale\": [[0.0, \"#0d0887\"], [0.1111111111111111, \"#46039f\"], [0.2222222222222222, \"#7201a8\"], [0.3333333333333333, \"#9c179e\"], [0.4444444444444444, \"#bd3786\"], [0.5555555555555556, \"#d8576b\"], [0.6666666666666666, \"#ed7953\"], [0.7777777777777778, \"#fb9f3a\"], [0.8888888888888888, \"#fdca26\"], [1.0, \"#f0f921\"]], \"type\": \"heatmap\"}], \"heatmapgl\": [{\"colorbar\": {\"outlinewidth\": 0, \"ticks\": \"\"}, \"colorscale\": [[0.0, \"#0d0887\"], [0.1111111111111111, \"#46039f\"], [0.2222222222222222, \"#7201a8\"], [0.3333333333333333, \"#9c179e\"], [0.4444444444444444, \"#bd3786\"], [0.5555555555555556, \"#d8576b\"], [0.6666666666666666, \"#ed7953\"], [0.7777777777777778, \"#fb9f3a\"], [0.8888888888888888, \"#fdca26\"], [1.0, \"#f0f921\"]], \"type\": \"heatmapgl\"}], \"histogram\": [{\"marker\": {\"colorbar\": {\"outlinewidth\": 0, \"ticks\": \"\"}}, \"type\": \"histogram\"}], \"histogram2d\": [{\"colorbar\": {\"outlinewidth\": 0, \"ticks\": \"\"}, \"colorscale\": [[0.0, \"#0d0887\"], [0.1111111111111111, \"#46039f\"], [0.2222222222222222, \"#7201a8\"], [0.3333333333333333, \"#9c179e\"], [0.4444444444444444, \"#bd3786\"], [0.5555555555555556, \"#d8576b\"], [0.6666666666666666, \"#ed7953\"], [0.7777777777777778, \"#fb9f3a\"], [0.8888888888888888, \"#fdca26\"], [1.0, \"#f0f921\"]], \"type\": \"histogram2d\"}], \"histogram2dcontour\": [{\"colorbar\": {\"outlinewidth\": 0, \"ticks\": \"\"}, \"colorscale\": [[0.0, \"#0d0887\"], [0.1111111111111111, \"#46039f\"], [0.2222222222222222, \"#7201a8\"], [0.3333333333333333, \"#9c179e\"], [0.4444444444444444, \"#bd3786\"], [0.5555555555555556, \"#d8576b\"], [0.6666666666666666, \"#ed7953\"], [0.7777777777777778, \"#fb9f3a\"], [0.8888888888888888, \"#fdca26\"], [1.0, \"#f0f921\"]], \"type\": \"histogram2dcontour\"}], \"mesh3d\": [{\"colorbar\": {\"outlinewidth\": 0, \"ticks\": \"\"}, \"type\": \"mesh3d\"}], \"parcoords\": [{\"line\": {\"colorbar\": {\"outlinewidth\": 0, \"ticks\": \"\"}}, \"type\": \"parcoords\"}], \"pie\": [{\"automargin\": true, \"type\": \"pie\"}], \"scatter\": [{\"marker\": {\"colorbar\": {\"outlinewidth\": 0, \"ticks\": \"\"}}, \"type\": \"scatter\"}], \"scatter3d\": [{\"line\": {\"colorbar\": {\"outlinewidth\": 0, \"ticks\": \"\"}}, \"marker\": {\"colorbar\": {\"outlinewidth\": 0, \"ticks\": \"\"}}, \"type\": \"scatter3d\"}], \"scattercarpet\": [{\"marker\": {\"colorbar\": {\"outlinewidth\": 0, \"ticks\": \"\"}}, \"type\": \"scattercarpet\"}], \"scattergeo\": [{\"marker\": {\"colorbar\": {\"outlinewidth\": 0, \"ticks\": \"\"}}, \"type\": \"scattergeo\"}], \"scattergl\": [{\"marker\": {\"colorbar\": {\"outlinewidth\": 0, \"ticks\": \"\"}}, \"type\": \"scattergl\"}], \"scattermapbox\": [{\"marker\": {\"colorbar\": {\"outlinewidth\": 0, \"ticks\": \"\"}}, \"type\": \"scattermapbox\"}], \"scatterpolar\": [{\"marker\": {\"colorbar\": {\"outlinewidth\": 0, \"ticks\": \"\"}}, \"type\": \"scatterpolar\"}], \"scatterpolargl\": [{\"marker\": {\"colorbar\": {\"outlinewidth\": 0, \"ticks\": \"\"}}, \"type\": \"scatterpolargl\"}], \"scatterternary\": [{\"marker\": {\"colorbar\": {\"outlinewidth\": 0, \"ticks\": \"\"}}, \"type\": \"scatterternary\"}], \"surface\": [{\"colorbar\": {\"outlinewidth\": 0, \"ticks\": \"\"}, \"colorscale\": [[0.0, \"#0d0887\"], [0.1111111111111111, \"#46039f\"], [0.2222222222222222, \"#7201a8\"], [0.3333333333333333, \"#9c179e\"], [0.4444444444444444, \"#bd3786\"], [0.5555555555555556, \"#d8576b\"], [0.6666666666666666, \"#ed7953\"], [0.7777777777777778, \"#fb9f3a\"], [0.8888888888888888, \"#fdca26\"], [1.0, \"#f0f921\"]], \"type\": \"surface\"}], \"table\": [{\"cells\": {\"fill\": {\"color\": \"#EBF0F8\"}, \"line\": {\"color\": \"white\"}}, \"header\": {\"fill\": {\"color\": \"#C8D4E3\"}, \"line\": {\"color\": \"white\"}}, \"type\": \"table\"}]}, \"layout\": {\"annotationdefaults\": {\"arrowcolor\": \"#2a3f5f\", \"arrowhead\": 0, \"arrowwidth\": 1}, \"autotypenumbers\": \"strict\", \"coloraxis\": {\"colorbar\": {\"outlinewidth\": 0, \"ticks\": \"\"}}, \"colorscale\": {\"diverging\": [[0, \"#8e0152\"], [0.1, \"#c51b7d\"], [0.2, \"#de77ae\"], [0.3, \"#f1b6da\"], [0.4, \"#fde0ef\"], [0.5, \"#f7f7f7\"], [0.6, \"#e6f5d0\"], [0.7, \"#b8e186\"], [0.8, \"#7fbc41\"], [0.9, \"#4d9221\"], [1, \"#276419\"]], \"sequential\": [[0.0, \"#0d0887\"], [0.1111111111111111, \"#46039f\"], [0.2222222222222222, \"#7201a8\"], [0.3333333333333333, \"#9c179e\"], [0.4444444444444444, \"#bd3786\"], [0.5555555555555556, \"#d8576b\"], [0.6666666666666666, \"#ed7953\"], [0.7777777777777778, \"#fb9f3a\"], [0.8888888888888888, \"#fdca26\"], [1.0, \"#f0f921\"]], \"sequentialminus\": [[0.0, \"#0d0887\"], [0.1111111111111111, \"#46039f\"], [0.2222222222222222, \"#7201a8\"], [0.3333333333333333, \"#9c179e\"], [0.4444444444444444, \"#bd3786\"], [0.5555555555555556, \"#d8576b\"], [0.6666666666666666, \"#ed7953\"], [0.7777777777777778, \"#fb9f3a\"], [0.8888888888888888, \"#fdca26\"], [1.0, \"#f0f921\"]]}, \"colorway\": [\"#636efa\", \"#EF553B\", \"#00cc96\", \"#ab63fa\", \"#FFA15A\", \"#19d3f3\", \"#FF6692\", \"#B6E880\", \"#FF97FF\", \"#FECB52\"], \"font\": {\"color\": \"#2a3f5f\"}, \"geo\": {\"bgcolor\": \"white\", \"lakecolor\": \"white\", \"landcolor\": \"#E5ECF6\", \"showlakes\": true, \"showland\": true, \"subunitcolor\": \"white\"}, \"hoverlabel\": {\"align\": \"left\"}, \"hovermode\": \"closest\", \"mapbox\": {\"style\": \"light\"}, \"paper_bgcolor\": \"white\", \"plot_bgcolor\": \"#E5ECF6\", \"polar\": {\"angularaxis\": {\"gridcolor\": \"white\", \"linecolor\": \"white\", \"ticks\": \"\"}, \"bgcolor\": \"#E5ECF6\", \"radialaxis\": {\"gridcolor\": \"white\", \"linecolor\": \"white\", \"ticks\": \"\"}}, \"scene\": {\"xaxis\": {\"backgroundcolor\": \"#E5ECF6\", \"gridcolor\": \"white\", \"gridwidth\": 2, \"linecolor\": \"white\", \"showbackground\": true, \"ticks\": \"\", \"zerolinecolor\": \"white\"}, \"yaxis\": {\"backgroundcolor\": \"#E5ECF6\", \"gridcolor\": \"white\", \"gridwidth\": 2, \"linecolor\": \"white\", \"showbackground\": true, \"ticks\": \"\", \"zerolinecolor\": \"white\"}, \"zaxis\": {\"backgroundcolor\": \"#E5ECF6\", \"gridcolor\": \"white\", \"gridwidth\": 2, \"linecolor\": \"white\", \"showbackground\": true, \"ticks\": \"\", \"zerolinecolor\": \"white\"}}, \"shapedefaults\": {\"line\": {\"color\": \"#2a3f5f\"}}, \"ternary\": {\"aaxis\": {\"gridcolor\": \"white\", \"linecolor\": \"white\", \"ticks\": \"\"}, \"baxis\": {\"gridcolor\": \"white\", \"linecolor\": \"white\", \"ticks\": \"\"}, \"bgcolor\": \"#E5ECF6\", \"caxis\": {\"gridcolor\": \"white\", \"linecolor\": \"white\", \"ticks\": \"\"}}, \"title\": {\"x\": 0.05}, \"xaxis\": {\"automargin\": true, \"gridcolor\": \"white\", \"linecolor\": \"white\", \"ticks\": \"\", \"title\": {\"standoff\": 15}, \"zerolinecolor\": \"white\", \"zerolinewidth\": 2}, \"yaxis\": {\"automargin\": true, \"gridcolor\": \"white\", \"linecolor\": \"white\", \"ticks\": \"\", \"title\": {\"standoff\": 15}, \"zerolinecolor\": \"white\", \"zerolinewidth\": 2}}}, \"title\": {\"text\": \"CO2 Emissions by Country\"}},                        {\"responsive\": true}                    ).then(function(){\n",
       "                            \n",
       "var gd = document.getElementById('ca27e9e5-6ff6-4bdd-a68e-0415da296723');\n",
       "var x = new MutationObserver(function (mutations, observer) {{\n",
       "        var display = window.getComputedStyle(gd).display;\n",
       "        if (!display || display === 'none') {{\n",
       "            console.log([gd, 'removed!']);\n",
       "            Plotly.purge(gd);\n",
       "            observer.disconnect();\n",
       "        }}\n",
       "}});\n",
       "\n",
       "// Listen for the removal of the full notebook cells\n",
       "var notebookContainer = gd.closest('#notebook-container');\n",
       "if (notebookContainer) {{\n",
       "    x.observe(notebookContainer, {childList: true});\n",
       "}}\n",
       "\n",
       "// Listen for the clearing of the current output cell\n",
       "var outputEl = gd.closest('.output');\n",
       "if (outputEl) {{\n",
       "    x.observe(outputEl, {childList: true});\n",
       "}}\n",
       "\n",
       "                        })                };                });            </script>        </div>"
      ]
     },
     "metadata": {},
     "output_type": "display_data"
    }
   ],
   "source": [
    "# How does each country contribute to total CO2 emissions?\n",
    "\n",
    "names = df.country.unique()\n",
    "values = df.groupby(['country'])['share_global_co2'].mean()\n",
    "\n",
    "#Visualize top CO2 contributers \n",
    "fig = px.pie(df, values=values, names=names,\n",
    "      title = 'CO2 Emissions by Country')\n",
    "fig.update_traces(textposition='inside', textinfo='percent+label')\n",
    "fig.update_layout(showlegend=False)\n",
    "fig.show()"
   ]
  },
  {
   "cell_type": "markdown",
   "metadata": {},
   "source": [
    "# EXTRA EDIT: ADD MAP HERE (stretch)"
   ]
  },
  {
   "cell_type": "markdown",
   "metadata": {},
   "source": [
    "## Top 10 CO2 Emitters Per Capita"
   ]
  },
  {
   "cell_type": "code",
   "execution_count": 22,
   "metadata": {
    "ExecuteTime": {
     "end_time": "2021-01-31T02:43:38.433465Z",
     "start_time": "2021-01-31T02:43:38.334804Z"
    },
    "scrolled": true
   },
   "outputs": [
    {
     "data": {
      "text/plain": [
       "country\n",
       "Afghanistan                   2.563333\n",
       "Albania                       3.906043\n",
       "Algeria                      61.598406\n",
       "Andorra                       0.486103\n",
       "Angola                        9.658725\n",
       "                               ...    \n",
       "Vietnam                      46.944522\n",
       "Wallis and Futuna Islands     0.025389\n",
       "Yemen                         8.766116\n",
       "Zambia                        3.218817\n",
       "Zimbabwe                     10.412833\n",
       "Name: co2, Length: 221, dtype: float64"
      ]
     },
     "execution_count": 22,
     "metadata": {},
     "output_type": "execute_result"
    }
   ],
   "source": [
    "df.groupby(['country'])['co2'].mean()"
   ]
  },
  {
   "cell_type": "code",
   "execution_count": 21,
   "metadata": {
    "ExecuteTime": {
     "end_time": "2021-01-31T02:27:48.466061Z",
     "start_time": "2021-01-31T02:27:48.439593Z"
    },
    "scrolled": true
   },
   "outputs": [
    {
     "data": {
      "text/plain": [
       "country\n",
       "United States                4572.443145\n",
       "China                        3020.410884\n",
       "Russia                       1678.672633\n",
       "Germany                       907.555435\n",
       "Japan                         862.353855\n",
       "                                ...     \n",
       "Montserrat                      0.027000\n",
       "Wallis and Futuna Islands       0.025389\n",
       "Saint Helena                    0.009128\n",
       "Tuvalu                          0.008966\n",
       "Niue                            0.005469\n",
       "Name: co2, Length: 221, dtype: float64"
      ]
     },
     "execution_count": 21,
     "metadata": {},
     "output_type": "execute_result"
    }
   ],
   "source": [
    "df.groupby(['country'])['co2'].mean()\n",
    "\n",
    "df = df[(df['price']<=1700000)]\n",
    "\n",
    "#df_top_co2 = df.loc[df['country'].isin(top_co2)]"
   ]
  },
  {
   "cell_type": "code",
   "execution_count": 17,
   "metadata": {
    "ExecuteTime": {
     "end_time": "2021-01-31T02:21:36.236437Z",
     "start_time": "2021-01-31T02:21:35.647741Z"
    }
   },
   "outputs": [
    {
     "data": {
      "text/plain": [
       "Text(0, 0.5, 'Mean CO2 Emission Per Year Per Capita (Tonnes)')"
      ]
     },
     "execution_count": 17,
     "metadata": {},
     "output_type": "execute_result"
    },
    {
     "data": {
      "image/png": "[encoded data removed]",
      "text/plain": [
       "<Figure size 1080x432 with 1 Axes>"
      ]
     },
     "metadata": {
      "needs_background": "light"
     },
     "output_type": "display_data"
    }
   ],
   "source": [
    "# Find top 10 CO2 emitters per capita,\n",
    "# countries that emit more than an average of 150 tonnes per year per capita\n",
    "\n",
    "# Create list of top 10 emitters\n",
    "\n",
    "top_co2 = list(df.groupby(['country'])['co2'].mean().sort_values(ascending=False)[:22].index)\n",
    "df_top_co2 = df.loc[df['country'].isin(top_co2)]\n",
    "\n",
    "top10_percapita = list(df_top_co2.groupby(['country'])['co2_per_capita'].mean().sort_values(ascending=False)[:10].index)\n",
    "\n",
    "# Plot data\n",
    "df_top10 = df.loc[df['country'].isin(top10_percapita)]\n",
    "fig, ax = plt.subplots(figsize=(15,6))\n",
    "plt.bar(x = top10_percapita,\n",
    "        height = df_top10.groupby(['country'])['co2_per_capita'].mean().sort_values(ascending=False),\n",
    "       color = 'mediumseagreen')\n",
    "\n",
    "plt.title('Top 10 CO2 Emitters Per Capita \\n 1950-2018', fontsize=20)\n",
    "#plt.xlabel('Country')\n",
    "plt.ylabel('Mean CO2 Emission Per Year Per Capita (Tonnes)')"
   ]
  },
  {
   "cell_type": "markdown",
   "metadata": {},
   "source": [
    "# Time Series Model for USA"
   ]
  },
  {
   "cell_type": "markdown",
   "metadata": {},
   "source": [
    "## Data Cleaning for USA"
   ]
  },
  {
   "cell_type": "markdown",
   "metadata": {},
   "source": [
    "We focused on post-1950 data for our global EDA above since some countries are missing significant data before that time. For our modeling process, however, which focuses on the United States, we included all data for that country, which begins in 1800. We will be predicting the United States's CO2 emissions per capita."
   ]
  },
  {
   "cell_type": "code",
   "execution_count": 8,
   "metadata": {
    "ExecuteTime": {
     "end_time": "2021-01-28T16:57:22.106727Z",
     "start_time": "2021-01-28T16:57:22.051622Z"
    }
   },
   "outputs": [
    {
     "name": "stdout",
     "output_type": "stream",
     "text": [
      "(219, 2)\n"
     ]
    }
   ],
   "source": [
    "# Reload original df to get pre-1950 USA data\n",
    "df_USA = data\n",
    "\n",
    "# Only include USA co2_per_capita data post-1800\n",
    "df_USA = df_USA[df_USA['year'] >= 1800]\n",
    "df_USA = df_USA[df_USA['country'] == 'United States']\n",
    "df_USA = df_USA[['year','co2_per_capita']]\n",
    "\n",
    "# Observe shape of reformatted df\n",
    "print(df_USA.shape)"
   ]
  },
  {
   "cell_type": "code",
   "execution_count": 9,
   "metadata": {
    "ExecuteTime": {
     "end_time": "2021-01-28T16:57:22.185481Z",
     "start_time": "2021-01-28T16:57:22.121552Z"
    }
   },
   "outputs": [
    {
     "data": {
      "text/html": [
       "<div>\n",
       "<style scoped>\n",
       "    .dataframe tbody tr th:only-of-type {\n",
       "        vertical-align: middle;\n",
       "    }\n",
       "\n",
       "    .dataframe tbody tr th {\n",
       "        vertical-align: top;\n",
       "    }\n",
       "\n",
       "    .dataframe thead th {\n",
       "        text-align: right;\n",
       "    }\n",
       "</style>\n",
       "<table border=\"1\" class=\"dataframe\">\n",
       "  <thead>\n",
       "    <tr style=\"text-align: right;\">\n",
       "      <th></th>\n",
       "      <th>co2_per_capita</th>\n",
       "    </tr>\n",
       "    <tr>\n",
       "      <th>year</th>\n",
       "      <th></th>\n",
       "    </tr>\n",
       "  </thead>\n",
       "  <tbody>\n",
       "    <tr>\n",
       "      <th>1800-01-01</th>\n",
       "      <td>0.037</td>\n",
       "    </tr>\n",
       "    <tr>\n",
       "      <th>1801-01-01</th>\n",
       "      <td>0.039</td>\n",
       "    </tr>\n",
       "    <tr>\n",
       "      <th>1802-01-01</th>\n",
       "      <td>0.041</td>\n",
       "    </tr>\n",
       "    <tr>\n",
       "      <th>1803-01-01</th>\n",
       "      <td>0.041</td>\n",
       "    </tr>\n",
       "    <tr>\n",
       "      <th>1804-01-01</th>\n",
       "      <td>0.045</td>\n",
       "    </tr>\n",
       "  </tbody>\n",
       "</table>\n",
       "</div>"
      ],
      "text/plain": [
       "            co2_per_capita\n",
       "year                      \n",
       "1800-01-01           0.037\n",
       "1801-01-01           0.039\n",
       "1802-01-01           0.041\n",
       "1803-01-01           0.041\n",
       "1804-01-01           0.045"
      ]
     },
     "execution_count": 9,
     "metadata": {},
     "output_type": "execute_result"
    }
   ],
   "source": [
    "# Convert year to DateTime object\n",
    "df_USA['year'] = pd.to_datetime(df_USA['year'],format='%Y')\n",
    "\n",
    "# Convert year to index\n",
    "df_USA.set_index('year', inplace=True)\n",
    "\n",
    "# Observe updated df\n",
    "df_USA.head()"
   ]
  },
  {
   "cell_type": "markdown",
   "metadata": {},
   "source": [
    "## EDA for USA"
   ]
  },
  {
   "cell_type": "code",
   "execution_count": 10,
   "metadata": {
    "ExecuteTime": {
     "end_time": "2021-01-28T16:57:22.896083Z",
     "start_time": "2021-01-28T16:57:22.199980Z"
    },
    "scrolled": true
   },
   "outputs": [
    {
     "data": {
      "image/png": "[encoded data removed]",
      "text/plain": [
       "<Figure size 432x288 with 1 Axes>"
      ]
     },
     "metadata": {
      "needs_background": "light"
     },
     "output_type": "display_data"
    }
   ],
   "source": [
    "# Visualize USA's CO2 emissions per capita since 1800,\n",
    "# including 5-year rolling mean and rolling standard deviation\n",
    "\n",
    "roll_mean = df_USA.rolling(window=5, center=False).mean()\n",
    "roll_std = df_USA.rolling(window=5, center=False).std()\n",
    "\n",
    "plt.plot(df_USA,color='blue', label='Original')\n",
    "plt.plot(roll_mean, color='red', label='Rolling Mean')\n",
    "plt.plot(roll_std, color='black', label = 'Rolling Std')\n",
    "plt.legend(loc='best')\n",
    "plt.title('Rolling Mean & Standard Deviation')\n",
    "plt.xlabel('Year')\n",
    "plt.ylabel('CO2 Per Capita (Tonnes)')\n",
    "plt.show(block=False)"
   ]
  },
  {
   "cell_type": "markdown",
   "metadata": {},
   "source": [
    "The above data does not look stationary, but we will perform a Dickey-Fuller test to confirm."
   ]
  },
  {
   "cell_type": "code",
   "execution_count": 11,
   "metadata": {},
   "outputs": [
    {
     "data": {
      "text/plain": [
       "Test Statistic                  -1.057110\n",
       "p-value                          0.731869\n",
       "#Lags Used                      12.000000\n",
       "Number of Observations Used    204.000000\n",
       "dtype: float64"
      ]
     },
     "execution_count": 11,
     "metadata": {},
     "output_type": "execute_result"
    }
   ],
   "source": [
    "# Dickey-Fuller test\n",
    "test = adfuller(df_USA['co2_per_capita'][1:-1])\n",
    "dfoutput = pd.Series(test[0:4], index=['Test Statistic','p-value','#Lags Used','Number of Observations Used'])\n",
    "dfoutput\n"
   ]
  },
  {
   "cell_type": "markdown",
   "metadata": {},
   "source": [
    "As expected, with a p value of 0.73, we cannot reject the null hypothesis that this data is un-stationary. We will remedy this below before fitting our model."
   ]
  },
  {
   "cell_type": "markdown",
   "metadata": {},
   "source": [
    "## Addressing Trends and Stationarity"
   ]
  },
  {
   "cell_type": "markdown",
   "metadata": {},
   "source": [
    "### Log Transformation"
   ]
  },
  {
   "cell_type": "code",
   "execution_count": 12,
   "metadata": {
    "ExecuteTime": {
     "end_time": "2021-01-28T16:57:23.473315Z",
     "start_time": "2021-01-28T16:57:22.902388Z"
    }
   },
   "outputs": [
    {
     "data": {
      "image/png": "[encoded data removed]",
      "text/plain": [
       "<Figure size 432x288 with 1 Axes>"
      ]
     },
     "metadata": {
      "needs_background": "light"
     },
     "output_type": "display_data"
    }
   ],
   "source": [
    "# Log transformation to address lack of variance and covariance\n",
    "# Create new df that contains the logged values of the original one\n",
    "log_USA = log(df_USA)\n",
    "\n",
    "# Visualize logged data, including 5-year rolling mean and standard deviation\n",
    "roll_mean_log = log_USA.rolling(window=5, center=False).mean()\n",
    "roll_std_log = log_USA.rolling(window=5, center=False).std()\n",
    "\n",
    "plt.plot(log_USA,color='blue', label='Original')\n",
    "plt.plot(roll_mean_log, color='red', label='Rolling Mean')\n",
    "plt.plot(roll_std_log, color='black', label = 'Rolling Std')\n",
    "plt.legend(loc='best')\n",
    "plt.title('Rolling Mean & Standard Deviation, Logged Data')\n",
    "plt.xlabel('Year')\n",
    "plt.ylabel('Logged CO2 Per Capita (Tonnes)')\n",
    "plt.show(block=False)"
   ]
  },
  {
   "cell_type": "markdown",
   "metadata": {},
   "source": [
    "This logged data looks more stationary in regards to constant variance and covariance, but not in regards to a constant mean. We will perform a Dickey-Fuller test to test stationarity.\n"
   ]
  },
  {
   "cell_type": "markdown",
   "metadata": {},
   "source": [
    "**Dickey-Fuller Test on Logged Data**"
   ]
  },
  {
   "cell_type": "code",
   "execution_count": 14,
   "metadata": {
    "ExecuteTime": {
     "end_time": "2021-01-28T16:57:24.860248Z",
     "start_time": "2021-01-28T16:57:23.479956Z"
    }
   },
   "outputs": [
    {
     "data": {
      "text/plain": [
       "Test Statistic                  -3.807340\n",
       "p-value                          0.002833\n",
       "#Lags Used                       3.000000\n",
       "Number of Observations Used    213.000000\n",
       "dtype: float64"
      ]
     },
     "execution_count": 14,
     "metadata": {},
     "output_type": "execute_result"
    }
   ],
   "source": [
    "# Dicky-Fuller test on logged data\n",
    "test = adfuller(log_USA['co2_per_capita'][1:-1])\n",
    "dfoutput = pd.Series(test[0:4], index=['Test Statistic','p-value','#Lags Used','Number of Observations Used'])\n",
    "dfoutput"
   ]
  },
  {
   "cell_type": "markdown",
   "metadata": {},
   "source": [
    "Though our p-value of 0.003 allows us to reject the null hypothesis that this data is unstationary, since there is very clearly an non-constant mean, we will try another way to achieve true stationarity.\n"
   ]
  },
  {
   "cell_type": "markdown",
   "metadata": {},
   "source": [
    "**Subtracting the Rolling Mean of the Log Transformation**"
   ]
  },
  {
   "cell_type": "code",
   "execution_count": 18,
   "metadata": {
    "scrolled": true
   },
   "outputs": [
    {
     "data": {
      "text/plain": [
       "Text(0, 0.5, 'Logged CO2 Per Capita Minus Rolling Mean')"
      ]
     },
     "execution_count": 18,
     "metadata": {},
     "output_type": "execute_result"
    },
    {
     "data": {
      "image/png": "[encoded data removed]",
      "text/plain": [
       "<Figure size 432x288 with 1 Axes>"
      ]
     },
     "metadata": {
      "needs_background": "light"
     },
     "output_type": "display_data"
    }
   ],
   "source": [
    "# Subtract rolling mean from log-transformed data\n",
    "log_minus_rollmean = log_USA - roll_mean_log\n",
    "\n",
    "# Drop null values\n",
    "log_minus_rollmean.dropna(axis=0,inplace=True)\n",
    "\n",
    "# Plot data\n",
    "plt.plot(log_minus_rollmean)\n",
    "plt.title('Logged Data Minus Rolling Mean')\n",
    "plt.xlabel('Year')\n",
    "plt.ylabel('Logged CO2 Per Capita Minus Rolling Mean')"
   ]
  },
  {
   "cell_type": "markdown",
   "metadata": {},
   "source": [
    "This data looks a lot more stationary. We will confirm with a Dickey-Fuller test."
   ]
  },
  {
   "cell_type": "code",
   "execution_count": 20,
   "metadata": {},
   "outputs": [
    {
     "data": {
      "text/plain": [
       "Test Statistic                  -5.439516\n",
       "p-value                          0.000003\n",
       "#Lags Used                       0.000000\n",
       "Number of Observations Used    212.000000\n",
       "dtype: float64"
      ]
     },
     "execution_count": 20,
     "metadata": {},
     "output_type": "execute_result"
    }
   ],
   "source": [
    "# Dickey-Fuller test on logged data minus rolling mean\n",
    "test = adfuller(log_minus_rollmean['co2_per_capita'][1:-1])\n",
    "dfoutput = pd.Series(test[0:4], index=['Test Statistic','p-value','#Lags Used','Number of Observations Used'])\n",
    "dfoutput"
   ]
  },
  {
   "cell_type": "markdown",
   "metadata": {},
   "source": [
    "As expected, this Dickey-Fuller test yielded a very low p-value, indicating that we can confidently reject the null hypothesis that the data is non-stationary.\n",
    "\n",
    "Even though this data is stationary and would likely work well in a time series model, the results of this model would not be interpretable in the context of our business problem. For our predictions to be useful, we need them to be in terms of CO2 emissions per capita in tonnes. Altering our data to this degree would make them uninterpretable for this purpose, and so we will not pursue a model on this data."
   ]
  },
  {
   "cell_type": "markdown",
   "metadata": {},
   "source": [
    "### Differencing"
   ]
  },
  {
   "cell_type": "markdown",
   "metadata": {},
   "source": [
    "Now that we have produced a logged will now difference our original data until we achieve stationarity so we can model on both datasets.\n"
   ]
  },
  {
   "cell_type": "code",
   "execution_count": 21,
   "metadata": {
    "ExecuteTime": {
     "end_time": "2021-01-28T19:29:34.069237Z",
     "start_time": "2021-01-28T19:29:33.765084Z"
    }
   },
   "outputs": [
    {
     "data": {
      "image/png": "[encoded data removed]",
      "text/plain": [
       "<Figure size 432x288 with 1 Axes>"
      ]
     },
     "metadata": {
      "needs_background": "light"
     },
     "output_type": "display_data"
    }
   ],
   "source": [
    "# Difference original df\n",
    "diff = df_USA.diff().rename(index=str, columns={\"co2_per_capita\": \"Differenced Observations\"})\n",
    "\n",
    "# Visualize differenced data, including 5-year rolling mean and standard deviation\n",
    "roll_mean_diff = diff.rolling(window=5, center=False).mean()\n",
    "roll_std_diff = diff.rolling(window=5, center=False).std()\n",
    "\n",
    "plt.plot(diff,color='blue', label='Original')\n",
    "plt.plot(roll_mean_diff, color='red', label='Rolling Mean')\n",
    "plt.plot(roll_std_diff, color='black', label = 'Rolling Std')\n",
    "plt.legend(loc='best')\n",
    "plt.title('Rolling Mean & Standard Deviation, Differenced Data')\n",
    "plt.xlabel('Differenced Year')\n",
    "plt.ylabel('Differenced CO2 Per Capita (Tonnes)')\n",
    "plt.show(block=False)\n",
    "\n"
   ]
  },
  {
   "cell_type": "markdown",
   "metadata": {},
   "source": [
    "It is difficult to tell whether the differenced data is stationary based on the above data. We will check with a Dickey-Fuller test."
   ]
  },
  {
   "cell_type": "code",
   "execution_count": 22,
   "metadata": {},
   "outputs": [
    {
     "data": {
      "text/plain": [
       "Test Statistic                  -4.055314\n",
       "p-value                          0.001147\n",
       "#Lags Used                      11.000000\n",
       "Number of Observations Used    205.000000\n",
       "dtype: float64"
      ]
     },
     "execution_count": 22,
     "metadata": {},
     "output_type": "execute_result"
    }
   ],
   "source": [
    "# Dickey-Fuller test on differenced data\n",
    "test = adfuller(diff['Differenced Observations'][1:-1])\n",
    "dfoutput = pd.Series(test[0:4], index=['Test Statistic','p-value','#Lags Used','Number of Observations Used'])\n",
    "dfoutput"
   ]
  },
  {
   "cell_type": "markdown",
   "metadata": {},
   "source": [
    "Based on the above p-value of 0.001, we see that we have achieved stationarity by differencing once. We will keep this in mind as we test d values in our ARIMA model below."
   ]
  },
  {
   "cell_type": "markdown",
   "metadata": {},
   "source": [
    "## Modeling"
   ]
  },
  {
   "cell_type": "markdown",
   "metadata": {},
   "source": [
    "We will create time series models on both our logged data and original data to see which yields better results."
   ]
  },
  {
   "cell_type": "markdown",
   "metadata": {},
   "source": [
    "We decided to test our baseline models before splitting our data into train and test sets. The advantage of this decision was that we have more data to assess the overall model. A disadvantage is that our final model will be assessed specifically on how well it predicts our test data. To overcome this disadvantage, we will later tune our best model on the train-test-split data to produce a final model.\n",
    "\n"
   ]
  },
  {
   "cell_type": "markdown",
   "metadata": {},
   "source": [
    "### Logged Data"
   ]
  },
  {
   "cell_type": "markdown",
   "metadata": {},
   "source": [
    "**ACF and PACF for Logged Data**"
   ]
  },
  {
   "cell_type": "code",
   "execution_count": 27,
   "metadata": {
    "ExecuteTime": {
     "end_time": "2021-01-28T16:57:25.766343Z",
     "start_time": "2021-01-28T16:57:25.005611Z"
    },
    "scrolled": false
   },
   "outputs": [
    {
     "data": {
      "image/png": "[encoded data removed]",
      "text/plain": [
       "<Figure size 432x288 with 1 Axes>"
      ]
     },
     "metadata": {
      "needs_background": "light"
     },
     "output_type": "display_data"
    },
    {
     "data": {
      "image/png": "[encoded data removed]",
      "text/plain": [
       "<Figure size 432x288 with 1 Axes>"
      ]
     },
     "metadata": {
      "needs_background": "light"
     },
     "output_type": "display_data"
    }
   ],
   "source": [
    "# ACF for logged data\n",
    "plot_acf(log_USA[:-1], alpha=.05);\n",
    "\n",
    "# PACF for logged data\n",
    "plot_pacf(log_USA[:-1], alpha=.05, lags=20);"
   ]
  },
  {
   "cell_type": "markdown",
   "metadata": {},
   "source": [
    "We can make the following observations about the ACF and PACF for our logged data:\n",
    "\n",
    "1. This data displays an AR signature since the ACF diminishes gradually and the PACF cuts off sharply. This tells us we would expect to have at least one AR parameter.\n",
    "2. When instantiating an ARIMA model, we would expect a relatively large number of MA terms due to the large number of significant ACF points and a relatively small number of AR terms due to the small number of significant PACF points."
   ]
  },
  {
   "cell_type": "markdown",
   "metadata": {},
   "source": [
    "**ARIMA Model for Logged Data**"
   ]
  },
  {
   "cell_type": "markdown",
   "metadata": {},
   "source": [
    "We tried many different p, d, and q parameters for an ARIMA model on our logged data. The below paramters of p=2, d=0, q=0 yielded the best results."
   ]
  },
  {
   "cell_type": "code",
   "execution_count": 25,
   "metadata": {
    "ExecuteTime": {
     "end_time": "2021-01-28T16:57:26.752545Z",
     "start_time": "2021-01-28T16:57:26.325497Z"
    }
   },
   "outputs": [
    {
     "name": "stdout",
     "output_type": "stream",
     "text": [
      "                              ARMA Model Results                              \n",
      "==============================================================================\n",
      "Dep. Variable:         co2_per_capita   No. Observations:                  218\n",
      "Model:                     ARMA(2, 0)   Log Likelihood                 240.613\n",
      "Method:                       css-mle   S.D. of innovations              0.079\n",
      "Date:                Fri, 29 Jan 2021   AIC                           -473.226\n",
      "Time:                        16:19:44   BIC                           -459.688\n",
      "Sample:                    01-01-1800   HQIC                          -467.758\n",
      "                         - 01-01-2017                                         \n",
      "========================================================================================\n",
      "                           coef    std err          z      P>|z|      [0.025      0.975]\n",
      "----------------------------------------------------------------------------------------\n",
      "const                   -0.1865      2.927     -0.064      0.949      -5.924       5.551\n",
      "ar.L1.co2_per_capita     1.1387      0.022     51.069      0.000       1.095       1.182\n",
      "ar.L2.co2_per_capita    -0.1391      0.022     -6.235      0.000      -0.183      -0.095\n",
      "                                    Roots                                    \n",
      "=============================================================================\n",
      "                  Real          Imaginary           Modulus         Frequency\n",
      "-----------------------------------------------------------------------------\n",
      "AR.1            1.0005           +0.0000j            1.0005            0.0000\n",
      "AR.2            7.1871           +0.0000j            7.1871            0.0000\n",
      "-----------------------------------------------------------------------------\n"
     ]
    }
   ],
   "source": [
    "# Instantiate ARIMA model for logged data\n",
    "\n",
    "# Instantiate model\n",
    "mod_log = ARIMA(log_USA[:-1], order=(2,0,0))\n",
    "\n",
    "# Fit Model\n",
    "mod_log_fit = mod_log.fit()\n",
    "\n",
    "# Obeserve summary statistics\n",
    "print(mod_log_fit.summary())\n"
   ]
  },
  {
   "cell_type": "markdown",
   "metadata": {},
   "source": [
    "**AR Model for Logged Data**"
   ]
  },
  {
   "cell_type": "markdown",
   "metadata": {},
   "source": [
    "Since our best ARIMA model ends up with d and q values of 0, we decided to try an AR model as well. We would expect this to have identical results to our ARIMA model with parameters (2,0,0)."
   ]
  },
  {
   "cell_type": "code",
   "execution_count": 26,
   "metadata": {},
   "outputs": [
    {
     "name": "stdout",
     "output_type": "stream",
     "text": [
      "                              ARMA Model Results                              \n",
      "==============================================================================\n",
      "Dep. Variable:         co2_per_capita   No. Observations:                  219\n",
      "Model:                     ARMA(2, 0)   Log Likelihood                 242.188\n",
      "Method:                       css-mle   S.D. of innovations              0.079\n",
      "Date:                Fri, 29 Jan 2021   AIC                           -476.375\n",
      "Time:                        16:20:40   BIC                           -462.819\n",
      "Sample:                    01-01-1800   HQIC                          -470.900\n",
      "                         - 01-01-2018                                         \n",
      "========================================================================================\n",
      "                           coef    std err          z      P>|z|      [0.025      0.975]\n",
      "----------------------------------------------------------------------------------------\n",
      "const                   -0.1740      2.940     -0.059      0.953      -5.936       5.588\n",
      "ar.L1.co2_per_capita     1.1384      0.022     52.226      0.000       1.096       1.181\n",
      "ar.L2.co2_per_capita    -0.1388      0.022     -6.366      0.000      -0.182      -0.096\n",
      "                                    Roots                                    \n",
      "=============================================================================\n",
      "                  Real          Imaginary           Modulus         Frequency\n",
      "-----------------------------------------------------------------------------\n",
      "AR.1            1.0005           +0.0000j            1.0005            0.0000\n",
      "AR.2            7.2001           +0.0000j            7.2001            0.0000\n",
      "-----------------------------------------------------------------------------\n"
     ]
    }
   ],
   "source": [
    "# Instantiate an AR model\n",
    "mod_logAR = ARMA(log_USA, order=(2,0))\n",
    "\n",
    "# Fit model\n",
    "logAR_fit = mod_logAR.fit()\n",
    "\n",
    "# Observe summary statistics\n",
    "print(logAR_fit.summary())"
   ]
  },
  {
   "cell_type": "markdown",
   "metadata": {},
   "source": [
    "The above AR model has equal p-values but better AIC and BIC scores than our ARIMA model on the logged data. This is likely because of the way AIC and BIC are calculated, and we will further compare these two models later to determine which is best suited for our train-test-split data. Note that we tried several parameter combinations on the ARMA model and, as expected, parameters (2,0) yielded the best results."
   ]
  },
  {
   "cell_type": "markdown",
   "metadata": {},
   "source": [
    "### Original Data"
   ]
  },
  {
   "cell_type": "markdown",
   "metadata": {},
   "source": [
    "We will now perform an ARIMA model on our original, non-logged data. We saw that this data needs to be differenced in order to achieve stationarity, so we expect to have a d value of at least 1 for our best model."
   ]
  },
  {
   "cell_type": "markdown",
   "metadata": {},
   "source": [
    "**ACF and PACF for Original Data**"
   ]
  },
  {
   "cell_type": "code",
   "execution_count": 28,
   "metadata": {
    "ExecuteTime": {
     "end_time": "2021-01-28T16:57:27.346172Z",
     "start_time": "2021-01-28T16:57:26.770545Z"
    }
   },
   "outputs": [
    {
     "data": {
      "image/png": "[encoded data removed]",
      "text/plain": [
       "<Figure size 432x288 with 1 Axes>"
      ]
     },
     "metadata": {
      "needs_background": "light"
     },
     "output_type": "display_data"
    },
    {
     "data": {
      "image/png": "[encoded data removed]",
      "text/plain": [
       "<Figure size 432x288 with 1 Axes>"
      ]
     },
     "metadata": {
      "needs_background": "light"
     },
     "output_type": "display_data"
    }
   ],
   "source": [
    "#ACF for original data\n",
    "plot_acf(df_USA[:-1], alpha=.05);\n",
    "\n",
    "#PACF for original data\n",
    "plot_pacf(df_USA[:-1], alpha=.05, lags=20);"
   ]
  },
  {
   "cell_type": "markdown",
   "metadata": {},
   "source": [
    "We can make the same two observations about the ACF and PACF for our original data as we did for our logged data:\n",
    "\n",
    "1. This data displays an AR signature since the ACF diminishes gradually and the PACF cuts off sharply. This tells us we would expect to have at least one AR parameter.\n",
    "\n",
    "2. When instantiating an ARIMA model, we would expect a relatively large number of MA terms due to the large number of significant ACF points and a relatively small number of AR terms due to the small number of significant PACF points."
   ]
  },
  {
   "cell_type": "markdown",
   "metadata": {},
   "source": [
    "**ARIMA Model for Original Data**"
   ]
  },
  {
   "cell_type": "markdown",
   "metadata": {},
   "source": [
    "We tried many different p, d, and q parameters for an ARIMA model on our original data. The below three sets of paramters yielded the best results, which we will compare in more detail later."
   ]
  },
  {
   "cell_type": "code",
   "execution_count": 30,
   "metadata": {
    "ExecuteTime": {
     "end_time": "2021-01-28T16:57:28.936138Z",
     "start_time": "2021-01-28T16:57:27.920086Z"
    }
   },
   "outputs": [
    {
     "name": "stdout",
     "output_type": "stream",
     "text": [
      "                             ARIMA Model Results                              \n",
      "==============================================================================\n",
      "Dep. Variable:      D2.co2_per_capita   No. Observations:                  216\n",
      "Model:                 ARIMA(1, 2, 3)   Log Likelihood                -249.331\n",
      "Method:                       css-mle   S.D. of innovations              0.761\n",
      "Date:                Fri, 29 Jan 2021   AIC                            510.663\n",
      "Time:                        16:42:57   BIC                            530.915\n",
      "Sample:                    01-01-1802   HQIC                           518.845\n",
      "                         - 01-01-2017                                         \n",
      "===========================================================================================\n",
      "                              coef    std err          z      P>|z|      [0.025      0.975]\n",
      "-------------------------------------------------------------------------------------------\n",
      "const                      -0.0006      0.001     -0.425      0.671      -0.003       0.002\n",
      "ar.L1.D2.co2_per_capita    -0.7431      0.113     -6.549      0.000      -0.965      -0.521\n",
      "ma.L1.D2.co2_per_capita    -0.3532      0.116     -3.048      0.002      -0.580      -0.126\n",
      "ma.L2.D2.co2_per_capita    -0.8420      0.093     -9.050      0.000      -1.024      -0.660\n",
      "ma.L3.D2.co2_per_capita     0.2319      0.063      3.653      0.000       0.108       0.356\n",
      "                                    Roots                                    \n",
      "=============================================================================\n",
      "                  Real          Imaginary           Modulus         Frequency\n",
      "-----------------------------------------------------------------------------\n",
      "AR.1           -1.3458           +0.0000j            1.3458            0.5000\n",
      "MA.1           -1.1256           +0.0000j            1.1256            0.5000\n",
      "MA.2            1.0273           +0.0000j            1.0273            0.0000\n",
      "MA.3            3.7288           +0.0000j            3.7288            0.0000\n",
      "-----------------------------------------------------------------------------\n"
     ]
    }
   ],
   "source": [
    "# Instantiate model\n",
    "mod123 = ARIMA(df_USA[:-1], order=(1,2,3))\n",
    "\n",
    "# Fit model\n",
    "mod123_fit = mod123.fit()\n",
    "\n",
    "# Observe summary statistics\n",
    "print(mod123_fit.summary())\n"
   ]
  },
  {
   "cell_type": "code",
   "execution_count": 31,
   "metadata": {
    "ExecuteTime": {
     "end_time": "2021-01-28T16:57:29.501919Z",
     "start_time": "2021-01-28T16:57:28.940693Z"
    }
   },
   "outputs": [
    {
     "name": "stdout",
     "output_type": "stream",
     "text": [
      "                             ARIMA Model Results                              \n",
      "==============================================================================\n",
      "Dep. Variable:      D2.co2_per_capita   No. Observations:                  216\n",
      "Model:                 ARIMA(4, 2, 0)   Log Likelihood                -264.456\n",
      "Method:                       css-mle   S.D. of innovations              0.821\n",
      "Date:                Fri, 29 Jan 2021   AIC                            540.912\n",
      "Time:                        16:43:36   BIC                            561.164\n",
      "Sample:                    01-01-1802   HQIC                           549.094\n",
      "                         - 01-01-2017                                         \n",
      "===========================================================================================\n",
      "                              coef    std err          z      P>|z|      [0.025      0.975]\n",
      "-------------------------------------------------------------------------------------------\n",
      "const                      -0.0015      0.017     -0.088      0.930      -0.036       0.033\n",
      "ar.L1.D2.co2_per_capita    -0.9221      0.067    -13.798      0.000      -1.053      -0.791\n",
      "ar.L2.D2.co2_per_capita    -0.8051      0.089     -9.060      0.000      -0.979      -0.631\n",
      "ar.L3.D2.co2_per_capita    -0.3238      0.089     -3.648      0.000      -0.498      -0.150\n",
      "ar.L4.D2.co2_per_capita    -0.1814      0.066     -2.732      0.006      -0.312      -0.051\n",
      "                                    Roots                                    \n",
      "=============================================================================\n",
      "                  Real          Imaginary           Modulus         Frequency\n",
      "-----------------------------------------------------------------------------\n",
      "AR.1           -0.9754           -1.0177j            1.4097           -0.3716\n",
      "AR.2           -0.9754           +1.0177j            1.4097            0.3716\n",
      "AR.3            0.0827           -1.6636j            1.6657           -0.2421\n",
      "AR.4            0.0827           +1.6636j            1.6657            0.2421\n",
      "-----------------------------------------------------------------------------\n"
     ]
    }
   ],
   "source": [
    "# Instantiate model\n",
    "mod420 = ARIMA(df_USA[:-1], order=(4,2,0))\n",
    "\n",
    "# Fit model\n",
    "mod420_fit = mod420.fit(disp=0)\n",
    "\n",
    "# Observe summary statistics\n",
    "print(mod420_fit.summary())\n"
   ]
  },
  {
   "cell_type": "code",
   "execution_count": 32,
   "metadata": {
    "ExecuteTime": {
     "end_time": "2021-01-28T16:57:30.271596Z",
     "start_time": "2021-01-28T16:57:29.515855Z"
    }
   },
   "outputs": [
    {
     "name": "stdout",
     "output_type": "stream",
     "text": [
      "                             ARIMA Model Results                              \n",
      "==============================================================================\n",
      "Dep. Variable:      D2.co2_per_capita   No. Observations:                  216\n",
      "Model:                 ARIMA(5, 2, 0)   Log Likelihood                -260.117\n",
      "Method:                       css-mle   S.D. of innovations              0.804\n",
      "Date:                Fri, 29 Jan 2021   AIC                            534.233\n",
      "Time:                        16:44:02   BIC                            557.860\n",
      "Sample:                    01-01-1802   HQIC                           543.778\n",
      "                         - 01-01-2017                                         \n",
      "===========================================================================================\n",
      "                              coef    std err          z      P>|z|      [0.025      0.975]\n",
      "-------------------------------------------------------------------------------------------\n",
      "const                      -0.0014      0.014     -0.102      0.919      -0.029       0.026\n",
      "ar.L1.D2.co2_per_capita    -0.9588      0.067    -14.395      0.000      -1.089      -0.828\n",
      "ar.L2.D2.co2_per_capita    -0.8700      0.090     -9.689      0.000      -1.046      -0.694\n",
      "ar.L3.D2.co2_per_capita    -0.4844      0.102     -4.733      0.000      -0.685      -0.284\n",
      "ar.L4.D2.co2_per_capita    -0.3643      0.089     -4.075      0.000      -0.540      -0.189\n",
      "ar.L5.D2.co2_per_capita    -0.1968      0.066     -2.979      0.003      -0.326      -0.067\n",
      "                                    Roots                                    \n",
      "=============================================================================\n",
      "                  Real          Imaginary           Modulus         Frequency\n",
      "-----------------------------------------------------------------------------\n",
      "AR.1            0.5576           -1.3200j            1.4330           -0.1864\n",
      "AR.2            0.5576           +1.3200j            1.4330            0.1864\n",
      "AR.3           -0.6765           -1.0373j            1.2384           -0.3420\n",
      "AR.4           -0.6765           +1.0373j            1.2384            0.3420\n",
      "AR.5           -1.6136           -0.0000j            1.6136           -0.5000\n",
      "-----------------------------------------------------------------------------\n"
     ]
    }
   ],
   "source": [
    "# Instantiate model\n",
    "mod520 = ARIMA(df_USA[:-1], order=(5,2,0))\n",
    "\n",
    "# Fit model\n",
    "mod520_fit = mod520.fit(disp=0)\n",
    "\n",
    "#Observe summary statistics\n",
    "print(mod520_fit.summary())\n"
   ]
  },
  {
   "cell_type": "code",
   "execution_count": null,
   "metadata": {},
   "outputs": [],
   "source": []
  },
  {
   "cell_type": "code",
   "execution_count": null,
   "metadata": {},
   "outputs": [],
   "source": []
  },
  {
   "cell_type": "markdown",
   "metadata": {},
   "source": [
    "**Stopped commenting here on 1/29**"
   ]
  },
  {
   "cell_type": "code",
   "execution_count": null,
   "metadata": {},
   "outputs": [],
   "source": []
  },
  {
   "cell_type": "code",
   "execution_count": null,
   "metadata": {},
   "outputs": [],
   "source": []
  },
  {
   "cell_type": "code",
   "execution_count": null,
   "metadata": {},
   "outputs": [],
   "source": []
  },
  {
   "cell_type": "markdown",
   "metadata": {},
   "source": [
    "# Determine Best Model"
   ]
  },
  {
   "cell_type": "markdown",
   "metadata": {},
   "source": [
    "### RMSE "
   ]
  },
  {
   "cell_type": "markdown",
   "metadata": {},
   "source": [
    "#### Logged Data"
   ]
  },
  {
   "cell_type": "code",
   "execution_count": null,
   "metadata": {
    "ExecuteTime": {
     "end_time": "2021-01-28T16:57:30.303227Z",
     "start_time": "2021-01-28T16:57:30.280013Z"
    }
   },
   "outputs": [],
   "source": [
    "#train test split (90%)\n",
    "\n",
    "X = log_USA.index\n",
    "y = log_USA['co2_per_capita']\n",
    "\n",
    "train = log_USA.loc[:'1997-01-01']\n",
    "test = log_USA.loc['1997-01-01':]\n",
    "\n",
    "X_train, X_test = train.index , test.index\n",
    "y_train, y_test = train['co2_per_capita'] , test['co2_per_capita']\n"
   ]
  },
  {
   "cell_type": "code",
   "execution_count": null,
   "metadata": {
    "ExecuteTime": {
     "end_time": "2021-01-28T16:57:31.044850Z",
     "start_time": "2021-01-28T16:57:30.312932Z"
    },
    "scrolled": true
   },
   "outputs": [],
   "source": [
    "# Instantiate and fit model to train data\n",
    "mod_log = ARIMA(train[2:], order=(2,0,0)) # p,d,q\n",
    "mod_log_fit = mod_log.fit()\n",
    "\n",
    "# Prediction\n",
    "pred_log = mod_log_fit.predict(start='1997-01-01', end='2018-01-01', dynamic=False)\n"
   ]
  },
  {
   "cell_type": "code",
   "execution_count": null,
   "metadata": {},
   "outputs": [],
   "source": [
    "# Instantiate and fit model to train data\n",
    "mod_logAR = ARMA(log_USA, order=(2,0))\n",
    "logAR_fit = mod_logAR.fit()\n",
    "\n",
    "# Prediction\n",
    "pred_logAR = logAR_fit.predict(start='1997-01-01', end='2018-01-01', dynamic=False)\n"
   ]
  },
  {
   "cell_type": "markdown",
   "metadata": {},
   "source": [
    "#### Original Data"
   ]
  },
  {
   "cell_type": "code",
   "execution_count": null,
   "metadata": {
    "ExecuteTime": {
     "end_time": "2021-01-28T22:12:59.461293Z",
     "start_time": "2021-01-28T22:12:59.424002Z"
    }
   },
   "outputs": [],
   "source": [
    "#Train test split (90%)\n",
    "# diff = df_USA.diff().rename(index=str, columns={\"co2_per_capita\": \"Differenced Observations\"})\n",
    "# diff2 = diff.diff().rename(index=str, columns={\"co2_per_capita\": \"Differenced Observations\"})\n",
    "\n",
    "X = df_USA.index\n",
    "y = df_USA['co2_per_capita']\n",
    "\n",
    "train = df_USA.loc[:'1997-01-01']\n",
    "test = df_USA.loc['1997-01-01':]\n",
    "\n",
    "X_train, X_test = train.index , test.index\n",
    "y_train, y_test = train['co2_per_capita'] , test['co2_per_capita']\n"
   ]
  },
  {
   "cell_type": "code",
   "execution_count": null,
   "metadata": {
    "ExecuteTime": {
     "end_time": "2021-01-28T22:13:08.091018Z",
     "start_time": "2021-01-28T22:13:07.495479Z"
    }
   },
   "outputs": [],
   "source": [
    "# 420 data\n",
    "# Instantiate and fit model to train data\n",
    "mod420 = ARIMA(y_train[2:], order=(4,2,0)) # p,d,q\n",
    "mod420_fit = mod420.fit()\n",
    "\n",
    "#Prediction\n",
    "pred420 = mod420_fit.predict(start='1997-01-01', end='2018-01-01', dynamic=False)"
   ]
  },
  {
   "cell_type": "code",
   "execution_count": null,
   "metadata": {
    "ExecuteTime": {
     "end_time": "2021-01-28T22:13:09.442537Z",
     "start_time": "2021-01-28T22:13:08.780893Z"
    },
    "scrolled": false
   },
   "outputs": [],
   "source": [
    "# 520 data\n",
    "# Instantiate and fit model to train data\n",
    "mod520 = ARIMA(y_train[2:], order=(5,2,0)) # p,d,q\n",
    "mod520_fit = mod520.fit()\n",
    "\n",
    "#Prediction\n",
    "pred520 = mod520_fit.predict(start='1997-01-01', end='2018-01-01', dynamic=False)"
   ]
  },
  {
   "cell_type": "code",
   "execution_count": null,
   "metadata": {
    "ExecuteTime": {
     "end_time": "2021-01-28T16:57:31.329910Z",
     "start_time": "2021-01-28T16:57:31.319433Z"
    }
   },
   "outputs": [],
   "source": [
    "#Below model cannot run due to coefficients not being invertible\n",
    "\n",
    "# # 123 data\n",
    "# # Instantiate and fit model to train data\n",
    "# mod123 = ARIMA(y_train[2:], order=(1,2,3)) # p,d,q\n",
    "# mod123_fit = mod123.fit()\n",
    "\n",
    "# #Prediction\n",
    "# pred123 = mod123_fit.predict(start='1997-01-01', end='2018-01-01', dynamic=False)"
   ]
  },
  {
   "cell_type": "code",
   "execution_count": null,
   "metadata": {},
   "outputs": [],
   "source": []
  },
  {
   "cell_type": "code",
   "execution_count": null,
   "metadata": {},
   "outputs": [],
   "source": []
  },
  {
   "cell_type": "code",
   "execution_count": null,
   "metadata": {},
   "outputs": [],
   "source": []
  },
  {
   "cell_type": "code",
   "execution_count": null,
   "metadata": {},
   "outputs": [],
   "source": []
  },
  {
   "cell_type": "markdown",
   "metadata": {},
   "source": [
    "#### testing metrics"
   ]
  },
  {
   "cell_type": "code",
   "execution_count": null,
   "metadata": {
    "ExecuteTime": {
     "end_time": "2021-01-28T22:13:14.649200Z",
     "start_time": "2021-01-28T22:13:14.621230Z"
    }
   },
   "outputs": [],
   "source": [
    "def RMSE_reg(pred):\n",
    "    return np.sqrt(((pred-y_test)**2).mean())\n",
    "\n",
    "def RMSE_log(pred):\n",
    "    return np.sqrt(((np.e**pred-y_test)**2).mean())\n",
    "\n",
    "print('RMSE score for 4,2,0: ', RMSE_reg(pred420))\n",
    "print('RMSE score for 5,2,0: ', RMSE_reg(pred520))\n",
    "print('RMSE score for log: ', RMSE_log(pred_log))\n",
    "print('RMSE score for logAR: ', RMSE_log(pred_logAR))\n"
   ]
  },
  {
   "cell_type": "code",
   "execution_count": null,
   "metadata": {
    "ExecuteTime": {
     "end_time": "2021-01-28T22:13:22.144874Z",
     "start_time": "2021-01-28T22:13:22.128446Z"
    }
   },
   "outputs": [],
   "source": [
    "AIC_420 = mod420_fit.aic\n",
    "AIC_520 = mod520_fit.aic\n",
    "AIC_log = mod_log_fit.aic\n",
    "AIC_logAR = logAR_fit.aic\n",
    "\n",
    "print(AIC_420)\n",
    "print(AIC_520)\n",
    "print(AIC_log)\n",
    "print(AIC_logAR)\n",
    "\n"
   ]
  },
  {
   "cell_type": "code",
   "execution_count": null,
   "metadata": {},
   "outputs": [],
   "source": [
    "# Visualize predicted values for test set\n",
    "\n",
    "# plot real vs predicted values along with confidence interval\n",
    "rcParams['figure.figsize'] = 15, 6\n",
    "\n",
    "# plot observed values\n",
    "ax = log_USA['1800-01-01':].plot(label='observed')\n",
    "\n",
    "# plot predicted values\n",
    "pred_log.plot(ax=ax, label='Forecast', alpha=0.9)\n",
    "\n",
    "# # plot the range for confidence intervals\n",
    "# ax.fill_between(pred_conf.index,\n",
    "#                 pred_conf.iloc[:, 0],\n",
    "#                 pred_conf.iloc[:, 1], color='g', alpha=0.5)\n",
    "\n",
    "# set axes labels and title\n",
    "ax.set_xlabel('Year', size=12)\n",
    "ax.set_ylabel('Logged Tonnes',size=12)\n",
    "ax.set_title('Real vs Predicted for ARIMA with Logged Data', size=15)\n",
    "\n",
    "plt.legend()\n",
    "plt.show()"
   ]
  },
  {
   "cell_type": "code",
   "execution_count": null,
   "metadata": {},
   "outputs": [],
   "source": [
    "#Uncomment code below to see zoomed-in window of data only from 1950 onward\n",
    "\n",
    "# # plot real vs predicted values along with confidence interval\n",
    "# rcParams['figure.figsize'] = 15, 6\n",
    "\n",
    "# # plot observed values\n",
    "# ax = log_USA['1950-01-01':].plot(label='observed')\n",
    "\n",
    "# # plot predicted values\n",
    "# pred_log.plot(ax=ax, label='Forecast', alpha=0.9)\n",
    "\n",
    "# # # plot the range for confidence intervals\n",
    "# # ax.fill_between(pred_conf.index,\n",
    "# #                 pred_conf.iloc[:, 0],\n",
    "# #                 pred_conf.iloc[:, 1], color='g', alpha=0.5)\n",
    "\n",
    "# # set axes labels and title\n",
    "# ax.set_xlabel('Year', size=12)\n",
    "# ax.set_ylabel('Logged Tonnes',size=12)\n",
    "# ax.set_title('Real vs Predicted for ARIMA with Logged Data', size=15)\n",
    "\n",
    "# plt.legend()\n",
    "# plt.show()"
   ]
  },
  {
   "cell_type": "markdown",
   "metadata": {},
   "source": [
    "### Try to Further Improve Logged Model"
   ]
  },
  {
   "cell_type": "code",
   "execution_count": null,
   "metadata": {},
   "outputs": [],
   "source": [
    "# Train-Test split (90%)\n",
    "\n",
    "X = log_USA.index\n",
    "y = log_USA['co2_per_capita']\n",
    "\n",
    "train2 = log_USA.loc[:'1997-01-01']\n",
    "test2 = log_USA.loc['1997-01-01':]\n",
    "\n",
    "X_train2, X_test2 = train2.index , test2.index\n",
    "y_train2, y_test2 = train2['co2_per_capita'] , test2['co2_per_capita']\n"
   ]
  },
  {
   "cell_type": "markdown",
   "metadata": {},
   "source": [
    "We tried new ARIMA parameters on the logged data given that the last paramters were determined without the train-test split. Below are the best parameters we encountered, which improved our data."
   ]
  },
  {
   "cell_type": "code",
   "execution_count": null,
   "metadata": {},
   "outputs": [],
   "source": [
    "# Instantiate and fit model to train data\n",
    "mod_log2 = ARIMA(train2[2:], order=(2,0,2)) # p,d,q\n",
    "mod_log2_fit = mod_log2.fit()\n",
    "\n",
    "# Prediction\n",
    "pred_log2 = mod_log2_fit.predict(start='1997-01-01', end='2018-01-01', dynamic=False)\n",
    "\n",
    "print('RMSE score for original log model: ', RMSE(pred_log))\n",
    "print('AIC for original log model:', mod_log_fit.aic)\n",
    "\n",
    "print('RMSE score for new log model: ', RMSE(pred_log2))\n",
    "print('AIC for new log model:', mod_log2_fit.aic)"
   ]
  },
  {
   "cell_type": "code",
   "execution_count": null,
   "metadata": {},
   "outputs": [],
   "source": [
    "# plot real vs predicted values along with confidence interval\n",
    "rcParams['figure.figsize'] = 15, 6\n",
    "\n",
    "# plot observed values\n",
    "ax = log_USA['1800-01-01':].plot(label='observed')\n",
    "\n",
    "# plot predicted values\n",
    "pred_log2.plot(ax=ax, label='Forecast', alpha=0.9)\n",
    "\n",
    "# # plot the range for confidence intervals\n",
    "# ax.fill_between(pred_conf.index,\n",
    "#                 pred_conf.iloc[:, 0],\n",
    "#                 pred_conf.iloc[:, 1], color='g', alpha=0.5)\n",
    "\n",
    "# set axes labels and title\n",
    "ax.set_xlabel('Year', size=12)\n",
    "ax.set_ylabel('Logged Tonnes',size=12)\n",
    "ax.set_title('Real vs Predicted for ARIMA with Logged Data', size=15)\n",
    "\n",
    "plt.legend()\n",
    "plt.show()"
   ]
  },
  {
   "cell_type": "code",
   "execution_count": null,
   "metadata": {},
   "outputs": [],
   "source": [
    "#Uncomment code below to see zoomed-in window of data only from 1950 onward\n",
    "\n",
    "# # plot real vs predicted values along with confidence interval\n",
    "# rcParams['figure.figsize'] = 15, 6\n",
    "\n",
    "# # plot observed values\n",
    "# ax = log_USA['1950-01-01':].plot(label='observed')\n",
    "\n",
    "# # plot predicted values\n",
    "# pred_log2.plot(ax=ax, label='Forecast', alpha=0.9)\n",
    "\n",
    "# # # plot the range for confidence intervals\n",
    "# # ax.fill_between(pred_conf.index,\n",
    "# #                 pred_conf.iloc[:, 0],\n",
    "# #                 pred_conf.iloc[:, 1], color='g', alpha=0.5)\n",
    "\n",
    "# # set axes labels and title\n",
    "# ax.set_xlabel('Year', size=12)\n",
    "# ax.set_ylabel('Logged Tonnes',size=12)\n",
    "# ax.set_title('Real vs Predicted for ARIMA with Logged Data', size=15)\n",
    "\n",
    "# plt.legend()\n",
    "# plt.show()"
   ]
  },
  {
   "cell_type": "markdown",
   "metadata": {},
   "source": [
    "### Exploring best model"
   ]
  },
  {
   "cell_type": "code",
   "execution_count": null,
   "metadata": {
    "ExecuteTime": {
     "end_time": "2021-01-28T22:15:51.238949Z",
     "start_time": "2021-01-28T22:15:50.386616Z"
    },
    "scrolled": false
   },
   "outputs": [],
   "source": [
    "# Visualize residuals/error\n",
    "residuals = pd.DataFrame(mod_log2_fit.resid)\n",
    "residuals.plot()\n",
    "pyplot.show();\n"
   ]
  },
  {
   "cell_type": "code",
   "execution_count": null,
   "metadata": {
    "ExecuteTime": {
     "end_time": "2021-01-28T16:57:33.857208Z",
     "start_time": "2021-01-28T16:57:33.276316Z"
    },
    "scrolled": true
   },
   "outputs": [],
   "source": [
    "# Check for linearity\n",
    "residuals = pd.DataFrame(mod_log2_fit.resid)\n",
    "residuals.plot(kind='kde')\n",
    "pyplot.show()\n"
   ]
  },
  {
   "cell_type": "code",
   "execution_count": null,
   "metadata": {
    "ExecuteTime": {
     "end_time": "2021-01-28T22:16:40.707221Z",
     "start_time": "2021-01-28T22:16:39.955778Z"
    }
   },
   "outputs": [],
   "source": [
    "# Visualize prediction\n",
    "mod_log2_fit.plot_predict();"
   ]
  },
  {
   "cell_type": "code",
   "execution_count": null,
   "metadata": {
    "ExecuteTime": {
     "end_time": "2021-01-28T22:20:31.058804Z",
     "start_time": "2021-01-28T22:20:31.000225Z"
    }
   },
   "outputs": [],
   "source": [
    "mod_log2_fit.forecast()[0] # 0 indicates the very next value the model predicts??\n"
   ]
  },
  {
   "cell_type": "code",
   "execution_count": null,
   "metadata": {},
   "outputs": [],
   "source": [
    "# Convert logged prediction back to original units to compare directly to original data\n",
    "\n",
    "e = 2.71828\n",
    "pred_correctunits = e**(pred_log2)\n",
    "\n",
    "# plot real vs predicted values along with confidence interval\n",
    "rcParams['figure.figsize'] = 15, 6\n",
    "\n",
    "# plot observed values\n",
    "ax = df_USA['1800-01-01':].plot(label='observed')\n",
    "\n",
    "# plot predicted values\n",
    "pred_correctunits.plot(ax=ax, label='Forecast', alpha=0.9)\n",
    "\n",
    "# # plot the range for confidence intervals\n",
    "# ax.fill_between(pred_conf.index,\n",
    "#                 pred_conf.iloc[:, 0],\n",
    "#                 pred_conf.iloc[:, 1], color='g', alpha=0.5)\n",
    "\n",
    "# set axes labels and title\n",
    "ax.set_xlabel('Year', size=12)\n",
    "ax.set_ylabel('Tonnes',size=12)\n",
    "ax.set_title('Real vs Predicted for ARIMA in Tonnes', size=15)\n",
    "\n",
    "plt.legend()\n",
    "plt.show()"
   ]
  },
  {
   "cell_type": "code",
   "execution_count": null,
   "metadata": {},
   "outputs": [],
   "source": [
    "# Look at RMSE and AIC in new units\n",
    "print('RMSE score for original log model: ', RMSE(pred_correctunits))\n",
    "print('AIC for original log model:', mod_log2_fit.aic)"
   ]
  },
  {
   "cell_type": "code",
   "execution_count": null,
   "metadata": {},
   "outputs": [],
   "source": []
  },
  {
   "cell_type": "markdown",
   "metadata": {},
   "source": [
    "### Prediction"
   ]
  },
  {
   "cell_type": "code",
   "execution_count": null,
   "metadata": {
    "ExecuteTime": {
     "end_time": "2021-01-28T22:22:29.627705Z",
     "start_time": "2021-01-28T22:22:29.611484Z"
    }
   },
   "outputs": [],
   "source": [
    "from matplotlib.pylab import rcParams"
   ]
  },
  {
   "cell_type": "code",
   "execution_count": null,
   "metadata": {},
   "outputs": [],
   "source": []
  },
  {
   "cell_type": "code",
   "execution_count": null,
   "metadata": {},
   "outputs": [],
   "source": []
  },
  {
   "cell_type": "code",
   "execution_count": null,
   "metadata": {
    "ExecuteTime": {
     "end_time": "2021-01-28T22:59:04.217849Z",
     "start_time": "2021-01-28T22:59:04.208719Z"
    }
   },
   "outputs": [],
   "source": [
    "#from statsmodels.tsa.arima_model import ARMA"
   ]
  },
  {
   "cell_type": "code",
   "execution_count": null,
   "metadata": {
    "ExecuteTime": {
     "end_time": "2021-01-28T23:40:08.174700Z",
     "start_time": "2021-01-28T23:40:08.135997Z"
    }
   },
   "outputs": [],
   "source": [
    "# pred = log_mod_fit.get_prediction(start='1998-01-01', dynamic=False)\n"
   ]
  },
  {
   "cell_type": "code",
   "execution_count": null,
   "metadata": {
    "ExecuteTime": {
     "end_time": "2021-01-28T23:43:51.831667Z",
     "start_time": "2021-01-28T23:43:51.815722Z"
    }
   },
   "outputs": [],
   "source": [
    "# pred_conf = pred_log.conf_int()"
   ]
  },
  {
   "cell_type": "code",
   "execution_count": null,
   "metadata": {
    "ExecuteTime": {
     "end_time": "2021-01-28T23:43:57.064779Z",
     "start_time": "2021-01-28T23:43:57.056396Z"
    }
   },
   "outputs": [],
   "source": [
    "# pred_log.predicted_mean"
   ]
  },
  {
   "cell_type": "code",
   "execution_count": null,
   "metadata": {},
   "outputs": [],
   "source": [
    "# Get the real and predicted values\n",
    "CO2_forecasted = pred_log.predicted_mean\n",
    "CO2_truth = CO2['1998-01-01':]\n",
    "\n",
    "# Compute the mean square error\n",
    "mse = ((CO2_forecasted - CO2_truth) ** 2).mean()\n",
    "print('The Mean Squared Error of our forecasts is {}'.format(round(mse, 2)))"
   ]
  },
  {
   "cell_type": "code",
   "execution_count": null,
   "metadata": {},
   "outputs": [],
   "source": [
    "## DYNAMIC FORECASTING\n",
    "# Get dynamic predictions with confidence intervals as above \n",
    "pred_dynamic = output.get_prediction(start=pd.to_datetime('1998-01-01'), dynamic=True, full_results=True)\n",
    "pred_dynamic_conf = pred_dynamic.conf_int()"
   ]
  },
  {
   "cell_type": "code",
   "execution_count": null,
   "metadata": {},
   "outputs": [],
   "source": []
  },
  {
   "cell_type": "code",
   "execution_count": null,
   "metadata": {},
   "outputs": [],
   "source": []
  },
  {
   "cell_type": "markdown",
   "metadata": {},
   "source": [
    "### Trying to improve the log model"
   ]
  },
  {
   "cell_type": "code",
   "execution_count": null,
   "metadata": {},
   "outputs": [],
   "source": []
  },
  {
   "cell_type": "code",
   "execution_count": null,
   "metadata": {},
   "outputs": [],
   "source": [
    "e = 2.71828\n",
    "pred_correctunits = e**(pred_log2)\n",
    "\n",
    "# plot real vs predicted values along with confidence interval\n",
    "rcParams['figure.figsize'] = 15, 6\n",
    "\n",
    "# plot observed values\n",
    "ax = df_USA['1800-01-01':].plot(label='observed')\n",
    "\n",
    "# plot predicted values\n",
    "pred_correctunits.plot(ax=ax, label='One-step ahead Forecast', alpha=0.9)\n",
    "\n",
    "# # plot the range for confidence intervals\n",
    "# ax.fill_between(pred_conf.index,\n",
    "#                 pred_conf.iloc[:, 0],\n",
    "#                 pred_conf.iloc[:, 1], color='g', alpha=0.5)\n",
    "\n",
    "# set axes labels and title\n",
    "ax.set_xlabel('Date', size=12)\n",
    "ax.set_ylabel('Crime Levels',size=12)\n",
    "ax.set_title('Real vs Predicted for ARIMA in Tonnes', size=15)\n",
    "\n",
    "plt.legend()\n",
    "plt.show()"
   ]
  },
  {
   "cell_type": "code",
   "execution_count": null,
   "metadata": {},
   "outputs": [],
   "source": []
  },
  {
   "cell_type": "code",
   "execution_count": null,
   "metadata": {},
   "outputs": [],
   "source": []
  },
  {
   "cell_type": "code",
   "execution_count": null,
   "metadata": {},
   "outputs": [],
   "source": []
  },
  {
   "cell_type": "code",
   "execution_count": null,
   "metadata": {},
   "outputs": [],
   "source": []
  },
  {
   "cell_type": "markdown",
   "metadata": {},
   "source": [
    "# Additional Notes"
   ]
  },
  {
   "cell_type": "code",
   "execution_count": null,
   "metadata": {
    "ExecuteTime": {
     "end_time": "2021-01-28T16:57:34.663805Z",
     "start_time": "2021-01-28T16:57:34.644823Z"
    },
    "scrolled": false
   },
   "outputs": [],
   "source": [
    "y_test.diff(1)"
   ]
  },
  {
   "cell_type": "markdown",
   "metadata": {},
   "source": [
    "#### Testing out Auto ARIMA and gridsearch"
   ]
  },
  {
   "cell_type": "code",
   "execution_count": null,
   "metadata": {
    "ExecuteTime": {
     "end_time": "2021-01-28T19:49:25.170547Z",
     "start_time": "2021-01-28T19:49:25.131926Z"
    }
   },
   "outputs": [],
   "source": [
    "# diff.dropna(inplace=True)\n",
    "# diff"
   ]
  },
  {
   "cell_type": "code",
   "execution_count": null,
   "metadata": {
    "ExecuteTime": {
     "end_time": "2021-01-28T19:49:25.939150Z",
     "start_time": "2021-01-28T19:49:25.931033Z"
    },
    "scrolled": true
   },
   "outputs": [],
   "source": [
    "# train = diff.loc[:'1997-01-01'] #data before 1997\n",
    "# valid = diff.loc['1997-01-01':] #data after 1997\n",
    "\n",
    "# #plotting the data\n",
    "# train.plot()\n",
    "# valid.plot()"
   ]
  },
  {
   "cell_type": "code",
   "execution_count": null,
   "metadata": {
    "ExecuteTime": {
     "end_time": "2021-01-28T19:49:28.513567Z",
     "start_time": "2021-01-28T19:49:28.498598Z"
    }
   },
   "outputs": [],
   "source": [
    "#! pip install pyramid-arima"
   ]
  },
  {
   "cell_type": "code",
   "execution_count": null,
   "metadata": {
    "ExecuteTime": {
     "end_time": "2021-01-28T19:49:29.060582Z",
     "start_time": "2021-01-28T19:49:29.056678Z"
    }
   },
   "outputs": [],
   "source": [
    "#from pyramid.arima import auto_arima"
   ]
  },
  {
   "cell_type": "code",
   "execution_count": null,
   "metadata": {
    "ExecuteTime": {
     "end_time": "2021-01-28T19:49:29.592596Z",
     "start_time": "2021-01-28T19:49:29.581545Z"
    }
   },
   "outputs": [],
   "source": [
    "# #building the model\n",
    "# from pyramid.arima import auto_arima\n",
    "# model = auto_arima(train, \n",
    "#                    trace=True, \n",
    "#                    error_action='ignore', \n",
    "#                    suppress_warnings=True)\n",
    "# model.fit(train)\n",
    "\n",
    "# forecast = model.predict(n_periods=len(valid))\n",
    "# forecast = pd.DataFrame(forecast,index = valid.index,columns=['Prediction'])\n",
    "\n",
    "# #plot the predictions for validation set\n",
    "# plt.plot(train, label='Train')\n",
    "# plt.plot(valid, label='Valid')\n",
    "# plt.plot(forecast, label='Prediction')\n",
    "# plt.show()"
   ]
  },
  {
   "cell_type": "code",
   "execution_count": null,
   "metadata": {},
   "outputs": [],
   "source": []
  },
  {
   "cell_type": "code",
   "execution_count": null,
   "metadata": {
    "ExecuteTime": {
     "end_time": "2021-01-28T19:53:40.397923Z",
     "start_time": "2021-01-28T19:53:40.387277Z"
    }
   },
   "outputs": [],
   "source": [
    "# Source link: https://github.com/learn-co-curriculum/dsc-sarima-models-lab/tree/solution\n"
   ]
  },
  {
   "cell_type": "code",
   "execution_count": null,
   "metadata": {
    "ExecuteTime": {
     "end_time": "2021-01-28T20:31:25.531577Z",
     "start_time": "2021-01-28T20:31:25.522428Z"
    }
   },
   "outputs": [],
   "source": [
    "# import itertools\n",
    "\n",
    "# # Define the p, d and q parameters to take any value between 0 and 2\n",
    "# p = d = q = range(0, 5)\n",
    "\n",
    "# # Generate all different combinations of p, q and q triplets\n",
    "# pdq = list(itertools.product(p, d, q))"
   ]
  },
  {
   "cell_type": "code",
   "execution_count": null,
   "metadata": {},
   "outputs": [],
   "source": []
  },
  {
   "cell_type": "code",
   "execution_count": null,
   "metadata": {
    "ExecuteTime": {
     "end_time": "2021-01-28T20:34:41.763655Z",
     "start_time": "2021-01-28T20:34:41.733994Z"
    }
   },
   "outputs": [],
   "source": [
    "# import statsmodels.api as sm\n",
    "\n",
    "# # Run a grid with pdq and seasonal pdq parameters calculated above and get the best AIC value\n",
    "# ans = []\n",
    "# for comb in pdq:\n",
    "#     try:\n",
    "#         mod = sm.tsa.statespace.ARIMA(df_USA,\n",
    "#                                         order=comb,\n",
    "#                                         seasonal_order=combs,\n",
    "#                                         enforce_stationarity=False,\n",
    "#                                         enforce_invertibility=False)\n",
    "\n",
    "#         output = mod.fit()\n",
    "#         ans.append([comb, combs, output.aic])\n",
    "#         print('ARIMA {} x {}12 : AIC Calculated ={}'.format(comb, combs, output.aic))\n",
    "#     except:\n",
    "#         continue"
   ]
  },
  {
   "cell_type": "code",
   "execution_count": null,
   "metadata": {
    "ExecuteTime": {
     "end_time": "2021-01-28T20:35:42.300110Z",
     "start_time": "2021-01-28T20:35:42.284606Z"
    }
   },
   "outputs": [],
   "source": [
    "# import statsmodels.api as sm\n",
    "\n",
    "# # Run a grid with pdq and seasonal pdq parameters calculated above and get the best AIC value\n",
    "# ans = []\n",
    "# for comb in pdq:\n",
    "#     try:\n",
    "#         mod = sm.tsa.arima.model.ARIMA(df_USA,\n",
    "#                                         order=comb,\n",
    "#                                         enforce_stationarity=False,\n",
    "#                                         enforce_invertibility=False)\n",
    "\n",
    "#         output = mod.fit()\n",
    "#         ans.append([comb, combs, output.aic])\n",
    "#         print('ARIMA {} x {}12 : AIC Calculated ={}'.format(comb, combs, output.aic))\n",
    "#     except:\n",
    "#         continue"
   ]
  },
  {
   "cell_type": "code",
   "execution_count": null,
   "metadata": {
    "ExecuteTime": {
     "end_time": "2021-01-28T22:09:08.461536Z",
     "start_time": "2021-01-28T22:09:08.454967Z"
    }
   },
   "outputs": [],
   "source": [
    "# # Find the parameters with minimal AIC value\n",
    "# ans_df = pd.DataFrame(ans, columns=['pdq', 'aic'])\n",
    "# ans_df.loc[ans_df['aic'].idxmin()]"
   ]
  },
  {
   "cell_type": "code",
   "execution_count": null,
   "metadata": {
    "ExecuteTime": {
     "end_time": "2021-01-28T20:03:04.968714Z",
     "start_time": "2021-01-28T20:03:04.934443Z"
    }
   },
   "outputs": [],
   "source": [
    "# # define the p, d and q parameters to take any value between 0 and 2\n",
    "# p = q = d range(1, 6)\n",
    "\n",
    "# # generate all different combinations of p, q and q triplets\n",
    "# pqd = list(itertools.product(p, d, q))"
   ]
  },
  {
   "cell_type": "code",
   "execution_count": null,
   "metadata": {
    "ExecuteTime": {
     "end_time": "2021-01-28T20:05:26.380262Z",
     "start_time": "2021-01-28T20:05:26.355982Z"
    }
   },
   "outputs": [],
   "source": [
    "# # run a grid with pdq and seasonal pdq parameters calculated above and get the best AIC value\n",
    "# ans = []\n",
    "# for comb in pqd:\n",
    "#     try:\n",
    "#         mod = ARMA(y_train, order=comb)\n",
    "#         output = mod.fit()\n",
    "#         ans.append([comb, output.aic])\n",
    "#         print('ARMA {} : AIC Calculated ={}'.format(comb,output.aic))\n",
    "#     except:\n",
    "#         continue"
   ]
  },
  {
   "cell_type": "markdown",
   "metadata": {},
   "source": [
    "**Tuesday**\n",
    "\n",
    "-Initial time series model (check for stationarity/trends, fix if not)--top 10 countries (not per capita)\n",
    "\n",
    "-Vizualizations for top 10 countries per capita\n",
    "\n",
    "**Wednesday**\n",
    "\n",
    "-Fix whatever needs fixing\n",
    "\n",
    "-Other EDA/visualizations\n",
    "\n",
    "-Tune final model\n",
    "\n",
    "**Thursday**\n",
    "\n",
    "-Tune final model (if not done by Wed)\n",
    "\n",
    "-Create Read Me, PPT presentation\n",
    "\n",
    "-Clean up code\n",
    "\n",
    "-Practice presentation\n",
    "\n",
    "**Stretch Goals**\n",
    "\n",
    "-Research peaks and valleys historically\n",
    "\n",
    "-Compare to world emissions\n"
   ]
  }
 ],
 "metadata": {
  "kernelspec": {
   "display_name": "learn-env",
   "language": "python",
   "name": "learn-env"
  },
  "language_info": {
   "codemirror_mode": {
    "name": "ipython",
    "version": 3
   },
   "file_extension": ".py",
   "mimetype": "text/x-python",
   "name": "python",
   "nbconvert_exporter": "python",
   "pygments_lexer": "ipython3",
   "version": "3.6.9"
  },
  "toc": {
   "base_numbering": 1,
   "nav_menu": {},
   "number_sections": true,
   "sideBar": true,
   "skip_h1_title": false,
   "title_cell": "Table of Contents",
   "title_sidebar": "Contents",
   "toc_cell": false,
   "toc_position": {},
   "toc_section_display": true,
   "toc_window_display": false
  }
 },
 "nbformat": 4,
 "nbformat_minor": 4
}
