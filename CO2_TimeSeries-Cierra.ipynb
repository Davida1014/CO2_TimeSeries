{
 "cells": [
  {
   "cell_type": "markdown",
   "metadata": {},
   "source": [
    "# Data Cleaning"
   ]
  },
  {
   "cell_type": "code",
   "execution_count": 142,
   "metadata": {
    "ExecuteTime": {
     "end_time": "2021-01-27T22:22:59.759496Z",
     "start_time": "2021-01-27T22:22:59.735666Z"
    }
   },
   "outputs": [],
   "source": [
    "import pandas as pd\n",
    "import numpy as np\n",
    "from matplotlib import pyplot\n",
    "\n",
    "import warnings\n",
    "warnings.filterwarnings('ignore')\n",
    "pd.set_option('display.max_columns', 100)"
   ]
  },
  {
   "cell_type": "code",
   "execution_count": 143,
   "metadata": {
    "ExecuteTime": {
     "end_time": "2021-01-27T22:23:00.432729Z",
     "start_time": "2021-01-27T22:22:59.938390Z"
    },
    "scrolled": false
   },
   "outputs": [
    {
     "name": "stdout",
     "output_type": "stream",
     "text": [
      "(24016, 38)\n"
     ]
    },
    {
     "data": {
      "text/html": [
       "<div>\n",
       "<style scoped>\n",
       "    .dataframe tbody tr th:only-of-type {\n",
       "        vertical-align: middle;\n",
       "    }\n",
       "\n",
       "    .dataframe tbody tr th {\n",
       "        vertical-align: top;\n",
       "    }\n",
       "\n",
       "    .dataframe thead th {\n",
       "        text-align: right;\n",
       "    }\n",
       "</style>\n",
       "<table border=\"1\" class=\"dataframe\">\n",
       "  <thead>\n",
       "    <tr style=\"text-align: right;\">\n",
       "      <th></th>\n",
       "      <th>iso_code</th>\n",
       "      <th>country</th>\n",
       "      <th>year</th>\n",
       "      <th>co2</th>\n",
       "      <th>co2_growth_prct</th>\n",
       "      <th>co2_growth_abs</th>\n",
       "      <th>consumption_co2</th>\n",
       "      <th>trade_co2</th>\n",
       "      <th>trade_co2_share</th>\n",
       "      <th>co2_per_capita</th>\n",
       "      <th>consumption_co2_per_capita</th>\n",
       "      <th>share_global_co2</th>\n",
       "      <th>cumulative_co2</th>\n",
       "      <th>share_global_cumulative_co2</th>\n",
       "      <th>co2_per_gdp</th>\n",
       "      <th>consumption_co2_per_gdp</th>\n",
       "      <th>co2_per_unit_energy</th>\n",
       "      <th>cement_co2</th>\n",
       "      <th>coal_co2</th>\n",
       "      <th>flaring_co2</th>\n",
       "      <th>gas_co2</th>\n",
       "      <th>oil_co2</th>\n",
       "      <th>cement_co2_per_capita</th>\n",
       "      <th>coal_co2_per_capita</th>\n",
       "      <th>flaring_co2_per_capita</th>\n",
       "      <th>gas_co2_per_capita</th>\n",
       "      <th>oil_co2_per_capita</th>\n",
       "      <th>total_ghg</th>\n",
       "      <th>ghg_per_capita</th>\n",
       "      <th>methane</th>\n",
       "      <th>methane_per_capita</th>\n",
       "      <th>nitrous_oxide</th>\n",
       "      <th>nitrous_oxide_per_capita</th>\n",
       "      <th>primary_energy_consumption</th>\n",
       "      <th>energy_per_capita</th>\n",
       "      <th>energy_per_gdp</th>\n",
       "      <th>population</th>\n",
       "      <th>gdp</th>\n",
       "    </tr>\n",
       "  </thead>\n",
       "  <tbody>\n",
       "    <tr>\n",
       "      <th>0</th>\n",
       "      <td>AFG</td>\n",
       "      <td>Afghanistan</td>\n",
       "      <td>1949</td>\n",
       "      <td>0.015</td>\n",
       "      <td>NaN</td>\n",
       "      <td>NaN</td>\n",
       "      <td>NaN</td>\n",
       "      <td>NaN</td>\n",
       "      <td>NaN</td>\n",
       "      <td>0.002</td>\n",
       "      <td>NaN</td>\n",
       "      <td>0.000</td>\n",
       "      <td>0.015</td>\n",
       "      <td>0.000</td>\n",
       "      <td>NaN</td>\n",
       "      <td>NaN</td>\n",
       "      <td>NaN</td>\n",
       "      <td>0.0</td>\n",
       "      <td>0.015</td>\n",
       "      <td>0.0</td>\n",
       "      <td>0.0</td>\n",
       "      <td>0.000</td>\n",
       "      <td>0.0</td>\n",
       "      <td>0.002</td>\n",
       "      <td>0.0</td>\n",
       "      <td>0.0</td>\n",
       "      <td>0.000</td>\n",
       "      <td>NaN</td>\n",
       "      <td>NaN</td>\n",
       "      <td>NaN</td>\n",
       "      <td>NaN</td>\n",
       "      <td>NaN</td>\n",
       "      <td>NaN</td>\n",
       "      <td>NaN</td>\n",
       "      <td>NaN</td>\n",
       "      <td>NaN</td>\n",
       "      <td>7663783.0</td>\n",
       "      <td>NaN</td>\n",
       "    </tr>\n",
       "    <tr>\n",
       "      <th>1</th>\n",
       "      <td>AFG</td>\n",
       "      <td>Afghanistan</td>\n",
       "      <td>1950</td>\n",
       "      <td>0.084</td>\n",
       "      <td>475.000</td>\n",
       "      <td>0.070</td>\n",
       "      <td>NaN</td>\n",
       "      <td>NaN</td>\n",
       "      <td>NaN</td>\n",
       "      <td>0.011</td>\n",
       "      <td>NaN</td>\n",
       "      <td>0.001</td>\n",
       "      <td>0.099</td>\n",
       "      <td>0.001</td>\n",
       "      <td>0.004</td>\n",
       "      <td>NaN</td>\n",
       "      <td>NaN</td>\n",
       "      <td>0.0</td>\n",
       "      <td>0.022</td>\n",
       "      <td>0.0</td>\n",
       "      <td>0.0</td>\n",
       "      <td>0.066</td>\n",
       "      <td>0.0</td>\n",
       "      <td>0.003</td>\n",
       "      <td>0.0</td>\n",
       "      <td>0.0</td>\n",
       "      <td>0.009</td>\n",
       "      <td>NaN</td>\n",
       "      <td>NaN</td>\n",
       "      <td>NaN</td>\n",
       "      <td>NaN</td>\n",
       "      <td>NaN</td>\n",
       "      <td>NaN</td>\n",
       "      <td>NaN</td>\n",
       "      <td>NaN</td>\n",
       "      <td>NaN</td>\n",
       "      <td>7752000.0</td>\n",
       "      <td>1.949480e+10</td>\n",
       "    </tr>\n",
       "    <tr>\n",
       "      <th>2</th>\n",
       "      <td>AFG</td>\n",
       "      <td>Afghanistan</td>\n",
       "      <td>1951</td>\n",
       "      <td>0.092</td>\n",
       "      <td>8.696</td>\n",
       "      <td>0.007</td>\n",
       "      <td>NaN</td>\n",
       "      <td>NaN</td>\n",
       "      <td>NaN</td>\n",
       "      <td>0.012</td>\n",
       "      <td>NaN</td>\n",
       "      <td>0.001</td>\n",
       "      <td>0.191</td>\n",
       "      <td>0.001</td>\n",
       "      <td>0.005</td>\n",
       "      <td>NaN</td>\n",
       "      <td>NaN</td>\n",
       "      <td>0.0</td>\n",
       "      <td>0.026</td>\n",
       "      <td>0.0</td>\n",
       "      <td>0.0</td>\n",
       "      <td>0.066</td>\n",
       "      <td>0.0</td>\n",
       "      <td>0.003</td>\n",
       "      <td>0.0</td>\n",
       "      <td>0.0</td>\n",
       "      <td>0.008</td>\n",
       "      <td>NaN</td>\n",
       "      <td>NaN</td>\n",
       "      <td>NaN</td>\n",
       "      <td>NaN</td>\n",
       "      <td>NaN</td>\n",
       "      <td>NaN</td>\n",
       "      <td>NaN</td>\n",
       "      <td>NaN</td>\n",
       "      <td>NaN</td>\n",
       "      <td>7840000.0</td>\n",
       "      <td>2.006385e+10</td>\n",
       "    </tr>\n",
       "    <tr>\n",
       "      <th>3</th>\n",
       "      <td>AFG</td>\n",
       "      <td>Afghanistan</td>\n",
       "      <td>1952</td>\n",
       "      <td>0.092</td>\n",
       "      <td>0.000</td>\n",
       "      <td>0.000</td>\n",
       "      <td>NaN</td>\n",
       "      <td>NaN</td>\n",
       "      <td>NaN</td>\n",
       "      <td>0.012</td>\n",
       "      <td>NaN</td>\n",
       "      <td>0.001</td>\n",
       "      <td>0.282</td>\n",
       "      <td>0.001</td>\n",
       "      <td>0.004</td>\n",
       "      <td>NaN</td>\n",
       "      <td>NaN</td>\n",
       "      <td>0.0</td>\n",
       "      <td>0.033</td>\n",
       "      <td>0.0</td>\n",
       "      <td>0.0</td>\n",
       "      <td>0.062</td>\n",
       "      <td>0.0</td>\n",
       "      <td>0.004</td>\n",
       "      <td>0.0</td>\n",
       "      <td>0.0</td>\n",
       "      <td>0.008</td>\n",
       "      <td>NaN</td>\n",
       "      <td>NaN</td>\n",
       "      <td>NaN</td>\n",
       "      <td>NaN</td>\n",
       "      <td>NaN</td>\n",
       "      <td>NaN</td>\n",
       "      <td>NaN</td>\n",
       "      <td>NaN</td>\n",
       "      <td>NaN</td>\n",
       "      <td>7936000.0</td>\n",
       "      <td>2.074235e+10</td>\n",
       "    </tr>\n",
       "    <tr>\n",
       "      <th>4</th>\n",
       "      <td>AFG</td>\n",
       "      <td>Afghanistan</td>\n",
       "      <td>1953</td>\n",
       "      <td>0.106</td>\n",
       "      <td>16.000</td>\n",
       "      <td>0.015</td>\n",
       "      <td>NaN</td>\n",
       "      <td>NaN</td>\n",
       "      <td>NaN</td>\n",
       "      <td>0.013</td>\n",
       "      <td>NaN</td>\n",
       "      <td>0.002</td>\n",
       "      <td>0.388</td>\n",
       "      <td>0.001</td>\n",
       "      <td>0.005</td>\n",
       "      <td>NaN</td>\n",
       "      <td>NaN</td>\n",
       "      <td>0.0</td>\n",
       "      <td>0.037</td>\n",
       "      <td>0.0</td>\n",
       "      <td>0.0</td>\n",
       "      <td>0.066</td>\n",
       "      <td>0.0</td>\n",
       "      <td>0.005</td>\n",
       "      <td>0.0</td>\n",
       "      <td>0.0</td>\n",
       "      <td>0.008</td>\n",
       "      <td>NaN</td>\n",
       "      <td>NaN</td>\n",
       "      <td>NaN</td>\n",
       "      <td>NaN</td>\n",
       "      <td>NaN</td>\n",
       "      <td>NaN</td>\n",
       "      <td>NaN</td>\n",
       "      <td>NaN</td>\n",
       "      <td>NaN</td>\n",
       "      <td>8040000.0</td>\n",
       "      <td>2.201546e+10</td>\n",
       "    </tr>\n",
       "  </tbody>\n",
       "</table>\n",
       "</div>"
      ],
      "text/plain": [
       "  iso_code      country  year    co2  co2_growth_prct  co2_growth_abs  \\\n",
       "0      AFG  Afghanistan  1949  0.015              NaN             NaN   \n",
       "1      AFG  Afghanistan  1950  0.084          475.000           0.070   \n",
       "2      AFG  Afghanistan  1951  0.092            8.696           0.007   \n",
       "3      AFG  Afghanistan  1952  0.092            0.000           0.000   \n",
       "4      AFG  Afghanistan  1953  0.106           16.000           0.015   \n",
       "\n",
       "   consumption_co2  trade_co2  trade_co2_share  co2_per_capita  \\\n",
       "0              NaN        NaN              NaN           0.002   \n",
       "1              NaN        NaN              NaN           0.011   \n",
       "2              NaN        NaN              NaN           0.012   \n",
       "3              NaN        NaN              NaN           0.012   \n",
       "4              NaN        NaN              NaN           0.013   \n",
       "\n",
       "   consumption_co2_per_capita  share_global_co2  cumulative_co2  \\\n",
       "0                         NaN             0.000           0.015   \n",
       "1                         NaN             0.001           0.099   \n",
       "2                         NaN             0.001           0.191   \n",
       "3                         NaN             0.001           0.282   \n",
       "4                         NaN             0.002           0.388   \n",
       "\n",
       "   share_global_cumulative_co2  co2_per_gdp  consumption_co2_per_gdp  \\\n",
       "0                        0.000          NaN                      NaN   \n",
       "1                        0.001        0.004                      NaN   \n",
       "2                        0.001        0.005                      NaN   \n",
       "3                        0.001        0.004                      NaN   \n",
       "4                        0.001        0.005                      NaN   \n",
       "\n",
       "   co2_per_unit_energy  cement_co2  coal_co2  flaring_co2  gas_co2  oil_co2  \\\n",
       "0                  NaN         0.0     0.015          0.0      0.0    0.000   \n",
       "1                  NaN         0.0     0.022          0.0      0.0    0.066   \n",
       "2                  NaN         0.0     0.026          0.0      0.0    0.066   \n",
       "3                  NaN         0.0     0.033          0.0      0.0    0.062   \n",
       "4                  NaN         0.0     0.037          0.0      0.0    0.066   \n",
       "\n",
       "   cement_co2_per_capita  coal_co2_per_capita  flaring_co2_per_capita  \\\n",
       "0                    0.0                0.002                     0.0   \n",
       "1                    0.0                0.003                     0.0   \n",
       "2                    0.0                0.003                     0.0   \n",
       "3                    0.0                0.004                     0.0   \n",
       "4                    0.0                0.005                     0.0   \n",
       "\n",
       "   gas_co2_per_capita  oil_co2_per_capita  total_ghg  ghg_per_capita  methane  \\\n",
       "0                 0.0               0.000        NaN             NaN      NaN   \n",
       "1                 0.0               0.009        NaN             NaN      NaN   \n",
       "2                 0.0               0.008        NaN             NaN      NaN   \n",
       "3                 0.0               0.008        NaN             NaN      NaN   \n",
       "4                 0.0               0.008        NaN             NaN      NaN   \n",
       "\n",
       "   methane_per_capita  nitrous_oxide  nitrous_oxide_per_capita  \\\n",
       "0                 NaN            NaN                       NaN   \n",
       "1                 NaN            NaN                       NaN   \n",
       "2                 NaN            NaN                       NaN   \n",
       "3                 NaN            NaN                       NaN   \n",
       "4                 NaN            NaN                       NaN   \n",
       "\n",
       "   primary_energy_consumption  energy_per_capita  energy_per_gdp  population  \\\n",
       "0                         NaN                NaN             NaN   7663783.0   \n",
       "1                         NaN                NaN             NaN   7752000.0   \n",
       "2                         NaN                NaN             NaN   7840000.0   \n",
       "3                         NaN                NaN             NaN   7936000.0   \n",
       "4                         NaN                NaN             NaN   8040000.0   \n",
       "\n",
       "            gdp  \n",
       "0           NaN  \n",
       "1  1.949480e+10  \n",
       "2  2.006385e+10  \n",
       "3  2.074235e+10  \n",
       "4  2.201546e+10  "
      ]
     },
     "execution_count": 143,
     "metadata": {},
     "output_type": "execute_result"
    }
   ],
   "source": [
    "data = pd.read_csv('data/owid-co2-data.csv')\n",
    "df = data\n",
    "print(df.shape)\n",
    "df.head()"
   ]
  },
  {
   "cell_type": "code",
   "execution_count": 144,
   "metadata": {
    "ExecuteTime": {
     "end_time": "2021-01-27T22:23:00.468502Z",
     "start_time": "2021-01-27T22:23:00.441801Z"
    }
   },
   "outputs": [],
   "source": [
    "#Only include data from 1950 and later\n",
    "df = df[df['year']>=1950]"
   ]
  },
  {
   "cell_type": "code",
   "execution_count": 145,
   "metadata": {
    "ExecuteTime": {
     "end_time": "2021-01-27T22:23:00.518430Z",
     "start_time": "2021-01-27T22:23:00.488572Z"
    }
   },
   "outputs": [],
   "source": [
    "#Drop columns with >8K null values (50% of data)\n",
    "df.dropna(axis=1,thresh=8000, inplace=True)\n"
   ]
  },
  {
   "cell_type": "code",
   "execution_count": 146,
   "metadata": {
    "ExecuteTime": {
     "end_time": "2021-01-27T22:23:00.580956Z",
     "start_time": "2021-01-27T22:23:00.541872Z"
    },
    "scrolled": true
   },
   "outputs": [
    {
     "data": {
      "text/plain": [
       "(14404, 19)"
      ]
     },
     "execution_count": 146,
     "metadata": {},
     "output_type": "execute_result"
    }
   ],
   "source": [
    "#Drop continents, identified by lacking an ISO code\n",
    "df.dropna(axis=0,subset=['iso_code'],inplace=True)\n",
    "\n",
    "#Drop \"World\" entries\n",
    "df = df[df.country != 'World']\n",
    "df.shape"
   ]
  },
  {
   "cell_type": "markdown",
   "metadata": {},
   "source": [
    "**plot dotted line after Indonesia**"
   ]
  },
  {
   "cell_type": "code",
   "execution_count": 147,
   "metadata": {
    "ExecuteTime": {
     "end_time": "2021-01-27T22:23:03.105729Z",
     "start_time": "2021-01-27T22:23:00.638254Z"
    },
    "scrolled": true
   },
   "outputs": [
    {
     "data": {
      "image/png": "[encoded data removed]",
      "text/plain": [
       "<Figure size 1080x720 with 1 Axes>"
      ]
     },
     "metadata": {
      "needs_background": "light"
     },
     "output_type": "display_data"
    }
   ],
   "source": [
    "#Visualize top 50 total CO2 emissions by country (note: fix size to make more legible)\n",
    "import matplotlib.pyplot as plt\n",
    "fig, ax = plt.subplots(figsize=(15,10))\n",
    "plt.bar(x = df.groupby(['country'])['co2'].mean().sort_values(ascending=False).index[:50],\n",
    "        height = df.groupby(['country'])['co2'].mean().sort_values(ascending=False)[:50],\n",
    "       color = 'green')\n",
    "plt.xlabel('Country')\n",
    "plt.ylabel('Mean Total CO2 Emission Per Year in Tonnes')\n",
    "for tick in ax.xaxis.get_major_ticks():\n",
    "    tick.label.set_fontsize(14)\n",
    "    # specify integer or one of preset strings, e.g.\n",
    "    #tick.label.set_fontsize('x-small')\n",
    "    tick.label.set_rotation('vertical')"
   ]
  },
  {
   "cell_type": "code",
   "execution_count": 151,
   "metadata": {
    "ExecuteTime": {
     "end_time": "2021-01-27T22:24:45.033027Z",
     "start_time": "2021-01-27T22:24:44.986689Z"
    }
   },
   "outputs": [
    {
     "data": {
      "text/plain": [
       "country\n",
       "United States           4572.443145\n",
       "China                   3020.410884\n",
       "Russia                  1678.672633\n",
       "Germany                  907.555435\n",
       "Japan                    862.353855\n",
       "India                    711.136391\n",
       "United Kingdom           562.317333\n",
       "Ukraine                  431.599350\n",
       "Canada                   408.196348\n",
       "France                   380.734435\n",
       "Italy                    323.503725\n",
       "Poland                   315.624159\n",
       "South Africa             273.030304\n",
       "Mexico                   263.238609\n",
       "Australia                239.099464\n",
       "South Korea              239.019536\n",
       "Iran                     238.637420\n",
       "Brazil                   208.254638\n",
       "Saudi Arabia             207.846739\n",
       "Spain                    191.898884\n",
       "Kazakhstan               190.311700\n",
       "Indonesia                178.857464\n",
       "Turkey                   143.218507\n",
       "Czechia                  140.431083\n",
       "Netherlands              139.889377\n",
       "Taiwan                   117.495261\n",
       "Belgium                  111.949609\n",
       "Romania                  111.899522\n",
       "Argentina                110.503072\n",
       "Venezuela                107.285000\n",
       "Thailand                  99.347348\n",
       "Uzbekistan                97.512167\n",
       "Egypt                     84.286812\n",
       "Malaysia                  78.441812\n",
       "Belarus                   76.350683\n",
       "United Arab Emirates      73.971900\n",
       "North Korea               70.308319\n",
       "Pakistan                  68.855464\n",
       "Algeria                   61.598406\n",
       "Hungary                   60.365913\n",
       "Iraq                      58.821565\n",
       "Sweden                    57.879913\n",
       "Greece                    56.508391\n",
       "Austria                   54.045710\n",
       "Nigeria                   52.778942\n",
       "Bulgaria                  52.674464\n",
       "Denmark                   48.579304\n",
       "Vietnam                   46.944522\n",
       "Colombia                  46.071275\n",
       "Slovakia                  46.017150\n",
       "Name: co2, dtype: float64"
      ]
     },
     "execution_count": 151,
     "metadata": {},
     "output_type": "execute_result"
    }
   ],
   "source": [
    "# #Look at top 50 total CO2 emission values by country to determine cut-off point\n",
    "df.groupby(['country'])['co2'].mean().sort_values(ascending=False)[:50]"
   ]
  },
  {
   "cell_type": "code",
   "execution_count": 149,
   "metadata": {
    "ExecuteTime": {
     "end_time": "2021-01-27T22:23:03.266401Z",
     "start_time": "2021-01-27T22:23:03.229896Z"
    }
   },
   "outputs": [
    {
     "name": "stdout",
     "output_type": "stream",
     "text": [
      "['United States', 'Canada', 'Australia', 'Kazakhstan', 'Russia', 'Germany', 'Saudi Arabia', 'United Kingdom', 'Poland', 'Ukraine']\n"
     ]
    }
   ],
   "source": [
    "#Create df of top 10 CO2 emmiters per capita, of the top 22 total CO2 emmiters\n",
    "#Cut off at 22 after Indonesia above due to local dropoff point\n",
    "top22_co2 = list(df.groupby(['country'])['co2'].mean().sort_values(ascending=False)[:22].index)\n",
    "df_top22_co2 = df.loc[df['country'].isin(top22_co2)]\n",
    "top10_percapita = list(df_top22_co2.groupby(['country'])['co2_per_capita'].mean().sort_values(ascending=False)[:10].index)\n",
    "print(top10_percapita)\n"
   ]
  },
  {
   "cell_type": "code",
   "execution_count": 150,
   "metadata": {
    "ExecuteTime": {
     "end_time": "2021-01-27T22:23:04.518915Z",
     "start_time": "2021-01-27T22:23:03.284342Z"
    }
   },
   "outputs": [
    {
     "data": {
      "text/plain": [
       "Text(0, 0.5, 'Mean CO2 Emission Per Year Per Capita in Tonnes')"
      ]
     },
     "execution_count": 150,
     "metadata": {},
     "output_type": "execute_result"
    },
    {
     "data": {
      "image/png": "[encoded data removed]",
      "text/plain": [
       "<Figure size 1080x432 with 1 Axes>"
      ]
     },
     "metadata": {
      "needs_background": "light"
     },
     "output_type": "display_data"
    }
   ],
   "source": [
    "df_top10 = df.loc[df['country'].isin(top10_percapita)]\n",
    "fig, ax = plt.subplots(figsize=(15,6))\n",
    "plt.bar(x = df_top10.groupby(['country'])['co2_per_capita'].mean().sort_values(ascending=False).index,\n",
    "        height = df_top10.groupby(['country'])['co2_per_capita'].mean().sort_values(ascending=False),\n",
    "       color = 'green')\n",
    "plt.xlabel('Country')\n",
    "plt.ylabel('Mean CO2 Emission Per Year Per Capita in Tonnes')"
   ]
  },
  {
   "cell_type": "markdown",
   "metadata": {},
   "source": [
    "# Time Series Model for USA"
   ]
  },
  {
   "cell_type": "markdown",
   "metadata": {},
   "source": [
    "**EDA for USA**"
   ]
  },
  {
   "cell_type": "code",
   "execution_count": 152,
   "metadata": {
    "ExecuteTime": {
     "end_time": "2021-01-27T22:27:29.548501Z",
     "start_time": "2021-01-27T22:27:29.466067Z"
    }
   },
   "outputs": [
    {
     "name": "stdout",
     "output_type": "stream",
     "text": [
      "(219, 1)\n"
     ]
    }
   ],
   "source": [
    "#Reload original df to get pre-1950 USA data\n",
    "df_USA = data\n",
    "\n",
    "#Only include USA co2_per_capita data post-1800 (lacking data before this date)\n",
    "df_USA = df_USA[df_USA['year'] >= 1800]\n",
    "df_USA = df_USA[df_USA['country'] == 'United States']\n",
    "df_USA = df_USA[['year','co2_per_capita']]\n",
    "df_USA.set_index('year', inplace=True)\n",
    "\n",
    "print(df_USA.shape)"
   ]
  },
  {
   "cell_type": "code",
   "execution_count": 12,
   "metadata": {
    "ExecuteTime": {
     "end_time": "2021-01-27T03:45:54.683122Z",
     "start_time": "2021-01-27T03:45:54.449709Z"
    },
    "scrolled": true
   },
   "outputs": [
    {
     "data": {
      "image/png": "[encoded data removed]",
      "text/plain": [
       "<Figure size 432x288 with 1 Axes>"
      ]
     },
     "metadata": {
      "needs_background": "light"
     },
     "output_type": "display_data"
    }
   ],
   "source": [
    "roll_mean = df_USA.rolling(window=5, center=False).mean()\n",
    "roll_std = df_USA.rolling(window=5, center=False).std()\n",
    "\n",
    "plt.plot(df_USA,color='blue', label='Original')\n",
    "plt.plot(roll_mean, color='red', label='Rolling Mean')\n",
    "plt.plot(roll_std, color='black', label = 'Rolling Std')\n",
    "plt.legend(loc='best')\n",
    "plt.title('Rolling Mean & Standard Deviation')\n",
    "plt.show(block=False)"
   ]
  },
  {
   "cell_type": "markdown",
   "metadata": {},
   "source": [
    "**Differencing**"
   ]
  },
  {
   "cell_type": "code",
   "execution_count": 13,
   "metadata": {
    "ExecuteTime": {
     "end_time": "2021-01-27T03:46:00.837091Z",
     "start_time": "2021-01-27T03:46:00.828628Z"
    }
   },
   "outputs": [],
   "source": [
    "#get differenced values\n",
    "diff = df_USA.diff().rename(index=str, columns={\"co2_per_capita\": \"Differenced Observations\"})\n"
   ]
  },
  {
   "cell_type": "markdown",
   "metadata": {},
   "source": [
    "**Dickey-Fuller Test**"
   ]
  },
  {
   "cell_type": "code",
   "execution_count": 155,
   "metadata": {
    "ExecuteTime": {
     "end_time": "2021-01-27T22:32:15.184589Z",
     "start_time": "2021-01-27T22:32:15.123237Z"
    },
    "scrolled": true
   },
   "outputs": [
    {
     "data": {
      "text/plain": [
       "Test Statistic                  -4.055314\n",
       "p-value                          0.001147\n",
       "#Lags Used                      11.000000\n",
       "Number of Observations Used    205.000000\n",
       "dtype: float64"
      ]
     },
     "execution_count": 155,
     "metadata": {},
     "output_type": "execute_result"
    }
   ],
   "source": [
    "from statsmodels.tsa.stattools import adfuller\n",
    "\n",
    "test = adfuller(diff['Differenced Observations'][1:-1])\n",
    "dfoutput = pd.Series(test[0:4], index=['Test Statistic','p-value','#Lags Used','Number of Observations Used'])\n",
    "dfoutput\n",
    "\n",
    "##NOTE: small p-value (.001) indicates stationarity"
   ]
  },
  {
   "cell_type": "markdown",
   "metadata": {},
   "source": [
    "**Checking out ACF/PACF to determine which terms in include**"
   ]
  },
  {
   "cell_type": "code",
   "execution_count": 15,
   "metadata": {
    "scrolled": true
   },
   "outputs": [
    {
     "data": {
      "image/png": "[encoded data removed]",
      "text/plain": [
       "<Figure size 432x288 with 1 Axes>"
      ]
     },
     "metadata": {
      "needs_background": "light"
     },
     "output_type": "display_data"
    }
   ],
   "source": [
    "from statsmodels.graphics.tsaplots import plot_acf\n",
    "\n",
    "plot_acf(df_USA[:-1], alpha=.05);\n",
    "\n",
    "##NOTE: data is geometric! (indicates AR)"
   ]
  },
  {
   "cell_type": "code",
   "execution_count": 20,
   "metadata": {},
   "outputs": [
    {
     "data": {
      "image/png": "[encoded data removed]",
      "text/plain": [
       "<Figure size 432x288 with 1 Axes>"
      ]
     },
     "metadata": {
      "needs_background": "light"
     },
     "output_type": "display_data"
    }
   ],
   "source": [
    "from statsmodels.graphics.tsaplots import plot_pacf\n",
    "\n",
    "plot_pacf(df_USA[:-1], alpha=.05, lags=20);\n",
    "\n",
    "##NOTE: lag of 1 is significant"
   ]
  },
  {
   "cell_type": "markdown",
   "metadata": {},
   "source": [
    "\n",
    "REMOVE\n",
    "\n",
    "(1,2,3): arL1=0.000, maL1=0.002, maL2=0.000, maL3=0.000\n",
    "\n",
    "\n",
    "insignificant: (1,1,3), (0,1,3), (0,2,3), (0,2,4), (1,2,4), (1,1,4), (0,1,2), (0,1,4), (5,2,3), (5,2,2), (5,1,3)"
   ]
  },
  {
   "cell_type": "markdown",
   "metadata": {},
   "source": [
    "## Fitting ARIMA Model\n",
    "Exploring different parameters to find best p-value\n"
   ]
  },
  {
   "cell_type": "code",
   "execution_count": 58,
   "metadata": {
    "ExecuteTime": {
     "end_time": "2021-01-27T20:03:36.560431Z",
     "start_time": "2021-01-27T20:03:36.028912Z"
    },
    "collapsed": true
   },
   "outputs": [
    {
     "name": "stdout",
     "output_type": "stream",
     "text": [
      "                             ARIMA Model Results                              \n",
      "==============================================================================\n",
      "Dep. Variable:      D2.co2_per_capita   No. Observations:                  194\n",
      "Model:                 ARIMA(1, 2, 3)   Log Likelihood                -228.044\n",
      "Method:                       css-mle   S.D. of innovations              0.772\n",
      "Date:                Wed, 27 Jan 2021   AIC                            468.089\n",
      "Time:                        15:03:36   BIC                            487.696\n",
      "Sample:                             2   HQIC                           476.028\n",
      "                                                                              \n",
      "===========================================================================================\n",
      "                              coef    std err          z      P>|z|      [0.025      0.975]\n",
      "-------------------------------------------------------------------------------------------\n",
      "const                       0.0005      0.001      0.629      0.530      -0.001       0.002\n",
      "ar.L1.D2.co2_per_capita    -0.7615      0.103     -7.401      0.000      -0.963      -0.560\n",
      "ma.L1.D2.co2_per_capita    -0.3720      0.111     -3.357      0.001      -0.589      -0.155\n",
      "ma.L2.D2.co2_per_capita    -0.8803      0.080    -10.955      0.000      -1.038      -0.723\n",
      "ma.L3.D2.co2_per_capita     0.2523      0.067      3.761      0.000       0.121       0.384\n",
      "                                    Roots                                    \n",
      "=============================================================================\n",
      "                  Real          Imaginary           Modulus         Frequency\n",
      "-----------------------------------------------------------------------------\n",
      "AR.1           -1.3132           +0.0000j            1.3132            0.5000\n",
      "MA.1           -1.1033           +0.0000j            1.1033            0.5000\n",
      "MA.2            1.0000           +0.0000j            1.0000            0.0000\n",
      "MA.3            3.5927           +0.0000j            3.5927            0.0000\n",
      "-----------------------------------------------------------------------------\n"
     ]
    }
   ],
   "source": [
    "from statsmodels.tsa.arima_model import ARIMA\n",
    "\n",
    "#fit model\n",
    "mod123 = ARIMA(y_train[:-1], order=(1,2,3)) # p,d,q\n",
    "mod123_fit = mod123.fit()\n",
    "print(mod123_fit.summary())\n",
    "##NOTE: Check out coef and p-value - "
   ]
  },
  {
   "cell_type": "code",
   "execution_count": 77,
   "metadata": {
    "ExecuteTime": {
     "end_time": "2021-01-27T20:49:19.629750Z",
     "start_time": "2021-01-27T20:49:19.171166Z"
    },
    "collapsed": true
   },
   "outputs": [
    {
     "name": "stdout",
     "output_type": "stream",
     "text": [
      "                             ARIMA Model Results                              \n",
      "==============================================================================\n",
      "Dep. Variable:      D2.co2_per_capita   No. Observations:                  216\n",
      "Model:                 ARIMA(4, 2, 0)   Log Likelihood                -264.456\n",
      "Method:                       css-mle   S.D. of innovations              0.821\n",
      "Date:                Wed, 27 Jan 2021   AIC                            540.912\n",
      "Time:                        15:49:19   BIC                            561.164\n",
      "Sample:                             2   HQIC                           549.094\n",
      "                                                                              \n",
      "===========================================================================================\n",
      "                              coef    std err          z      P>|z|      [0.025      0.975]\n",
      "-------------------------------------------------------------------------------------------\n",
      "const                      -0.0015      0.017     -0.088      0.930      -0.036       0.033\n",
      "ar.L1.D2.co2_per_capita    -0.9221      0.067    -13.798      0.000      -1.053      -0.791\n",
      "ar.L2.D2.co2_per_capita    -0.8051      0.089     -9.060      0.000      -0.979      -0.631\n",
      "ar.L3.D2.co2_per_capita    -0.3238      0.089     -3.648      0.000      -0.498      -0.150\n",
      "ar.L4.D2.co2_per_capita    -0.1814      0.066     -2.732      0.006      -0.312      -0.051\n",
      "                                    Roots                                    \n",
      "=============================================================================\n",
      "                  Real          Imaginary           Modulus         Frequency\n",
      "-----------------------------------------------------------------------------\n",
      "AR.1           -0.9754           -1.0177j            1.4097           -0.3716\n",
      "AR.2           -0.9754           +1.0177j            1.4097            0.3716\n",
      "AR.3            0.0827           -1.6636j            1.6657           -0.2421\n",
      "AR.4            0.0827           +1.6636j            1.6657            0.2421\n",
      "-----------------------------------------------------------------------------\n"
     ]
    }
   ],
   "source": [
    "#fit model\n",
    "mod420 = ARIMA(df_USA[:-1], order=(4,2,0)) # p,d,q\n",
    "mod420_fit = mod420.fit(disp=0)\n",
    "print(mod420_fit.summary())\n",
    "##NOTE: Check out coef and p-value - "
   ]
  },
  {
   "cell_type": "code",
   "execution_count": 61,
   "metadata": {
    "ExecuteTime": {
     "end_time": "2021-01-27T20:27:14.806721Z",
     "start_time": "2021-01-27T20:27:14.190392Z"
    },
    "collapsed": true
   },
   "outputs": [
    {
     "name": "stdout",
     "output_type": "stream",
     "text": [
      "                             ARIMA Model Results                              \n",
      "==============================================================================\n",
      "Dep. Variable:      D2.co2_per_capita   No. Observations:                  216\n",
      "Model:                 ARIMA(5, 2, 0)   Log Likelihood                -260.117\n",
      "Method:                       css-mle   S.D. of innovations              0.804\n",
      "Date:                Wed, 27 Jan 2021   AIC                            534.233\n",
      "Time:                        15:27:14   BIC                            557.860\n",
      "Sample:                             2   HQIC                           543.778\n",
      "                                                                              \n",
      "===========================================================================================\n",
      "                              coef    std err          z      P>|z|      [0.025      0.975]\n",
      "-------------------------------------------------------------------------------------------\n",
      "const                      -0.0014      0.014     -0.102      0.919      -0.029       0.026\n",
      "ar.L1.D2.co2_per_capita    -0.9588      0.067    -14.395      0.000      -1.089      -0.828\n",
      "ar.L2.D2.co2_per_capita    -0.8700      0.090     -9.689      0.000      -1.046      -0.694\n",
      "ar.L3.D2.co2_per_capita    -0.4844      0.102     -4.733      0.000      -0.685      -0.284\n",
      "ar.L4.D2.co2_per_capita    -0.3643      0.089     -4.075      0.000      -0.540      -0.189\n",
      "ar.L5.D2.co2_per_capita    -0.1968      0.066     -2.979      0.003      -0.326      -0.067\n",
      "                                    Roots                                    \n",
      "=============================================================================\n",
      "                  Real          Imaginary           Modulus         Frequency\n",
      "-----------------------------------------------------------------------------\n",
      "AR.1            0.5576           -1.3200j            1.4330           -0.1864\n",
      "AR.2            0.5576           +1.3200j            1.4330            0.1864\n",
      "AR.3           -0.6765           -1.0373j            1.2384           -0.3420\n",
      "AR.4           -0.6765           +1.0373j            1.2384            0.3420\n",
      "AR.5           -1.6136           -0.0000j            1.6136           -0.5000\n",
      "-----------------------------------------------------------------------------\n"
     ]
    }
   ],
   "source": [
    "#fit model\n",
    "mod520 = ARIMA(df_USA[:-1], order=(5,2,0)) # p,d,q\n",
    "mod520_fit = mod520.fit(disp=0)\n",
    "print(mod520_fit.summary())\n",
    "##NOTE: Check out coef and p-value - "
   ]
  },
  {
   "cell_type": "markdown",
   "metadata": {},
   "source": [
    "# Train-Test Split"
   ]
  },
  {
   "cell_type": "code",
   "execution_count": 116,
   "metadata": {
    "ExecuteTime": {
     "end_time": "2021-01-27T21:12:15.436985Z",
     "start_time": "2021-01-27T21:12:15.426299Z"
    }
   },
   "outputs": [],
   "source": [
    "#Split 90% of data into train\n",
    "\n",
    "train = df_USA.loc[:1996]\n",
    "test = df_USA.loc[1997:]\n",
    "\n",
    "X_train, X_test = train.index , test.index\n",
    "y_train, y_test = train['co2_per_capita'] , test['co2_per_capita']\n"
   ]
  },
  {
   "cell_type": "code",
   "execution_count": 163,
   "metadata": {
    "ExecuteTime": {
     "end_time": "2021-01-27T22:53:27.591073Z",
     "start_time": "2021-01-27T22:53:27.542242Z"
    },
    "scrolled": true
   },
   "outputs": [
    {
     "data": {
      "text/plain": [
       "194    0.087150\n",
       "195    0.165102\n",
       "196   -0.183526\n",
       "197    0.140610\n",
       "198   -0.106222\n",
       "199    0.081742\n",
       "200   -0.061394\n",
       "201    0.047606\n",
       "202   -0.035398\n",
       "203    0.027810\n",
       "204   -0.020324\n",
       "205    0.016330\n",
       "206   -0.011582\n",
       "207    0.009673\n",
       "208   -0.006513\n",
       "209    0.005813\n",
       "210   -0.003573\n",
       "211    0.003575\n",
       "212   -0.001868\n",
       "213    0.002276\n",
       "214   -0.000880\n",
       "215    0.001524\n",
       "216   -0.000307\n",
       "217    0.001087\n",
       "dtype: float64"
      ]
     },
     "execution_count": 163,
     "metadata": {},
     "output_type": "execute_result"
    }
   ],
   "source": [
    "pred_123"
   ]
  },
  {
   "cell_type": "code",
   "execution_count": 161,
   "metadata": {
    "ExecuteTime": {
     "end_time": "2021-01-27T22:49:55.668545Z",
     "start_time": "2021-01-27T22:49:55.643722Z"
    },
    "collapsed": true
   },
   "outputs": [
    {
     "data": {
      "text/plain": [
       "1997   NaN\n",
       "1998   NaN\n",
       "1999   NaN\n",
       "2000   NaN\n",
       "2001   NaN\n",
       "2002   NaN\n",
       "2003   NaN\n",
       "2004   NaN\n",
       "2005   NaN\n",
       "2006   NaN\n",
       "2007   NaN\n",
       "2008   NaN\n",
       "2009   NaN\n",
       "2010   NaN\n",
       "2011   NaN\n",
       "2012   NaN\n",
       "2013   NaN\n",
       "2014   NaN\n",
       "2015   NaN\n",
       "2016   NaN\n",
       "2017   NaN\n",
       "dtype: float64"
      ]
     },
     "execution_count": 161,
     "metadata": {},
     "output_type": "execute_result"
    }
   ],
   "source": [
    "pred.reindex(range(1997,2018))"
   ]
  },
  {
   "cell_type": "code",
   "execution_count": 138,
   "metadata": {
    "ExecuteTime": {
     "end_time": "2021-01-27T22:08:10.670426Z",
     "start_time": "2021-01-27T22:08:10.648560Z"
    }
   },
   "outputs": [
    {
     "data": {
      "text/plain": [
       "year\n",
       "1997    20.985\n",
       "1998    20.895\n",
       "1999    20.928\n",
       "2000    21.289\n",
       "2001    20.730\n",
       "2002    20.685\n",
       "2003    20.672\n",
       "2004    20.884\n",
       "2005    20.782\n",
       "2006    20.320\n",
       "2007    20.385\n",
       "2008    19.534\n",
       "2009    17.935\n",
       "2010    18.446\n",
       "2011    17.885\n",
       "2012    17.105\n",
       "2013    17.455\n",
       "2014    17.485\n",
       "2015    16.900\n",
       "2016    16.428\n",
       "2017    16.213\n",
       "2018    16.559\n",
       "Name: co2_per_capita, dtype: float64"
      ]
     },
     "execution_count": 138,
     "metadata": {},
     "output_type": "execute_result"
    }
   ],
   "source": [
    "y_test"
   ]
  },
  {
   "cell_type": "code",
   "execution_count": 137,
   "metadata": {
    "ExecuteTime": {
     "end_time": "2021-01-27T22:07:56.794499Z",
     "start_time": "2021-01-27T22:07:56.713455Z"
    }
   },
   "outputs": [
    {
     "data": {
      "text/plain": [
       "year\n",
       "1800     0.037\n",
       "1801     0.039\n",
       "1802     0.041\n",
       "1803     0.041\n",
       "1804     0.045\n",
       "         ...  \n",
       "1992    20.136\n",
       "1993    20.350\n",
       "1994    20.497\n",
       "1995    20.503\n",
       "1996    20.963\n",
       "Name: co2_per_capita, Length: 197, dtype: float64"
      ]
     },
     "execution_count": 137,
     "metadata": {},
     "output_type": "execute_result"
    }
   ],
   "source": [
    "y_train"
   ]
  },
  {
   "cell_type": "code",
   "execution_count": 117,
   "metadata": {
    "ExecuteTime": {
     "end_time": "2021-01-27T21:12:15.987105Z",
     "start_time": "2021-01-27T21:12:15.981631Z"
    }
   },
   "outputs": [],
   "source": [
    "# pred = mod123_fit.predict(start=start, end=end, dynamic=False)"
   ]
  },
  {
   "cell_type": "code",
   "execution_count": 132,
   "metadata": {
    "ExecuteTime": {
     "end_time": "2021-01-27T21:21:17.643820Z",
     "start_time": "2021-01-27T21:21:17.608007Z"
    },
    "scrolled": true
   },
   "outputs": [],
   "source": [
    "start = len(y_train) -1\n",
    "end = len(y_train) + len(y_test)\n",
    "\n",
    "pred_123 = mod123_fit.predict(start=start, end=end, dynamic=False)\n"
   ]
  },
  {
   "cell_type": "markdown",
   "metadata": {},
   "source": [
    "**AIC and RMSE**"
   ]
  },
  {
   "cell_type": "code",
   "execution_count": 136,
   "metadata": {
    "ExecuteTime": {
     "end_time": "2021-01-27T21:23:23.180747Z",
     "start_time": "2021-01-27T21:23:23.160833Z"
    }
   },
   "outputs": [
    {
     "name": "stdout",
     "output_type": "stream",
     "text": [
      "468.08855671052993\n",
      "540.9121676189329\n",
      "534.2330383660093\n"
     ]
    }
   ],
   "source": [
    "AIC_123 = mod123_fit.aic\n",
    "AIC_420 = mod420_fit.aic\n",
    "AIC_520 = mod520_fit.aic\n",
    "\n",
    "print(AIC_123)\n",
    "print(AIC_420)\n",
    "print(AIC_520)"
   ]
  },
  {
   "cell_type": "code",
   "execution_count": 123,
   "metadata": {
    "ExecuteTime": {
     "end_time": "2021-01-27T21:13:02.505156Z",
     "start_time": "2021-01-27T21:13:02.495415Z"
    },
    "scrolled": false
   },
   "outputs": [
    {
     "name": "stdout",
     "output_type": "stream",
     "text": [
      "197\n",
      "22\n",
      "24\n"
     ]
    }
   ],
   "source": [
    "print(len(y_train))\n",
    "print(len(y_test))\n",
    "print(len(pred))"
   ]
  },
  {
   "cell_type": "code",
   "execution_count": 121,
   "metadata": {
    "ExecuteTime": {
     "end_time": "2021-01-27T21:12:31.584294Z",
     "start_time": "2021-01-27T21:12:31.566522Z"
    },
    "scrolled": true
   },
   "outputs": [
    {
     "data": {
      "text/plain": [
       "nan"
      ]
     },
     "execution_count": 121,
     "metadata": {},
     "output_type": "execute_result"
    }
   ],
   "source": [
    "RMSE = np.sqrt(((pred-y_test)**2).mean())\n",
    "RMSE"
   ]
  },
  {
   "cell_type": "code",
   "execution_count": null,
   "metadata": {},
   "outputs": [],
   "source": []
  },
  {
   "cell_type": "code",
   "execution_count": null,
   "metadata": {},
   "outputs": [],
   "source": []
  },
  {
   "cell_type": "code",
   "execution_count": null,
   "metadata": {},
   "outputs": [],
   "source": []
  },
  {
   "cell_type": "markdown",
   "metadata": {},
   "source": [
    "**Exploring best model**"
   ]
  },
  {
   "cell_type": "code",
   "execution_count": 62,
   "metadata": {
    "ExecuteTime": {
     "end_time": "2021-01-27T20:27:33.855038Z",
     "start_time": "2021-01-27T20:27:33.285818Z"
    },
    "scrolled": false
   },
   "outputs": [
    {
     "data": {
      "image/png": "[encoded data removed]",
      "text/plain": [
       "<Figure size 432x288 with 1 Axes>"
      ]
     },
     "metadata": {
      "needs_background": "light"
     },
     "output_type": "display_data"
    }
   ],
   "source": [
    "# Visualize residuals/error\n",
    "residuals_123 = pd.DataFrame(mod123_fit.resid)\n",
    "residuals_123.plot()\n",
    "pyplot.show();\n"
   ]
  },
  {
   "cell_type": "code",
   "execution_count": 53,
   "metadata": {
    "ExecuteTime": {
     "end_time": "2021-01-27T04:04:24.555301Z",
     "start_time": "2021-01-27T04:04:23.981343Z"
    },
    "scrolled": true
   },
   "outputs": [
    {
     "data": {
      "image/png": "[encoded data removed]",
      "text/plain": [
       "<Figure size 432x288 with 1 Axes>"
      ]
     },
     "metadata": {
      "needs_background": "light"
     },
     "output_type": "display_data"
    }
   ],
   "source": [
    "# Check for linearity\n",
    "residuals = pd.DataFrame(model_fit.resid)\n",
    "residuals.plot(kind='kde')\n",
    "pyplot.show()"
   ]
  },
  {
   "cell_type": "code",
   "execution_count": 67,
   "metadata": {
    "ExecuteTime": {
     "end_time": "2021-01-27T04:04:25.193596Z",
     "start_time": "2021-01-27T04:04:24.560319Z"
    },
    "scrolled": false
   },
   "outputs": [
    {
     "data": {
      "image/png": "[encoded data removed]",
      "text/plain": [
       "<Figure size 432x288 with 1 Axes>"
      ]
     },
     "metadata": {
      "needs_background": "light"
     },
     "output_type": "display_data"
    }
   ],
   "source": [
    "# Visualize prediction\n",
    "mod123_fit.plot_predict();\n"
   ]
  },
  {
   "cell_type": "code",
   "execution_count": 60,
   "metadata": {
    "ExecuteTime": {
     "end_time": "2021-01-27T04:05:04.925819Z",
     "start_time": "2021-01-27T04:05:04.907604Z"
    }
   },
   "outputs": [
    {
     "data": {
      "text/plain": [
       "array([15.92231091])"
      ]
     },
     "execution_count": 60,
     "metadata": {},
     "output_type": "execute_result"
    }
   ],
   "source": [
    "model_fit.forecast()[0] # 0 indicates the very next value the model predicts??\n"
   ]
  },
  {
   "cell_type": "code",
   "execution_count": null,
   "metadata": {},
   "outputs": [],
   "source": []
  },
  {
   "cell_type": "code",
   "execution_count": null,
   "metadata": {},
   "outputs": [],
   "source": []
  },
  {
   "cell_type": "code",
   "execution_count": null,
   "metadata": {},
   "outputs": [],
   "source": []
  },
  {
   "cell_type": "code",
   "execution_count": null,
   "metadata": {},
   "outputs": [],
   "source": []
  },
  {
   "cell_type": "markdown",
   "metadata": {},
   "source": [
    "# Additional Notes"
   ]
  },
  {
   "cell_type": "code",
   "execution_count": 93,
   "metadata": {
    "ExecuteTime": {
     "end_time": "2021-01-27T20:56:35.518272Z",
     "start_time": "2021-01-27T20:56:35.499082Z"
    },
    "scrolled": true
   },
   "outputs": [
    {
     "data": {
      "text/plain": [
       "year\n",
       "1997      NaN\n",
       "1998   -0.090\n",
       "1999    0.033\n",
       "2000    0.361\n",
       "2001   -0.559\n",
       "2002   -0.045\n",
       "2003   -0.013\n",
       "2004    0.212\n",
       "2005   -0.102\n",
       "2006   -0.462\n",
       "2007    0.065\n",
       "2008   -0.851\n",
       "2009   -1.599\n",
       "2010    0.511\n",
       "2011   -0.561\n",
       "2012   -0.780\n",
       "2013    0.350\n",
       "2014    0.030\n",
       "2015   -0.585\n",
       "2016   -0.472\n",
       "2017   -0.215\n",
       "2018    0.346\n",
       "Name: co2_per_capita, dtype: float64"
      ]
     },
     "execution_count": 93,
     "metadata": {},
     "output_type": "execute_result"
    }
   ],
   "source": [
    "y_test.diff(1)"
   ]
  },
  {
   "cell_type": "code",
   "execution_count": null,
   "metadata": {},
   "outputs": [],
   "source": [
    "#choose top 50 countries by co2 emissions (not per capita)\n",
    "#time series based on co2 emissions (not per capita)\n",
    "#observe per capita data via visualizations"
   ]
  },
  {
   "cell_type": "markdown",
   "metadata": {},
   "source": [
    "**Tuesday**\n",
    "\n",
    "-Initial time series model (check for stationarity/trends, fix if not)--top 10 countries (not per capita)\n",
    "\n",
    "-Vizualizations for top 10 countries per capita\n",
    "\n",
    "**Wednesday**\n",
    "\n",
    "-Fix whatever needs fixing\n",
    "\n",
    "-Other EDA/visualizations\n",
    "\n",
    "-Tune final model\n",
    "\n",
    "**Thursday**\n",
    "\n",
    "-Tune final model (if not done by Wed)\n",
    "\n",
    "-Create Read Me, PPT presentation\n",
    "\n",
    "-Clean up code\n",
    "\n",
    "-Practice presentation\n",
    "\n",
    "**Stretch Goals**\n",
    "\n",
    "-Research peaks and valleys historically\n",
    "\n",
    "-Compare to world emissions\n"
   ]
  },
  {
   "cell_type": "code",
   "execution_count": null,
   "metadata": {},
   "outputs": [],
   "source": [
    "for country in top10_percapita:\n",
    "    "
   ]
  },
  {
   "cell_type": "code",
   "execution_count": null,
   "metadata": {},
   "outputs": [],
   "source": []
  }
 ],
 "metadata": {
  "kernelspec": {
   "display_name": "learn-env",
   "language": "python",
   "name": "learn-env"
  },
  "language_info": {
   "codemirror_mode": {
    "name": "ipython",
    "version": 3
   },
   "file_extension": ".py",
   "mimetype": "text/x-python",
   "name": "python",
   "nbconvert_exporter": "python",
   "pygments_lexer": "ipython3",
   "version": "3.6.9"
  },
  "toc": {
   "base_numbering": 1,
   "nav_menu": {},
   "number_sections": true,
   "sideBar": true,
   "skip_h1_title": false,
   "title_cell": "Table of Contents",
   "title_sidebar": "Contents",
   "toc_cell": false,
   "toc_position": {},
   "toc_section_display": true,
   "toc_window_display": false
  }
 },
 "nbformat": 4,
 "nbformat_minor": 4
}
