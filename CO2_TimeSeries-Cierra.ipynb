{
 "cells": [
  {
   "cell_type": "markdown",
   "metadata": {},
   "source": [
    "# Data Cleaning"
   ]
  },
  {
   "cell_type": "code",
   "execution_count": 1,
   "metadata": {
    "ExecuteTime": {
     "end_time": "2021-01-28T15:42:04.981023Z",
     "start_time": "2021-01-28T15:42:02.297433Z"
    }
   },
   "outputs": [],
   "source": [
    "import pandas as pd\n",
    "import numpy as np\n",
    "from matplotlib import pyplot\n",
    "\n",
    "import warnings\n",
    "warnings.filterwarnings('ignore')\n",
    "pd.set_option('display.max_columns', 100)"
   ]
  },
  {
   "cell_type": "code",
   "execution_count": 2,
   "metadata": {
    "ExecuteTime": {
     "end_time": "2021-01-28T15:42:05.555972Z",
     "start_time": "2021-01-28T15:42:05.035009Z"
    },
    "scrolled": false
   },
   "outputs": [
    {
     "name": "stdout",
     "output_type": "stream",
     "text": [
      "(24016, 38)\n"
     ]
    },
    {
     "data": {
      "text/html": [
       "<div>\n",
       "<style scoped>\n",
       "    .dataframe tbody tr th:only-of-type {\n",
       "        vertical-align: middle;\n",
       "    }\n",
       "\n",
       "    .dataframe tbody tr th {\n",
       "        vertical-align: top;\n",
       "    }\n",
       "\n",
       "    .dataframe thead th {\n",
       "        text-align: right;\n",
       "    }\n",
       "</style>\n",
       "<table border=\"1\" class=\"dataframe\">\n",
       "  <thead>\n",
       "    <tr style=\"text-align: right;\">\n",
       "      <th></th>\n",
       "      <th>iso_code</th>\n",
       "      <th>country</th>\n",
       "      <th>year</th>\n",
       "      <th>co2</th>\n",
       "      <th>co2_growth_prct</th>\n",
       "      <th>co2_growth_abs</th>\n",
       "      <th>consumption_co2</th>\n",
       "      <th>trade_co2</th>\n",
       "      <th>trade_co2_share</th>\n",
       "      <th>co2_per_capita</th>\n",
       "      <th>consumption_co2_per_capita</th>\n",
       "      <th>share_global_co2</th>\n",
       "      <th>cumulative_co2</th>\n",
       "      <th>share_global_cumulative_co2</th>\n",
       "      <th>co2_per_gdp</th>\n",
       "      <th>consumption_co2_per_gdp</th>\n",
       "      <th>co2_per_unit_energy</th>\n",
       "      <th>cement_co2</th>\n",
       "      <th>coal_co2</th>\n",
       "      <th>flaring_co2</th>\n",
       "      <th>gas_co2</th>\n",
       "      <th>oil_co2</th>\n",
       "      <th>cement_co2_per_capita</th>\n",
       "      <th>coal_co2_per_capita</th>\n",
       "      <th>flaring_co2_per_capita</th>\n",
       "      <th>gas_co2_per_capita</th>\n",
       "      <th>oil_co2_per_capita</th>\n",
       "      <th>total_ghg</th>\n",
       "      <th>ghg_per_capita</th>\n",
       "      <th>methane</th>\n",
       "      <th>methane_per_capita</th>\n",
       "      <th>nitrous_oxide</th>\n",
       "      <th>nitrous_oxide_per_capita</th>\n",
       "      <th>primary_energy_consumption</th>\n",
       "      <th>energy_per_capita</th>\n",
       "      <th>energy_per_gdp</th>\n",
       "      <th>population</th>\n",
       "      <th>gdp</th>\n",
       "    </tr>\n",
       "  </thead>\n",
       "  <tbody>\n",
       "    <tr>\n",
       "      <th>0</th>\n",
       "      <td>AFG</td>\n",
       "      <td>Afghanistan</td>\n",
       "      <td>1949</td>\n",
       "      <td>0.015</td>\n",
       "      <td>NaN</td>\n",
       "      <td>NaN</td>\n",
       "      <td>NaN</td>\n",
       "      <td>NaN</td>\n",
       "      <td>NaN</td>\n",
       "      <td>0.002</td>\n",
       "      <td>NaN</td>\n",
       "      <td>0.000</td>\n",
       "      <td>0.015</td>\n",
       "      <td>0.000</td>\n",
       "      <td>NaN</td>\n",
       "      <td>NaN</td>\n",
       "      <td>NaN</td>\n",
       "      <td>0.0</td>\n",
       "      <td>0.015</td>\n",
       "      <td>0.0</td>\n",
       "      <td>0.0</td>\n",
       "      <td>0.000</td>\n",
       "      <td>0.0</td>\n",
       "      <td>0.002</td>\n",
       "      <td>0.0</td>\n",
       "      <td>0.0</td>\n",
       "      <td>0.000</td>\n",
       "      <td>NaN</td>\n",
       "      <td>NaN</td>\n",
       "      <td>NaN</td>\n",
       "      <td>NaN</td>\n",
       "      <td>NaN</td>\n",
       "      <td>NaN</td>\n",
       "      <td>NaN</td>\n",
       "      <td>NaN</td>\n",
       "      <td>NaN</td>\n",
       "      <td>7663783.0</td>\n",
       "      <td>NaN</td>\n",
       "    </tr>\n",
       "    <tr>\n",
       "      <th>1</th>\n",
       "      <td>AFG</td>\n",
       "      <td>Afghanistan</td>\n",
       "      <td>1950</td>\n",
       "      <td>0.084</td>\n",
       "      <td>475.000</td>\n",
       "      <td>0.070</td>\n",
       "      <td>NaN</td>\n",
       "      <td>NaN</td>\n",
       "      <td>NaN</td>\n",
       "      <td>0.011</td>\n",
       "      <td>NaN</td>\n",
       "      <td>0.001</td>\n",
       "      <td>0.099</td>\n",
       "      <td>0.001</td>\n",
       "      <td>0.004</td>\n",
       "      <td>NaN</td>\n",
       "      <td>NaN</td>\n",
       "      <td>0.0</td>\n",
       "      <td>0.022</td>\n",
       "      <td>0.0</td>\n",
       "      <td>0.0</td>\n",
       "      <td>0.066</td>\n",
       "      <td>0.0</td>\n",
       "      <td>0.003</td>\n",
       "      <td>0.0</td>\n",
       "      <td>0.0</td>\n",
       "      <td>0.009</td>\n",
       "      <td>NaN</td>\n",
       "      <td>NaN</td>\n",
       "      <td>NaN</td>\n",
       "      <td>NaN</td>\n",
       "      <td>NaN</td>\n",
       "      <td>NaN</td>\n",
       "      <td>NaN</td>\n",
       "      <td>NaN</td>\n",
       "      <td>NaN</td>\n",
       "      <td>7752000.0</td>\n",
       "      <td>1.949480e+10</td>\n",
       "    </tr>\n",
       "    <tr>\n",
       "      <th>2</th>\n",
       "      <td>AFG</td>\n",
       "      <td>Afghanistan</td>\n",
       "      <td>1951</td>\n",
       "      <td>0.092</td>\n",
       "      <td>8.696</td>\n",
       "      <td>0.007</td>\n",
       "      <td>NaN</td>\n",
       "      <td>NaN</td>\n",
       "      <td>NaN</td>\n",
       "      <td>0.012</td>\n",
       "      <td>NaN</td>\n",
       "      <td>0.001</td>\n",
       "      <td>0.191</td>\n",
       "      <td>0.001</td>\n",
       "      <td>0.005</td>\n",
       "      <td>NaN</td>\n",
       "      <td>NaN</td>\n",
       "      <td>0.0</td>\n",
       "      <td>0.026</td>\n",
       "      <td>0.0</td>\n",
       "      <td>0.0</td>\n",
       "      <td>0.066</td>\n",
       "      <td>0.0</td>\n",
       "      <td>0.003</td>\n",
       "      <td>0.0</td>\n",
       "      <td>0.0</td>\n",
       "      <td>0.008</td>\n",
       "      <td>NaN</td>\n",
       "      <td>NaN</td>\n",
       "      <td>NaN</td>\n",
       "      <td>NaN</td>\n",
       "      <td>NaN</td>\n",
       "      <td>NaN</td>\n",
       "      <td>NaN</td>\n",
       "      <td>NaN</td>\n",
       "      <td>NaN</td>\n",
       "      <td>7840000.0</td>\n",
       "      <td>2.006385e+10</td>\n",
       "    </tr>\n",
       "    <tr>\n",
       "      <th>3</th>\n",
       "      <td>AFG</td>\n",
       "      <td>Afghanistan</td>\n",
       "      <td>1952</td>\n",
       "      <td>0.092</td>\n",
       "      <td>0.000</td>\n",
       "      <td>0.000</td>\n",
       "      <td>NaN</td>\n",
       "      <td>NaN</td>\n",
       "      <td>NaN</td>\n",
       "      <td>0.012</td>\n",
       "      <td>NaN</td>\n",
       "      <td>0.001</td>\n",
       "      <td>0.282</td>\n",
       "      <td>0.001</td>\n",
       "      <td>0.004</td>\n",
       "      <td>NaN</td>\n",
       "      <td>NaN</td>\n",
       "      <td>0.0</td>\n",
       "      <td>0.033</td>\n",
       "      <td>0.0</td>\n",
       "      <td>0.0</td>\n",
       "      <td>0.062</td>\n",
       "      <td>0.0</td>\n",
       "      <td>0.004</td>\n",
       "      <td>0.0</td>\n",
       "      <td>0.0</td>\n",
       "      <td>0.008</td>\n",
       "      <td>NaN</td>\n",
       "      <td>NaN</td>\n",
       "      <td>NaN</td>\n",
       "      <td>NaN</td>\n",
       "      <td>NaN</td>\n",
       "      <td>NaN</td>\n",
       "      <td>NaN</td>\n",
       "      <td>NaN</td>\n",
       "      <td>NaN</td>\n",
       "      <td>7936000.0</td>\n",
       "      <td>2.074235e+10</td>\n",
       "    </tr>\n",
       "    <tr>\n",
       "      <th>4</th>\n",
       "      <td>AFG</td>\n",
       "      <td>Afghanistan</td>\n",
       "      <td>1953</td>\n",
       "      <td>0.106</td>\n",
       "      <td>16.000</td>\n",
       "      <td>0.015</td>\n",
       "      <td>NaN</td>\n",
       "      <td>NaN</td>\n",
       "      <td>NaN</td>\n",
       "      <td>0.013</td>\n",
       "      <td>NaN</td>\n",
       "      <td>0.002</td>\n",
       "      <td>0.388</td>\n",
       "      <td>0.001</td>\n",
       "      <td>0.005</td>\n",
       "      <td>NaN</td>\n",
       "      <td>NaN</td>\n",
       "      <td>0.0</td>\n",
       "      <td>0.037</td>\n",
       "      <td>0.0</td>\n",
       "      <td>0.0</td>\n",
       "      <td>0.066</td>\n",
       "      <td>0.0</td>\n",
       "      <td>0.005</td>\n",
       "      <td>0.0</td>\n",
       "      <td>0.0</td>\n",
       "      <td>0.008</td>\n",
       "      <td>NaN</td>\n",
       "      <td>NaN</td>\n",
       "      <td>NaN</td>\n",
       "      <td>NaN</td>\n",
       "      <td>NaN</td>\n",
       "      <td>NaN</td>\n",
       "      <td>NaN</td>\n",
       "      <td>NaN</td>\n",
       "      <td>NaN</td>\n",
       "      <td>8040000.0</td>\n",
       "      <td>2.201546e+10</td>\n",
       "    </tr>\n",
       "  </tbody>\n",
       "</table>\n",
       "</div>"
      ],
      "text/plain": [
       "  iso_code      country  year    co2  co2_growth_prct  co2_growth_abs  \\\n",
       "0      AFG  Afghanistan  1949  0.015              NaN             NaN   \n",
       "1      AFG  Afghanistan  1950  0.084          475.000           0.070   \n",
       "2      AFG  Afghanistan  1951  0.092            8.696           0.007   \n",
       "3      AFG  Afghanistan  1952  0.092            0.000           0.000   \n",
       "4      AFG  Afghanistan  1953  0.106           16.000           0.015   \n",
       "\n",
       "   consumption_co2  trade_co2  trade_co2_share  co2_per_capita  \\\n",
       "0              NaN        NaN              NaN           0.002   \n",
       "1              NaN        NaN              NaN           0.011   \n",
       "2              NaN        NaN              NaN           0.012   \n",
       "3              NaN        NaN              NaN           0.012   \n",
       "4              NaN        NaN              NaN           0.013   \n",
       "\n",
       "   consumption_co2_per_capita  share_global_co2  cumulative_co2  \\\n",
       "0                         NaN             0.000           0.015   \n",
       "1                         NaN             0.001           0.099   \n",
       "2                         NaN             0.001           0.191   \n",
       "3                         NaN             0.001           0.282   \n",
       "4                         NaN             0.002           0.388   \n",
       "\n",
       "   share_global_cumulative_co2  co2_per_gdp  consumption_co2_per_gdp  \\\n",
       "0                        0.000          NaN                      NaN   \n",
       "1                        0.001        0.004                      NaN   \n",
       "2                        0.001        0.005                      NaN   \n",
       "3                        0.001        0.004                      NaN   \n",
       "4                        0.001        0.005                      NaN   \n",
       "\n",
       "   co2_per_unit_energy  cement_co2  coal_co2  flaring_co2  gas_co2  oil_co2  \\\n",
       "0                  NaN         0.0     0.015          0.0      0.0    0.000   \n",
       "1                  NaN         0.0     0.022          0.0      0.0    0.066   \n",
       "2                  NaN         0.0     0.026          0.0      0.0    0.066   \n",
       "3                  NaN         0.0     0.033          0.0      0.0    0.062   \n",
       "4                  NaN         0.0     0.037          0.0      0.0    0.066   \n",
       "\n",
       "   cement_co2_per_capita  coal_co2_per_capita  flaring_co2_per_capita  \\\n",
       "0                    0.0                0.002                     0.0   \n",
       "1                    0.0                0.003                     0.0   \n",
       "2                    0.0                0.003                     0.0   \n",
       "3                    0.0                0.004                     0.0   \n",
       "4                    0.0                0.005                     0.0   \n",
       "\n",
       "   gas_co2_per_capita  oil_co2_per_capita  total_ghg  ghg_per_capita  methane  \\\n",
       "0                 0.0               0.000        NaN             NaN      NaN   \n",
       "1                 0.0               0.009        NaN             NaN      NaN   \n",
       "2                 0.0               0.008        NaN             NaN      NaN   \n",
       "3                 0.0               0.008        NaN             NaN      NaN   \n",
       "4                 0.0               0.008        NaN             NaN      NaN   \n",
       "\n",
       "   methane_per_capita  nitrous_oxide  nitrous_oxide_per_capita  \\\n",
       "0                 NaN            NaN                       NaN   \n",
       "1                 NaN            NaN                       NaN   \n",
       "2                 NaN            NaN                       NaN   \n",
       "3                 NaN            NaN                       NaN   \n",
       "4                 NaN            NaN                       NaN   \n",
       "\n",
       "   primary_energy_consumption  energy_per_capita  energy_per_gdp  population  \\\n",
       "0                         NaN                NaN             NaN   7663783.0   \n",
       "1                         NaN                NaN             NaN   7752000.0   \n",
       "2                         NaN                NaN             NaN   7840000.0   \n",
       "3                         NaN                NaN             NaN   7936000.0   \n",
       "4                         NaN                NaN             NaN   8040000.0   \n",
       "\n",
       "            gdp  \n",
       "0           NaN  \n",
       "1  1.949480e+10  \n",
       "2  2.006385e+10  \n",
       "3  2.074235e+10  \n",
       "4  2.201546e+10  "
      ]
     },
     "execution_count": 2,
     "metadata": {},
     "output_type": "execute_result"
    }
   ],
   "source": [
    "data = pd.read_csv('data/owid-co2-data.csv')\n",
    "df = data\n",
    "print(df.shape)\n",
    "df.head()"
   ]
  },
  {
   "cell_type": "code",
   "execution_count": 3,
   "metadata": {
    "ExecuteTime": {
     "end_time": "2021-01-28T15:42:05.596827Z",
     "start_time": "2021-01-28T15:42:05.575044Z"
    }
   },
   "outputs": [],
   "source": [
    "#Only include data from 1950 and later\n",
    "df = df[df['year']>=1950]"
   ]
  },
  {
   "cell_type": "code",
   "execution_count": 4,
   "metadata": {
    "ExecuteTime": {
     "end_time": "2021-01-28T15:42:05.630086Z",
     "start_time": "2021-01-28T15:42:05.603034Z"
    }
   },
   "outputs": [],
   "source": [
    "#Drop columns with >8K null values (50% of data)\n",
    "df.dropna(axis=1,thresh=8000, inplace=True)\n"
   ]
  },
  {
   "cell_type": "code",
   "execution_count": 5,
   "metadata": {
    "ExecuteTime": {
     "end_time": "2021-01-28T15:42:05.674441Z",
     "start_time": "2021-01-28T15:42:05.641333Z"
    },
    "scrolled": true
   },
   "outputs": [
    {
     "data": {
      "text/plain": [
       "(14404, 19)"
      ]
     },
     "execution_count": 5,
     "metadata": {},
     "output_type": "execute_result"
    }
   ],
   "source": [
    "#Drop continents, identified by lacking an ISO code\n",
    "df.dropna(axis=0,subset=['iso_code'],inplace=True)\n",
    "\n",
    "#Drop \"World\" entries\n",
    "df = df[df.country != 'World']\n",
    "df.shape"
   ]
  },
  {
   "cell_type": "markdown",
   "metadata": {},
   "source": [
    "**plot dotted line after Indonesia**"
   ]
  },
  {
   "cell_type": "code",
   "execution_count": 6,
   "metadata": {
    "ExecuteTime": {
     "end_time": "2021-01-28T15:42:07.348914Z",
     "start_time": "2021-01-28T15:42:05.684135Z"
    },
    "scrolled": true
   },
   "outputs": [
    {
     "data": {
      "image/png": "[encoded data removed]",
      "text/plain": [
       "<Figure size 1080x720 with 1 Axes>"
      ]
     },
     "metadata": {
      "needs_background": "light"
     },
     "output_type": "display_data"
    }
   ],
   "source": [
    "#Visualize top 50 total CO2 emissions by country (note: fix size to make more legible)\n",
    "import matplotlib.pyplot as plt\n",
    "fig, ax = plt.subplots(figsize=(15,10))\n",
    "plt.bar(x = df.groupby(['country'])['co2'].mean().sort_values(ascending=False).index[:50],\n",
    "        height = df.groupby(['country'])['co2'].mean().sort_values(ascending=False)[:50],\n",
    "       color = 'green')\n",
    "plt.xlabel('Country')\n",
    "plt.ylabel('Mean Total CO2 Emission Per Year in Tonnes')\n",
    "for tick in ax.xaxis.get_major_ticks():\n",
    "    tick.label.set_fontsize(14)\n",
    "    # specify integer or one of preset strings, e.g.\n",
    "    #tick.label.set_fontsize('x-small')\n",
    "    tick.label.set_rotation('vertical')"
   ]
  },
  {
   "cell_type": "code",
   "execution_count": 7,
   "metadata": {
    "ExecuteTime": {
     "end_time": "2021-01-28T15:42:07.381698Z",
     "start_time": "2021-01-28T15:42:07.356686Z"
    }
   },
   "outputs": [
    {
     "data": {
      "text/plain": [
       "country\n",
       "United States           4572.443145\n",
       "China                   3020.410884\n",
       "Russia                  1678.672633\n",
       "Germany                  907.555435\n",
       "Japan                    862.353855\n",
       "India                    711.136391\n",
       "United Kingdom           562.317333\n",
       "Ukraine                  431.599350\n",
       "Canada                   408.196348\n",
       "France                   380.734435\n",
       "Italy                    323.503725\n",
       "Poland                   315.624159\n",
       "South Africa             273.030304\n",
       "Mexico                   263.238609\n",
       "Australia                239.099464\n",
       "South Korea              239.019536\n",
       "Iran                     238.637420\n",
       "Brazil                   208.254638\n",
       "Saudi Arabia             207.846739\n",
       "Spain                    191.898884\n",
       "Kazakhstan               190.311700\n",
       "Indonesia                178.857464\n",
       "Turkey                   143.218507\n",
       "Czechia                  140.431083\n",
       "Netherlands              139.889377\n",
       "Taiwan                   117.495261\n",
       "Belgium                  111.949609\n",
       "Romania                  111.899522\n",
       "Argentina                110.503072\n",
       "Venezuela                107.285000\n",
       "Thailand                  99.347348\n",
       "Uzbekistan                97.512167\n",
       "Egypt                     84.286812\n",
       "Malaysia                  78.441812\n",
       "Belarus                   76.350683\n",
       "United Arab Emirates      73.971900\n",
       "North Korea               70.308319\n",
       "Pakistan                  68.855464\n",
       "Algeria                   61.598406\n",
       "Hungary                   60.365913\n",
       "Iraq                      58.821565\n",
       "Sweden                    57.879913\n",
       "Greece                    56.508391\n",
       "Austria                   54.045710\n",
       "Nigeria                   52.778942\n",
       "Bulgaria                  52.674464\n",
       "Denmark                   48.579304\n",
       "Vietnam                   46.944522\n",
       "Colombia                  46.071275\n",
       "Slovakia                  46.017150\n",
       "Name: co2, dtype: float64"
      ]
     },
     "execution_count": 7,
     "metadata": {},
     "output_type": "execute_result"
    }
   ],
   "source": [
    "#Look at top 50 total CO2 emission values by country to determine cut-off point\n",
    "df.groupby(['country'])['co2'].mean().sort_values(ascending=False)[:50]"
   ]
  },
  {
   "cell_type": "code",
   "execution_count": 8,
   "metadata": {
    "ExecuteTime": {
     "end_time": "2021-01-28T15:42:07.420719Z",
     "start_time": "2021-01-28T15:42:07.391133Z"
    }
   },
   "outputs": [
    {
     "name": "stdout",
     "output_type": "stream",
     "text": [
      "['United States', 'Canada', 'Australia', 'Kazakhstan', 'Russia', 'Germany', 'Saudi Arabia', 'United Kingdom', 'Poland', 'Ukraine']\n"
     ]
    }
   ],
   "source": [
    "#Create df of top 10 CO2 emmiters per capita, of the top 22 total CO2 emmiters\n",
    "#Cut off at 22 after Indonesia above due to local dropoff point\n",
    "top22_co2 = list(df.groupby(['country'])['co2'].mean().sort_values(ascending=False)[:22].index)\n",
    "df_top22_co2 = df.loc[df['country'].isin(top22_co2)]\n",
    "top10_percapita = list(df_top22_co2.groupby(['country'])['co2_per_capita'].mean().sort_values(ascending=False)[:10].index)\n",
    "print(top10_percapita)\n"
   ]
  },
  {
   "cell_type": "code",
   "execution_count": 9,
   "metadata": {
    "ExecuteTime": {
     "end_time": "2021-01-28T15:42:08.535382Z",
     "start_time": "2021-01-28T15:42:07.432460Z"
    }
   },
   "outputs": [
    {
     "data": {
      "text/plain": [
       "Text(0, 0.5, 'Mean CO2 Emission Per Year Per Capita in Tonnes')"
      ]
     },
     "execution_count": 9,
     "metadata": {},
     "output_type": "execute_result"
    },
    {
     "data": {
      "image/png": "[encoded data removed]",
      "text/plain": [
       "<Figure size 1080x432 with 1 Axes>"
      ]
     },
     "metadata": {
      "needs_background": "light"
     },
     "output_type": "display_data"
    }
   ],
   "source": [
    "df_top10 = df.loc[df['country'].isin(top10_percapita)]\n",
    "fig, ax = plt.subplots(figsize=(15,6))\n",
    "plt.bar(x = df_top10.groupby(['country'])['co2_per_capita'].mean().sort_values(ascending=False).index,\n",
    "        height = df_top10.groupby(['country'])['co2_per_capita'].mean().sort_values(ascending=False),\n",
    "       color = 'green')\n",
    "plt.xlabel('Country')\n",
    "plt.ylabel('Mean CO2 Emission Per Year Per Capita in Tonnes')"
   ]
  },
  {
   "cell_type": "markdown",
   "metadata": {},
   "source": [
    "# Time Series Model for USA"
   ]
  },
  {
   "cell_type": "markdown",
   "metadata": {},
   "source": [
    "**EDA for USA**"
   ]
  },
  {
   "cell_type": "code",
   "execution_count": 10,
   "metadata": {
    "ExecuteTime": {
     "end_time": "2021-01-28T15:42:08.572645Z",
     "start_time": "2021-01-28T15:42:08.541575Z"
    }
   },
   "outputs": [
    {
     "name": "stdout",
     "output_type": "stream",
     "text": [
      "(219, 2)\n"
     ]
    }
   ],
   "source": [
    "#Reload original df to get pre-1950 USA data\n",
    "df_USA = data\n",
    "\n",
    "#Only include USA co2_per_capita data post-1800 (lacking data before this date)\n",
    "df_USA = df_USA[df_USA['year'] >= 1800]\n",
    "df_USA = df_USA[df_USA['country'] == 'United States']\n",
    "df_USA = df_USA[['year','co2_per_capita']]\n",
    "\n",
    "print(df_USA.shape)"
   ]
  },
  {
   "cell_type": "code",
   "execution_count": 60,
   "metadata": {
    "ExecuteTime": {
     "end_time": "2021-01-28T16:01:38.613893Z",
     "start_time": "2021-01-28T16:01:38.503016Z"
    }
   },
   "outputs": [
    {
     "ename": "KeyError",
     "evalue": "'year'",
     "output_type": "error",
     "traceback": [
      "\u001b[0;31m--------------------\u001b[0m",
      "\u001b[0;31mKeyError\u001b[0mTraceback (most recent call last)",
      "\u001b[0;32m/Users/candaur/opt/anaconda3/envs/learn-env/lib/python3.6/site-packages/pandas/core/indexes/base.py\u001b[0m in \u001b[0;36mget_loc\u001b[0;34m(self, key, method, tolerance)\u001b[0m\n\u001b[1;32m   2896\u001b[0m             \u001b[0;32mtry\u001b[0m\u001b[0;34m:\u001b[0m\u001b[0;34m\u001b[0m\u001b[0;34m\u001b[0m\u001b[0m\n\u001b[0;32m-> 2897\u001b[0;31m                 \u001b[0;32mreturn\u001b[0m \u001b[0mself\u001b[0m\u001b[0;34m.\u001b[0m\u001b[0m_engine\u001b[0m\u001b[0;34m.\u001b[0m\u001b[0mget_loc\u001b[0m\u001b[0;34m(\u001b[0m\u001b[0mkey\u001b[0m\u001b[0;34m)\u001b[0m\u001b[0;34m\u001b[0m\u001b[0;34m\u001b[0m\u001b[0m\n\u001b[0m\u001b[1;32m   2898\u001b[0m             \u001b[0;32mexcept\u001b[0m \u001b[0mKeyError\u001b[0m\u001b[0;34m:\u001b[0m\u001b[0;34m\u001b[0m\u001b[0;34m\u001b[0m\u001b[0m\n",
      "\u001b[0;32mpandas/_libs/index.pyx\u001b[0m in \u001b[0;36mpandas._libs.index.IndexEngine.get_loc\u001b[0;34m()\u001b[0m\n",
      "\u001b[0;32mpandas/_libs/index.pyx\u001b[0m in \u001b[0;36mpandas._libs.index.IndexEngine.get_loc\u001b[0;34m()\u001b[0m\n",
      "\u001b[0;32mpandas/_libs/hashtable_class_helper.pxi\u001b[0m in \u001b[0;36mpandas._libs.hashtable.PyObjectHashTable.get_item\u001b[0;34m()\u001b[0m\n",
      "\u001b[0;32mpandas/_libs/hashtable_class_helper.pxi\u001b[0m in \u001b[0;36mpandas._libs.hashtable.PyObjectHashTable.get_item\u001b[0;34m()\u001b[0m\n",
      "\u001b[0;31mKeyError\u001b[0m: 'year'",
      "\nDuring handling of the above exception, another exception occurred:\n",
      "\u001b[0;31mKeyError\u001b[0mTraceback (most recent call last)",
      "\u001b[0;32m<ipython-input-60-94fa83880565>\u001b[0m in \u001b[0;36m<module>\u001b[0;34m()\u001b[0m\n\u001b[0;32m----> 1\u001b[0;31m \u001b[0mdf_USA\u001b[0m\u001b[0;34m[\u001b[0m\u001b[0;34m'year'\u001b[0m\u001b[0;34m]\u001b[0m \u001b[0;34m=\u001b[0m \u001b[0mpd\u001b[0m\u001b[0;34m.\u001b[0m\u001b[0mto_datetime\u001b[0m\u001b[0;34m(\u001b[0m\u001b[0mdf_USA\u001b[0m\u001b[0;34m[\u001b[0m\u001b[0;34m'year'\u001b[0m\u001b[0;34m]\u001b[0m\u001b[0;34m,\u001b[0m\u001b[0mformat\u001b[0m\u001b[0;34m=\u001b[0m\u001b[0;34m'%Y'\u001b[0m\u001b[0;34m)\u001b[0m\u001b[0;34m\u001b[0m\u001b[0;34m\u001b[0m\u001b[0m\n\u001b[0m\u001b[1;32m      2\u001b[0m \u001b[0mdf_USA\u001b[0m\u001b[0;34m.\u001b[0m\u001b[0mset_index\u001b[0m\u001b[0;34m(\u001b[0m\u001b[0;34m'year'\u001b[0m\u001b[0;34m,\u001b[0m \u001b[0minplace\u001b[0m\u001b[0;34m=\u001b[0m\u001b[0;32mTrue\u001b[0m\u001b[0;34m)\u001b[0m\u001b[0;34m\u001b[0m\u001b[0;34m\u001b[0m\u001b[0m\n\u001b[1;32m      3\u001b[0m \u001b[0;31m## Sanity Check\u001b[0m\u001b[0;34m\u001b[0m\u001b[0;34m\u001b[0m\u001b[0;34m\u001b[0m\u001b[0m\n\u001b[1;32m      4\u001b[0m \u001b[0;31m# df_USA.head()\u001b[0m\u001b[0;34m\u001b[0m\u001b[0;34m\u001b[0m\u001b[0;34m\u001b[0m\u001b[0m\n",
      "\u001b[0;32m/Users/candaur/opt/anaconda3/envs/learn-env/lib/python3.6/site-packages/pandas/core/frame.py\u001b[0m in \u001b[0;36m__getitem__\u001b[0;34m(self, key)\u001b[0m\n\u001b[1;32m   2993\u001b[0m             \u001b[0;32mif\u001b[0m \u001b[0mself\u001b[0m\u001b[0;34m.\u001b[0m\u001b[0mcolumns\u001b[0m\u001b[0;34m.\u001b[0m\u001b[0mnlevels\u001b[0m \u001b[0;34m>\u001b[0m \u001b[0;36m1\u001b[0m\u001b[0;34m:\u001b[0m\u001b[0;34m\u001b[0m\u001b[0;34m\u001b[0m\u001b[0m\n\u001b[1;32m   2994\u001b[0m                 \u001b[0;32mreturn\u001b[0m \u001b[0mself\u001b[0m\u001b[0;34m.\u001b[0m\u001b[0m_getitem_multilevel\u001b[0m\u001b[0;34m(\u001b[0m\u001b[0mkey\u001b[0m\u001b[0;34m)\u001b[0m\u001b[0;34m\u001b[0m\u001b[0;34m\u001b[0m\u001b[0m\n\u001b[0;32m-> 2995\u001b[0;31m             \u001b[0mindexer\u001b[0m \u001b[0;34m=\u001b[0m \u001b[0mself\u001b[0m\u001b[0;34m.\u001b[0m\u001b[0mcolumns\u001b[0m\u001b[0;34m.\u001b[0m\u001b[0mget_loc\u001b[0m\u001b[0;34m(\u001b[0m\u001b[0mkey\u001b[0m\u001b[0;34m)\u001b[0m\u001b[0;34m\u001b[0m\u001b[0;34m\u001b[0m\u001b[0m\n\u001b[0m\u001b[1;32m   2996\u001b[0m             \u001b[0;32mif\u001b[0m \u001b[0mis_integer\u001b[0m\u001b[0;34m(\u001b[0m\u001b[0mindexer\u001b[0m\u001b[0;34m)\u001b[0m\u001b[0;34m:\u001b[0m\u001b[0;34m\u001b[0m\u001b[0;34m\u001b[0m\u001b[0m\n\u001b[1;32m   2997\u001b[0m                 \u001b[0mindexer\u001b[0m \u001b[0;34m=\u001b[0m \u001b[0;34m[\u001b[0m\u001b[0mindexer\u001b[0m\u001b[0;34m]\u001b[0m\u001b[0;34m\u001b[0m\u001b[0;34m\u001b[0m\u001b[0m\n",
      "\u001b[0;32m/Users/candaur/opt/anaconda3/envs/learn-env/lib/python3.6/site-packages/pandas/core/indexes/base.py\u001b[0m in \u001b[0;36mget_loc\u001b[0;34m(self, key, method, tolerance)\u001b[0m\n\u001b[1;32m   2897\u001b[0m                 \u001b[0;32mreturn\u001b[0m \u001b[0mself\u001b[0m\u001b[0;34m.\u001b[0m\u001b[0m_engine\u001b[0m\u001b[0;34m.\u001b[0m\u001b[0mget_loc\u001b[0m\u001b[0;34m(\u001b[0m\u001b[0mkey\u001b[0m\u001b[0;34m)\u001b[0m\u001b[0;34m\u001b[0m\u001b[0;34m\u001b[0m\u001b[0m\n\u001b[1;32m   2898\u001b[0m             \u001b[0;32mexcept\u001b[0m \u001b[0mKeyError\u001b[0m\u001b[0;34m:\u001b[0m\u001b[0;34m\u001b[0m\u001b[0;34m\u001b[0m\u001b[0m\n\u001b[0;32m-> 2899\u001b[0;31m                 \u001b[0;32mreturn\u001b[0m \u001b[0mself\u001b[0m\u001b[0;34m.\u001b[0m\u001b[0m_engine\u001b[0m\u001b[0;34m.\u001b[0m\u001b[0mget_loc\u001b[0m\u001b[0;34m(\u001b[0m\u001b[0mself\u001b[0m\u001b[0;34m.\u001b[0m\u001b[0m_maybe_cast_indexer\u001b[0m\u001b[0;34m(\u001b[0m\u001b[0mkey\u001b[0m\u001b[0;34m)\u001b[0m\u001b[0;34m)\u001b[0m\u001b[0;34m\u001b[0m\u001b[0;34m\u001b[0m\u001b[0m\n\u001b[0m\u001b[1;32m   2900\u001b[0m         \u001b[0mindexer\u001b[0m \u001b[0;34m=\u001b[0m \u001b[0mself\u001b[0m\u001b[0;34m.\u001b[0m\u001b[0mget_indexer\u001b[0m\u001b[0;34m(\u001b[0m\u001b[0;34m[\u001b[0m\u001b[0mkey\u001b[0m\u001b[0;34m]\u001b[0m\u001b[0;34m,\u001b[0m \u001b[0mmethod\u001b[0m\u001b[0;34m=\u001b[0m\u001b[0mmethod\u001b[0m\u001b[0;34m,\u001b[0m \u001b[0mtolerance\u001b[0m\u001b[0;34m=\u001b[0m\u001b[0mtolerance\u001b[0m\u001b[0;34m)\u001b[0m\u001b[0;34m\u001b[0m\u001b[0;34m\u001b[0m\u001b[0m\n\u001b[1;32m   2901\u001b[0m         \u001b[0;32mif\u001b[0m \u001b[0mindexer\u001b[0m\u001b[0;34m.\u001b[0m\u001b[0mndim\u001b[0m \u001b[0;34m>\u001b[0m \u001b[0;36m1\u001b[0m \u001b[0;32mor\u001b[0m \u001b[0mindexer\u001b[0m\u001b[0;34m.\u001b[0m\u001b[0msize\u001b[0m \u001b[0;34m>\u001b[0m \u001b[0;36m1\u001b[0m\u001b[0;34m:\u001b[0m\u001b[0;34m\u001b[0m\u001b[0;34m\u001b[0m\u001b[0m\n",
      "\u001b[0;32mpandas/_libs/index.pyx\u001b[0m in \u001b[0;36mpandas._libs.index.IndexEngine.get_loc\u001b[0;34m()\u001b[0m\n",
      "\u001b[0;32mpandas/_libs/index.pyx\u001b[0m in \u001b[0;36mpandas._libs.index.IndexEngine.get_loc\u001b[0;34m()\u001b[0m\n",
      "\u001b[0;32mpandas/_libs/hashtable_class_helper.pxi\u001b[0m in \u001b[0;36mpandas._libs.hashtable.PyObjectHashTable.get_item\u001b[0;34m()\u001b[0m\n",
      "\u001b[0;32mpandas/_libs/hashtable_class_helper.pxi\u001b[0m in \u001b[0;36mpandas._libs.hashtable.PyObjectHashTable.get_item\u001b[0;34m()\u001b[0m\n",
      "\u001b[0;31mKeyError\u001b[0m: 'year'"
     ]
    }
   ],
   "source": [
    "df_USA['year'] = pd.to_datetime(df_USA['year'],format='%Y')\n",
    "df_USA.set_index('year', inplace=True)\n",
    "## Sanity Check\n",
    "# df_USA.head()"
   ]
  },
  {
   "cell_type": "code",
   "execution_count": 15,
   "metadata": {
    "ExecuteTime": {
     "end_time": "2021-01-28T15:42:09.298725Z",
     "start_time": "2021-01-28T15:42:08.756664Z"
    },
    "scrolled": true
   },
   "outputs": [
    {
     "data": {
      "image/png": "[encoded data removed]",
      "text/plain": [
       "<Figure size 432x288 with 1 Axes>"
      ]
     },
     "metadata": {
      "needs_background": "light"
     },
     "output_type": "display_data"
    }
   ],
   "source": [
    "roll_mean = df_USA.rolling(window=5, center=False).mean()\n",
    "roll_std = df_USA.rolling(window=5, center=False).std()\n",
    "\n",
    "plt.plot(df_USA,color='blue', label='Original')\n",
    "plt.plot(roll_mean, color='red', label='Rolling Mean')\n",
    "plt.plot(roll_std, color='black', label = 'Rolling Std')\n",
    "plt.legend(loc='best')\n",
    "plt.title('Rolling Mean & Standard Deviation')\n",
    "plt.show(block=False)"
   ]
  },
  {
   "cell_type": "markdown",
   "metadata": {},
   "source": [
    "### Addressing Trends and Stationarity"
   ]
  },
  {
   "cell_type": "markdown",
   "metadata": {},
   "source": [
    "**Log Transformation**"
   ]
  },
  {
   "cell_type": "code",
   "execution_count": 16,
   "metadata": {
    "ExecuteTime": {
     "end_time": "2021-01-28T15:42:09.922829Z",
     "start_time": "2021-01-28T15:42:09.303644Z"
    }
   },
   "outputs": [
    {
     "data": {
      "image/png": "[encoded data removed]",
      "text/plain": [
       "<Figure size 432x288 with 1 Axes>"
      ]
     },
     "metadata": {
      "needs_background": "light"
     },
     "output_type": "display_data"
    }
   ],
   "source": [
    "#Log transformation to address lack of variance and covariance\n",
    "from math import exp\n",
    "from numpy import log\n",
    "log_USA = log(df_USA)\n",
    "\n",
    "roll_mean_log = log_USA.rolling(window=5, center=False).mean()\n",
    "roll_std_log = log_USA.rolling(window=5, center=False).std()\n",
    "\n",
    "plt.plot(log_USA,color='blue', label='Original')\n",
    "plt.plot(roll_mean_log, color='red', label='Rolling Mean')\n",
    "plt.plot(roll_std_log, color='black', label = 'Rolling Std')\n",
    "plt.legend(loc='best')\n",
    "plt.title('Rolling Mean & Standard Deviation for Logged Data')\n",
    "plt.show(block=False)"
   ]
  },
  {
   "cell_type": "code",
   "execution_count": 17,
   "metadata": {
    "ExecuteTime": {
     "end_time": "2021-01-28T15:42:11.237387Z",
     "start_time": "2021-01-28T15:42:09.934451Z"
    }
   },
   "outputs": [
    {
     "data": {
      "text/plain": [
       "Test Statistic                  -3.807340\n",
       "p-value                          0.002833\n",
       "#Lags Used                       3.000000\n",
       "Number of Observations Used    213.000000\n",
       "dtype: float64"
      ]
     },
     "execution_count": 17,
     "metadata": {},
     "output_type": "execute_result"
    }
   ],
   "source": [
    "#Dickey_Fuller test on log data\n",
    "#Dickey_Fuller test on rolling mean of log data yielded p value of 0.003,\n",
    "#so we disregarded as less significant than other options\n",
    "\n",
    "from statsmodels.tsa.stattools import adfuller\n",
    "\n",
    "test = adfuller(log_USA['co2_per_capita'][1:-1])\n",
    "dfoutput = pd.Series(test[0:4], index=['Test Statistic','p-value','#Lags Used','Number of Observations Used'])\n",
    "dfoutput\n"
   ]
  },
  {
   "cell_type": "markdown",
   "metadata": {},
   "source": [
    "**Differencing**"
   ]
  },
  {
   "cell_type": "code",
   "execution_count": 61,
   "metadata": {
    "ExecuteTime": {
     "end_time": "2021-01-28T16:05:53.178070Z",
     "start_time": "2021-01-28T16:05:53.047750Z"
    }
   },
   "outputs": [
    {
     "data": {
      "text/plain": [
       "Test Statistic                  -4.055314\n",
       "p-value                          0.001147\n",
       "#Lags Used                      11.000000\n",
       "Number of Observations Used    205.000000\n",
       "dtype: float64"
      ]
     },
     "execution_count": 61,
     "metadata": {},
     "output_type": "execute_result"
    }
   ],
   "source": [
    "#Get differenced values of original dataset to compare Dickey-Fuller p-value to log data\n",
    "diff = df_USA.diff().rename(index=str, columns={\"co2_per_capita\": \"Differenced Observations\"})\n",
    "\n",
    "#Dickey-Fuller test on differenced data\n",
    "test = adfuller(diff['Differenced Observations'][1:-1])\n",
    "dfoutput = pd.Series(test[0:4], index=['Test Statistic','p-value','#Lags Used','Number of Observations Used'])\n",
    "dfoutput\n"
   ]
  },
  {
   "cell_type": "markdown",
   "metadata": {},
   "source": [
    "### Model Logged and Original Data"
   ]
  },
  {
   "cell_type": "markdown",
   "metadata": {},
   "source": [
    "#### Logged Data"
   ]
  },
  {
   "cell_type": "code",
   "execution_count": 19,
   "metadata": {
    "ExecuteTime": {
     "end_time": "2021-01-28T15:42:11.978646Z",
     "start_time": "2021-01-28T15:42:11.266724Z"
    },
    "scrolled": true
   },
   "outputs": [
    {
     "data": {
      "image/png": "[encoded data removed]",
      "text/plain": [
       "<Figure size 432x288 with 1 Axes>"
      ]
     },
     "metadata": {
      "needs_background": "light"
     },
     "output_type": "display_data"
    }
   ],
   "source": [
    "#ACF for logged data\n",
    "from statsmodels.graphics.tsaplots import plot_acf\n",
    "\n",
    "plot_acf(log_USA[:-1], alpha=.05);\n",
    "\n",
    "##NOTE: data is geometric! (indicates AR)"
   ]
  },
  {
   "cell_type": "code",
   "execution_count": 20,
   "metadata": {
    "ExecuteTime": {
     "end_time": "2021-01-28T15:42:12.537501Z",
     "start_time": "2021-01-28T15:42:11.983269Z"
    }
   },
   "outputs": [
    {
     "data": {
      "image/png": "[encoded data removed]",
      "text/plain": [
       "<Figure size 432x288 with 1 Axes>"
      ]
     },
     "metadata": {
      "needs_background": "light"
     },
     "output_type": "display_data"
    }
   ],
   "source": [
    "#PACF for logged data\n",
    "from statsmodels.graphics.tsaplots import plot_pacf\n",
    "\n",
    "plot_pacf(log_USA[:-1], alpha=.05, lags=20);\n",
    "\n",
    "##NOTE: lag of 1 is significant"
   ]
  },
  {
   "cell_type": "code",
   "execution_count": 21,
   "metadata": {
    "ExecuteTime": {
     "end_time": "2021-01-28T15:42:13.074091Z",
     "start_time": "2021-01-28T15:42:12.550002Z"
    }
   },
   "outputs": [
    {
     "name": "stderr",
     "output_type": "stream",
     "text": [
      "/Users/candaur/opt/anaconda3/envs/learn-env/lib/python3.6/site-packages/statsmodels/tsa/base/tsa_model.py:162: ValueWarning: No frequency information was provided, so inferred frequency AS-JAN will be used.\n",
      "  % freq, ValueWarning)\n"
     ]
    },
    {
     "name": "stdout",
     "output_type": "stream",
     "text": [
      "                              ARMA Model Results                              \n",
      "==============================================================================\n",
      "Dep. Variable:         co2_per_capita   No. Observations:                  218\n",
      "Model:                     ARMA(2, 0)   Log Likelihood                 240.613\n",
      "Method:                       css-mle   S.D. of innovations              0.079\n",
      "Date:                Thu, 28 Jan 2021   AIC                           -473.226\n",
      "Time:                        10:42:13   BIC                           -459.688\n",
      "Sample:                    01-01-1800   HQIC                          -467.758\n",
      "                         - 01-01-2017                                         \n",
      "========================================================================================\n",
      "                           coef    std err          z      P>|z|      [0.025      0.975]\n",
      "----------------------------------------------------------------------------------------\n",
      "const                   -0.1865      2.927     -0.064      0.949      -5.924       5.551\n",
      "ar.L1.co2_per_capita     1.1387      0.022     51.069      0.000       1.095       1.182\n",
      "ar.L2.co2_per_capita    -0.1391      0.022     -6.235      0.000      -0.183      -0.095\n",
      "                                    Roots                                    \n",
      "=============================================================================\n",
      "                  Real          Imaginary           Modulus         Frequency\n",
      "-----------------------------------------------------------------------------\n",
      "AR.1            1.0005           +0.0000j            1.0005            0.0000\n",
      "AR.2            7.1871           +0.0000j            7.1871            0.0000\n",
      "-----------------------------------------------------------------------------\n"
     ]
    }
   ],
   "source": [
    "#Instantiate ARIMA model for log\n",
    "#Tried many parameters and the below were by far the best\n",
    "\n",
    "from statsmodels.tsa.arima_model import ARIMA\n",
    "\n",
    "#fit model\n",
    "log_mod = ARIMA(log_USA[:-1], order=(2,0,0)) # p,d,q\n",
    "log_mod_fit = log_mod.fit()\n",
    "print(log_mod_fit.summary())\n",
    "##NOTE: Check out coef and p-value - "
   ]
  },
  {
   "cell_type": "code",
   "execution_count": null,
   "metadata": {},
   "outputs": [],
   "source": []
  },
  {
   "cell_type": "markdown",
   "metadata": {},
   "source": [
    "#### Original Data"
   ]
  },
  {
   "cell_type": "markdown",
   "metadata": {},
   "source": [
    "Will incorporate differenced data through d parameter in the ARIMA model"
   ]
  },
  {
   "cell_type": "code",
   "execution_count": 22,
   "metadata": {
    "ExecuteTime": {
     "end_time": "2021-01-28T15:42:13.754301Z",
     "start_time": "2021-01-28T15:42:13.115302Z"
    },
    "scrolled": true
   },
   "outputs": [
    {
     "data": {
      "image/png": "[encoded data removed]",
      "text/plain": [
       "<Figure size 432x288 with 1 Axes>"
      ]
     },
     "metadata": {
      "needs_background": "light"
     },
     "output_type": "display_data"
    }
   ],
   "source": [
    "#ACF for original data\n",
    "plot_acf(df_USA[:-1], alpha=.05);\n",
    "\n",
    "##NOTE: data is geometric! (indicates AR)"
   ]
  },
  {
   "cell_type": "code",
   "execution_count": 23,
   "metadata": {
    "ExecuteTime": {
     "end_time": "2021-01-28T15:42:14.322270Z",
     "start_time": "2021-01-28T15:42:13.772629Z"
    }
   },
   "outputs": [
    {
     "data": {
      "image/png": "[encoded data removed]",
      "text/plain": [
       "<Figure size 432x288 with 1 Axes>"
      ]
     },
     "metadata": {
      "needs_background": "light"
     },
     "output_type": "display_data"
    }
   ],
   "source": [
    "#PACF for original data\n",
    "plot_pacf(df_USA[:-1], alpha=.05, lags=20);\n",
    "\n",
    "##NOTE: lag of 1 is significant"
   ]
  },
  {
   "cell_type": "markdown",
   "metadata": {},
   "source": [
    "## Fitting ARIMA Model\n",
    "Exploring different parameters to find best p-value\n"
   ]
  },
  {
   "cell_type": "code",
   "execution_count": 24,
   "metadata": {
    "ExecuteTime": {
     "end_time": "2021-01-28T15:42:15.715730Z",
     "start_time": "2021-01-28T15:42:14.333295Z"
    },
    "collapsed": true
   },
   "outputs": [
    {
     "name": "stderr",
     "output_type": "stream",
     "text": [
      "/Users/candaur/opt/anaconda3/envs/learn-env/lib/python3.6/site-packages/statsmodels/tsa/base/tsa_model.py:162: ValueWarning: No frequency information was provided, so inferred frequency AS-JAN will be used.\n",
      "  % freq, ValueWarning)\n",
      "/Users/candaur/opt/anaconda3/envs/learn-env/lib/python3.6/site-packages/statsmodels/tsa/base/tsa_model.py:162: ValueWarning: No frequency information was provided, so inferred frequency AS-JAN will be used.\n",
      "  % freq, ValueWarning)\n"
     ]
    },
    {
     "name": "stdout",
     "output_type": "stream",
     "text": [
      "                             ARIMA Model Results                              \n",
      "==============================================================================\n",
      "Dep. Variable:      D2.co2_per_capita   No. Observations:                  216\n",
      "Model:                 ARIMA(1, 2, 3)   Log Likelihood                -249.331\n",
      "Method:                       css-mle   S.D. of innovations              0.761\n",
      "Date:                Thu, 28 Jan 2021   AIC                            510.663\n",
      "Time:                        10:42:15   BIC                            530.915\n",
      "Sample:                    01-01-1802   HQIC                           518.845\n",
      "                         - 01-01-2017                                         \n",
      "===========================================================================================\n",
      "                              coef    std err          z      P>|z|      [0.025      0.975]\n",
      "-------------------------------------------------------------------------------------------\n",
      "const                      -0.0006      0.001     -0.425      0.671      -0.003       0.002\n",
      "ar.L1.D2.co2_per_capita    -0.7431      0.113     -6.549      0.000      -0.965      -0.521\n",
      "ma.L1.D2.co2_per_capita    -0.3532      0.116     -3.048      0.002      -0.580      -0.126\n",
      "ma.L2.D2.co2_per_capita    -0.8420      0.093     -9.050      0.000      -1.024      -0.660\n",
      "ma.L3.D2.co2_per_capita     0.2319      0.063      3.653      0.000       0.108       0.356\n",
      "                                    Roots                                    \n",
      "=============================================================================\n",
      "                  Real          Imaginary           Modulus         Frequency\n",
      "-----------------------------------------------------------------------------\n",
      "AR.1           -1.3458           +0.0000j            1.3458            0.5000\n",
      "MA.1           -1.1256           +0.0000j            1.1256            0.5000\n",
      "MA.2            1.0273           +0.0000j            1.0273            0.0000\n",
      "MA.3            3.7288           +0.0000j            3.7288            0.0000\n",
      "-----------------------------------------------------------------------------\n"
     ]
    }
   ],
   "source": [
    "from statsmodels.tsa.arima_model import ARIMA\n",
    "\n",
    "#fit model\n",
    "mod123 = ARIMA(df_USA[:-1], order=(1,2,3)) # p,d,q\n",
    "mod123_fit = mod123.fit()\n",
    "print(mod123_fit.summary())\n",
    "##NOTE: Check out coef and p-value - "
   ]
  },
  {
   "cell_type": "code",
   "execution_count": 25,
   "metadata": {
    "ExecuteTime": {
     "end_time": "2021-01-28T15:42:16.498969Z",
     "start_time": "2021-01-28T15:42:15.735848Z"
    },
    "collapsed": true
   },
   "outputs": [
    {
     "name": "stderr",
     "output_type": "stream",
     "text": [
      "/Users/candaur/opt/anaconda3/envs/learn-env/lib/python3.6/site-packages/statsmodels/tsa/base/tsa_model.py:162: ValueWarning: No frequency information was provided, so inferred frequency AS-JAN will be used.\n",
      "  % freq, ValueWarning)\n",
      "/Users/candaur/opt/anaconda3/envs/learn-env/lib/python3.6/site-packages/statsmodels/tsa/base/tsa_model.py:162: ValueWarning: No frequency information was provided, so inferred frequency AS-JAN will be used.\n",
      "  % freq, ValueWarning)\n"
     ]
    },
    {
     "name": "stdout",
     "output_type": "stream",
     "text": [
      "                             ARIMA Model Results                              \n",
      "==============================================================================\n",
      "Dep. Variable:      D2.co2_per_capita   No. Observations:                  216\n",
      "Model:                 ARIMA(4, 2, 0)   Log Likelihood                -264.456\n",
      "Method:                       css-mle   S.D. of innovations              0.821\n",
      "Date:                Thu, 28 Jan 2021   AIC                            540.912\n",
      "Time:                        10:42:16   BIC                            561.164\n",
      "Sample:                    01-01-1802   HQIC                           549.094\n",
      "                         - 01-01-2017                                         \n",
      "===========================================================================================\n",
      "                              coef    std err          z      P>|z|      [0.025      0.975]\n",
      "-------------------------------------------------------------------------------------------\n",
      "const                      -0.0015      0.017     -0.088      0.930      -0.036       0.033\n",
      "ar.L1.D2.co2_per_capita    -0.9221      0.067    -13.798      0.000      -1.053      -0.791\n",
      "ar.L2.D2.co2_per_capita    -0.8051      0.089     -9.060      0.000      -0.979      -0.631\n",
      "ar.L3.D2.co2_per_capita    -0.3238      0.089     -3.648      0.000      -0.498      -0.150\n",
      "ar.L4.D2.co2_per_capita    -0.1814      0.066     -2.732      0.006      -0.312      -0.051\n",
      "                                    Roots                                    \n",
      "=============================================================================\n",
      "                  Real          Imaginary           Modulus         Frequency\n",
      "-----------------------------------------------------------------------------\n",
      "AR.1           -0.9754           -1.0177j            1.4097           -0.3716\n",
      "AR.2           -0.9754           +1.0177j            1.4097            0.3716\n",
      "AR.3            0.0827           -1.6636j            1.6657           -0.2421\n",
      "AR.4            0.0827           +1.6636j            1.6657            0.2421\n",
      "-----------------------------------------------------------------------------\n"
     ]
    }
   ],
   "source": [
    "#fit model\n",
    "mod420 = ARIMA(df_USA[:-1], order=(4,2,0)) # p,d,q\n",
    "mod420_fit = mod420.fit(disp=0)\n",
    "print(mod420_fit.summary())\n",
    "##NOTE: Check out coef and p-value - "
   ]
  },
  {
   "cell_type": "code",
   "execution_count": 26,
   "metadata": {
    "ExecuteTime": {
     "end_time": "2021-01-28T15:42:17.321824Z",
     "start_time": "2021-01-28T15:42:16.505871Z"
    },
    "collapsed": true
   },
   "outputs": [
    {
     "name": "stderr",
     "output_type": "stream",
     "text": [
      "/Users/candaur/opt/anaconda3/envs/learn-env/lib/python3.6/site-packages/statsmodels/tsa/base/tsa_model.py:162: ValueWarning: No frequency information was provided, so inferred frequency AS-JAN will be used.\n",
      "  % freq, ValueWarning)\n",
      "/Users/candaur/opt/anaconda3/envs/learn-env/lib/python3.6/site-packages/statsmodels/tsa/base/tsa_model.py:162: ValueWarning: No frequency information was provided, so inferred frequency AS-JAN will be used.\n",
      "  % freq, ValueWarning)\n"
     ]
    },
    {
     "name": "stdout",
     "output_type": "stream",
     "text": [
      "                             ARIMA Model Results                              \n",
      "==============================================================================\n",
      "Dep. Variable:      D2.co2_per_capita   No. Observations:                  216\n",
      "Model:                 ARIMA(5, 2, 0)   Log Likelihood                -260.117\n",
      "Method:                       css-mle   S.D. of innovations              0.804\n",
      "Date:                Thu, 28 Jan 2021   AIC                            534.233\n",
      "Time:                        10:42:17   BIC                            557.860\n",
      "Sample:                    01-01-1802   HQIC                           543.778\n",
      "                         - 01-01-2017                                         \n",
      "===========================================================================================\n",
      "                              coef    std err          z      P>|z|      [0.025      0.975]\n",
      "-------------------------------------------------------------------------------------------\n",
      "const                      -0.0014      0.014     -0.102      0.919      -0.029       0.026\n",
      "ar.L1.D2.co2_per_capita    -0.9588      0.067    -14.395      0.000      -1.089      -0.828\n",
      "ar.L2.D2.co2_per_capita    -0.8700      0.090     -9.689      0.000      -1.046      -0.694\n",
      "ar.L3.D2.co2_per_capita    -0.4844      0.102     -4.733      0.000      -0.685      -0.284\n",
      "ar.L4.D2.co2_per_capita    -0.3643      0.089     -4.075      0.000      -0.540      -0.189\n",
      "ar.L5.D2.co2_per_capita    -0.1968      0.066     -2.979      0.003      -0.326      -0.067\n",
      "                                    Roots                                    \n",
      "=============================================================================\n",
      "                  Real          Imaginary           Modulus         Frequency\n",
      "-----------------------------------------------------------------------------\n",
      "AR.1            0.5576           -1.3200j            1.4330           -0.1864\n",
      "AR.2            0.5576           +1.3200j            1.4330            0.1864\n",
      "AR.3           -0.6765           -1.0373j            1.2384           -0.3420\n",
      "AR.4           -0.6765           +1.0373j            1.2384            0.3420\n",
      "AR.5           -1.6136           -0.0000j            1.6136           -0.5000\n",
      "-----------------------------------------------------------------------------\n"
     ]
    }
   ],
   "source": [
    "#fit model\n",
    "mod520 = ARIMA(df_USA[:-1], order=(5,2,0)) # p,d,q\n",
    "mod520_fit = mod520.fit(disp=0)\n",
    "print(mod520_fit.summary())\n",
    "##NOTE: Check out coef and p-value - "
   ]
  },
  {
   "cell_type": "markdown",
   "metadata": {},
   "source": [
    "# Determine Best Model"
   ]
  },
  {
   "cell_type": "markdown",
   "metadata": {},
   "source": [
    "## AIC"
   ]
  },
  {
   "cell_type": "code",
   "execution_count": 27,
   "metadata": {
    "ExecuteTime": {
     "end_time": "2021-01-28T15:42:17.354395Z",
     "start_time": "2021-01-28T15:42:17.336376Z"
    }
   },
   "outputs": [
    {
     "name": "stdout",
     "output_type": "stream",
     "text": [
      "510.66296979531074\n",
      "540.9121676189329\n",
      "534.2330383660093\n",
      "-473.2258980362311\n"
     ]
    }
   ],
   "source": [
    "AIC_123 = mod123_fit.aic\n",
    "AIC_420 = mod420_fit.aic\n",
    "AIC_520 = mod520_fit.aic\n",
    "AIC_log = log_mod_fit.aic\n",
    "\n",
    "\n",
    "print(AIC_123)\n",
    "print(AIC_420)\n",
    "print(AIC_520)\n",
    "print(AIC_log)"
   ]
  },
  {
   "cell_type": "markdown",
   "metadata": {},
   "source": [
    "Based on the above AIC values, our ARIMA model of the logged data seems to be the optimal model. We will confirm next by checking RMSE values."
   ]
  },
  {
   "cell_type": "code",
   "execution_count": 28,
   "metadata": {
    "ExecuteTime": {
     "end_time": "2021-01-28T15:42:17.387361Z",
     "start_time": "2021-01-28T15:42:17.362111Z"
    }
   },
   "outputs": [],
   "source": [
    "#train test split for log data\n",
    "\n",
    "#Split 90% of data into train\n",
    "X = log_USA.index\n",
    "y = log_USA['co2_per_capita']\n",
    "\n",
    "train = log_USA.loc[:'1997-01-01']\n",
    "test = log_USA.loc['1997-01-01':]\n",
    "\n",
    "X_train, X_test = train.index , test.index\n",
    "y_train, y_test = train['co2_per_capita'] , test['co2_per_capita']\n"
   ]
  },
  {
   "cell_type": "code",
   "execution_count": 29,
   "metadata": {
    "ExecuteTime": {
     "end_time": "2021-01-28T15:42:17.843867Z",
     "start_time": "2021-01-28T15:42:17.398813Z"
    },
    "scrolled": true
   },
   "outputs": [
    {
     "name": "stderr",
     "output_type": "stream",
     "text": [
      "/Users/candaur/opt/anaconda3/envs/learn-env/lib/python3.6/site-packages/statsmodels/tsa/base/tsa_model.py:162: ValueWarning: No frequency information was provided, so inferred frequency AS-JAN will be used.\n",
      "  % freq, ValueWarning)\n"
     ]
    }
   ],
   "source": [
    "mod_log = ARIMA(train[2:], order=(2,0,0)) # p,d,q\n",
    "mod_log_fit = mod_log.fit()"
   ]
  },
  {
   "cell_type": "code",
   "execution_count": 30,
   "metadata": {
    "ExecuteTime": {
     "end_time": "2021-01-28T15:42:17.874946Z",
     "start_time": "2021-01-28T15:42:17.853958Z"
    }
   },
   "outputs": [
    {
     "data": {
      "text/plain": [
       "<statsmodels.tsa.arima_model.ARMAResultsWrapper at 0x7fbb7ad2f7f0>"
      ]
     },
     "execution_count": 30,
     "metadata": {},
     "output_type": "execute_result"
    }
   ],
   "source": [
    "mod_log_fit"
   ]
  },
  {
   "cell_type": "code",
   "execution_count": 31,
   "metadata": {
    "ExecuteTime": {
     "end_time": "2021-01-28T15:42:17.924727Z",
     "start_time": "2021-01-28T15:42:17.881849Z"
    },
    "scrolled": true
   },
   "outputs": [],
   "source": [
    "start = len(y_train) -1\n",
    "end = len(y_train) + len(y_test)\n",
    "\n",
    "pred_log = mod_log_fit.predict(start='1997-01-01', end='2018-01-01', dynamic=False)"
   ]
  },
  {
   "cell_type": "markdown",
   "metadata": {},
   "source": [
    "## RMSE"
   ]
  },
  {
   "cell_type": "markdown",
   "metadata": {},
   "source": [
    "### Train-Test Split"
   ]
  },
  {
   "cell_type": "code",
   "execution_count": 33,
   "metadata": {
    "ExecuteTime": {
     "end_time": "2021-01-28T15:42:17.988715Z",
     "start_time": "2021-01-28T15:42:17.948056Z"
    }
   },
   "outputs": [],
   "source": [
    "#Split 90% of data into train\n",
    "diff = df_USA.diff().rename(index=str, columns={\"co2_per_capita\": \"Differenced Observations\"})\n",
    "diff2 = diff.diff().rename(index=str, columns={\"co2_per_capita\": \"Differenced Observations\"})\n",
    "\n",
    "\n",
    "X = diff2.index\n",
    "y = diff2['Differenced Observations']\n",
    "\n",
    "train = diff2.loc[:'1997-01-01']\n",
    "test = diff2.loc['1997-01-01':]\n",
    "\n",
    "X_train, X_test = train.index , test.index\n",
    "y_train, y_test = train['Differenced Observations'] , test['Differenced Observations']\n"
   ]
  },
  {
   "cell_type": "code",
   "execution_count": 34,
   "metadata": {
    "ExecuteTime": {
     "end_time": "2021-01-28T15:42:18.041962Z",
     "start_time": "2021-01-28T15:42:18.017473Z"
    }
   },
   "outputs": [
    {
     "data": {
      "text/html": [
       "<div>\n",
       "<style scoped>\n",
       "    .dataframe tbody tr th:only-of-type {\n",
       "        vertical-align: middle;\n",
       "    }\n",
       "\n",
       "    .dataframe tbody tr th {\n",
       "        vertical-align: top;\n",
       "    }\n",
       "\n",
       "    .dataframe thead th {\n",
       "        text-align: right;\n",
       "    }\n",
       "</style>\n",
       "<table border=\"1\" class=\"dataframe\">\n",
       "  <thead>\n",
       "    <tr style=\"text-align: right;\">\n",
       "      <th></th>\n",
       "      <th>Differenced Observations</th>\n",
       "    </tr>\n",
       "    <tr>\n",
       "      <th>year</th>\n",
       "      <th></th>\n",
       "    </tr>\n",
       "  </thead>\n",
       "  <tbody>\n",
       "    <tr>\n",
       "      <th>1800-01-01 00:00:00</th>\n",
       "      <td>NaN</td>\n",
       "    </tr>\n",
       "    <tr>\n",
       "      <th>1801-01-01 00:00:00</th>\n",
       "      <td>NaN</td>\n",
       "    </tr>\n",
       "    <tr>\n",
       "      <th>1802-01-01 00:00:00</th>\n",
       "      <td>0.000</td>\n",
       "    </tr>\n",
       "    <tr>\n",
       "      <th>1803-01-01 00:00:00</th>\n",
       "      <td>-0.002</td>\n",
       "    </tr>\n",
       "    <tr>\n",
       "      <th>1804-01-01 00:00:00</th>\n",
       "      <td>0.004</td>\n",
       "    </tr>\n",
       "  </tbody>\n",
       "</table>\n",
       "</div>"
      ],
      "text/plain": [
       "                     Differenced Observations\n",
       "year                                         \n",
       "1800-01-01 00:00:00                       NaN\n",
       "1801-01-01 00:00:00                       NaN\n",
       "1802-01-01 00:00:00                     0.000\n",
       "1803-01-01 00:00:00                    -0.002\n",
       "1804-01-01 00:00:00                     0.004"
      ]
     },
     "execution_count": 34,
     "metadata": {},
     "output_type": "execute_result"
    }
   ],
   "source": [
    "train.head()"
   ]
  },
  {
   "cell_type": "code",
   "execution_count": null,
   "metadata": {},
   "outputs": [],
   "source": []
  },
  {
   "cell_type": "code",
   "execution_count": null,
   "metadata": {
    "ExecuteTime": {
     "end_time": "2021-01-28T15:56:31.212933Z",
     "start_time": "2021-01-28T15:56:31.134875Z"
    }
   },
   "outputs": [],
   "source": []
  },
  {
   "cell_type": "code",
   "execution_count": 55,
   "metadata": {
    "ExecuteTime": {
     "end_time": "2021-01-28T15:55:23.336762Z",
     "start_time": "2021-01-28T15:55:22.114309Z"
    },
    "scrolled": true
   },
   "outputs": [
    {
     "name": "stderr",
     "output_type": "stream",
     "text": [
      "/Users/candaur/opt/anaconda3/envs/learn-env/lib/python3.6/site-packages/statsmodels/tsa/base/tsa_model.py:162: ValueWarning: No frequency information was provided, so inferred frequency AS-JAN will be used.\n",
      "  % freq, ValueWarning)\n",
      "/Users/candaur/opt/anaconda3/envs/learn-env/lib/python3.6/site-packages/statsmodels/tsa/base/tsa_model.py:162: ValueWarning: No frequency information was provided, so inferred frequency AS-JAN will be used.\n",
      "  % freq, ValueWarning)\n"
     ]
    }
   ],
   "source": [
    "mod520 = ARIMA(y_train[2:], order=(5,2,0)) # p,d,q\n",
    "mod520_fit = mod520.fit()"
   ]
  },
  {
   "cell_type": "code",
   "execution_count": 57,
   "metadata": {
    "ExecuteTime": {
     "end_time": "2021-01-28T15:56:31.212933Z",
     "start_time": "2021-01-28T15:56:31.134875Z"
    }
   },
   "outputs": [],
   "source": [
    "pred520 = mod520_fit.predict(start='1997-01-01', end='2018-01-01', dynamic=False)\n"
   ]
  },
  {
   "cell_type": "code",
   "execution_count": null,
   "metadata": {},
   "outputs": [],
   "source": []
  },
  {
   "cell_type": "markdown",
   "metadata": {},
   "source": [
    "# SAY WHAT."
   ]
  },
  {
   "cell_type": "code",
   "execution_count": 36,
   "metadata": {
    "ExecuteTime": {
     "end_time": "2021-01-28T15:42:18.692826Z",
     "start_time": "2021-01-28T15:42:18.656655Z"
    }
   },
   "outputs": [],
   "source": [
    "pred420 = mod420_fit.predict(start='1997-01-01', end='2018-01-01', dynamic=False)\n"
   ]
  },
  {
   "cell_type": "code",
   "execution_count": null,
   "metadata": {
    "ExecuteTime": {
     "end_time": "2021-01-28T15:56:31.212933Z",
     "start_time": "2021-01-28T15:56:31.134875Z"
    }
   },
   "outputs": [],
   "source": []
  },
  {
   "cell_type": "code",
   "execution_count": 58,
   "metadata": {
    "ExecuteTime": {
     "end_time": "2021-01-28T15:56:43.057454Z",
     "start_time": "2021-01-28T15:56:43.033316Z"
    }
   },
   "outputs": [
    {
     "data": {
      "text/plain": [
       "0.725163415202824"
      ]
     },
     "execution_count": 58,
     "metadata": {},
     "output_type": "execute_result"
    }
   ],
   "source": [
    "RMSE_520 = np.sqrt(((pred520-y_test)**2).mean())\n",
    "RMSE_520"
   ]
  },
  {
   "cell_type": "code",
   "execution_count": null,
   "metadata": {},
   "outputs": [],
   "source": [
    "RMSE_log = np.sqrt(((pred_log-y_test)**2).mean())\n",
    "RMSE_log"
   ]
  },
  {
   "cell_type": "code",
   "execution_count": 35,
   "metadata": {
    "ExecuteTime": {
     "end_time": "2021-01-28T15:42:18.651862Z",
     "start_time": "2021-01-28T15:42:18.050165Z"
    },
    "scrolled": false
   },
   "outputs": [
    {
     "name": "stderr",
     "output_type": "stream",
     "text": [
      "/Users/candaur/opt/anaconda3/envs/learn-env/lib/python3.6/site-packages/statsmodels/tsa/base/tsa_model.py:162: ValueWarning: No frequency information was provided, so inferred frequency AS-JAN will be used.\n",
      "  % freq, ValueWarning)\n",
      "/Users/candaur/opt/anaconda3/envs/learn-env/lib/python3.6/site-packages/statsmodels/tsa/base/tsa_model.py:162: ValueWarning: No frequency information was provided, so inferred frequency AS-JAN will be used.\n",
      "  % freq, ValueWarning)\n"
     ]
    }
   ],
   "source": [
    "mod420 = ARIMA(y_train[2:], order=(4,2,0)) # p,d,q\n",
    "mod420_fit = mod420.fit()"
   ]
  },
  {
   "cell_type": "markdown",
   "metadata": {},
   "source": [
    "# SAY WHAT."
   ]
  },
  {
   "cell_type": "code",
   "execution_count": 36,
   "metadata": {
    "ExecuteTime": {
     "end_time": "2021-01-28T15:42:18.692826Z",
     "start_time": "2021-01-28T15:42:18.656655Z"
    }
   },
   "outputs": [],
   "source": [
    "start = len(y_train) -1\n",
    "end = len(y_train) + len(y_test)\n",
    "\n",
    "\n",
    "pred420 = mod420_fit.predict(start='1997-01-01', end='2018-01-01', dynamic=False)\n"
   ]
  },
  {
   "cell_type": "code",
   "execution_count": 37,
   "metadata": {
    "ExecuteTime": {
     "end_time": "2021-01-28T15:42:18.703715Z",
     "start_time": "2021-01-28T15:42:18.698670Z"
    }
   },
   "outputs": [],
   "source": [
    "# #Testing\n",
    "\n",
    "# pred420 = mod420_fit.predict(start=start, end=end, dynamic=False)"
   ]
  },
  {
   "cell_type": "code",
   "execution_count": null,
   "metadata": {},
   "outputs": [],
   "source": []
  },
  {
   "cell_type": "code",
   "execution_count": null,
   "metadata": {},
   "outputs": [],
   "source": []
  },
  {
   "cell_type": "code",
   "execution_count": null,
   "metadata": {},
   "outputs": [],
   "source": []
  },
  {
   "cell_type": "code",
   "execution_count": null,
   "metadata": {},
   "outputs": [],
   "source": []
  },
  {
   "cell_type": "code",
   "execution_count": null,
   "metadata": {},
   "outputs": [],
   "source": []
  },
  {
   "cell_type": "code",
   "execution_count": 38,
   "metadata": {
    "ExecuteTime": {
     "end_time": "2021-01-28T15:42:18.718846Z",
     "start_time": "2021-01-28T15:42:18.709350Z"
    }
   },
   "outputs": [
    {
     "data": {
      "text/plain": [
       "22"
      ]
     },
     "execution_count": 38,
     "metadata": {},
     "output_type": "execute_result"
    }
   ],
   "source": [
    "len(pred420)"
   ]
  },
  {
   "cell_type": "code",
   "execution_count": 39,
   "metadata": {
    "ExecuteTime": {
     "end_time": "2021-01-28T15:42:18.736076Z",
     "start_time": "2021-01-28T15:42:18.722511Z"
    },
    "scrolled": true
   },
   "outputs": [
    {
     "data": {
      "text/plain": [
       "[-0.9584684046237504,\n",
       " 0.19861851482788714,\n",
       " 0.714511891029353,\n",
       " -0.8029985912689124,\n",
       " 0.22362010214362993,\n",
       " 0.21197875984427073,\n",
       " -0.14503968470494388,\n",
       " -0.08099508377571774,\n",
       " 0.07551226073118322,\n",
       " 0.11214532150028991,\n",
       " -0.19002013110602245,\n",
       " 0.06746456678698565,\n",
       " 0.08302516754377412,\n",
       " -0.0976246571487768,\n",
       " 0.014168528237780042,\n",
       " 0.03642284169417309,\n",
       " -0.008440053078234356,\n",
       " -0.03062893832459009,\n",
       " 0.02246626504149268,\n",
       " 0.015591542596593759,\n",
       " -0.030205221729172577,\n",
       " 0.010952781404645812]"
      ]
     },
     "execution_count": 39,
     "metadata": {},
     "output_type": "execute_result"
    }
   ],
   "source": [
    "list(pred420.values)"
   ]
  },
  {
   "cell_type": "code",
   "execution_count": 40,
   "metadata": {
    "ExecuteTime": {
     "end_time": "2021-01-28T15:42:18.763439Z",
     "start_time": "2021-01-28T15:42:18.745973Z"
    }
   },
   "outputs": [
    {
     "data": {
      "text/plain": [
       "1997   NaN\n",
       "1998   NaN\n",
       "1999   NaN\n",
       "2000   NaN\n",
       "2001   NaN\n",
       "2002   NaN\n",
       "2003   NaN\n",
       "2004   NaN\n",
       "2005   NaN\n",
       "2006   NaN\n",
       "2007   NaN\n",
       "2008   NaN\n",
       "2009   NaN\n",
       "2010   NaN\n",
       "2011   NaN\n",
       "2012   NaN\n",
       "2013   NaN\n",
       "2014   NaN\n",
       "2015   NaN\n",
       "2016   NaN\n",
       "2017   NaN\n",
       "2018   NaN\n",
       "dtype: float64"
      ]
     },
     "execution_count": 40,
     "metadata": {},
     "output_type": "execute_result"
    }
   ],
   "source": [
    "pred420.reindex(list(range(1997,2019)))"
   ]
  },
  {
   "cell_type": "code",
   "execution_count": 41,
   "metadata": {
    "ExecuteTime": {
     "end_time": "2021-01-28T15:42:18.793139Z",
     "start_time": "2021-01-28T15:42:18.773853Z"
    }
   },
   "outputs": [
    {
     "data": {
      "text/plain": [
       "1997   -0.958468\n",
       "1998    0.198619\n",
       "1999    0.714512\n",
       "2000   -0.802999\n",
       "2001    0.223620\n",
       "2002    0.211979\n",
       "2003   -0.145040\n",
       "2004   -0.080995\n",
       "2005    0.075512\n",
       "2006    0.112145\n",
       "2007   -0.190020\n",
       "2008    0.067465\n",
       "2009    0.083025\n",
       "2010   -0.097625\n",
       "2011    0.014169\n",
       "2012    0.036423\n",
       "2013   -0.008440\n",
       "2014   -0.030629\n",
       "2015    0.022466\n",
       "2016    0.015592\n",
       "2017   -0.030205\n",
       "2018    0.010953\n",
       "dtype: float64"
      ]
     },
     "execution_count": 41,
     "metadata": {},
     "output_type": "execute_result"
    }
   ],
   "source": [
    "pd.Series(list(pred420.values),index=list(range(1997,2019)))"
   ]
  },
  {
   "cell_type": "code",
   "execution_count": null,
   "metadata": {},
   "outputs": [],
   "source": []
  },
  {
   "cell_type": "code",
   "execution_count": 42,
   "metadata": {
    "ExecuteTime": {
     "end_time": "2021-01-28T15:42:19.296818Z",
     "start_time": "2021-01-28T15:42:18.801807Z"
    }
   },
   "outputs": [
    {
     "data": {
      "text/plain": [
       "[<matplotlib.lines.Line2D at 0x7fbb7aeb2c88>]"
      ]
     },
     "execution_count": 42,
     "metadata": {},
     "output_type": "execute_result"
    },
    {
     "data": {
      "image/png": "[encoded data removed]",
      "text/plain": [
       "<Figure size 432x288 with 1 Axes>"
      ]
     },
     "metadata": {
      "needs_background": "light"
     },
     "output_type": "display_data"
    }
   ],
   "source": [
    "plt.plot(df_USA)"
   ]
  },
  {
   "cell_type": "code",
   "execution_count": 43,
   "metadata": {
    "ExecuteTime": {
     "end_time": "2021-01-28T15:42:26.296226Z",
     "start_time": "2021-01-28T15:42:19.306984Z"
    }
   },
   "outputs": [
    {
     "data": {
      "text/plain": [
       "[<matplotlib.lines.Line2D at 0x7fbb790f9908>]"
      ]
     },
     "execution_count": 43,
     "metadata": {},
     "output_type": "execute_result"
    },
    {
     "data": {
      "image/png": "[encoded data removed]",
      "text/plain": [
       "<Figure size 432x288 with 1 Axes>"
      ]
     },
     "metadata": {
      "needs_background": "light"
     },
     "output_type": "display_data"
    }
   ],
   "source": [
    "plt.plot(diff)"
   ]
  },
  {
   "cell_type": "code",
   "execution_count": 44,
   "metadata": {
    "ExecuteTime": {
     "end_time": "2021-01-28T15:42:33.337657Z",
     "start_time": "2021-01-28T15:42:26.319374Z"
    }
   },
   "outputs": [
    {
     "data": {
      "text/plain": [
       "[<matplotlib.lines.Line2D at 0x7fbb7b134240>]"
      ]
     },
     "execution_count": 44,
     "metadata": {},
     "output_type": "execute_result"
    },
    {
     "data": {
      "image/png": "[encoded data removed]",
      "text/plain": [
       "<Figure size 432x288 with 1 Axes>"
      ]
     },
     "metadata": {
      "needs_background": "light"
     },
     "output_type": "display_data"
    }
   ],
   "source": [
    "plt.plot(diff2)"
   ]
  },
  {
   "cell_type": "code",
   "execution_count": 45,
   "metadata": {
    "ExecuteTime": {
     "end_time": "2021-01-28T15:42:33.367250Z",
     "start_time": "2021-01-28T15:42:33.341919Z"
    }
   },
   "outputs": [
    {
     "data": {
      "text/html": [
       "<div>\n",
       "<style scoped>\n",
       "    .dataframe tbody tr th:only-of-type {\n",
       "        vertical-align: middle;\n",
       "    }\n",
       "\n",
       "    .dataframe tbody tr th {\n",
       "        vertical-align: top;\n",
       "    }\n",
       "\n",
       "    .dataframe thead th {\n",
       "        text-align: right;\n",
       "    }\n",
       "</style>\n",
       "<table border=\"1\" class=\"dataframe\">\n",
       "  <thead>\n",
       "    <tr style=\"text-align: right;\">\n",
       "      <th></th>\n",
       "      <th>co2_per_capita</th>\n",
       "    </tr>\n",
       "    <tr>\n",
       "      <th>year</th>\n",
       "      <th></th>\n",
       "    </tr>\n",
       "  </thead>\n",
       "  <tbody>\n",
       "    <tr>\n",
       "      <th>1800-01-01</th>\n",
       "      <td>-3.296837</td>\n",
       "    </tr>\n",
       "    <tr>\n",
       "      <th>1801-01-01</th>\n",
       "      <td>-3.244194</td>\n",
       "    </tr>\n",
       "    <tr>\n",
       "      <th>1802-01-01</th>\n",
       "      <td>-3.194183</td>\n",
       "    </tr>\n",
       "    <tr>\n",
       "      <th>1803-01-01</th>\n",
       "      <td>-3.194183</td>\n",
       "    </tr>\n",
       "    <tr>\n",
       "      <th>1804-01-01</th>\n",
       "      <td>-3.101093</td>\n",
       "    </tr>\n",
       "    <tr>\n",
       "      <th>...</th>\n",
       "      <td>...</td>\n",
       "    </tr>\n",
       "    <tr>\n",
       "      <th>2014-01-01</th>\n",
       "      <td>2.861343</td>\n",
       "    </tr>\n",
       "    <tr>\n",
       "      <th>2015-01-01</th>\n",
       "      <td>2.827314</td>\n",
       "    </tr>\n",
       "    <tr>\n",
       "      <th>2016-01-01</th>\n",
       "      <td>2.798987</td>\n",
       "    </tr>\n",
       "    <tr>\n",
       "      <th>2017-01-01</th>\n",
       "      <td>2.785813</td>\n",
       "    </tr>\n",
       "    <tr>\n",
       "      <th>2018-01-01</th>\n",
       "      <td>2.806930</td>\n",
       "    </tr>\n",
       "  </tbody>\n",
       "</table>\n",
       "<p>219 rows × 1 columns</p>\n",
       "</div>"
      ],
      "text/plain": [
       "            co2_per_capita\n",
       "year                      \n",
       "1800-01-01       -3.296837\n",
       "1801-01-01       -3.244194\n",
       "1802-01-01       -3.194183\n",
       "1803-01-01       -3.194183\n",
       "1804-01-01       -3.101093\n",
       "...                    ...\n",
       "2014-01-01        2.861343\n",
       "2015-01-01        2.827314\n",
       "2016-01-01        2.798987\n",
       "2017-01-01        2.785813\n",
       "2018-01-01        2.806930\n",
       "\n",
       "[219 rows x 1 columns]"
      ]
     },
     "execution_count": 45,
     "metadata": {},
     "output_type": "execute_result"
    }
   ],
   "source": [
    "from numpy import log\n",
    "\n",
    "log(df_USA)\n"
   ]
  },
  {
   "cell_type": "code",
   "execution_count": 46,
   "metadata": {
    "ExecuteTime": {
     "end_time": "2021-01-28T15:42:34.098980Z",
     "start_time": "2021-01-28T15:42:33.377858Z"
    }
   },
   "outputs": [
    {
     "data": {
      "text/plain": [
       "[<matplotlib.lines.Line2D at 0x7fbb7b539908>]"
      ]
     },
     "execution_count": 46,
     "metadata": {},
     "output_type": "execute_result"
    },
    {
     "data": {
      "image/png": "[encoded data removed]",
      "text/plain": [
       "<Figure size 432x288 with 1 Axes>"
      ]
     },
     "metadata": {
      "needs_background": "light"
     },
     "output_type": "display_data"
    }
   ],
   "source": [
    "from math import exp\n",
    "from numpy import log\n",
    "transform = log(df_USA)\n",
    "pyplot.figure(1)\n",
    "# line plot\n",
    "pyplot.subplot(211)\n",
    "pyplot.plot(transform)\n"
   ]
  },
  {
   "cell_type": "code",
   "execution_count": null,
   "metadata": {
    "ExecuteTime": {
     "end_time": "2021-01-27T21:12:15.987105Z",
     "start_time": "2021-01-27T21:12:15.981631Z"
    }
   },
   "outputs": [],
   "source": []
  },
  {
   "cell_type": "code",
   "execution_count": null,
   "metadata": {
    "ExecuteTime": {
     "end_time": "2021-01-27T21:21:17.643820Z",
     "start_time": "2021-01-27T21:21:17.608007Z"
    },
    "scrolled": true
   },
   "outputs": [],
   "source": []
  },
  {
   "cell_type": "markdown",
   "metadata": {},
   "source": [
    "**AIC and RMSE**"
   ]
  },
  {
   "cell_type": "code",
   "execution_count": 59,
   "metadata": {
    "ExecuteTime": {
     "end_time": "2021-01-28T15:57:29.204973Z",
     "start_time": "2021-01-28T15:57:29.133462Z"
    }
   },
   "outputs": [
    {
     "ename": "NameError",
     "evalue": "name 'pred' is not defined",
     "output_type": "error",
     "traceback": [
      "\u001b[0;31m--------------------\u001b[0m",
      "\u001b[0;31mNameError\u001b[0mTraceback (most recent call last)",
      "\u001b[0;32m<ipython-input-59-3633a6875f93>\u001b[0m in \u001b[0;36m<module>\u001b[0;34m()\u001b[0m\n\u001b[0;32m----> 1\u001b[0;31m \u001b[0mRMSE_520\u001b[0m \u001b[0;34m=\u001b[0m \u001b[0mnp\u001b[0m\u001b[0;34m.\u001b[0m\u001b[0msqrt\u001b[0m\u001b[0;34m(\u001b[0m\u001b[0;34m(\u001b[0m\u001b[0;34m(\u001b[0m\u001b[0mpred\u001b[0m\u001b[0;34m-\u001b[0m\u001b[0my_test\u001b[0m\u001b[0;34m)\u001b[0m\u001b[0;34m**\u001b[0m\u001b[0;36m2\u001b[0m\u001b[0;34m)\u001b[0m\u001b[0;34m.\u001b[0m\u001b[0mmean\u001b[0m\u001b[0;34m(\u001b[0m\u001b[0;34m)\u001b[0m\u001b[0;34m)\u001b[0m\u001b[0;34m\u001b[0m\u001b[0;34m\u001b[0m\u001b[0m\n\u001b[0m\u001b[1;32m      2\u001b[0m \u001b[0mRMSE_520\u001b[0m\u001b[0;34m\u001b[0m\u001b[0;34m\u001b[0m\u001b[0m\n",
      "\u001b[0;31mNameError\u001b[0m: name 'pred' is not defined"
     ]
    }
   ],
   "source": [
    "RMSE_520 = np.sqrt(((pred-y_test)**2).mean())\n",
    "RMSE_520"
   ]
  },
  {
   "cell_type": "code",
   "execution_count": 54,
   "metadata": {
    "ExecuteTime": {
     "end_time": "2021-01-28T15:44:18.774010Z",
     "start_time": "2021-01-28T15:44:18.737066Z"
    }
   },
   "outputs": [
    {
     "data": {
      "text/plain": [
       "3.1167130056556056"
      ]
     },
     "execution_count": 54,
     "metadata": {},
     "output_type": "execute_result"
    }
   ],
   "source": [
    "RMSE_log = np.sqrt(((pred_log-y_test)**2).mean())\n",
    "RMSE_log"
   ]
  },
  {
   "cell_type": "code",
   "execution_count": 49,
   "metadata": {
    "ExecuteTime": {
     "end_time": "2021-01-28T15:43:10.193098Z",
     "start_time": "2021-01-28T15:43:10.167574Z"
    },
    "scrolled": true
   },
   "outputs": [
    {
     "data": {
      "text/plain": [
       "0.8080931747605845"
      ]
     },
     "execution_count": 49,
     "metadata": {},
     "output_type": "execute_result"
    }
   ],
   "source": [
    "RMSE_420 = np.sqrt(((pred420-y_test)**2).mean())\n",
    "RMSE_420"
   ]
  },
  {
   "cell_type": "code",
   "execution_count": null,
   "metadata": {},
   "outputs": [],
   "source": []
  },
  {
   "cell_type": "code",
   "execution_count": null,
   "metadata": {},
   "outputs": [],
   "source": []
  },
  {
   "cell_type": "code",
   "execution_count": null,
   "metadata": {},
   "outputs": [],
   "source": []
  },
  {
   "cell_type": "markdown",
   "metadata": {},
   "source": [
    "**Exploring best model**"
   ]
  },
  {
   "cell_type": "code",
   "execution_count": null,
   "metadata": {
    "ExecuteTime": {
     "end_time": "2021-01-28T15:42:34.842173Z",
     "start_time": "2021-01-28T15:42:02.758Z"
    },
    "scrolled": false
   },
   "outputs": [],
   "source": [
    "# Visualize residuals/error\n",
    "residuals_123 = pd.DataFrame(mod123_fit.resid)\n",
    "residuals_123.plot()\n",
    "pyplot.show();\n"
   ]
  },
  {
   "cell_type": "code",
   "execution_count": null,
   "metadata": {
    "ExecuteTime": {
     "end_time": "2021-01-28T15:42:34.847426Z",
     "start_time": "2021-01-28T15:42:02.770Z"
    },
    "scrolled": true
   },
   "outputs": [],
   "source": [
    "# Check for linearity\n",
    "residuals = pd.DataFrame(model_fit.resid)\n",
    "residuals.plot(kind='kde')\n",
    "pyplot.show()"
   ]
  },
  {
   "cell_type": "code",
   "execution_count": null,
   "metadata": {
    "ExecuteTime": {
     "end_time": "2021-01-28T15:42:34.853787Z",
     "start_time": "2021-01-28T15:42:02.781Z"
    },
    "scrolled": false
   },
   "outputs": [],
   "source": [
    "# Visualize prediction\n",
    "mod123_fit.plot_predict();\n"
   ]
  },
  {
   "cell_type": "code",
   "execution_count": null,
   "metadata": {
    "ExecuteTime": {
     "end_time": "2021-01-28T15:42:34.859461Z",
     "start_time": "2021-01-28T15:42:02.788Z"
    }
   },
   "outputs": [],
   "source": [
    "model_fit.forecast()[0] # 0 indicates the very next value the model predicts??\n"
   ]
  },
  {
   "cell_type": "code",
   "execution_count": null,
   "metadata": {},
   "outputs": [],
   "source": []
  },
  {
   "cell_type": "code",
   "execution_count": null,
   "metadata": {},
   "outputs": [],
   "source": []
  },
  {
   "cell_type": "code",
   "execution_count": null,
   "metadata": {},
   "outputs": [],
   "source": []
  },
  {
   "cell_type": "code",
   "execution_count": null,
   "metadata": {},
   "outputs": [],
   "source": []
  },
  {
   "cell_type": "markdown",
   "metadata": {},
   "source": [
    "# Additional Notes"
   ]
  },
  {
   "cell_type": "code",
   "execution_count": null,
   "metadata": {
    "ExecuteTime": {
     "end_time": "2021-01-28T15:42:34.866957Z",
     "start_time": "2021-01-28T15:42:02.812Z"
    },
    "scrolled": true
   },
   "outputs": [],
   "source": [
    "y_test.diff(1)"
   ]
  },
  {
   "cell_type": "code",
   "execution_count": null,
   "metadata": {
    "ExecuteTime": {
     "end_time": "2021-01-28T15:42:34.875002Z",
     "start_time": "2021-01-28T15:42:02.816Z"
    }
   },
   "outputs": [],
   "source": [
    "#choose top 50 countries by co2 emissions (not per capita)\n",
    "#time series based on co2 emissions (not per capita)\n",
    "#observe per capita data via visualizations"
   ]
  },
  {
   "cell_type": "markdown",
   "metadata": {},
   "source": [
    "**Tuesday**\n",
    "\n",
    "-Initial time series model (check for stationarity/trends, fix if not)--top 10 countries (not per capita)\n",
    "\n",
    "-Vizualizations for top 10 countries per capita\n",
    "\n",
    "**Wednesday**\n",
    "\n",
    "-Fix whatever needs fixing\n",
    "\n",
    "-Other EDA/visualizations\n",
    "\n",
    "-Tune final model\n",
    "\n",
    "**Thursday**\n",
    "\n",
    "-Tune final model (if not done by Wed)\n",
    "\n",
    "-Create Read Me, PPT presentation\n",
    "\n",
    "-Clean up code\n",
    "\n",
    "-Practice presentation\n",
    "\n",
    "**Stretch Goals**\n",
    "\n",
    "-Research peaks and valleys historically\n",
    "\n",
    "-Compare to world emissions\n"
   ]
  },
  {
   "cell_type": "code",
   "execution_count": null,
   "metadata": {
    "ExecuteTime": {
     "end_time": "2021-01-28T15:42:34.879859Z",
     "start_time": "2021-01-28T15:42:02.820Z"
    }
   },
   "outputs": [],
   "source": [
    "for country in top10_percapita:\n",
    "    "
   ]
  },
  {
   "cell_type": "code",
   "execution_count": null,
   "metadata": {},
   "outputs": [],
   "source": []
  }
 ],
 "metadata": {
  "kernelspec": {
   "display_name": "learn-env",
   "language": "python",
   "name": "learn-env"
  },
  "language_info": {
   "codemirror_mode": {
    "name": "ipython",
    "version": 3
   },
   "file_extension": ".py",
   "mimetype": "text/x-python",
   "name": "python",
   "nbconvert_exporter": "python",
   "pygments_lexer": "ipython3",
   "version": "3.6.9"
  },
  "toc": {
   "base_numbering": 1,
   "nav_menu": {},
   "number_sections": true,
   "sideBar": true,
   "skip_h1_title": false,
   "title_cell": "Table of Contents",
   "title_sidebar": "Contents",
   "toc_cell": false,
   "toc_position": {},
   "toc_section_display": true,
   "toc_window_display": false
  }
 },
 "nbformat": 4,
 "nbformat_minor": 4
}
